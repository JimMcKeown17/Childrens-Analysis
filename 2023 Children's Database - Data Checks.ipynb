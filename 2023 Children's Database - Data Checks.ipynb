{
 "cells": [
  {
   "cell_type": "code",
   "execution_count": 42,
   "id": "999c3321-540d-4246-89e7-ec8cc7df048b",
   "metadata": {},
   "outputs": [],
   "source": [
    "import pandas as pd\n",
    "import seaborn as sns\n",
    "import matplotlib.pyplot as plt\n",
    "import plotly.express as px\n",
    "import openpyxl\n",
    "from jupyter_dash import JupyterDash\n",
    "from dash import dcc, html\n",
    "from dash import html\n",
    "\n",
    "pd.set_option('display.max_rows', None)\n",
    "\n",
    "from dash.dependencies import Output, Input\n",
    "from dash.exceptions import PreventUpdate\n",
    "G3_colour = \"#6DA9E4\"\n",
    "G2_colour = \"#F7D060\"\n",
    "G1_colour = \"#917FB3\"\n",
    "GR_colour = \"#98D8AA\"\n",
    "ECD_colour = \"#FF6D60\""
   ]
  },
  {
   "cell_type": "code",
   "execution_count": null,
   "id": "ae947767-6aa9-4130-8c7a-9e9c62fa81b4",
   "metadata": {},
   "outputs": [],
   "source": []
  },
  {
   "cell_type": "code",
   "execution_count": 43,
   "id": "cadfa83d-32dc-40fd-8349-5b577fa46ffb",
   "metadata": {
    "tags": []
   },
   "outputs": [
    {
     "name": "stderr",
     "output_type": "stream",
     "text": [
      "/Users/jimmckeown/anaconda3/lib/python3.11/site-packages/openpyxl/worksheet/_read_only.py:79: UserWarning:\n",
      "\n",
      "Unknown extension is not supported and will be removed\n",
      "\n"
     ]
    }
   ],
   "source": [
    "c22 = pd.read_csv(\"Results By Year/All22.csv\")\n",
    "\n",
    "file_path = \"Results By Year/20230913- Children Database  - English Main.xlsx\"\n",
    "sheet_name = \"Children Results \"\n",
    "c23 = pd.read_excel(file_path, sheet_name=sheet_name)\n",
    "\n",
    "# Display the first few rows of the DataFrame\n",
    "c23.shape\n",
    "children = c23.copy()"
   ]
  },
  {
   "cell_type": "code",
   "execution_count": 44,
   "id": "2a3bb807-319e-485b-a682-ee1ad0ffb163",
   "metadata": {
    "tags": []
   },
   "outputs": [],
   "source": [
    "# children = children_all[children_all['Jan - Listen First Sound'].notna() & children_all['June - Listen First Sound'].notna()].copy()\n",
    "\n",
    "# children = children[children['City'] == 'Gqeberha'].copy()\n",
    "# children = children[children['Schools'] != 'St Augustines'].copy()\n",
    "\n",
    "children['Jan - Total'] = children[['Jan - Listen First Sound', 'Jan - Listen Word','Jan - Phonics', 'Jan - Blends', 'Jan - Sight Words',\n",
    "                                  'Jan - Read Sentences', 'Jan - Read Story', 'Jan - Story Comprehension',\n",
    "                                  'Jan - Written Letters', 'Jan - Write Name', 'Jan - Write CVCs',\n",
    "                                  'Jan - Write Sentences']].sum(axis=1,min_count=1)\n",
    "children['June - Total'] = children[['June - Listen First Sound',\n",
    "       'June - Listen Word','June - Phonics', 'June - Blends', 'June - Sight Words',\n",
    "                                  'June - Read Sentences', 'June - Read Story', 'June - Story Comprehension',\n",
    "                                  'June - Written Letters', 'June - Write Name', 'June - Write CVCs',\n",
    "                                  'June - Write Sentences']].sum(axis=1,min_count=1)\n",
    "children['June - Listen First Sound Improvement'] = children['June - Listen First Sound'] - children['Jan - Listen First Sound']\n",
    "children['June - Listen Word Improvement'] = children['June - Listen Word'] - children['Jan - Listen Word']\n",
    "children['June - Phonics Improvement'] = children['June - Phonics'] - children['Jan - Phonics']\n",
    "children['June - Written Letters Improvement'] = children['June - Written Letters'] - children['Jan - Written Letters']\n",
    "children[\"Jan - Sounds Total\"] =  children[\"Jan - Listen First Sound\"] + children[\"Jan - Listen Word\"]\n",
    "children[\"June - Sounds Total\"] =  children[\"June - Listen First Sound\"] + children[\"June - Listen Word\"]\n",
    "children[\"June - Sounds Total Improvement\"] = children[\"June - Sounds Total\"] - children[\"Jan - Sounds Total\"]\n",
    "children[\"June - Blends Improvement\"] = children[\"June - Blends\"] - children[\"Jan - Blends\"]\n",
    "children[\"June - Read Sentences Improvement\"] = children[\"June - Read Sentences\"] - children[\"Jan - Read Sentences\"]\n",
    "children[\"June - Read Story Improvement\"] = children[\"June - Read Story\"] - children[\"Jan - Read Story\"]\n",
    "children[\"June - Sight Words Improvement\"] = children[\"June - Sight Words\"] - children[\"Jan - Sight Words\"]\n",
    "children[\"June - Write Sentence Improvement\"] = children[\"June - Write Sentences\"] - children[\"Jan - Write Sentences\"]\n",
    "children[\"June - Write CVCs Improvement\"] = children[\"June - Write CVCs\"] - children[\"Jan - Write CVCs\"]\n",
    "children[\"June - Total Improvement\"] = children[\"June - Total\"] - children[\"Jan - Total\"]\n",
    "# Sounds and Phonics Total is 49\n",
    "children[\"Jan - Sounds and Phonics\"] = children[\"Jan - Listen First Sound\"] + children[\"Jan - Listen Word\"] + children['Jan - Phonics']\n",
    "# Reading total is 128\n",
    "children[\"Jan - Reading\"] = children[\"Jan - Blends\"] + children[\"Jan - Sight Words\"] + children['Jan - Read Sentences'] + children[\"Jan - Read Story\"] + children[\"Jan - Story Comprehension\"]\n",
    "# Writing total is 87\n",
    "children[\"Jan - Writing\"] = children['Jan - Written Letters'] + children[\"Jan - Write CVCs\"] + children[\"Jan - Write Sentences\"]\n",
    "# Sounds and Phonics Total is 49\n",
    "children[\"June - Sounds and Phonics\"] = children[\"June - Listen First Sound\"] + children[\"June - Listen Word\"] + children['June - Phonics']\n",
    "# Reading total is 128\n",
    "children[\"June - Reading\"] = children[\"June - Blends\"] + children[\"June - Sight Words\"] + children['June - Read Sentences'] + children[\"June - Read Story\"] + children[\"June - Story Comprehension\"]\n",
    "# Writing total is 87\n",
    "children[\"June - Writing\"] = children['June - Written Letters'] + children[\"June - Write CVCs\"] + children[\"June - Write Sentences\"]\n",
    "\n",
    "children[\"June - Sounds and Phonics Improvement\"] = children[\"June - Sounds and Phonics\"] - children[\"Jan - Sounds and Phonics\"]\n",
    "children[\"June - Reading Improvement\"] = children[\"June - Reading\"] - children[\"Jan - Reading\"]\n",
    "children[\"June - Writing Improvement\"] = children[\"June - Writing\"] - children[\"Jan - Writing\"] \n",
    "\n",
    "improvement_columns = [\"June - Listen First Sound Improvement\",\"June - Listen Word Improvement\", \"June - Phonics Improvement\",\"June - Blends Improvement\", \"June - Sight Words Improvement\", \"June - Read Sentences Improvement\", \"June - Read Story Improvement\", \"June - Written Letters Improvement\", \"June - Write CVCs Improvement\", \"June - Write Sentence Improvement\", \"June - Total Improvement\" ]\n",
    "\n",
    "primary = children[children['Grade'] != 'PreR']\n",
    "primary_on = primary[primary['On The Programme'] == 'Yes']\n",
    "\n",
    "ecd = children[children['Grade'] == 'PreR']\n",
    "ecd_on = ecd[ecd['On The Programme'] == 'Yes']"
   ]
  },
  {
   "cell_type": "markdown",
   "id": "27f78758-c993-4263-8236-2c5f04280ca2",
   "metadata": {},
   "source": [
    "# Functions"
   ]
  },
  {
   "cell_type": "code",
   "execution_count": 79,
   "id": "0dbf8571-6849-4f7d-bded-2156729858e7",
   "metadata": {
    "tags": []
   },
   "outputs": [
    {
     "ename": "SyntaxError",
     "evalue": "expected ':' (113219915.py, line 42)",
     "output_type": "error",
     "traceback": [
      "\u001b[0;36m  Cell \u001b[0;32mIn[79], line 42\u001b[0;36m\u001b[0m\n\u001b[0;31m    def children_on_programme_stacked_chart()\u001b[0m\n\u001b[0m                                             ^\u001b[0m\n\u001b[0;31mSyntaxError\u001b[0m\u001b[0;31m:\u001b[0m expected ':'\n"
     ]
    }
   ],
   "source": [
    "def sessions_per_lc():\n",
    "    primary = children[children['Grade'] != 'PreR']\n",
    "    primary_on = primary[primary['On The Programme'] == 'Yes']\n",
    "    return primary_on.groupby(['School', 'LC Name'])['Total Sessions'].sum().sort_values(ascending=False)\n",
    "\n",
    "def sessions_per_grade_primary_top10():\n",
    "    return primary_on.groupby(['School', 'Grade'])['Total Sessions'].mean().sort_values(ascending=False).head(10)\n",
    "\n",
    "def sessions_per_grade_primary_bottom10():\n",
    "    return primary_on.groupby(['School', 'Grade'])['Total Sessions'].mean().sort_values(ascending=True).head(10)\n",
    "\n",
    "def sessions_per_lc_top20():\n",
    "    return primary_on.groupby(['LC Name', 'School'])['Total Sessions'].mean().sort_values(ascending=False).head(20)\n",
    "\n",
    "def sessions_per_lc_bottom20():\n",
    "    return primary_on.groupby(['LC Name', 'School'])['Total Sessions'].mean().sort_values(ascending=True).head(20)\n",
    "\n",
    "def sessions_per_ecd():\n",
    "    return ecd_on.groupby(['School', 'Grade'])['Total Sessions'].mean().sort_values(ascending=False)\n",
    "\n",
    "def sessions_per_school():\n",
    "    return primary_on.groupby(['School', 'Grade'])['Total Sessions'].mean().sort_values(ascending=False)\n",
    "\n",
    "def sessions_per_lc_ecd_top20():\n",
    "    return ecd_on.groupby(['LC Name', 'School'])['Total Sessions'].mean().sort_values(ascending=False).head(20)\n",
    "    \n",
    "def sessions_per_lc_ecd_botton20():\n",
    "    return ecd_on.groupby(['LC Name', 'School'])['Total Sessions'].mean().sort_values(ascending=True).head(20)\n",
    "\n",
    "def children_on_programme_chart():\n",
    "    kids_on_programme = ecd_on.groupby('School')['Mcode'].count().reset_index(name=\"Num of Children\").sort_values(\"Num of Children\", ascending=False)\n",
    "\n",
    "    # Plot the sorted data using Plotly\n",
    "    fig = px.bar(kids_on_programme,\n",
    "                 y='Num of Children',\n",
    "                 x='School',\n",
    "                 title='Number of Children on Programme',\n",
    "                 template='plotly')\n",
    "\n",
    "    return fig.show()\n",
    "\n",
    "def children_on_programme_stacked_chart()\n",
    "    kids_on_programme = primary_on.groupby(['School', 'Grade'])['Mcode'].count().reset_index(name=\"Num of Children\").sort_values(\"Num of Children\", ascending=False)\n",
    "\n",
    "    # Plot the sorted data using Plotly\n",
    "    fig = px.bar(kids_on_programme,\n",
    "                 y='Num of Children',\n",
    "                 x='School',\n",
    "                 color='Grade',\n",
    "                 title='Number of Children on Programme',\n",
    "                 template='plotly')\n",
    "\n",
    "    return fig.show()\n",
    "\n",
    "def sessions_per_child_primary():\n",
    "    filtered_children = children[(children['On The Programme'] == 'Yes') & (children['Grade'] != \"PreR\")]\n",
    "    grouped = filtered_children.groupby('School')['Total Sessions'].mean().sort_values(ascending=False).reset_index()\n",
    "\n",
    "    # Plot the sorted data using Plotly\n",
    "    fig = px.bar(grouped,\n",
    "                 y='Total Sessions',\n",
    "                 x='School',\n",
    "                 title='Primary School: Average Sessions per Child',\n",
    "                 template='plotly')\n",
    "\n",
    "    return fig.show()\n",
    "\n",
    "def sessions_per_child_ecd():\n",
    "    filtered_children = children[(children['On The Programme'] == 'Yes') & (children['Grade'] == \"PreR\")]\n",
    "    grouped = filtered_children.groupby('School')['Total Sessions'].mean().sort_values(ascending=False).reset_index()\n",
    "\n",
    "    # Plot the sorted data using Plotly\n",
    "    fig = px.bar(grouped,\n",
    "                 y='Total Sessions',\n",
    "                 x='School',\n",
    "                 title='ECDCs: Average Sessions per Child',\n",
    "                 template='plotly')\n",
    "\n",
    "    return fig.show()\n",
    "\n",
    "def total_sessions_ecd():\n",
    "    filtered_children = children[(children['On The Programme'] == 'Yes') & (children['Grade'] == \"PreR\")]\n",
    "    grouped = filtered_children.groupby('School')['Total Sessions'].sum().sort_values(ascending=False).reset_index()\n",
    "\n",
    "    # Plot the sorted data using Plotly\n",
    "    fig = px.bar(grouped,\n",
    "                 y='Total Sessions',\n",
    "                 x='School',\n",
    "                 title='ECDCs: Total Sessions in 2023',\n",
    "                 template='plotly')\n",
    "\n",
    "    return fig.show()\n",
    "\n",
    "def total_sessions_by_ecd_lc():\n",
    "    ecd = children[children['Grade'] == 'PreR']\n",
    "    ecd_on = ecd[ecd['On The Programme'] == 'Yes']\n",
    "    return ecd_on.groupby(['School', 'LC Name'])['Total Sessions'].sum().sort_values(ascending=False)\n",
    "\n"
   ]
  },
  {
   "cell_type": "markdown",
   "id": "9d58e49a-ba43-42e6-b0d6-84ac8aac42b0",
   "metadata": {
    "tags": []
   },
   "source": [
    "# ON PROGRAMME FLAG"
   ]
  },
  {
   "cell_type": "code",
   "execution_count": 75,
   "id": "e3928df5-2c11-43c3-89fc-eeabb7baac33",
   "metadata": {
    "tags": []
   },
   "outputs": [
    {
     "data": {
      "application/vnd.plotly.v1+json": {
       "config": {
        "plotlyServerURL": "https://plot.ly"
       },
       "data": [
        {
         "alignmentgroup": "True",
         "hovertemplate": "School=%{x}<br>Num of Children=%{y}<extra></extra>",
         "legendgroup": "",
         "marker": {
          "color": "#636efa",
          "pattern": {
           "shape": ""
          }
         },
         "name": "",
         "offsetgroup": "",
         "orientation": "v",
         "showlegend": false,
         "textposition": "auto",
         "type": "bar",
         "x": [
          "Noluthando",
          "Dorothy",
          "Seyisi",
          "Paulos Oyigcwele",
          "Nobandla",
          "Sinethemba",
          "Sifunimfundo",
          "Zizamele",
          "Jesus Dominion",
          "Charles Duna",
          "Green Apple",
          "Aaron Gqadu",
          "Sisonke",
          "Jongilanga",
          "Qaqawuli Godolozi",
          "Lithemba",
          "Nonkqubela",
          "Bright Angels",
          "Vukani Daycare",
          "Bambino",
          "Living Ubuntu",
          "Kokkewiet"
         ],
         "xaxis": "x",
         "y": [
          24,
          24,
          24,
          24,
          23,
          23,
          23,
          23,
          23,
          23,
          22,
          22,
          21,
          20,
          20,
          18,
          18,
          18,
          18,
          17,
          11,
          7
         ],
         "yaxis": "y"
        }
       ],
       "layout": {
        "autosize": true,
        "barmode": "relative",
        "legend": {
         "tracegroupgap": 0
        },
        "template": {
         "data": {
          "bar": [
           {
            "error_x": {
             "color": "#2a3f5f"
            },
            "error_y": {
             "color": "#2a3f5f"
            },
            "marker": {
             "line": {
              "color": "#E5ECF6",
              "width": 0.5
             },
             "pattern": {
              "fillmode": "overlay",
              "size": 10,
              "solidity": 0.2
             }
            },
            "type": "bar"
           }
          ],
          "barpolar": [
           {
            "marker": {
             "line": {
              "color": "#E5ECF6",
              "width": 0.5
             },
             "pattern": {
              "fillmode": "overlay",
              "size": 10,
              "solidity": 0.2
             }
            },
            "type": "barpolar"
           }
          ],
          "carpet": [
           {
            "aaxis": {
             "endlinecolor": "#2a3f5f",
             "gridcolor": "white",
             "linecolor": "white",
             "minorgridcolor": "white",
             "startlinecolor": "#2a3f5f"
            },
            "baxis": {
             "endlinecolor": "#2a3f5f",
             "gridcolor": "white",
             "linecolor": "white",
             "minorgridcolor": "white",
             "startlinecolor": "#2a3f5f"
            },
            "type": "carpet"
           }
          ],
          "choropleth": [
           {
            "colorbar": {
             "outlinewidth": 0,
             "ticks": ""
            },
            "type": "choropleth"
           }
          ],
          "contour": [
           {
            "colorbar": {
             "outlinewidth": 0,
             "ticks": ""
            },
            "colorscale": [
             [
              0,
              "#0d0887"
             ],
             [
              0.1111111111111111,
              "#46039f"
             ],
             [
              0.2222222222222222,
              "#7201a8"
             ],
             [
              0.3333333333333333,
              "#9c179e"
             ],
             [
              0.4444444444444444,
              "#bd3786"
             ],
             [
              0.5555555555555556,
              "#d8576b"
             ],
             [
              0.6666666666666666,
              "#ed7953"
             ],
             [
              0.7777777777777778,
              "#fb9f3a"
             ],
             [
              0.8888888888888888,
              "#fdca26"
             ],
             [
              1,
              "#f0f921"
             ]
            ],
            "type": "contour"
           }
          ],
          "contourcarpet": [
           {
            "colorbar": {
             "outlinewidth": 0,
             "ticks": ""
            },
            "type": "contourcarpet"
           }
          ],
          "heatmap": [
           {
            "colorbar": {
             "outlinewidth": 0,
             "ticks": ""
            },
            "colorscale": [
             [
              0,
              "#0d0887"
             ],
             [
              0.1111111111111111,
              "#46039f"
             ],
             [
              0.2222222222222222,
              "#7201a8"
             ],
             [
              0.3333333333333333,
              "#9c179e"
             ],
             [
              0.4444444444444444,
              "#bd3786"
             ],
             [
              0.5555555555555556,
              "#d8576b"
             ],
             [
              0.6666666666666666,
              "#ed7953"
             ],
             [
              0.7777777777777778,
              "#fb9f3a"
             ],
             [
              0.8888888888888888,
              "#fdca26"
             ],
             [
              1,
              "#f0f921"
             ]
            ],
            "type": "heatmap"
           }
          ],
          "heatmapgl": [
           {
            "colorbar": {
             "outlinewidth": 0,
             "ticks": ""
            },
            "colorscale": [
             [
              0,
              "#0d0887"
             ],
             [
              0.1111111111111111,
              "#46039f"
             ],
             [
              0.2222222222222222,
              "#7201a8"
             ],
             [
              0.3333333333333333,
              "#9c179e"
             ],
             [
              0.4444444444444444,
              "#bd3786"
             ],
             [
              0.5555555555555556,
              "#d8576b"
             ],
             [
              0.6666666666666666,
              "#ed7953"
             ],
             [
              0.7777777777777778,
              "#fb9f3a"
             ],
             [
              0.8888888888888888,
              "#fdca26"
             ],
             [
              1,
              "#f0f921"
             ]
            ],
            "type": "heatmapgl"
           }
          ],
          "histogram": [
           {
            "marker": {
             "pattern": {
              "fillmode": "overlay",
              "size": 10,
              "solidity": 0.2
             }
            },
            "type": "histogram"
           }
          ],
          "histogram2d": [
           {
            "colorbar": {
             "outlinewidth": 0,
             "ticks": ""
            },
            "colorscale": [
             [
              0,
              "#0d0887"
             ],
             [
              0.1111111111111111,
              "#46039f"
             ],
             [
              0.2222222222222222,
              "#7201a8"
             ],
             [
              0.3333333333333333,
              "#9c179e"
             ],
             [
              0.4444444444444444,
              "#bd3786"
             ],
             [
              0.5555555555555556,
              "#d8576b"
             ],
             [
              0.6666666666666666,
              "#ed7953"
             ],
             [
              0.7777777777777778,
              "#fb9f3a"
             ],
             [
              0.8888888888888888,
              "#fdca26"
             ],
             [
              1,
              "#f0f921"
             ]
            ],
            "type": "histogram2d"
           }
          ],
          "histogram2dcontour": [
           {
            "colorbar": {
             "outlinewidth": 0,
             "ticks": ""
            },
            "colorscale": [
             [
              0,
              "#0d0887"
             ],
             [
              0.1111111111111111,
              "#46039f"
             ],
             [
              0.2222222222222222,
              "#7201a8"
             ],
             [
              0.3333333333333333,
              "#9c179e"
             ],
             [
              0.4444444444444444,
              "#bd3786"
             ],
             [
              0.5555555555555556,
              "#d8576b"
             ],
             [
              0.6666666666666666,
              "#ed7953"
             ],
             [
              0.7777777777777778,
              "#fb9f3a"
             ],
             [
              0.8888888888888888,
              "#fdca26"
             ],
             [
              1,
              "#f0f921"
             ]
            ],
            "type": "histogram2dcontour"
           }
          ],
          "mesh3d": [
           {
            "colorbar": {
             "outlinewidth": 0,
             "ticks": ""
            },
            "type": "mesh3d"
           }
          ],
          "parcoords": [
           {
            "line": {
             "colorbar": {
              "outlinewidth": 0,
              "ticks": ""
             }
            },
            "type": "parcoords"
           }
          ],
          "pie": [
           {
            "automargin": true,
            "type": "pie"
           }
          ],
          "scatter": [
           {
            "fillpattern": {
             "fillmode": "overlay",
             "size": 10,
             "solidity": 0.2
            },
            "type": "scatter"
           }
          ],
          "scatter3d": [
           {
            "line": {
             "colorbar": {
              "outlinewidth": 0,
              "ticks": ""
             }
            },
            "marker": {
             "colorbar": {
              "outlinewidth": 0,
              "ticks": ""
             }
            },
            "type": "scatter3d"
           }
          ],
          "scattercarpet": [
           {
            "marker": {
             "colorbar": {
              "outlinewidth": 0,
              "ticks": ""
             }
            },
            "type": "scattercarpet"
           }
          ],
          "scattergeo": [
           {
            "marker": {
             "colorbar": {
              "outlinewidth": 0,
              "ticks": ""
             }
            },
            "type": "scattergeo"
           }
          ],
          "scattergl": [
           {
            "marker": {
             "colorbar": {
              "outlinewidth": 0,
              "ticks": ""
             }
            },
            "type": "scattergl"
           }
          ],
          "scattermapbox": [
           {
            "marker": {
             "colorbar": {
              "outlinewidth": 0,
              "ticks": ""
             }
            },
            "type": "scattermapbox"
           }
          ],
          "scatterpolar": [
           {
            "marker": {
             "colorbar": {
              "outlinewidth": 0,
              "ticks": ""
             }
            },
            "type": "scatterpolar"
           }
          ],
          "scatterpolargl": [
           {
            "marker": {
             "colorbar": {
              "outlinewidth": 0,
              "ticks": ""
             }
            },
            "type": "scatterpolargl"
           }
          ],
          "scatterternary": [
           {
            "marker": {
             "colorbar": {
              "outlinewidth": 0,
              "ticks": ""
             }
            },
            "type": "scatterternary"
           }
          ],
          "surface": [
           {
            "colorbar": {
             "outlinewidth": 0,
             "ticks": ""
            },
            "colorscale": [
             [
              0,
              "#0d0887"
             ],
             [
              0.1111111111111111,
              "#46039f"
             ],
             [
              0.2222222222222222,
              "#7201a8"
             ],
             [
              0.3333333333333333,
              "#9c179e"
             ],
             [
              0.4444444444444444,
              "#bd3786"
             ],
             [
              0.5555555555555556,
              "#d8576b"
             ],
             [
              0.6666666666666666,
              "#ed7953"
             ],
             [
              0.7777777777777778,
              "#fb9f3a"
             ],
             [
              0.8888888888888888,
              "#fdca26"
             ],
             [
              1,
              "#f0f921"
             ]
            ],
            "type": "surface"
           }
          ],
          "table": [
           {
            "cells": {
             "fill": {
              "color": "#EBF0F8"
             },
             "line": {
              "color": "white"
             }
            },
            "header": {
             "fill": {
              "color": "#C8D4E3"
             },
             "line": {
              "color": "white"
             }
            },
            "type": "table"
           }
          ]
         },
         "layout": {
          "annotationdefaults": {
           "arrowcolor": "#2a3f5f",
           "arrowhead": 0,
           "arrowwidth": 1
          },
          "autotypenumbers": "strict",
          "coloraxis": {
           "colorbar": {
            "outlinewidth": 0,
            "ticks": ""
           }
          },
          "colorscale": {
           "diverging": [
            [
             0,
             "#8e0152"
            ],
            [
             0.1,
             "#c51b7d"
            ],
            [
             0.2,
             "#de77ae"
            ],
            [
             0.3,
             "#f1b6da"
            ],
            [
             0.4,
             "#fde0ef"
            ],
            [
             0.5,
             "#f7f7f7"
            ],
            [
             0.6,
             "#e6f5d0"
            ],
            [
             0.7,
             "#b8e186"
            ],
            [
             0.8,
             "#7fbc41"
            ],
            [
             0.9,
             "#4d9221"
            ],
            [
             1,
             "#276419"
            ]
           ],
           "sequential": [
            [
             0,
             "#0d0887"
            ],
            [
             0.1111111111111111,
             "#46039f"
            ],
            [
             0.2222222222222222,
             "#7201a8"
            ],
            [
             0.3333333333333333,
             "#9c179e"
            ],
            [
             0.4444444444444444,
             "#bd3786"
            ],
            [
             0.5555555555555556,
             "#d8576b"
            ],
            [
             0.6666666666666666,
             "#ed7953"
            ],
            [
             0.7777777777777778,
             "#fb9f3a"
            ],
            [
             0.8888888888888888,
             "#fdca26"
            ],
            [
             1,
             "#f0f921"
            ]
           ],
           "sequentialminus": [
            [
             0,
             "#0d0887"
            ],
            [
             0.1111111111111111,
             "#46039f"
            ],
            [
             0.2222222222222222,
             "#7201a8"
            ],
            [
             0.3333333333333333,
             "#9c179e"
            ],
            [
             0.4444444444444444,
             "#bd3786"
            ],
            [
             0.5555555555555556,
             "#d8576b"
            ],
            [
             0.6666666666666666,
             "#ed7953"
            ],
            [
             0.7777777777777778,
             "#fb9f3a"
            ],
            [
             0.8888888888888888,
             "#fdca26"
            ],
            [
             1,
             "#f0f921"
            ]
           ]
          },
          "colorway": [
           "#636efa",
           "#EF553B",
           "#00cc96",
           "#ab63fa",
           "#FFA15A",
           "#19d3f3",
           "#FF6692",
           "#B6E880",
           "#FF97FF",
           "#FECB52"
          ],
          "font": {
           "color": "#2a3f5f"
          },
          "geo": {
           "bgcolor": "white",
           "lakecolor": "white",
           "landcolor": "#E5ECF6",
           "showlakes": true,
           "showland": true,
           "subunitcolor": "white"
          },
          "hoverlabel": {
           "align": "left"
          },
          "hovermode": "closest",
          "mapbox": {
           "style": "light"
          },
          "paper_bgcolor": "white",
          "plot_bgcolor": "#E5ECF6",
          "polar": {
           "angularaxis": {
            "gridcolor": "white",
            "linecolor": "white",
            "ticks": ""
           },
           "bgcolor": "#E5ECF6",
           "radialaxis": {
            "gridcolor": "white",
            "linecolor": "white",
            "ticks": ""
           }
          },
          "scene": {
           "xaxis": {
            "backgroundcolor": "#E5ECF6",
            "gridcolor": "white",
            "gridwidth": 2,
            "linecolor": "white",
            "showbackground": true,
            "ticks": "",
            "zerolinecolor": "white"
           },
           "yaxis": {
            "backgroundcolor": "#E5ECF6",
            "gridcolor": "white",
            "gridwidth": 2,
            "linecolor": "white",
            "showbackground": true,
            "ticks": "",
            "zerolinecolor": "white"
           },
           "zaxis": {
            "backgroundcolor": "#E5ECF6",
            "gridcolor": "white",
            "gridwidth": 2,
            "linecolor": "white",
            "showbackground": true,
            "ticks": "",
            "zerolinecolor": "white"
           }
          },
          "shapedefaults": {
           "line": {
            "color": "#2a3f5f"
           }
          },
          "ternary": {
           "aaxis": {
            "gridcolor": "white",
            "linecolor": "white",
            "ticks": ""
           },
           "baxis": {
            "gridcolor": "white",
            "linecolor": "white",
            "ticks": ""
           },
           "bgcolor": "#E5ECF6",
           "caxis": {
            "gridcolor": "white",
            "linecolor": "white",
            "ticks": ""
           }
          },
          "title": {
           "x": 0.05
          },
          "xaxis": {
           "automargin": true,
           "gridcolor": "white",
           "linecolor": "white",
           "ticks": "",
           "title": {
            "standoff": 15
           },
           "zerolinecolor": "white",
           "zerolinewidth": 2
          },
          "yaxis": {
           "automargin": true,
           "gridcolor": "white",
           "linecolor": "white",
           "ticks": "",
           "title": {
            "standoff": 15
           },
           "zerolinecolor": "white",
           "zerolinewidth": 2
          }
         }
        },
        "title": {
         "text": "Number of Children on Programme"
        },
        "xaxis": {
         "anchor": "y",
         "autorange": true,
         "domain": [
          0,
          1
         ],
         "range": [
          -0.5,
          21.5
         ],
         "title": {
          "text": "School"
         },
         "type": "category"
        },
        "yaxis": {
         "anchor": "x",
         "autorange": true,
         "domain": [
          0,
          1
         ],
         "range": [
          0,
          25.263157894736842
         ],
         "title": {
          "text": "Num of Children"
         },
         "type": "linear"
        }
       }
      },
      "image/png": "[encoded data removed]",
      "text/html": [
       "<div>                            <div id=\"152ef794-759a-4223-acbc-ef052866cfd9\" class=\"plotly-graph-div\" style=\"height:525px; width:100%;\"></div>            <script type=\"text/javascript\">                require([\"plotly\"], function(Plotly) {                    window.PLOTLYENV=window.PLOTLYENV || {};                                    if (document.getElementById(\"152ef794-759a-4223-acbc-ef052866cfd9\")) {                    Plotly.newPlot(                        \"152ef794-759a-4223-acbc-ef052866cfd9\",                        [{\"alignmentgroup\":\"True\",\"hovertemplate\":\"School=%{x}\\u003cbr\\u003eNum of Children=%{y}\\u003cextra\\u003e\\u003c\\u002fextra\\u003e\",\"legendgroup\":\"\",\"marker\":{\"color\":\"#636efa\",\"pattern\":{\"shape\":\"\"}},\"name\":\"\",\"offsetgroup\":\"\",\"orientation\":\"v\",\"showlegend\":false,\"textposition\":\"auto\",\"x\":[\"Noluthando\",\"Dorothy\",\"Seyisi\",\"Paulos Oyigcwele\",\"Nobandla\",\"Sinethemba\",\"Sifunimfundo\",\"Zizamele\",\"Jesus Dominion\",\"Charles Duna\",\"Green Apple\",\"Aaron Gqadu\",\"Sisonke\",\"Jongilanga\",\"Qaqawuli Godolozi\",\"Lithemba\",\"Nonkqubela\",\"Bright Angels\",\"Vukani Daycare\",\"Bambino\",\"Living Ubuntu\",\"Kokkewiet\"],\"xaxis\":\"x\",\"y\":[24,24,24,24,23,23,23,23,23,23,22,22,21,20,20,18,18,18,18,17,11,7],\"yaxis\":\"y\",\"type\":\"bar\"}],                        {\"template\":{\"data\":{\"histogram2dcontour\":[{\"type\":\"histogram2dcontour\",\"colorbar\":{\"outlinewidth\":0,\"ticks\":\"\"},\"colorscale\":[[0.0,\"#0d0887\"],[0.1111111111111111,\"#46039f\"],[0.2222222222222222,\"#7201a8\"],[0.3333333333333333,\"#9c179e\"],[0.4444444444444444,\"#bd3786\"],[0.5555555555555556,\"#d8576b\"],[0.6666666666666666,\"#ed7953\"],[0.7777777777777778,\"#fb9f3a\"],[0.8888888888888888,\"#fdca26\"],[1.0,\"#f0f921\"]]}],\"choropleth\":[{\"type\":\"choropleth\",\"colorbar\":{\"outlinewidth\":0,\"ticks\":\"\"}}],\"histogram2d\":[{\"type\":\"histogram2d\",\"colorbar\":{\"outlinewidth\":0,\"ticks\":\"\"},\"colorscale\":[[0.0,\"#0d0887\"],[0.1111111111111111,\"#46039f\"],[0.2222222222222222,\"#7201a8\"],[0.3333333333333333,\"#9c179e\"],[0.4444444444444444,\"#bd3786\"],[0.5555555555555556,\"#d8576b\"],[0.6666666666666666,\"#ed7953\"],[0.7777777777777778,\"#fb9f3a\"],[0.8888888888888888,\"#fdca26\"],[1.0,\"#f0f921\"]]}],\"heatmap\":[{\"type\":\"heatmap\",\"colorbar\":{\"outlinewidth\":0,\"ticks\":\"\"},\"colorscale\":[[0.0,\"#0d0887\"],[0.1111111111111111,\"#46039f\"],[0.2222222222222222,\"#7201a8\"],[0.3333333333333333,\"#9c179e\"],[0.4444444444444444,\"#bd3786\"],[0.5555555555555556,\"#d8576b\"],[0.6666666666666666,\"#ed7953\"],[0.7777777777777778,\"#fb9f3a\"],[0.8888888888888888,\"#fdca26\"],[1.0,\"#f0f921\"]]}],\"heatmapgl\":[{\"type\":\"heatmapgl\",\"colorbar\":{\"outlinewidth\":0,\"ticks\":\"\"},\"colorscale\":[[0.0,\"#0d0887\"],[0.1111111111111111,\"#46039f\"],[0.2222222222222222,\"#7201a8\"],[0.3333333333333333,\"#9c179e\"],[0.4444444444444444,\"#bd3786\"],[0.5555555555555556,\"#d8576b\"],[0.6666666666666666,\"#ed7953\"],[0.7777777777777778,\"#fb9f3a\"],[0.8888888888888888,\"#fdca26\"],[1.0,\"#f0f921\"]]}],\"contourcarpet\":[{\"type\":\"contourcarpet\",\"colorbar\":{\"outlinewidth\":0,\"ticks\":\"\"}}],\"contour\":[{\"type\":\"contour\",\"colorbar\":{\"outlinewidth\":0,\"ticks\":\"\"},\"colorscale\":[[0.0,\"#0d0887\"],[0.1111111111111111,\"#46039f\"],[0.2222222222222222,\"#7201a8\"],[0.3333333333333333,\"#9c179e\"],[0.4444444444444444,\"#bd3786\"],[0.5555555555555556,\"#d8576b\"],[0.6666666666666666,\"#ed7953\"],[0.7777777777777778,\"#fb9f3a\"],[0.8888888888888888,\"#fdca26\"],[1.0,\"#f0f921\"]]}],\"surface\":[{\"type\":\"surface\",\"colorbar\":{\"outlinewidth\":0,\"ticks\":\"\"},\"colorscale\":[[0.0,\"#0d0887\"],[0.1111111111111111,\"#46039f\"],[0.2222222222222222,\"#7201a8\"],[0.3333333333333333,\"#9c179e\"],[0.4444444444444444,\"#bd3786\"],[0.5555555555555556,\"#d8576b\"],[0.6666666666666666,\"#ed7953\"],[0.7777777777777778,\"#fb9f3a\"],[0.8888888888888888,\"#fdca26\"],[1.0,\"#f0f921\"]]}],\"mesh3d\":[{\"type\":\"mesh3d\",\"colorbar\":{\"outlinewidth\":0,\"ticks\":\"\"}}],\"scatter\":[{\"fillpattern\":{\"fillmode\":\"overlay\",\"size\":10,\"solidity\":0.2},\"type\":\"scatter\"}],\"parcoords\":[{\"type\":\"parcoords\",\"line\":{\"colorbar\":{\"outlinewidth\":0,\"ticks\":\"\"}}}],\"scatterpolargl\":[{\"type\":\"scatterpolargl\",\"marker\":{\"colorbar\":{\"outlinewidth\":0,\"ticks\":\"\"}}}],\"bar\":[{\"error_x\":{\"color\":\"#2a3f5f\"},\"error_y\":{\"color\":\"#2a3f5f\"},\"marker\":{\"line\":{\"color\":\"#E5ECF6\",\"width\":0.5},\"pattern\":{\"fillmode\":\"overlay\",\"size\":10,\"solidity\":0.2}},\"type\":\"bar\"}],\"scattergeo\":[{\"type\":\"scattergeo\",\"marker\":{\"colorbar\":{\"outlinewidth\":0,\"ticks\":\"\"}}}],\"scatterpolar\":[{\"type\":\"scatterpolar\",\"marker\":{\"colorbar\":{\"outlinewidth\":0,\"ticks\":\"\"}}}],\"histogram\":[{\"marker\":{\"pattern\":{\"fillmode\":\"overlay\",\"size\":10,\"solidity\":0.2}},\"type\":\"histogram\"}],\"scattergl\":[{\"type\":\"scattergl\",\"marker\":{\"colorbar\":{\"outlinewidth\":0,\"ticks\":\"\"}}}],\"scatter3d\":[{\"type\":\"scatter3d\",\"line\":{\"colorbar\":{\"outlinewidth\":0,\"ticks\":\"\"}},\"marker\":{\"colorbar\":{\"outlinewidth\":0,\"ticks\":\"\"}}}],\"scattermapbox\":[{\"type\":\"scattermapbox\",\"marker\":{\"colorbar\":{\"outlinewidth\":0,\"ticks\":\"\"}}}],\"scatterternary\":[{\"type\":\"scatterternary\",\"marker\":{\"colorbar\":{\"outlinewidth\":0,\"ticks\":\"\"}}}],\"scattercarpet\":[{\"type\":\"scattercarpet\",\"marker\":{\"colorbar\":{\"outlinewidth\":0,\"ticks\":\"\"}}}],\"carpet\":[{\"aaxis\":{\"endlinecolor\":\"#2a3f5f\",\"gridcolor\":\"white\",\"linecolor\":\"white\",\"minorgridcolor\":\"white\",\"startlinecolor\":\"#2a3f5f\"},\"baxis\":{\"endlinecolor\":\"#2a3f5f\",\"gridcolor\":\"white\",\"linecolor\":\"white\",\"minorgridcolor\":\"white\",\"startlinecolor\":\"#2a3f5f\"},\"type\":\"carpet\"}],\"table\":[{\"cells\":{\"fill\":{\"color\":\"#EBF0F8\"},\"line\":{\"color\":\"white\"}},\"header\":{\"fill\":{\"color\":\"#C8D4E3\"},\"line\":{\"color\":\"white\"}},\"type\":\"table\"}],\"barpolar\":[{\"marker\":{\"line\":{\"color\":\"#E5ECF6\",\"width\":0.5},\"pattern\":{\"fillmode\":\"overlay\",\"size\":10,\"solidity\":0.2}},\"type\":\"barpolar\"}],\"pie\":[{\"automargin\":true,\"type\":\"pie\"}]},\"layout\":{\"autotypenumbers\":\"strict\",\"colorway\":[\"#636efa\",\"#EF553B\",\"#00cc96\",\"#ab63fa\",\"#FFA15A\",\"#19d3f3\",\"#FF6692\",\"#B6E880\",\"#FF97FF\",\"#FECB52\"],\"font\":{\"color\":\"#2a3f5f\"},\"hovermode\":\"closest\",\"hoverlabel\":{\"align\":\"left\"},\"paper_bgcolor\":\"white\",\"plot_bgcolor\":\"#E5ECF6\",\"polar\":{\"bgcolor\":\"#E5ECF6\",\"angularaxis\":{\"gridcolor\":\"white\",\"linecolor\":\"white\",\"ticks\":\"\"},\"radialaxis\":{\"gridcolor\":\"white\",\"linecolor\":\"white\",\"ticks\":\"\"}},\"ternary\":{\"bgcolor\":\"#E5ECF6\",\"aaxis\":{\"gridcolor\":\"white\",\"linecolor\":\"white\",\"ticks\":\"\"},\"baxis\":{\"gridcolor\":\"white\",\"linecolor\":\"white\",\"ticks\":\"\"},\"caxis\":{\"gridcolor\":\"white\",\"linecolor\":\"white\",\"ticks\":\"\"}},\"coloraxis\":{\"colorbar\":{\"outlinewidth\":0,\"ticks\":\"\"}},\"colorscale\":{\"sequential\":[[0.0,\"#0d0887\"],[0.1111111111111111,\"#46039f\"],[0.2222222222222222,\"#7201a8\"],[0.3333333333333333,\"#9c179e\"],[0.4444444444444444,\"#bd3786\"],[0.5555555555555556,\"#d8576b\"],[0.6666666666666666,\"#ed7953\"],[0.7777777777777778,\"#fb9f3a\"],[0.8888888888888888,\"#fdca26\"],[1.0,\"#f0f921\"]],\"sequentialminus\":[[0.0,\"#0d0887\"],[0.1111111111111111,\"#46039f\"],[0.2222222222222222,\"#7201a8\"],[0.3333333333333333,\"#9c179e\"],[0.4444444444444444,\"#bd3786\"],[0.5555555555555556,\"#d8576b\"],[0.6666666666666666,\"#ed7953\"],[0.7777777777777778,\"#fb9f3a\"],[0.8888888888888888,\"#fdca26\"],[1.0,\"#f0f921\"]],\"diverging\":[[0,\"#8e0152\"],[0.1,\"#c51b7d\"],[0.2,\"#de77ae\"],[0.3,\"#f1b6da\"],[0.4,\"#fde0ef\"],[0.5,\"#f7f7f7\"],[0.6,\"#e6f5d0\"],[0.7,\"#b8e186\"],[0.8,\"#7fbc41\"],[0.9,\"#4d9221\"],[1,\"#276419\"]]},\"xaxis\":{\"gridcolor\":\"white\",\"linecolor\":\"white\",\"ticks\":\"\",\"title\":{\"standoff\":15},\"zerolinecolor\":\"white\",\"automargin\":true,\"zerolinewidth\":2},\"yaxis\":{\"gridcolor\":\"white\",\"linecolor\":\"white\",\"ticks\":\"\",\"title\":{\"standoff\":15},\"zerolinecolor\":\"white\",\"automargin\":true,\"zerolinewidth\":2},\"scene\":{\"xaxis\":{\"backgroundcolor\":\"#E5ECF6\",\"gridcolor\":\"white\",\"linecolor\":\"white\",\"showbackground\":true,\"ticks\":\"\",\"zerolinecolor\":\"white\",\"gridwidth\":2},\"yaxis\":{\"backgroundcolor\":\"#E5ECF6\",\"gridcolor\":\"white\",\"linecolor\":\"white\",\"showbackground\":true,\"ticks\":\"\",\"zerolinecolor\":\"white\",\"gridwidth\":2},\"zaxis\":{\"backgroundcolor\":\"#E5ECF6\",\"gridcolor\":\"white\",\"linecolor\":\"white\",\"showbackground\":true,\"ticks\":\"\",\"zerolinecolor\":\"white\",\"gridwidth\":2}},\"shapedefaults\":{\"line\":{\"color\":\"#2a3f5f\"}},\"annotationdefaults\":{\"arrowcolor\":\"#2a3f5f\",\"arrowhead\":0,\"arrowwidth\":1},\"geo\":{\"bgcolor\":\"white\",\"landcolor\":\"#E5ECF6\",\"subunitcolor\":\"white\",\"showland\":true,\"showlakes\":true,\"lakecolor\":\"white\"},\"title\":{\"x\":0.05},\"mapbox\":{\"style\":\"light\"}}},\"xaxis\":{\"anchor\":\"y\",\"domain\":[0.0,1.0],\"title\":{\"text\":\"School\"}},\"yaxis\":{\"anchor\":\"x\",\"domain\":[0.0,1.0],\"title\":{\"text\":\"Num of Children\"}},\"legend\":{\"tracegroupgap\":0},\"title\":{\"text\":\"Number of Children on Programme\"},\"barmode\":\"relative\"},                        {\"responsive\": true}                    ).then(function(){\n",
       "                            \n",
       "var gd = document.getElementById('152ef794-759a-4223-acbc-ef052866cfd9');\n",
       "var x = new MutationObserver(function (mutations, observer) {{\n",
       "        var display = window.getComputedStyle(gd).display;\n",
       "        if (!display || display === 'none') {{\n",
       "            console.log([gd, 'removed!']);\n",
       "            Plotly.purge(gd);\n",
       "            observer.disconnect();\n",
       "        }}\n",
       "}});\n",
       "\n",
       "// Listen for the removal of the full notebook cells\n",
       "var notebookContainer = gd.closest('#notebook-container');\n",
       "if (notebookContainer) {{\n",
       "    x.observe(notebookContainer, {childList: true});\n",
       "}}\n",
       "\n",
       "// Listen for the clearing of the current output cell\n",
       "var outputEl = gd.closest('.output');\n",
       "if (outputEl) {{\n",
       "    x.observe(outputEl, {childList: true});\n",
       "}}\n",
       "\n",
       "                        })                };                });            </script>        </div>"
      ]
     },
     "metadata": {},
     "output_type": "display_data"
    }
   ],
   "source": [
    "def children_on_programme_chart():\n",
    "    kids_on_programme = ecd_on.groupby('School')['Mcode'].count().reset_index(name=\"Num of Children\").sort_values(\"Num of Children\", ascending=False)\n",
    "\n",
    "    # Plot the sorted data using Plotly\n",
    "    fig = px.bar(kids_on_programme,\n",
    "                 y='Num of Children',\n",
    "                 x='School',\n",
    "                 title='Number of Children on Programme',\n",
    "                 template='plotly')\n",
    "\n",
    "    return fig.show()\n",
    "\n",
    "children_on_programme_chart()"
   ]
  },
  {
   "cell_type": "code",
   "execution_count": 46,
   "id": "dee06647-6f0d-4116-9202-09d29300039f",
   "metadata": {
    "tags": []
   },
   "outputs": [
    {
     "data": {
      "application/vnd.plotly.v1+json": {
       "config": {
        "plotlyServerURL": "https://plot.ly"
       },
       "data": [
        {
         "alignmentgroup": "True",
         "hovertemplate": "Grade=Grade R<br>School=%{x}<br>Num of Children=%{y}<extra></extra>",
         "legendgroup": "Grade R",
         "marker": {
          "color": "#636efa",
          "pattern": {
           "shape": ""
          }
         },
         "name": "Grade R",
         "offsetgroup": "Grade R",
         "orientation": "v",
         "showlegend": true,
         "textposition": "auto",
         "type": "bar",
         "x": [
          "Charles Duna",
          "Isaac Booi",
          "Clarkson",
          "Seyisi",
          "Phakamile",
          "Ebongweni",
          "Aaron Gqadu",
          "Sandwater",
          "Mzingisi",
          "Fumisukoma",
          "Empumalanga",
          "Zukisa",
          "Molefe",
          "Astra",
          "Khanyisa",
          "Ben Sinuka"
         ],
         "xaxis": "x",
         "y": [
          56,
          45,
          42,
          27,
          24,
          21,
          20,
          20,
          18,
          16,
          15,
          14,
          13,
          13,
          12,
          7
         ],
         "yaxis": "y"
        },
        {
         "alignmentgroup": "True",
         "hovertemplate": "Grade=Grade 1<br>School=%{x}<br>Num of Children=%{y}<extra></extra>",
         "legendgroup": "Grade 1",
         "marker": {
          "color": "#EF553B",
          "pattern": {
           "shape": ""
          }
         },
         "name": "Grade 1",
         "offsetgroup": "Grade 1",
         "orientation": "v",
         "showlegend": true,
         "textposition": "auto",
         "type": "bar",
         "x": [
          "Clarkson",
          "Fumisukoma",
          "Seyisi",
          "Astra",
          "Empumalanga",
          "Isaac Booi",
          "Charles Duna",
          "Molefe",
          "Ebongweni",
          "Phakamile",
          "Aaron Gqadu",
          "Zukisa",
          "Mzingisi",
          "Sandwater",
          "Khanyisa",
          "Ben Sinuka",
          "St Augustines"
         ],
         "xaxis": "x",
         "y": [
          55,
          52,
          47,
          41,
          41,
          39,
          39,
          26,
          26,
          24,
          24,
          18,
          18,
          15,
          12,
          9,
          7
         ],
         "yaxis": "y"
        },
        {
         "alignmentgroup": "True",
         "hovertemplate": "Grade=Grade 2<br>School=%{x}<br>Num of Children=%{y}<extra></extra>",
         "legendgroup": "Grade 2",
         "marker": {
          "color": "#00cc96",
          "pattern": {
           "shape": ""
          }
         },
         "name": "Grade 2",
         "offsetgroup": "Grade 2",
         "orientation": "v",
         "showlegend": true,
         "textposition": "auto",
         "type": "bar",
         "x": [
          "Isaac Booi",
          "Fumisukoma",
          "Seyisi",
          "Clarkson",
          "Sandwater",
          "Ben Sinuka",
          "St Augustines"
         ],
         "xaxis": "x",
         "y": [
          35,
          32,
          31,
          22,
          13,
          13,
          13
         ],
         "yaxis": "y"
        },
        {
         "alignmentgroup": "True",
         "hovertemplate": "Grade=Grade 3<br>School=%{x}<br>Num of Children=%{y}<extra></extra>",
         "legendgroup": "Grade 3",
         "marker": {
          "color": "#ab63fa",
          "pattern": {
           "shape": ""
          }
         },
         "name": "Grade 3",
         "offsetgroup": "Grade 3",
         "orientation": "v",
         "showlegend": true,
         "textposition": "auto",
         "type": "bar",
         "x": [
          "Fumisukoma",
          "Isaac Booi",
          "Ben Sinuka",
          "Clarkson",
          "St Augustines",
          "Seyisi"
         ],
         "xaxis": "x",
         "y": [
          20,
          17,
          14,
          12,
          11,
          8
         ],
         "yaxis": "y"
        }
       ],
       "layout": {
        "autosize": true,
        "barmode": "relative",
        "legend": {
         "title": {
          "text": "Grade"
         },
         "tracegroupgap": 0
        },
        "template": {
         "data": {
          "bar": [
           {
            "error_x": {
             "color": "#2a3f5f"
            },
            "error_y": {
             "color": "#2a3f5f"
            },
            "marker": {
             "line": {
              "color": "#E5ECF6",
              "width": 0.5
             },
             "pattern": {
              "fillmode": "overlay",
              "size": 10,
              "solidity": 0.2
             }
            },
            "type": "bar"
           }
          ],
          "barpolar": [
           {
            "marker": {
             "line": {
              "color": "#E5ECF6",
              "width": 0.5
             },
             "pattern": {
              "fillmode": "overlay",
              "size": 10,
              "solidity": 0.2
             }
            },
            "type": "barpolar"
           }
          ],
          "carpet": [
           {
            "aaxis": {
             "endlinecolor": "#2a3f5f",
             "gridcolor": "white",
             "linecolor": "white",
             "minorgridcolor": "white",
             "startlinecolor": "#2a3f5f"
            },
            "baxis": {
             "endlinecolor": "#2a3f5f",
             "gridcolor": "white",
             "linecolor": "white",
             "minorgridcolor": "white",
             "startlinecolor": "#2a3f5f"
            },
            "type": "carpet"
           }
          ],
          "choropleth": [
           {
            "colorbar": {
             "outlinewidth": 0,
             "ticks": ""
            },
            "type": "choropleth"
           }
          ],
          "contour": [
           {
            "colorbar": {
             "outlinewidth": 0,
             "ticks": ""
            },
            "colorscale": [
             [
              0,
              "#0d0887"
             ],
             [
              0.1111111111111111,
              "#46039f"
             ],
             [
              0.2222222222222222,
              "#7201a8"
             ],
             [
              0.3333333333333333,
              "#9c179e"
             ],
             [
              0.4444444444444444,
              "#bd3786"
             ],
             [
              0.5555555555555556,
              "#d8576b"
             ],
             [
              0.6666666666666666,
              "#ed7953"
             ],
             [
              0.7777777777777778,
              "#fb9f3a"
             ],
             [
              0.8888888888888888,
              "#fdca26"
             ],
             [
              1,
              "#f0f921"
             ]
            ],
            "type": "contour"
           }
          ],
          "contourcarpet": [
           {
            "colorbar": {
             "outlinewidth": 0,
             "ticks": ""
            },
            "type": "contourcarpet"
           }
          ],
          "heatmap": [
           {
            "colorbar": {
             "outlinewidth": 0,
             "ticks": ""
            },
            "colorscale": [
             [
              0,
              "#0d0887"
             ],
             [
              0.1111111111111111,
              "#46039f"
             ],
             [
              0.2222222222222222,
              "#7201a8"
             ],
             [
              0.3333333333333333,
              "#9c179e"
             ],
             [
              0.4444444444444444,
              "#bd3786"
             ],
             [
              0.5555555555555556,
              "#d8576b"
             ],
             [
              0.6666666666666666,
              "#ed7953"
             ],
             [
              0.7777777777777778,
              "#fb9f3a"
             ],
             [
              0.8888888888888888,
              "#fdca26"
             ],
             [
              1,
              "#f0f921"
             ]
            ],
            "type": "heatmap"
           }
          ],
          "heatmapgl": [
           {
            "colorbar": {
             "outlinewidth": 0,
             "ticks": ""
            },
            "colorscale": [
             [
              0,
              "#0d0887"
             ],
             [
              0.1111111111111111,
              "#46039f"
             ],
             [
              0.2222222222222222,
              "#7201a8"
             ],
             [
              0.3333333333333333,
              "#9c179e"
             ],
             [
              0.4444444444444444,
              "#bd3786"
             ],
             [
              0.5555555555555556,
              "#d8576b"
             ],
             [
              0.6666666666666666,
              "#ed7953"
             ],
             [
              0.7777777777777778,
              "#fb9f3a"
             ],
             [
              0.8888888888888888,
              "#fdca26"
             ],
             [
              1,
              "#f0f921"
             ]
            ],
            "type": "heatmapgl"
           }
          ],
          "histogram": [
           {
            "marker": {
             "pattern": {
              "fillmode": "overlay",
              "size": 10,
              "solidity": 0.2
             }
            },
            "type": "histogram"
           }
          ],
          "histogram2d": [
           {
            "colorbar": {
             "outlinewidth": 0,
             "ticks": ""
            },
            "colorscale": [
             [
              0,
              "#0d0887"
             ],
             [
              0.1111111111111111,
              "#46039f"
             ],
             [
              0.2222222222222222,
              "#7201a8"
             ],
             [
              0.3333333333333333,
              "#9c179e"
             ],
             [
              0.4444444444444444,
              "#bd3786"
             ],
             [
              0.5555555555555556,
              "#d8576b"
             ],
             [
              0.6666666666666666,
              "#ed7953"
             ],
             [
              0.7777777777777778,
              "#fb9f3a"
             ],
             [
              0.8888888888888888,
              "#fdca26"
             ],
             [
              1,
              "#f0f921"
             ]
            ],
            "type": "histogram2d"
           }
          ],
          "histogram2dcontour": [
           {
            "colorbar": {
             "outlinewidth": 0,
             "ticks": ""
            },
            "colorscale": [
             [
              0,
              "#0d0887"
             ],
             [
              0.1111111111111111,
              "#46039f"
             ],
             [
              0.2222222222222222,
              "#7201a8"
             ],
             [
              0.3333333333333333,
              "#9c179e"
             ],
             [
              0.4444444444444444,
              "#bd3786"
             ],
             [
              0.5555555555555556,
              "#d8576b"
             ],
             [
              0.6666666666666666,
              "#ed7953"
             ],
             [
              0.7777777777777778,
              "#fb9f3a"
             ],
             [
              0.8888888888888888,
              "#fdca26"
             ],
             [
              1,
              "#f0f921"
             ]
            ],
            "type": "histogram2dcontour"
           }
          ],
          "mesh3d": [
           {
            "colorbar": {
             "outlinewidth": 0,
             "ticks": ""
            },
            "type": "mesh3d"
           }
          ],
          "parcoords": [
           {
            "line": {
             "colorbar": {
              "outlinewidth": 0,
              "ticks": ""
             }
            },
            "type": "parcoords"
           }
          ],
          "pie": [
           {
            "automargin": true,
            "type": "pie"
           }
          ],
          "scatter": [
           {
            "fillpattern": {
             "fillmode": "overlay",
             "size": 10,
             "solidity": 0.2
            },
            "type": "scatter"
           }
          ],
          "scatter3d": [
           {
            "line": {
             "colorbar": {
              "outlinewidth": 0,
              "ticks": ""
             }
            },
            "marker": {
             "colorbar": {
              "outlinewidth": 0,
              "ticks": ""
             }
            },
            "type": "scatter3d"
           }
          ],
          "scattercarpet": [
           {
            "marker": {
             "colorbar": {
              "outlinewidth": 0,
              "ticks": ""
             }
            },
            "type": "scattercarpet"
           }
          ],
          "scattergeo": [
           {
            "marker": {
             "colorbar": {
              "outlinewidth": 0,
              "ticks": ""
             }
            },
            "type": "scattergeo"
           }
          ],
          "scattergl": [
           {
            "marker": {
             "colorbar": {
              "outlinewidth": 0,
              "ticks": ""
             }
            },
            "type": "scattergl"
           }
          ],
          "scattermapbox": [
           {
            "marker": {
             "colorbar": {
              "outlinewidth": 0,
              "ticks": ""
             }
            },
            "type": "scattermapbox"
           }
          ],
          "scatterpolar": [
           {
            "marker": {
             "colorbar": {
              "outlinewidth": 0,
              "ticks": ""
             }
            },
            "type": "scatterpolar"
           }
          ],
          "scatterpolargl": [
           {
            "marker": {
             "colorbar": {
              "outlinewidth": 0,
              "ticks": ""
             }
            },
            "type": "scatterpolargl"
           }
          ],
          "scatterternary": [
           {
            "marker": {
             "colorbar": {
              "outlinewidth": 0,
              "ticks": ""
             }
            },
            "type": "scatterternary"
           }
          ],
          "surface": [
           {
            "colorbar": {
             "outlinewidth": 0,
             "ticks": ""
            },
            "colorscale": [
             [
              0,
              "#0d0887"
             ],
             [
              0.1111111111111111,
              "#46039f"
             ],
             [
              0.2222222222222222,
              "#7201a8"
             ],
             [
              0.3333333333333333,
              "#9c179e"
             ],
             [
              0.4444444444444444,
              "#bd3786"
             ],
             [
              0.5555555555555556,
              "#d8576b"
             ],
             [
              0.6666666666666666,
              "#ed7953"
             ],
             [
              0.7777777777777778,
              "#fb9f3a"
             ],
             [
              0.8888888888888888,
              "#fdca26"
             ],
             [
              1,
              "#f0f921"
             ]
            ],
            "type": "surface"
           }
          ],
          "table": [
           {
            "cells": {
             "fill": {
              "color": "#EBF0F8"
             },
             "line": {
              "color": "white"
             }
            },
            "header": {
             "fill": {
              "color": "#C8D4E3"
             },
             "line": {
              "color": "white"
             }
            },
            "type": "table"
           }
          ]
         },
         "layout": {
          "annotationdefaults": {
           "arrowcolor": "#2a3f5f",
           "arrowhead": 0,
           "arrowwidth": 1
          },
          "autotypenumbers": "strict",
          "coloraxis": {
           "colorbar": {
            "outlinewidth": 0,
            "ticks": ""
           }
          },
          "colorscale": {
           "diverging": [
            [
             0,
             "#8e0152"
            ],
            [
             0.1,
             "#c51b7d"
            ],
            [
             0.2,
             "#de77ae"
            ],
            [
             0.3,
             "#f1b6da"
            ],
            [
             0.4,
             "#fde0ef"
            ],
            [
             0.5,
             "#f7f7f7"
            ],
            [
             0.6,
             "#e6f5d0"
            ],
            [
             0.7,
             "#b8e186"
            ],
            [
             0.8,
             "#7fbc41"
            ],
            [
             0.9,
             "#4d9221"
            ],
            [
             1,
             "#276419"
            ]
           ],
           "sequential": [
            [
             0,
             "#0d0887"
            ],
            [
             0.1111111111111111,
             "#46039f"
            ],
            [
             0.2222222222222222,
             "#7201a8"
            ],
            [
             0.3333333333333333,
             "#9c179e"
            ],
            [
             0.4444444444444444,
             "#bd3786"
            ],
            [
             0.5555555555555556,
             "#d8576b"
            ],
            [
             0.6666666666666666,
             "#ed7953"
            ],
            [
             0.7777777777777778,
             "#fb9f3a"
            ],
            [
             0.8888888888888888,
             "#fdca26"
            ],
            [
             1,
             "#f0f921"
            ]
           ],
           "sequentialminus": [
            [
             0,
             "#0d0887"
            ],
            [
             0.1111111111111111,
             "#46039f"
            ],
            [
             0.2222222222222222,
             "#7201a8"
            ],
            [
             0.3333333333333333,
             "#9c179e"
            ],
            [
             0.4444444444444444,
             "#bd3786"
            ],
            [
             0.5555555555555556,
             "#d8576b"
            ],
            [
             0.6666666666666666,
             "#ed7953"
            ],
            [
             0.7777777777777778,
             "#fb9f3a"
            ],
            [
             0.8888888888888888,
             "#fdca26"
            ],
            [
             1,
             "#f0f921"
            ]
           ]
          },
          "colorway": [
           "#636efa",
           "#EF553B",
           "#00cc96",
           "#ab63fa",
           "#FFA15A",
           "#19d3f3",
           "#FF6692",
           "#B6E880",
           "#FF97FF",
           "#FECB52"
          ],
          "font": {
           "color": "#2a3f5f"
          },
          "geo": {
           "bgcolor": "white",
           "lakecolor": "white",
           "landcolor": "#E5ECF6",
           "showlakes": true,
           "showland": true,
           "subunitcolor": "white"
          },
          "hoverlabel": {
           "align": "left"
          },
          "hovermode": "closest",
          "mapbox": {
           "style": "light"
          },
          "paper_bgcolor": "white",
          "plot_bgcolor": "#E5ECF6",
          "polar": {
           "angularaxis": {
            "gridcolor": "white",
            "linecolor": "white",
            "ticks": ""
           },
           "bgcolor": "#E5ECF6",
           "radialaxis": {
            "gridcolor": "white",
            "linecolor": "white",
            "ticks": ""
           }
          },
          "scene": {
           "xaxis": {
            "backgroundcolor": "#E5ECF6",
            "gridcolor": "white",
            "gridwidth": 2,
            "linecolor": "white",
            "showbackground": true,
            "ticks": "",
            "zerolinecolor": "white"
           },
           "yaxis": {
            "backgroundcolor": "#E5ECF6",
            "gridcolor": "white",
            "gridwidth": 2,
            "linecolor": "white",
            "showbackground": true,
            "ticks": "",
            "zerolinecolor": "white"
           },
           "zaxis": {
            "backgroundcolor": "#E5ECF6",
            "gridcolor": "white",
            "gridwidth": 2,
            "linecolor": "white",
            "showbackground": true,
            "ticks": "",
            "zerolinecolor": "white"
           }
          },
          "shapedefaults": {
           "line": {
            "color": "#2a3f5f"
           }
          },
          "ternary": {
           "aaxis": {
            "gridcolor": "white",
            "linecolor": "white",
            "ticks": ""
           },
           "baxis": {
            "gridcolor": "white",
            "linecolor": "white",
            "ticks": ""
           },
           "bgcolor": "#E5ECF6",
           "caxis": {
            "gridcolor": "white",
            "linecolor": "white",
            "ticks": ""
           }
          },
          "title": {
           "x": 0.05
          },
          "xaxis": {
           "automargin": true,
           "gridcolor": "white",
           "linecolor": "white",
           "ticks": "",
           "title": {
            "standoff": 15
           },
           "zerolinecolor": "white",
           "zerolinewidth": 2
          },
          "yaxis": {
           "automargin": true,
           "gridcolor": "white",
           "linecolor": "white",
           "ticks": "",
           "title": {
            "standoff": 15
           },
           "zerolinecolor": "white",
           "zerolinewidth": 2
          }
         }
        },
        "title": {
         "text": "Number of Children on Programme"
        },
        "xaxis": {
         "anchor": "y",
         "autorange": true,
         "domain": [
          0,
          1
         ],
         "range": [
          -0.5,
          16.5
         ],
         "title": {
          "text": "School"
         },
         "type": "category"
        },
        "yaxis": {
         "anchor": "x",
         "autorange": true,
         "domain": [
          0,
          1
         ],
         "range": [
          0,
          143.1578947368421
         ],
         "title": {
          "text": "Num of Children"
         },
         "type": "linear"
        }
       }
      },
      "image/png": "[encoded data removed]",
      "text/html": [
       "<div>                            <div id=\"dd2fe6bb-9944-45b3-9224-c475e2aca99b\" class=\"plotly-graph-div\" style=\"height:525px; width:100%;\"></div>            <script type=\"text/javascript\">                require([\"plotly\"], function(Plotly) {                    window.PLOTLYENV=window.PLOTLYENV || {};                                    if (document.getElementById(\"dd2fe6bb-9944-45b3-9224-c475e2aca99b\")) {                    Plotly.newPlot(                        \"dd2fe6bb-9944-45b3-9224-c475e2aca99b\",                        [{\"alignmentgroup\":\"True\",\"hovertemplate\":\"Grade=Grade R\\u003cbr\\u003eSchool=%{x}\\u003cbr\\u003eNum of Children=%{y}\\u003cextra\\u003e\\u003c\\u002fextra\\u003e\",\"legendgroup\":\"Grade R\",\"marker\":{\"color\":\"#636efa\",\"pattern\":{\"shape\":\"\"}},\"name\":\"Grade R\",\"offsetgroup\":\"Grade R\",\"orientation\":\"v\",\"showlegend\":true,\"textposition\":\"auto\",\"x\":[\"Charles Duna\",\"Isaac Booi\",\"Clarkson\",\"Seyisi\",\"Phakamile\",\"Ebongweni\",\"Aaron Gqadu\",\"Sandwater\",\"Mzingisi\",\"Fumisukoma\",\"Empumalanga\",\"Zukisa\",\"Molefe\",\"Astra\",\"Khanyisa\",\"Ben Sinuka\"],\"xaxis\":\"x\",\"y\":[56,45,42,27,24,21,20,20,18,16,15,14,13,13,12,7],\"yaxis\":\"y\",\"type\":\"bar\"},{\"alignmentgroup\":\"True\",\"hovertemplate\":\"Grade=Grade 1\\u003cbr\\u003eSchool=%{x}\\u003cbr\\u003eNum of Children=%{y}\\u003cextra\\u003e\\u003c\\u002fextra\\u003e\",\"legendgroup\":\"Grade 1\",\"marker\":{\"color\":\"#EF553B\",\"pattern\":{\"shape\":\"\"}},\"name\":\"Grade 1\",\"offsetgroup\":\"Grade 1\",\"orientation\":\"v\",\"showlegend\":true,\"textposition\":\"auto\",\"x\":[\"Clarkson\",\"Fumisukoma\",\"Seyisi\",\"Astra\",\"Empumalanga\",\"Isaac Booi\",\"Charles Duna\",\"Molefe\",\"Ebongweni\",\"Phakamile\",\"Aaron Gqadu\",\"Zukisa\",\"Mzingisi\",\"Sandwater\",\"Khanyisa\",\"Ben Sinuka\",\"St Augustines\"],\"xaxis\":\"x\",\"y\":[55,52,47,41,41,39,39,26,26,24,24,18,18,15,12,9,7],\"yaxis\":\"y\",\"type\":\"bar\"},{\"alignmentgroup\":\"True\",\"hovertemplate\":\"Grade=Grade 2\\u003cbr\\u003eSchool=%{x}\\u003cbr\\u003eNum of Children=%{y}\\u003cextra\\u003e\\u003c\\u002fextra\\u003e\",\"legendgroup\":\"Grade 2\",\"marker\":{\"color\":\"#00cc96\",\"pattern\":{\"shape\":\"\"}},\"name\":\"Grade 2\",\"offsetgroup\":\"Grade 2\",\"orientation\":\"v\",\"showlegend\":true,\"textposition\":\"auto\",\"x\":[\"Isaac Booi\",\"Fumisukoma\",\"Seyisi\",\"Clarkson\",\"Sandwater\",\"Ben Sinuka\",\"St Augustines\"],\"xaxis\":\"x\",\"y\":[35,32,31,22,13,13,13],\"yaxis\":\"y\",\"type\":\"bar\"},{\"alignmentgroup\":\"True\",\"hovertemplate\":\"Grade=Grade 3\\u003cbr\\u003eSchool=%{x}\\u003cbr\\u003eNum of Children=%{y}\\u003cextra\\u003e\\u003c\\u002fextra\\u003e\",\"legendgroup\":\"Grade 3\",\"marker\":{\"color\":\"#ab63fa\",\"pattern\":{\"shape\":\"\"}},\"name\":\"Grade 3\",\"offsetgroup\":\"Grade 3\",\"orientation\":\"v\",\"showlegend\":true,\"textposition\":\"auto\",\"x\":[\"Fumisukoma\",\"Isaac Booi\",\"Ben Sinuka\",\"Clarkson\",\"St Augustines\",\"Seyisi\"],\"xaxis\":\"x\",\"y\":[20,17,14,12,11,8],\"yaxis\":\"y\",\"type\":\"bar\"}],                        {\"template\":{\"data\":{\"histogram2dcontour\":[{\"type\":\"histogram2dcontour\",\"colorbar\":{\"outlinewidth\":0,\"ticks\":\"\"},\"colorscale\":[[0.0,\"#0d0887\"],[0.1111111111111111,\"#46039f\"],[0.2222222222222222,\"#7201a8\"],[0.3333333333333333,\"#9c179e\"],[0.4444444444444444,\"#bd3786\"],[0.5555555555555556,\"#d8576b\"],[0.6666666666666666,\"#ed7953\"],[0.7777777777777778,\"#fb9f3a\"],[0.8888888888888888,\"#fdca26\"],[1.0,\"#f0f921\"]]}],\"choropleth\":[{\"type\":\"choropleth\",\"colorbar\":{\"outlinewidth\":0,\"ticks\":\"\"}}],\"histogram2d\":[{\"type\":\"histogram2d\",\"colorbar\":{\"outlinewidth\":0,\"ticks\":\"\"},\"colorscale\":[[0.0,\"#0d0887\"],[0.1111111111111111,\"#46039f\"],[0.2222222222222222,\"#7201a8\"],[0.3333333333333333,\"#9c179e\"],[0.4444444444444444,\"#bd3786\"],[0.5555555555555556,\"#d8576b\"],[0.6666666666666666,\"#ed7953\"],[0.7777777777777778,\"#fb9f3a\"],[0.8888888888888888,\"#fdca26\"],[1.0,\"#f0f921\"]]}],\"heatmap\":[{\"type\":\"heatmap\",\"colorbar\":{\"outlinewidth\":0,\"ticks\":\"\"},\"colorscale\":[[0.0,\"#0d0887\"],[0.1111111111111111,\"#46039f\"],[0.2222222222222222,\"#7201a8\"],[0.3333333333333333,\"#9c179e\"],[0.4444444444444444,\"#bd3786\"],[0.5555555555555556,\"#d8576b\"],[0.6666666666666666,\"#ed7953\"],[0.7777777777777778,\"#fb9f3a\"],[0.8888888888888888,\"#fdca26\"],[1.0,\"#f0f921\"]]}],\"heatmapgl\":[{\"type\":\"heatmapgl\",\"colorbar\":{\"outlinewidth\":0,\"ticks\":\"\"},\"colorscale\":[[0.0,\"#0d0887\"],[0.1111111111111111,\"#46039f\"],[0.2222222222222222,\"#7201a8\"],[0.3333333333333333,\"#9c179e\"],[0.4444444444444444,\"#bd3786\"],[0.5555555555555556,\"#d8576b\"],[0.6666666666666666,\"#ed7953\"],[0.7777777777777778,\"#fb9f3a\"],[0.8888888888888888,\"#fdca26\"],[1.0,\"#f0f921\"]]}],\"contourcarpet\":[{\"type\":\"contourcarpet\",\"colorbar\":{\"outlinewidth\":0,\"ticks\":\"\"}}],\"contour\":[{\"type\":\"contour\",\"colorbar\":{\"outlinewidth\":0,\"ticks\":\"\"},\"colorscale\":[[0.0,\"#0d0887\"],[0.1111111111111111,\"#46039f\"],[0.2222222222222222,\"#7201a8\"],[0.3333333333333333,\"#9c179e\"],[0.4444444444444444,\"#bd3786\"],[0.5555555555555556,\"#d8576b\"],[0.6666666666666666,\"#ed7953\"],[0.7777777777777778,\"#fb9f3a\"],[0.8888888888888888,\"#fdca26\"],[1.0,\"#f0f921\"]]}],\"surface\":[{\"type\":\"surface\",\"colorbar\":{\"outlinewidth\":0,\"ticks\":\"\"},\"colorscale\":[[0.0,\"#0d0887\"],[0.1111111111111111,\"#46039f\"],[0.2222222222222222,\"#7201a8\"],[0.3333333333333333,\"#9c179e\"],[0.4444444444444444,\"#bd3786\"],[0.5555555555555556,\"#d8576b\"],[0.6666666666666666,\"#ed7953\"],[0.7777777777777778,\"#fb9f3a\"],[0.8888888888888888,\"#fdca26\"],[1.0,\"#f0f921\"]]}],\"mesh3d\":[{\"type\":\"mesh3d\",\"colorbar\":{\"outlinewidth\":0,\"ticks\":\"\"}}],\"scatter\":[{\"fillpattern\":{\"fillmode\":\"overlay\",\"size\":10,\"solidity\":0.2},\"type\":\"scatter\"}],\"parcoords\":[{\"type\":\"parcoords\",\"line\":{\"colorbar\":{\"outlinewidth\":0,\"ticks\":\"\"}}}],\"scatterpolargl\":[{\"type\":\"scatterpolargl\",\"marker\":{\"colorbar\":{\"outlinewidth\":0,\"ticks\":\"\"}}}],\"bar\":[{\"error_x\":{\"color\":\"#2a3f5f\"},\"error_y\":{\"color\":\"#2a3f5f\"},\"marker\":{\"line\":{\"color\":\"#E5ECF6\",\"width\":0.5},\"pattern\":{\"fillmode\":\"overlay\",\"size\":10,\"solidity\":0.2}},\"type\":\"bar\"}],\"scattergeo\":[{\"type\":\"scattergeo\",\"marker\":{\"colorbar\":{\"outlinewidth\":0,\"ticks\":\"\"}}}],\"scatterpolar\":[{\"type\":\"scatterpolar\",\"marker\":{\"colorbar\":{\"outlinewidth\":0,\"ticks\":\"\"}}}],\"histogram\":[{\"marker\":{\"pattern\":{\"fillmode\":\"overlay\",\"size\":10,\"solidity\":0.2}},\"type\":\"histogram\"}],\"scattergl\":[{\"type\":\"scattergl\",\"marker\":{\"colorbar\":{\"outlinewidth\":0,\"ticks\":\"\"}}}],\"scatter3d\":[{\"type\":\"scatter3d\",\"line\":{\"colorbar\":{\"outlinewidth\":0,\"ticks\":\"\"}},\"marker\":{\"colorbar\":{\"outlinewidth\":0,\"ticks\":\"\"}}}],\"scattermapbox\":[{\"type\":\"scattermapbox\",\"marker\":{\"colorbar\":{\"outlinewidth\":0,\"ticks\":\"\"}}}],\"scatterternary\":[{\"type\":\"scatterternary\",\"marker\":{\"colorbar\":{\"outlinewidth\":0,\"ticks\":\"\"}}}],\"scattercarpet\":[{\"type\":\"scattercarpet\",\"marker\":{\"colorbar\":{\"outlinewidth\":0,\"ticks\":\"\"}}}],\"carpet\":[{\"aaxis\":{\"endlinecolor\":\"#2a3f5f\",\"gridcolor\":\"white\",\"linecolor\":\"white\",\"minorgridcolor\":\"white\",\"startlinecolor\":\"#2a3f5f\"},\"baxis\":{\"endlinecolor\":\"#2a3f5f\",\"gridcolor\":\"white\",\"linecolor\":\"white\",\"minorgridcolor\":\"white\",\"startlinecolor\":\"#2a3f5f\"},\"type\":\"carpet\"}],\"table\":[{\"cells\":{\"fill\":{\"color\":\"#EBF0F8\"},\"line\":{\"color\":\"white\"}},\"header\":{\"fill\":{\"color\":\"#C8D4E3\"},\"line\":{\"color\":\"white\"}},\"type\":\"table\"}],\"barpolar\":[{\"marker\":{\"line\":{\"color\":\"#E5ECF6\",\"width\":0.5},\"pattern\":{\"fillmode\":\"overlay\",\"size\":10,\"solidity\":0.2}},\"type\":\"barpolar\"}],\"pie\":[{\"automargin\":true,\"type\":\"pie\"}]},\"layout\":{\"autotypenumbers\":\"strict\",\"colorway\":[\"#636efa\",\"#EF553B\",\"#00cc96\",\"#ab63fa\",\"#FFA15A\",\"#19d3f3\",\"#FF6692\",\"#B6E880\",\"#FF97FF\",\"#FECB52\"],\"font\":{\"color\":\"#2a3f5f\"},\"hovermode\":\"closest\",\"hoverlabel\":{\"align\":\"left\"},\"paper_bgcolor\":\"white\",\"plot_bgcolor\":\"#E5ECF6\",\"polar\":{\"bgcolor\":\"#E5ECF6\",\"angularaxis\":{\"gridcolor\":\"white\",\"linecolor\":\"white\",\"ticks\":\"\"},\"radialaxis\":{\"gridcolor\":\"white\",\"linecolor\":\"white\",\"ticks\":\"\"}},\"ternary\":{\"bgcolor\":\"#E5ECF6\",\"aaxis\":{\"gridcolor\":\"white\",\"linecolor\":\"white\",\"ticks\":\"\"},\"baxis\":{\"gridcolor\":\"white\",\"linecolor\":\"white\",\"ticks\":\"\"},\"caxis\":{\"gridcolor\":\"white\",\"linecolor\":\"white\",\"ticks\":\"\"}},\"coloraxis\":{\"colorbar\":{\"outlinewidth\":0,\"ticks\":\"\"}},\"colorscale\":{\"sequential\":[[0.0,\"#0d0887\"],[0.1111111111111111,\"#46039f\"],[0.2222222222222222,\"#7201a8\"],[0.3333333333333333,\"#9c179e\"],[0.4444444444444444,\"#bd3786\"],[0.5555555555555556,\"#d8576b\"],[0.6666666666666666,\"#ed7953\"],[0.7777777777777778,\"#fb9f3a\"],[0.8888888888888888,\"#fdca26\"],[1.0,\"#f0f921\"]],\"sequentialminus\":[[0.0,\"#0d0887\"],[0.1111111111111111,\"#46039f\"],[0.2222222222222222,\"#7201a8\"],[0.3333333333333333,\"#9c179e\"],[0.4444444444444444,\"#bd3786\"],[0.5555555555555556,\"#d8576b\"],[0.6666666666666666,\"#ed7953\"],[0.7777777777777778,\"#fb9f3a\"],[0.8888888888888888,\"#fdca26\"],[1.0,\"#f0f921\"]],\"diverging\":[[0,\"#8e0152\"],[0.1,\"#c51b7d\"],[0.2,\"#de77ae\"],[0.3,\"#f1b6da\"],[0.4,\"#fde0ef\"],[0.5,\"#f7f7f7\"],[0.6,\"#e6f5d0\"],[0.7,\"#b8e186\"],[0.8,\"#7fbc41\"],[0.9,\"#4d9221\"],[1,\"#276419\"]]},\"xaxis\":{\"gridcolor\":\"white\",\"linecolor\":\"white\",\"ticks\":\"\",\"title\":{\"standoff\":15},\"zerolinecolor\":\"white\",\"automargin\":true,\"zerolinewidth\":2},\"yaxis\":{\"gridcolor\":\"white\",\"linecolor\":\"white\",\"ticks\":\"\",\"title\":{\"standoff\":15},\"zerolinecolor\":\"white\",\"automargin\":true,\"zerolinewidth\":2},\"scene\":{\"xaxis\":{\"backgroundcolor\":\"#E5ECF6\",\"gridcolor\":\"white\",\"linecolor\":\"white\",\"showbackground\":true,\"ticks\":\"\",\"zerolinecolor\":\"white\",\"gridwidth\":2},\"yaxis\":{\"backgroundcolor\":\"#E5ECF6\",\"gridcolor\":\"white\",\"linecolor\":\"white\",\"showbackground\":true,\"ticks\":\"\",\"zerolinecolor\":\"white\",\"gridwidth\":2},\"zaxis\":{\"backgroundcolor\":\"#E5ECF6\",\"gridcolor\":\"white\",\"linecolor\":\"white\",\"showbackground\":true,\"ticks\":\"\",\"zerolinecolor\":\"white\",\"gridwidth\":2}},\"shapedefaults\":{\"line\":{\"color\":\"#2a3f5f\"}},\"annotationdefaults\":{\"arrowcolor\":\"#2a3f5f\",\"arrowhead\":0,\"arrowwidth\":1},\"geo\":{\"bgcolor\":\"white\",\"landcolor\":\"#E5ECF6\",\"subunitcolor\":\"white\",\"showland\":true,\"showlakes\":true,\"lakecolor\":\"white\"},\"title\":{\"x\":0.05},\"mapbox\":{\"style\":\"light\"}}},\"xaxis\":{\"anchor\":\"y\",\"domain\":[0.0,1.0],\"title\":{\"text\":\"School\"}},\"yaxis\":{\"anchor\":\"x\",\"domain\":[0.0,1.0],\"title\":{\"text\":\"Num of Children\"}},\"legend\":{\"title\":{\"text\":\"Grade\"},\"tracegroupgap\":0},\"title\":{\"text\":\"Number of Children on Programme\"},\"barmode\":\"relative\"},                        {\"responsive\": true}                    ).then(function(){\n",
       "                            \n",
       "var gd = document.getElementById('dd2fe6bb-9944-45b3-9224-c475e2aca99b');\n",
       "var x = new MutationObserver(function (mutations, observer) {{\n",
       "        var display = window.getComputedStyle(gd).display;\n",
       "        if (!display || display === 'none') {{\n",
       "            console.log([gd, 'removed!']);\n",
       "            Plotly.purge(gd);\n",
       "            observer.disconnect();\n",
       "        }}\n",
       "}});\n",
       "\n",
       "// Listen for the removal of the full notebook cells\n",
       "var notebookContainer = gd.closest('#notebook-container');\n",
       "if (notebookContainer) {{\n",
       "    x.observe(notebookContainer, {childList: true});\n",
       "}}\n",
       "\n",
       "// Listen for the clearing of the current output cell\n",
       "var outputEl = gd.closest('.output');\n",
       "if (outputEl) {{\n",
       "    x.observe(outputEl, {childList: true});\n",
       "}}\n",
       "\n",
       "                        })                };                });            </script>        </div>"
      ]
     },
     "metadata": {},
     "output_type": "display_data"
    }
   ],
   "source": [
    "kids_on_programme = primary_on.groupby(['School', 'Grade'])['Mcode'].count().reset_index(name=\"Num of Children\").sort_values(\"Num of Children\", ascending=False)\n",
    "\n",
    "# Plot the sorted data using Plotly\n",
    "fig = px.bar(kids_on_programme,\n",
    "             y='Num of Children',\n",
    "             x='School',\n",
    "             color='Grade',\n",
    "             title='Number of Children on Programme',\n",
    "             template='plotly')\n",
    "\n",
    "fig.show()"
   ]
  },
  {
   "cell_type": "markdown",
   "id": "b112b2dc-3cb5-466b-8dca-852aa000cb2a",
   "metadata": {
    "tags": []
   },
   "source": [
    "### Checking On The Programme Flag\n",
    "##### Sessions are greater than 10, but Flag says No. Confirm if these kids really should be a 'Yes'"
   ]
  },
  {
   "cell_type": "code",
   "execution_count": 47,
   "id": "1d197663-92ad-49ee-96ca-335a4ada956f",
   "metadata": {
    "tags": []
   },
   "outputs": [
    {
     "data": {
      "text/html": [
       "<div>\n",
       "<style scoped>\n",
       "    .dataframe tbody tr th:only-of-type {\n",
       "        vertical-align: middle;\n",
       "    }\n",
       "\n",
       "    .dataframe tbody tr th {\n",
       "        vertical-align: top;\n",
       "    }\n",
       "\n",
       "    .dataframe thead th {\n",
       "        text-align: right;\n",
       "    }\n",
       "</style>\n",
       "<table border=\"1\" class=\"dataframe\">\n",
       "  <thead>\n",
       "    <tr style=\"text-align: right;\">\n",
       "      <th></th>\n",
       "      <th>School</th>\n",
       "      <th>Full Name</th>\n",
       "      <th>LC Name</th>\n",
       "      <th>On The Programme</th>\n",
       "      <th>Total Sessions</th>\n",
       "    </tr>\n",
       "  </thead>\n",
       "  <tbody>\n",
       "    <tr>\n",
       "      <th>1072</th>\n",
       "      <td>Lithemba</td>\n",
       "      <td>Stemele Siphahle</td>\n",
       "      <td>NaN</td>\n",
       "      <td>No, Left</td>\n",
       "      <td>11.0</td>\n",
       "    </tr>\n",
       "    <tr>\n",
       "      <th>1456</th>\n",
       "      <td>Lithemba</td>\n",
       "      <td>Luwana Yalanathi</td>\n",
       "      <td>NaN</td>\n",
       "      <td>No, Left</td>\n",
       "      <td>12.0</td>\n",
       "    </tr>\n",
       "    <tr>\n",
       "      <th>1542</th>\n",
       "      <td>Lithemba</td>\n",
       "      <td>Mkatshane Chiome</td>\n",
       "      <td>NaN</td>\n",
       "      <td>No, Left</td>\n",
       "      <td>45.0</td>\n",
       "    </tr>\n",
       "    <tr>\n",
       "      <th>1680</th>\n",
       "      <td>St Augustines</td>\n",
       "      <td>Katizandima Lindiwe</td>\n",
       "      <td>NaN</td>\n",
       "      <td>No</td>\n",
       "      <td>14.0</td>\n",
       "    </tr>\n",
       "    <tr>\n",
       "      <th>1890</th>\n",
       "      <td>Isaac Booi</td>\n",
       "      <td>Silwana Onje</td>\n",
       "      <td>NaN</td>\n",
       "      <td>No, Left</td>\n",
       "      <td>14.0</td>\n",
       "    </tr>\n",
       "    <tr>\n",
       "      <th>1923</th>\n",
       "      <td>Isaac Booi</td>\n",
       "      <td>Solani Lelothando</td>\n",
       "      <td>NaN</td>\n",
       "      <td>No, Left</td>\n",
       "      <td>25.0</td>\n",
       "    </tr>\n",
       "    <tr>\n",
       "      <th>2719</th>\n",
       "      <td>Qaqawuli Godolozi</td>\n",
       "      <td>Ngxabasi Iminathi</td>\n",
       "      <td>NaN</td>\n",
       "      <td>No, Left</td>\n",
       "      <td>28.0</td>\n",
       "    </tr>\n",
       "    <tr>\n",
       "      <th>2750</th>\n",
       "      <td>Sifunimfundo</td>\n",
       "      <td>Chimanga Tapfuma</td>\n",
       "      <td>NaN</td>\n",
       "      <td>No, Left</td>\n",
       "      <td>17.0</td>\n",
       "    </tr>\n",
       "    <tr>\n",
       "      <th>2789</th>\n",
       "      <td>Sisonke</td>\n",
       "      <td>Tsitsa Lelona</td>\n",
       "      <td>NaN</td>\n",
       "      <td>No</td>\n",
       "      <td>18.0</td>\n",
       "    </tr>\n",
       "    <tr>\n",
       "      <th>3067</th>\n",
       "      <td>Dorothy</td>\n",
       "      <td>Ngobozi Nkosi</td>\n",
       "      <td>NaN</td>\n",
       "      <td>No, Left</td>\n",
       "      <td>27.0</td>\n",
       "    </tr>\n",
       "    <tr>\n",
       "      <th>3201</th>\n",
       "      <td>Lithemba</td>\n",
       "      <td>Fumba Asemahle</td>\n",
       "      <td>NaN</td>\n",
       "      <td>No, Left</td>\n",
       "      <td>41.0</td>\n",
       "    </tr>\n",
       "    <tr>\n",
       "      <th>3216</th>\n",
       "      <td>Empumalanga</td>\n",
       "      <td>Kholisa Athobile</td>\n",
       "      <td>NaN</td>\n",
       "      <td>No</td>\n",
       "      <td>16.0</td>\n",
       "    </tr>\n",
       "    <tr>\n",
       "      <th>3874</th>\n",
       "      <td>Charles Duna</td>\n",
       "      <td>Mazungula Ntando</td>\n",
       "      <td>NaN</td>\n",
       "      <td>No, Left</td>\n",
       "      <td>17.0</td>\n",
       "    </tr>\n",
       "    <tr>\n",
       "      <th>3880</th>\n",
       "      <td>Charles Duna</td>\n",
       "      <td>Ndumo Emihle</td>\n",
       "      <td>NaN</td>\n",
       "      <td>No, Left</td>\n",
       "      <td>13.0</td>\n",
       "    </tr>\n",
       "    <tr>\n",
       "      <th>3995</th>\n",
       "      <td>Seyisi</td>\n",
       "      <td>Mxoli Owentando</td>\n",
       "      <td>NaN</td>\n",
       "      <td>No</td>\n",
       "      <td>32.0</td>\n",
       "    </tr>\n",
       "    <tr>\n",
       "      <th>4034</th>\n",
       "      <td>Sisonke</td>\n",
       "      <td>Toyisi Kungawo</td>\n",
       "      <td>NaN</td>\n",
       "      <td>No, Left</td>\n",
       "      <td>12.0</td>\n",
       "    </tr>\n",
       "    <tr>\n",
       "      <th>4150</th>\n",
       "      <td>Dorothy</td>\n",
       "      <td>Shota Hlaluminathi</td>\n",
       "      <td>NaN</td>\n",
       "      <td>No, Left</td>\n",
       "      <td>22.0</td>\n",
       "    </tr>\n",
       "  </tbody>\n",
       "</table>\n",
       "</div>"
      ],
      "text/plain": [
       "                 School            Full Name LC Name On The Programme  \\\n",
       "1072           Lithemba     Stemele Siphahle     NaN         No, Left   \n",
       "1456           Lithemba     Luwana Yalanathi     NaN         No, Left   \n",
       "1542           Lithemba     Mkatshane Chiome     NaN         No, Left   \n",
       "1680      St Augustines  Katizandima Lindiwe     NaN               No   \n",
       "1890         Isaac Booi         Silwana Onje     NaN         No, Left   \n",
       "1923         Isaac Booi    Solani Lelothando     NaN         No, Left   \n",
       "2719  Qaqawuli Godolozi    Ngxabasi Iminathi     NaN         No, Left   \n",
       "2750       Sifunimfundo     Chimanga Tapfuma     NaN         No, Left   \n",
       "2789            Sisonke        Tsitsa Lelona     NaN               No   \n",
       "3067            Dorothy        Ngobozi Nkosi     NaN         No, Left   \n",
       "3201           Lithemba       Fumba Asemahle     NaN         No, Left   \n",
       "3216        Empumalanga     Kholisa Athobile     NaN               No   \n",
       "3874       Charles Duna     Mazungula Ntando     NaN         No, Left   \n",
       "3880       Charles Duna         Ndumo Emihle     NaN         No, Left   \n",
       "3995             Seyisi      Mxoli Owentando     NaN               No   \n",
       "4034            Sisonke       Toyisi Kungawo     NaN         No, Left   \n",
       "4150            Dorothy   Shota Hlaluminathi     NaN         No, Left   \n",
       "\n",
       "      Total Sessions  \n",
       "1072            11.0  \n",
       "1456            12.0  \n",
       "1542            45.0  \n",
       "1680            14.0  \n",
       "1890            14.0  \n",
       "1923            25.0  \n",
       "2719            28.0  \n",
       "2750            17.0  \n",
       "2789            18.0  \n",
       "3067            27.0  \n",
       "3201            41.0  \n",
       "3216            16.0  \n",
       "3874            17.0  \n",
       "3880            13.0  \n",
       "3995            32.0  \n",
       "4034            12.0  \n",
       "4150            22.0  "
      ]
     },
     "execution_count": 47,
     "metadata": {},
     "output_type": "execute_result"
    }
   ],
   "source": [
    "df = children[(children['Total Sessions'] > 10) & (~children['On The Programme'].isin(['Yes', 'Graduated']))]\n",
    "# df.shape[0]\n",
    "df[['School', 'Full Name', 'LC Name', 'On The Programme', 'Total Sessions']]"
   ]
  },
  {
   "cell_type": "markdown",
   "id": "4c2d8b93-bf0f-4737-bf76-696d1bded9e7",
   "metadata": {
    "tags": []
   },
   "source": [
    "##### Sessions are less than 10, but Flag says Yes. Confirm if these kids really are on the programme."
   ]
  },
  {
   "cell_type": "code",
   "execution_count": 48,
   "id": "1d05607e-08f6-4923-a7a8-2b15a59bb972",
   "metadata": {
    "tags": []
   },
   "outputs": [
    {
     "data": {
      "text/plain": [
       "15"
      ]
     },
     "execution_count": 48,
     "metadata": {},
     "output_type": "execute_result"
    }
   ],
   "source": [
    "df = children[(children['Total Sessions'] < 10) & (children['On The Programme'] == 'Yes') & (children['City'] == 'Gqeberha') & (~children['School'].isin(['Astra', 'Molefe', 'Empumalanga']))]\n",
    "df.shape[0]\n",
    "# df[['School', 'Full Name', 'Grade', 'LC Name', 'On The Programme', 'Total Sessions']]"
   ]
  },
  {
   "cell_type": "markdown",
   "id": "8bd4ff36-55c7-4aff-bf24-a31aeb87ba17",
   "metadata": {},
   "source": [
    "### Kids with flag NOT on the programme, but we assessed as if they were"
   ]
  },
  {
   "cell_type": "code",
   "execution_count": 49,
   "id": "918da922-f78d-4109-8811-447bf2a85b85",
   "metadata": {
    "tags": []
   },
   "outputs": [
    {
     "data": {
      "text/plain": [
       "54"
      ]
     },
     "execution_count": 49,
     "metadata": {},
     "output_type": "execute_result"
    }
   ],
   "source": [
    "dfnew = children[(children['On The Programme'] == 'No') & (children['June - Listen First Sound'].notna())]\n",
    "dfnew['Mcode'].count()\n",
    "# dfnew[['Full Name', 'School','On The Programme', 'June - Listen First Sound']]"
   ]
  },
  {
   "cell_type": "markdown",
   "id": "5cb2f3c3-f38f-44de-8e50-cc9d0f4b2c31",
   "metadata": {
    "tags": []
   },
   "source": [
    "### Checking % of Children with X Sessions"
   ]
  },
  {
   "cell_type": "code",
   "execution_count": 50,
   "id": "6153ccad-bac4-4512-8ecf-e3a4bb6dcb45",
   "metadata": {
    "tags": []
   },
   "outputs": [
    {
     "data": {
      "text/html": [
       "\n",
       "        <iframe\n",
       "            width=\"100%\"\n",
       "            height=\"650\"\n",
       "            src=\"http://127.0.0.1:9271/\"\n",
       "            frameborder=\"0\"\n",
       "            allowfullscreen\n",
       "            \n",
       "        ></iframe>\n",
       "        "
      ],
      "text/plain": [
       "<IPython.lib.display.IFrame at 0x175d4d1d0>"
      ]
     },
     "metadata": {},
     "output_type": "display_data"
    }
   ],
   "source": [
    "# from jupyter_dash import JupyterDash\n",
    "# from dash import dcc, html, Input, Output, PreventUpdate\n",
    "# import pandas as pd\n",
    "# import plotly.express as px\n",
    "\n",
    "# Assuming you have the 'children' DataFrame loaded here\n",
    "\n",
    "app = JupyterDash(__name__)\n",
    "\n",
    "app.layout = html.Div([\n",
    "    html.H2(id=\"header\"),\n",
    "    dcc.Slider(\n",
    "        id=\"session_limit\",\n",
    "        marks={10: '10', 20: '20', 30: '30', 40: '40'},\n",
    "        min=10,\n",
    "        max=40,\n",
    "        step=5,\n",
    "        value=10\n",
    "    ),\n",
    "    dcc.Graph(id=\"graph\"),\n",
    "])\n",
    "\n",
    "@app.callback(\n",
    "    Output(\"header\", \"children\"),\n",
    "    Output(\"graph\", \"figure\"),\n",
    "    Input(\"session_limit\", \"value\")\n",
    ")\n",
    "def plot_rev_scatter(session_limit):\n",
    "    if session_limit is None:\n",
    "        raise PreventUpdate\n",
    "        \n",
    "    children_on = children[children['On The Programme'] == 'Yes']\n",
    "    filtered_children = children[(children['Total Sessions'] < session_limit) & (children['On The Programme'] == 'Yes')]\n",
    "    grouped = filtered_children.groupby('School')['Mcode'].count() / children_on.groupby('School')['Mcode'].count() * 100\n",
    "    grouped = grouped.sort_values(ascending=False).reset_index().rename(columns={'Mcode': 'Percentage'})\n",
    "    \n",
    "    fig = px.bar(\n",
    "        grouped,\n",
    "        y='Percentage',\n",
    "        x='School',\n",
    "        title=f\"Percent of Children With Less Than {session_limit} Sessions\",\n",
    "        labels={'Total Sessions': 'Average Total Sessions', 'School': 'School'},\n",
    "        template='plotly'\n",
    "    )\n",
    "\n",
    "    header = f\"Percent of Children With Less Than {session_limit} Sessions\"\n",
    "    return header, fig\n",
    "\n",
    "if __name__ == \"__main__\":\n",
    "    app.run_server(mode=\"inline\", port=9271, debug=True)\n"
   ]
  },
  {
   "cell_type": "markdown",
   "id": "e6a4976c-334a-488d-b9f8-fb1aabadc64e",
   "metadata": {},
   "source": [
    "# SESSIONS"
   ]
  },
  {
   "cell_type": "code",
   "execution_count": 51,
   "id": "0631f144-e7e6-4de0-b33c-bbcfc834a363",
   "metadata": {
    "tags": []
   },
   "outputs": [
    {
     "data": {
      "application/vnd.plotly.v1+json": {
       "config": {
        "plotlyServerURL": "https://plot.ly"
       },
       "data": [
        {
         "alignmentgroup": "True",
         "hovertemplate": "School=%{x}<br>Total Sessions=%{y}<extra></extra>",
         "legendgroup": "",
         "marker": {
          "color": "#636efa",
          "pattern": {
           "shape": ""
          }
         },
         "name": "",
         "offsetgroup": "",
         "orientation": "v",
         "showlegend": false,
         "textposition": "auto",
         "type": "bar",
         "x": [
          "St Augustines",
          "Seyisi",
          "Fumisukoma",
          "Isaac Booi",
          "Ben Sinuka",
          "Aaron Gqadu",
          "Charles Duna",
          "Ebongweni",
          "Sandwater",
          "Molefe",
          "Empumalanga",
          "Zukisa",
          "Khanyisa",
          "Clarkson",
          "Phakamile",
          "Mzingisi",
          "Astra"
         ],
         "xaxis": "x",
         "y": [
          39.29032258064516,
          31.38053097345133,
          29.325,
          28.955882352941178,
          26.953488372093023,
          24.818181818181817,
          24.51578947368421,
          22.914893617021278,
          22.520833333333332,
          19.71794871794872,
          18.142857142857142,
          16.03125,
          15.625,
          10.83969465648855,
          9.25,
          7.888888888888889,
          7.518518518518518
         ],
         "yaxis": "y"
        }
       ],
       "layout": {
        "autosize": true,
        "barmode": "relative",
        "legend": {
         "tracegroupgap": 0
        },
        "template": {
         "data": {
          "bar": [
           {
            "error_x": {
             "color": "#2a3f5f"
            },
            "error_y": {
             "color": "#2a3f5f"
            },
            "marker": {
             "line": {
              "color": "#E5ECF6",
              "width": 0.5
             },
             "pattern": {
              "fillmode": "overlay",
              "size": 10,
              "solidity": 0.2
             }
            },
            "type": "bar"
           }
          ],
          "barpolar": [
           {
            "marker": {
             "line": {
              "color": "#E5ECF6",
              "width": 0.5
             },
             "pattern": {
              "fillmode": "overlay",
              "size": 10,
              "solidity": 0.2
             }
            },
            "type": "barpolar"
           }
          ],
          "carpet": [
           {
            "aaxis": {
             "endlinecolor": "#2a3f5f",
             "gridcolor": "white",
             "linecolor": "white",
             "minorgridcolor": "white",
             "startlinecolor": "#2a3f5f"
            },
            "baxis": {
             "endlinecolor": "#2a3f5f",
             "gridcolor": "white",
             "linecolor": "white",
             "minorgridcolor": "white",
             "startlinecolor": "#2a3f5f"
            },
            "type": "carpet"
           }
          ],
          "choropleth": [
           {
            "colorbar": {
             "outlinewidth": 0,
             "ticks": ""
            },
            "type": "choropleth"
           }
          ],
          "contour": [
           {
            "colorbar": {
             "outlinewidth": 0,
             "ticks": ""
            },
            "colorscale": [
             [
              0,
              "#0d0887"
             ],
             [
              0.1111111111111111,
              "#46039f"
             ],
             [
              0.2222222222222222,
              "#7201a8"
             ],
             [
              0.3333333333333333,
              "#9c179e"
             ],
             [
              0.4444444444444444,
              "#bd3786"
             ],
             [
              0.5555555555555556,
              "#d8576b"
             ],
             [
              0.6666666666666666,
              "#ed7953"
             ],
             [
              0.7777777777777778,
              "#fb9f3a"
             ],
             [
              0.8888888888888888,
              "#fdca26"
             ],
             [
              1,
              "#f0f921"
             ]
            ],
            "type": "contour"
           }
          ],
          "contourcarpet": [
           {
            "colorbar": {
             "outlinewidth": 0,
             "ticks": ""
            },
            "type": "contourcarpet"
           }
          ],
          "heatmap": [
           {
            "colorbar": {
             "outlinewidth": 0,
             "ticks": ""
            },
            "colorscale": [
             [
              0,
              "#0d0887"
             ],
             [
              0.1111111111111111,
              "#46039f"
             ],
             [
              0.2222222222222222,
              "#7201a8"
             ],
             [
              0.3333333333333333,
              "#9c179e"
             ],
             [
              0.4444444444444444,
              "#bd3786"
             ],
             [
              0.5555555555555556,
              "#d8576b"
             ],
             [
              0.6666666666666666,
              "#ed7953"
             ],
             [
              0.7777777777777778,
              "#fb9f3a"
             ],
             [
              0.8888888888888888,
              "#fdca26"
             ],
             [
              1,
              "#f0f921"
             ]
            ],
            "type": "heatmap"
           }
          ],
          "heatmapgl": [
           {
            "colorbar": {
             "outlinewidth": 0,
             "ticks": ""
            },
            "colorscale": [
             [
              0,
              "#0d0887"
             ],
             [
              0.1111111111111111,
              "#46039f"
             ],
             [
              0.2222222222222222,
              "#7201a8"
             ],
             [
              0.3333333333333333,
              "#9c179e"
             ],
             [
              0.4444444444444444,
              "#bd3786"
             ],
             [
              0.5555555555555556,
              "#d8576b"
             ],
             [
              0.6666666666666666,
              "#ed7953"
             ],
             [
              0.7777777777777778,
              "#fb9f3a"
             ],
             [
              0.8888888888888888,
              "#fdca26"
             ],
             [
              1,
              "#f0f921"
             ]
            ],
            "type": "heatmapgl"
           }
          ],
          "histogram": [
           {
            "marker": {
             "pattern": {
              "fillmode": "overlay",
              "size": 10,
              "solidity": 0.2
             }
            },
            "type": "histogram"
           }
          ],
          "histogram2d": [
           {
            "colorbar": {
             "outlinewidth": 0,
             "ticks": ""
            },
            "colorscale": [
             [
              0,
              "#0d0887"
             ],
             [
              0.1111111111111111,
              "#46039f"
             ],
             [
              0.2222222222222222,
              "#7201a8"
             ],
             [
              0.3333333333333333,
              "#9c179e"
             ],
             [
              0.4444444444444444,
              "#bd3786"
             ],
             [
              0.5555555555555556,
              "#d8576b"
             ],
             [
              0.6666666666666666,
              "#ed7953"
             ],
             [
              0.7777777777777778,
              "#fb9f3a"
             ],
             [
              0.8888888888888888,
              "#fdca26"
             ],
             [
              1,
              "#f0f921"
             ]
            ],
            "type": "histogram2d"
           }
          ],
          "histogram2dcontour": [
           {
            "colorbar": {
             "outlinewidth": 0,
             "ticks": ""
            },
            "colorscale": [
             [
              0,
              "#0d0887"
             ],
             [
              0.1111111111111111,
              "#46039f"
             ],
             [
              0.2222222222222222,
              "#7201a8"
             ],
             [
              0.3333333333333333,
              "#9c179e"
             ],
             [
              0.4444444444444444,
              "#bd3786"
             ],
             [
              0.5555555555555556,
              "#d8576b"
             ],
             [
              0.6666666666666666,
              "#ed7953"
             ],
             [
              0.7777777777777778,
              "#fb9f3a"
             ],
             [
              0.8888888888888888,
              "#fdca26"
             ],
             [
              1,
              "#f0f921"
             ]
            ],
            "type": "histogram2dcontour"
           }
          ],
          "mesh3d": [
           {
            "colorbar": {
             "outlinewidth": 0,
             "ticks": ""
            },
            "type": "mesh3d"
           }
          ],
          "parcoords": [
           {
            "line": {
             "colorbar": {
              "outlinewidth": 0,
              "ticks": ""
             }
            },
            "type": "parcoords"
           }
          ],
          "pie": [
           {
            "automargin": true,
            "type": "pie"
           }
          ],
          "scatter": [
           {
            "fillpattern": {
             "fillmode": "overlay",
             "size": 10,
             "solidity": 0.2
            },
            "type": "scatter"
           }
          ],
          "scatter3d": [
           {
            "line": {
             "colorbar": {
              "outlinewidth": 0,
              "ticks": ""
             }
            },
            "marker": {
             "colorbar": {
              "outlinewidth": 0,
              "ticks": ""
             }
            },
            "type": "scatter3d"
           }
          ],
          "scattercarpet": [
           {
            "marker": {
             "colorbar": {
              "outlinewidth": 0,
              "ticks": ""
             }
            },
            "type": "scattercarpet"
           }
          ],
          "scattergeo": [
           {
            "marker": {
             "colorbar": {
              "outlinewidth": 0,
              "ticks": ""
             }
            },
            "type": "scattergeo"
           }
          ],
          "scattergl": [
           {
            "marker": {
             "colorbar": {
              "outlinewidth": 0,
              "ticks": ""
             }
            },
            "type": "scattergl"
           }
          ],
          "scattermapbox": [
           {
            "marker": {
             "colorbar": {
              "outlinewidth": 0,
              "ticks": ""
             }
            },
            "type": "scattermapbox"
           }
          ],
          "scatterpolar": [
           {
            "marker": {
             "colorbar": {
              "outlinewidth": 0,
              "ticks": ""
             }
            },
            "type": "scatterpolar"
           }
          ],
          "scatterpolargl": [
           {
            "marker": {
             "colorbar": {
              "outlinewidth": 0,
              "ticks": ""
             }
            },
            "type": "scatterpolargl"
           }
          ],
          "scatterternary": [
           {
            "marker": {
             "colorbar": {
              "outlinewidth": 0,
              "ticks": ""
             }
            },
            "type": "scatterternary"
           }
          ],
          "surface": [
           {
            "colorbar": {
             "outlinewidth": 0,
             "ticks": ""
            },
            "colorscale": [
             [
              0,
              "#0d0887"
             ],
             [
              0.1111111111111111,
              "#46039f"
             ],
             [
              0.2222222222222222,
              "#7201a8"
             ],
             [
              0.3333333333333333,
              "#9c179e"
             ],
             [
              0.4444444444444444,
              "#bd3786"
             ],
             [
              0.5555555555555556,
              "#d8576b"
             ],
             [
              0.6666666666666666,
              "#ed7953"
             ],
             [
              0.7777777777777778,
              "#fb9f3a"
             ],
             [
              0.8888888888888888,
              "#fdca26"
             ],
             [
              1,
              "#f0f921"
             ]
            ],
            "type": "surface"
           }
          ],
          "table": [
           {
            "cells": {
             "fill": {
              "color": "#EBF0F8"
             },
             "line": {
              "color": "white"
             }
            },
            "header": {
             "fill": {
              "color": "#C8D4E3"
             },
             "line": {
              "color": "white"
             }
            },
            "type": "table"
           }
          ]
         },
         "layout": {
          "annotationdefaults": {
           "arrowcolor": "#2a3f5f",
           "arrowhead": 0,
           "arrowwidth": 1
          },
          "autotypenumbers": "strict",
          "coloraxis": {
           "colorbar": {
            "outlinewidth": 0,
            "ticks": ""
           }
          },
          "colorscale": {
           "diverging": [
            [
             0,
             "#8e0152"
            ],
            [
             0.1,
             "#c51b7d"
            ],
            [
             0.2,
             "#de77ae"
            ],
            [
             0.3,
             "#f1b6da"
            ],
            [
             0.4,
             "#fde0ef"
            ],
            [
             0.5,
             "#f7f7f7"
            ],
            [
             0.6,
             "#e6f5d0"
            ],
            [
             0.7,
             "#b8e186"
            ],
            [
             0.8,
             "#7fbc41"
            ],
            [
             0.9,
             "#4d9221"
            ],
            [
             1,
             "#276419"
            ]
           ],
           "sequential": [
            [
             0,
             "#0d0887"
            ],
            [
             0.1111111111111111,
             "#46039f"
            ],
            [
             0.2222222222222222,
             "#7201a8"
            ],
            [
             0.3333333333333333,
             "#9c179e"
            ],
            [
             0.4444444444444444,
             "#bd3786"
            ],
            [
             0.5555555555555556,
             "#d8576b"
            ],
            [
             0.6666666666666666,
             "#ed7953"
            ],
            [
             0.7777777777777778,
             "#fb9f3a"
            ],
            [
             0.8888888888888888,
             "#fdca26"
            ],
            [
             1,
             "#f0f921"
            ]
           ],
           "sequentialminus": [
            [
             0,
             "#0d0887"
            ],
            [
             0.1111111111111111,
             "#46039f"
            ],
            [
             0.2222222222222222,
             "#7201a8"
            ],
            [
             0.3333333333333333,
             "#9c179e"
            ],
            [
             0.4444444444444444,
             "#bd3786"
            ],
            [
             0.5555555555555556,
             "#d8576b"
            ],
            [
             0.6666666666666666,
             "#ed7953"
            ],
            [
             0.7777777777777778,
             "#fb9f3a"
            ],
            [
             0.8888888888888888,
             "#fdca26"
            ],
            [
             1,
             "#f0f921"
            ]
           ]
          },
          "colorway": [
           "#636efa",
           "#EF553B",
           "#00cc96",
           "#ab63fa",
           "#FFA15A",
           "#19d3f3",
           "#FF6692",
           "#B6E880",
           "#FF97FF",
           "#FECB52"
          ],
          "font": {
           "color": "#2a3f5f"
          },
          "geo": {
           "bgcolor": "white",
           "lakecolor": "white",
           "landcolor": "#E5ECF6",
           "showlakes": true,
           "showland": true,
           "subunitcolor": "white"
          },
          "hoverlabel": {
           "align": "left"
          },
          "hovermode": "closest",
          "mapbox": {
           "style": "light"
          },
          "paper_bgcolor": "white",
          "plot_bgcolor": "#E5ECF6",
          "polar": {
           "angularaxis": {
            "gridcolor": "white",
            "linecolor": "white",
            "ticks": ""
           },
           "bgcolor": "#E5ECF6",
           "radialaxis": {
            "gridcolor": "white",
            "linecolor": "white",
            "ticks": ""
           }
          },
          "scene": {
           "xaxis": {
            "backgroundcolor": "#E5ECF6",
            "gridcolor": "white",
            "gridwidth": 2,
            "linecolor": "white",
            "showbackground": true,
            "ticks": "",
            "zerolinecolor": "white"
           },
           "yaxis": {
            "backgroundcolor": "#E5ECF6",
            "gridcolor": "white",
            "gridwidth": 2,
            "linecolor": "white",
            "showbackground": true,
            "ticks": "",
            "zerolinecolor": "white"
           },
           "zaxis": {
            "backgroundcolor": "#E5ECF6",
            "gridcolor": "white",
            "gridwidth": 2,
            "linecolor": "white",
            "showbackground": true,
            "ticks": "",
            "zerolinecolor": "white"
           }
          },
          "shapedefaults": {
           "line": {
            "color": "#2a3f5f"
           }
          },
          "ternary": {
           "aaxis": {
            "gridcolor": "white",
            "linecolor": "white",
            "ticks": ""
           },
           "baxis": {
            "gridcolor": "white",
            "linecolor": "white",
            "ticks": ""
           },
           "bgcolor": "#E5ECF6",
           "caxis": {
            "gridcolor": "white",
            "linecolor": "white",
            "ticks": ""
           }
          },
          "title": {
           "x": 0.05
          },
          "xaxis": {
           "automargin": true,
           "gridcolor": "white",
           "linecolor": "white",
           "ticks": "",
           "title": {
            "standoff": 15
           },
           "zerolinecolor": "white",
           "zerolinewidth": 2
          },
          "yaxis": {
           "automargin": true,
           "gridcolor": "white",
           "linecolor": "white",
           "ticks": "",
           "title": {
            "standoff": 15
           },
           "zerolinecolor": "white",
           "zerolinewidth": 2
          }
         }
        },
        "title": {
         "text": "Primary School: Average Sessions per Child"
        },
        "xaxis": {
         "anchor": "y",
         "autorange": true,
         "domain": [
          0,
          1
         ],
         "range": [
          -0.5,
          16.5
         ],
         "title": {
          "text": "School"
         },
         "type": "category"
        },
        "yaxis": {
         "anchor": "x",
         "autorange": true,
         "domain": [
          0,
          1
         ],
         "range": [
          0,
          41.35823429541596
         ],
         "title": {
          "text": "Total Sessions"
         },
         "type": "linear"
        }
       }
      },
      "image/png": "[encoded data removed]",
      "text/html": [
       "<div>                            <div id=\"666d4195-c8ef-4ea8-895f-58386eef9a49\" class=\"plotly-graph-div\" style=\"height:525px; width:100%;\"></div>            <script type=\"text/javascript\">                require([\"plotly\"], function(Plotly) {                    window.PLOTLYENV=window.PLOTLYENV || {};                                    if (document.getElementById(\"666d4195-c8ef-4ea8-895f-58386eef9a49\")) {                    Plotly.newPlot(                        \"666d4195-c8ef-4ea8-895f-58386eef9a49\",                        [{\"alignmentgroup\":\"True\",\"hovertemplate\":\"School=%{x}\\u003cbr\\u003eTotal Sessions=%{y}\\u003cextra\\u003e\\u003c\\u002fextra\\u003e\",\"legendgroup\":\"\",\"marker\":{\"color\":\"#636efa\",\"pattern\":{\"shape\":\"\"}},\"name\":\"\",\"offsetgroup\":\"\",\"orientation\":\"v\",\"showlegend\":false,\"textposition\":\"auto\",\"x\":[\"St Augustines\",\"Seyisi\",\"Fumisukoma\",\"Isaac Booi\",\"Ben Sinuka\",\"Aaron Gqadu\",\"Charles Duna\",\"Ebongweni\",\"Sandwater\",\"Molefe\",\"Empumalanga\",\"Zukisa\",\"Khanyisa\",\"Clarkson\",\"Phakamile\",\"Mzingisi\",\"Astra\"],\"xaxis\":\"x\",\"y\":[39.29032258064516,31.38053097345133,29.325,28.955882352941178,26.953488372093023,24.818181818181817,24.51578947368421,22.914893617021278,22.520833333333332,19.71794871794872,18.142857142857142,16.03125,15.625,10.83969465648855,9.25,7.888888888888889,7.518518518518518],\"yaxis\":\"y\",\"type\":\"bar\"}],                        {\"template\":{\"data\":{\"histogram2dcontour\":[{\"type\":\"histogram2dcontour\",\"colorbar\":{\"outlinewidth\":0,\"ticks\":\"\"},\"colorscale\":[[0.0,\"#0d0887\"],[0.1111111111111111,\"#46039f\"],[0.2222222222222222,\"#7201a8\"],[0.3333333333333333,\"#9c179e\"],[0.4444444444444444,\"#bd3786\"],[0.5555555555555556,\"#d8576b\"],[0.6666666666666666,\"#ed7953\"],[0.7777777777777778,\"#fb9f3a\"],[0.8888888888888888,\"#fdca26\"],[1.0,\"#f0f921\"]]}],\"choropleth\":[{\"type\":\"choropleth\",\"colorbar\":{\"outlinewidth\":0,\"ticks\":\"\"}}],\"histogram2d\":[{\"type\":\"histogram2d\",\"colorbar\":{\"outlinewidth\":0,\"ticks\":\"\"},\"colorscale\":[[0.0,\"#0d0887\"],[0.1111111111111111,\"#46039f\"],[0.2222222222222222,\"#7201a8\"],[0.3333333333333333,\"#9c179e\"],[0.4444444444444444,\"#bd3786\"],[0.5555555555555556,\"#d8576b\"],[0.6666666666666666,\"#ed7953\"],[0.7777777777777778,\"#fb9f3a\"],[0.8888888888888888,\"#fdca26\"],[1.0,\"#f0f921\"]]}],\"heatmap\":[{\"type\":\"heatmap\",\"colorbar\":{\"outlinewidth\":0,\"ticks\":\"\"},\"colorscale\":[[0.0,\"#0d0887\"],[0.1111111111111111,\"#46039f\"],[0.2222222222222222,\"#7201a8\"],[0.3333333333333333,\"#9c179e\"],[0.4444444444444444,\"#bd3786\"],[0.5555555555555556,\"#d8576b\"],[0.6666666666666666,\"#ed7953\"],[0.7777777777777778,\"#fb9f3a\"],[0.8888888888888888,\"#fdca26\"],[1.0,\"#f0f921\"]]}],\"heatmapgl\":[{\"type\":\"heatmapgl\",\"colorbar\":{\"outlinewidth\":0,\"ticks\":\"\"},\"colorscale\":[[0.0,\"#0d0887\"],[0.1111111111111111,\"#46039f\"],[0.2222222222222222,\"#7201a8\"],[0.3333333333333333,\"#9c179e\"],[0.4444444444444444,\"#bd3786\"],[0.5555555555555556,\"#d8576b\"],[0.6666666666666666,\"#ed7953\"],[0.7777777777777778,\"#fb9f3a\"],[0.8888888888888888,\"#fdca26\"],[1.0,\"#f0f921\"]]}],\"contourcarpet\":[{\"type\":\"contourcarpet\",\"colorbar\":{\"outlinewidth\":0,\"ticks\":\"\"}}],\"contour\":[{\"type\":\"contour\",\"colorbar\":{\"outlinewidth\":0,\"ticks\":\"\"},\"colorscale\":[[0.0,\"#0d0887\"],[0.1111111111111111,\"#46039f\"],[0.2222222222222222,\"#7201a8\"],[0.3333333333333333,\"#9c179e\"],[0.4444444444444444,\"#bd3786\"],[0.5555555555555556,\"#d8576b\"],[0.6666666666666666,\"#ed7953\"],[0.7777777777777778,\"#fb9f3a\"],[0.8888888888888888,\"#fdca26\"],[1.0,\"#f0f921\"]]}],\"surface\":[{\"type\":\"surface\",\"colorbar\":{\"outlinewidth\":0,\"ticks\":\"\"},\"colorscale\":[[0.0,\"#0d0887\"],[0.1111111111111111,\"#46039f\"],[0.2222222222222222,\"#7201a8\"],[0.3333333333333333,\"#9c179e\"],[0.4444444444444444,\"#bd3786\"],[0.5555555555555556,\"#d8576b\"],[0.6666666666666666,\"#ed7953\"],[0.7777777777777778,\"#fb9f3a\"],[0.8888888888888888,\"#fdca26\"],[1.0,\"#f0f921\"]]}],\"mesh3d\":[{\"type\":\"mesh3d\",\"colorbar\":{\"outlinewidth\":0,\"ticks\":\"\"}}],\"scatter\":[{\"fillpattern\":{\"fillmode\":\"overlay\",\"size\":10,\"solidity\":0.2},\"type\":\"scatter\"}],\"parcoords\":[{\"type\":\"parcoords\",\"line\":{\"colorbar\":{\"outlinewidth\":0,\"ticks\":\"\"}}}],\"scatterpolargl\":[{\"type\":\"scatterpolargl\",\"marker\":{\"colorbar\":{\"outlinewidth\":0,\"ticks\":\"\"}}}],\"bar\":[{\"error_x\":{\"color\":\"#2a3f5f\"},\"error_y\":{\"color\":\"#2a3f5f\"},\"marker\":{\"line\":{\"color\":\"#E5ECF6\",\"width\":0.5},\"pattern\":{\"fillmode\":\"overlay\",\"size\":10,\"solidity\":0.2}},\"type\":\"bar\"}],\"scattergeo\":[{\"type\":\"scattergeo\",\"marker\":{\"colorbar\":{\"outlinewidth\":0,\"ticks\":\"\"}}}],\"scatterpolar\":[{\"type\":\"scatterpolar\",\"marker\":{\"colorbar\":{\"outlinewidth\":0,\"ticks\":\"\"}}}],\"histogram\":[{\"marker\":{\"pattern\":{\"fillmode\":\"overlay\",\"size\":10,\"solidity\":0.2}},\"type\":\"histogram\"}],\"scattergl\":[{\"type\":\"scattergl\",\"marker\":{\"colorbar\":{\"outlinewidth\":0,\"ticks\":\"\"}}}],\"scatter3d\":[{\"type\":\"scatter3d\",\"line\":{\"colorbar\":{\"outlinewidth\":0,\"ticks\":\"\"}},\"marker\":{\"colorbar\":{\"outlinewidth\":0,\"ticks\":\"\"}}}],\"scattermapbox\":[{\"type\":\"scattermapbox\",\"marker\":{\"colorbar\":{\"outlinewidth\":0,\"ticks\":\"\"}}}],\"scatterternary\":[{\"type\":\"scatterternary\",\"marker\":{\"colorbar\":{\"outlinewidth\":0,\"ticks\":\"\"}}}],\"scattercarpet\":[{\"type\":\"scattercarpet\",\"marker\":{\"colorbar\":{\"outlinewidth\":0,\"ticks\":\"\"}}}],\"carpet\":[{\"aaxis\":{\"endlinecolor\":\"#2a3f5f\",\"gridcolor\":\"white\",\"linecolor\":\"white\",\"minorgridcolor\":\"white\",\"startlinecolor\":\"#2a3f5f\"},\"baxis\":{\"endlinecolor\":\"#2a3f5f\",\"gridcolor\":\"white\",\"linecolor\":\"white\",\"minorgridcolor\":\"white\",\"startlinecolor\":\"#2a3f5f\"},\"type\":\"carpet\"}],\"table\":[{\"cells\":{\"fill\":{\"color\":\"#EBF0F8\"},\"line\":{\"color\":\"white\"}},\"header\":{\"fill\":{\"color\":\"#C8D4E3\"},\"line\":{\"color\":\"white\"}},\"type\":\"table\"}],\"barpolar\":[{\"marker\":{\"line\":{\"color\":\"#E5ECF6\",\"width\":0.5},\"pattern\":{\"fillmode\":\"overlay\",\"size\":10,\"solidity\":0.2}},\"type\":\"barpolar\"}],\"pie\":[{\"automargin\":true,\"type\":\"pie\"}]},\"layout\":{\"autotypenumbers\":\"strict\",\"colorway\":[\"#636efa\",\"#EF553B\",\"#00cc96\",\"#ab63fa\",\"#FFA15A\",\"#19d3f3\",\"#FF6692\",\"#B6E880\",\"#FF97FF\",\"#FECB52\"],\"font\":{\"color\":\"#2a3f5f\"},\"hovermode\":\"closest\",\"hoverlabel\":{\"align\":\"left\"},\"paper_bgcolor\":\"white\",\"plot_bgcolor\":\"#E5ECF6\",\"polar\":{\"bgcolor\":\"#E5ECF6\",\"angularaxis\":{\"gridcolor\":\"white\",\"linecolor\":\"white\",\"ticks\":\"\"},\"radialaxis\":{\"gridcolor\":\"white\",\"linecolor\":\"white\",\"ticks\":\"\"}},\"ternary\":{\"bgcolor\":\"#E5ECF6\",\"aaxis\":{\"gridcolor\":\"white\",\"linecolor\":\"white\",\"ticks\":\"\"},\"baxis\":{\"gridcolor\":\"white\",\"linecolor\":\"white\",\"ticks\":\"\"},\"caxis\":{\"gridcolor\":\"white\",\"linecolor\":\"white\",\"ticks\":\"\"}},\"coloraxis\":{\"colorbar\":{\"outlinewidth\":0,\"ticks\":\"\"}},\"colorscale\":{\"sequential\":[[0.0,\"#0d0887\"],[0.1111111111111111,\"#46039f\"],[0.2222222222222222,\"#7201a8\"],[0.3333333333333333,\"#9c179e\"],[0.4444444444444444,\"#bd3786\"],[0.5555555555555556,\"#d8576b\"],[0.6666666666666666,\"#ed7953\"],[0.7777777777777778,\"#fb9f3a\"],[0.8888888888888888,\"#fdca26\"],[1.0,\"#f0f921\"]],\"sequentialminus\":[[0.0,\"#0d0887\"],[0.1111111111111111,\"#46039f\"],[0.2222222222222222,\"#7201a8\"],[0.3333333333333333,\"#9c179e\"],[0.4444444444444444,\"#bd3786\"],[0.5555555555555556,\"#d8576b\"],[0.6666666666666666,\"#ed7953\"],[0.7777777777777778,\"#fb9f3a\"],[0.8888888888888888,\"#fdca26\"],[1.0,\"#f0f921\"]],\"diverging\":[[0,\"#8e0152\"],[0.1,\"#c51b7d\"],[0.2,\"#de77ae\"],[0.3,\"#f1b6da\"],[0.4,\"#fde0ef\"],[0.5,\"#f7f7f7\"],[0.6,\"#e6f5d0\"],[0.7,\"#b8e186\"],[0.8,\"#7fbc41\"],[0.9,\"#4d9221\"],[1,\"#276419\"]]},\"xaxis\":{\"gridcolor\":\"white\",\"linecolor\":\"white\",\"ticks\":\"\",\"title\":{\"standoff\":15},\"zerolinecolor\":\"white\",\"automargin\":true,\"zerolinewidth\":2},\"yaxis\":{\"gridcolor\":\"white\",\"linecolor\":\"white\",\"ticks\":\"\",\"title\":{\"standoff\":15},\"zerolinecolor\":\"white\",\"automargin\":true,\"zerolinewidth\":2},\"scene\":{\"xaxis\":{\"backgroundcolor\":\"#E5ECF6\",\"gridcolor\":\"white\",\"linecolor\":\"white\",\"showbackground\":true,\"ticks\":\"\",\"zerolinecolor\":\"white\",\"gridwidth\":2},\"yaxis\":{\"backgroundcolor\":\"#E5ECF6\",\"gridcolor\":\"white\",\"linecolor\":\"white\",\"showbackground\":true,\"ticks\":\"\",\"zerolinecolor\":\"white\",\"gridwidth\":2},\"zaxis\":{\"backgroundcolor\":\"#E5ECF6\",\"gridcolor\":\"white\",\"linecolor\":\"white\",\"showbackground\":true,\"ticks\":\"\",\"zerolinecolor\":\"white\",\"gridwidth\":2}},\"shapedefaults\":{\"line\":{\"color\":\"#2a3f5f\"}},\"annotationdefaults\":{\"arrowcolor\":\"#2a3f5f\",\"arrowhead\":0,\"arrowwidth\":1},\"geo\":{\"bgcolor\":\"white\",\"landcolor\":\"#E5ECF6\",\"subunitcolor\":\"white\",\"showland\":true,\"showlakes\":true,\"lakecolor\":\"white\"},\"title\":{\"x\":0.05},\"mapbox\":{\"style\":\"light\"}}},\"xaxis\":{\"anchor\":\"y\",\"domain\":[0.0,1.0],\"title\":{\"text\":\"School\"}},\"yaxis\":{\"anchor\":\"x\",\"domain\":[0.0,1.0],\"title\":{\"text\":\"Total Sessions\"}},\"legend\":{\"tracegroupgap\":0},\"title\":{\"text\":\"Primary School: Average Sessions per Child\"},\"barmode\":\"relative\"},                        {\"responsive\": true}                    ).then(function(){\n",
       "                            \n",
       "var gd = document.getElementById('666d4195-c8ef-4ea8-895f-58386eef9a49');\n",
       "var x = new MutationObserver(function (mutations, observer) {{\n",
       "        var display = window.getComputedStyle(gd).display;\n",
       "        if (!display || display === 'none') {{\n",
       "            console.log([gd, 'removed!']);\n",
       "            Plotly.purge(gd);\n",
       "            observer.disconnect();\n",
       "        }}\n",
       "}});\n",
       "\n",
       "// Listen for the removal of the full notebook cells\n",
       "var notebookContainer = gd.closest('#notebook-container');\n",
       "if (notebookContainer) {{\n",
       "    x.observe(notebookContainer, {childList: true});\n",
       "}}\n",
       "\n",
       "// Listen for the clearing of the current output cell\n",
       "var outputEl = gd.closest('.output');\n",
       "if (outputEl) {{\n",
       "    x.observe(outputEl, {childList: true});\n",
       "}}\n",
       "\n",
       "                        })                };                });            </script>        </div>"
      ]
     },
     "metadata": {},
     "output_type": "display_data"
    }
   ],
   "source": [
    "# Group by 'School' and calculate the percentage\n",
    "def sessions_per_child_primary():\n",
    "    filtered_children = children[(children['On The Programme'] == 'Yes') & (children['Grade'] != \"PreR\")]\n",
    "    grouped = filtered_children.groupby('School')['Total Sessions'].mean().sort_values(ascending=False).reset_index()\n",
    "\n",
    "    # Plot the sorted data using Plotly\n",
    "    fig = px.bar(grouped,\n",
    "                 y='Total Sessions',\n",
    "                 x='School',\n",
    "                 title='Primary School: Average Sessions per Child',\n",
    "                 template='plotly')\n",
    "\n",
    "    return fig.show()"
   ]
  },
  {
   "cell_type": "code",
   "execution_count": 52,
   "id": "0cc51971-cd02-44fb-b57d-2f1af238e8e0",
   "metadata": {
    "tags": []
   },
   "outputs": [
    {
     "data": {
      "application/vnd.plotly.v1+json": {
       "config": {
        "plotlyServerURL": "https://plot.ly"
       },
       "data": [
        {
         "alignmentgroup": "True",
         "hovertemplate": "School=%{x}<br>Total Sessions=%{y}<extra></extra>",
         "legendgroup": "",
         "marker": {
          "color": "#636efa",
          "pattern": {
           "shape": ""
          }
         },
         "name": "",
         "offsetgroup": "",
         "orientation": "v",
         "showlegend": false,
         "textposition": "auto",
         "type": "bar",
         "x": [
          "Kokkewiet",
          "Living Ubuntu",
          "Sisonke",
          "Dorothy",
          "Zizamele",
          "Bright Angels",
          "Green Apple",
          "Qaqawuli Godolozi",
          "Paulos Oyigcwele",
          "Noluthando",
          "Lithemba",
          "Sinethemba",
          "Charles Duna",
          "Nobandla",
          "Jesus Dominion",
          "Nonkqubela",
          "Aaron Gqadu",
          "Jongilanga",
          "Sifunimfundo",
          "Seyisi",
          "Vukani Daycare",
          "Bambino"
         ],
         "xaxis": "x",
         "y": [
          90.42857142857143,
          71.54545454545455,
          68.61904761904762,
          64.43478260869566,
          60.21739130434783,
          59.72222222222222,
          54.81818181818182,
          54.75,
          54.458333333333336,
          51.208333333333336,
          50.611111111111114,
          49.30434782608695,
          46.869565217391305,
          46.47826086956522,
          45.91304347826087,
          45.05555555555556,
          43,
          40.75,
          36.56521739130435,
          33.708333333333336,
          8.666666666666666,
          7.647058823529412
         ],
         "yaxis": "y"
        }
       ],
       "layout": {
        "autosize": true,
        "barmode": "relative",
        "legend": {
         "tracegroupgap": 0
        },
        "template": {
         "data": {
          "bar": [
           {
            "error_x": {
             "color": "#2a3f5f"
            },
            "error_y": {
             "color": "#2a3f5f"
            },
            "marker": {
             "line": {
              "color": "#E5ECF6",
              "width": 0.5
             },
             "pattern": {
              "fillmode": "overlay",
              "size": 10,
              "solidity": 0.2
             }
            },
            "type": "bar"
           }
          ],
          "barpolar": [
           {
            "marker": {
             "line": {
              "color": "#E5ECF6",
              "width": 0.5
             },
             "pattern": {
              "fillmode": "overlay",
              "size": 10,
              "solidity": 0.2
             }
            },
            "type": "barpolar"
           }
          ],
          "carpet": [
           {
            "aaxis": {
             "endlinecolor": "#2a3f5f",
             "gridcolor": "white",
             "linecolor": "white",
             "minorgridcolor": "white",
             "startlinecolor": "#2a3f5f"
            },
            "baxis": {
             "endlinecolor": "#2a3f5f",
             "gridcolor": "white",
             "linecolor": "white",
             "minorgridcolor": "white",
             "startlinecolor": "#2a3f5f"
            },
            "type": "carpet"
           }
          ],
          "choropleth": [
           {
            "colorbar": {
             "outlinewidth": 0,
             "ticks": ""
            },
            "type": "choropleth"
           }
          ],
          "contour": [
           {
            "colorbar": {
             "outlinewidth": 0,
             "ticks": ""
            },
            "colorscale": [
             [
              0,
              "#0d0887"
             ],
             [
              0.1111111111111111,
              "#46039f"
             ],
             [
              0.2222222222222222,
              "#7201a8"
             ],
             [
              0.3333333333333333,
              "#9c179e"
             ],
             [
              0.4444444444444444,
              "#bd3786"
             ],
             [
              0.5555555555555556,
              "#d8576b"
             ],
             [
              0.6666666666666666,
              "#ed7953"
             ],
             [
              0.7777777777777778,
              "#fb9f3a"
             ],
             [
              0.8888888888888888,
              "#fdca26"
             ],
             [
              1,
              "#f0f921"
             ]
            ],
            "type": "contour"
           }
          ],
          "contourcarpet": [
           {
            "colorbar": {
             "outlinewidth": 0,
             "ticks": ""
            },
            "type": "contourcarpet"
           }
          ],
          "heatmap": [
           {
            "colorbar": {
             "outlinewidth": 0,
             "ticks": ""
            },
            "colorscale": [
             [
              0,
              "#0d0887"
             ],
             [
              0.1111111111111111,
              "#46039f"
             ],
             [
              0.2222222222222222,
              "#7201a8"
             ],
             [
              0.3333333333333333,
              "#9c179e"
             ],
             [
              0.4444444444444444,
              "#bd3786"
             ],
             [
              0.5555555555555556,
              "#d8576b"
             ],
             [
              0.6666666666666666,
              "#ed7953"
             ],
             [
              0.7777777777777778,
              "#fb9f3a"
             ],
             [
              0.8888888888888888,
              "#fdca26"
             ],
             [
              1,
              "#f0f921"
             ]
            ],
            "type": "heatmap"
           }
          ],
          "heatmapgl": [
           {
            "colorbar": {
             "outlinewidth": 0,
             "ticks": ""
            },
            "colorscale": [
             [
              0,
              "#0d0887"
             ],
             [
              0.1111111111111111,
              "#46039f"
             ],
             [
              0.2222222222222222,
              "#7201a8"
             ],
             [
              0.3333333333333333,
              "#9c179e"
             ],
             [
              0.4444444444444444,
              "#bd3786"
             ],
             [
              0.5555555555555556,
              "#d8576b"
             ],
             [
              0.6666666666666666,
              "#ed7953"
             ],
             [
              0.7777777777777778,
              "#fb9f3a"
             ],
             [
              0.8888888888888888,
              "#fdca26"
             ],
             [
              1,
              "#f0f921"
             ]
            ],
            "type": "heatmapgl"
           }
          ],
          "histogram": [
           {
            "marker": {
             "pattern": {
              "fillmode": "overlay",
              "size": 10,
              "solidity": 0.2
             }
            },
            "type": "histogram"
           }
          ],
          "histogram2d": [
           {
            "colorbar": {
             "outlinewidth": 0,
             "ticks": ""
            },
            "colorscale": [
             [
              0,
              "#0d0887"
             ],
             [
              0.1111111111111111,
              "#46039f"
             ],
             [
              0.2222222222222222,
              "#7201a8"
             ],
             [
              0.3333333333333333,
              "#9c179e"
             ],
             [
              0.4444444444444444,
              "#bd3786"
             ],
             [
              0.5555555555555556,
              "#d8576b"
             ],
             [
              0.6666666666666666,
              "#ed7953"
             ],
             [
              0.7777777777777778,
              "#fb9f3a"
             ],
             [
              0.8888888888888888,
              "#fdca26"
             ],
             [
              1,
              "#f0f921"
             ]
            ],
            "type": "histogram2d"
           }
          ],
          "histogram2dcontour": [
           {
            "colorbar": {
             "outlinewidth": 0,
             "ticks": ""
            },
            "colorscale": [
             [
              0,
              "#0d0887"
             ],
             [
              0.1111111111111111,
              "#46039f"
             ],
             [
              0.2222222222222222,
              "#7201a8"
             ],
             [
              0.3333333333333333,
              "#9c179e"
             ],
             [
              0.4444444444444444,
              "#bd3786"
             ],
             [
              0.5555555555555556,
              "#d8576b"
             ],
             [
              0.6666666666666666,
              "#ed7953"
             ],
             [
              0.7777777777777778,
              "#fb9f3a"
             ],
             [
              0.8888888888888888,
              "#fdca26"
             ],
             [
              1,
              "#f0f921"
             ]
            ],
            "type": "histogram2dcontour"
           }
          ],
          "mesh3d": [
           {
            "colorbar": {
             "outlinewidth": 0,
             "ticks": ""
            },
            "type": "mesh3d"
           }
          ],
          "parcoords": [
           {
            "line": {
             "colorbar": {
              "outlinewidth": 0,
              "ticks": ""
             }
            },
            "type": "parcoords"
           }
          ],
          "pie": [
           {
            "automargin": true,
            "type": "pie"
           }
          ],
          "scatter": [
           {
            "fillpattern": {
             "fillmode": "overlay",
             "size": 10,
             "solidity": 0.2
            },
            "type": "scatter"
           }
          ],
          "scatter3d": [
           {
            "line": {
             "colorbar": {
              "outlinewidth": 0,
              "ticks": ""
             }
            },
            "marker": {
             "colorbar": {
              "outlinewidth": 0,
              "ticks": ""
             }
            },
            "type": "scatter3d"
           }
          ],
          "scattercarpet": [
           {
            "marker": {
             "colorbar": {
              "outlinewidth": 0,
              "ticks": ""
             }
            },
            "type": "scattercarpet"
           }
          ],
          "scattergeo": [
           {
            "marker": {
             "colorbar": {
              "outlinewidth": 0,
              "ticks": ""
             }
            },
            "type": "scattergeo"
           }
          ],
          "scattergl": [
           {
            "marker": {
             "colorbar": {
              "outlinewidth": 0,
              "ticks": ""
             }
            },
            "type": "scattergl"
           }
          ],
          "scattermapbox": [
           {
            "marker": {
             "colorbar": {
              "outlinewidth": 0,
              "ticks": ""
             }
            },
            "type": "scattermapbox"
           }
          ],
          "scatterpolar": [
           {
            "marker": {
             "colorbar": {
              "outlinewidth": 0,
              "ticks": ""
             }
            },
            "type": "scatterpolar"
           }
          ],
          "scatterpolargl": [
           {
            "marker": {
             "colorbar": {
              "outlinewidth": 0,
              "ticks": ""
             }
            },
            "type": "scatterpolargl"
           }
          ],
          "scatterternary": [
           {
            "marker": {
             "colorbar": {
              "outlinewidth": 0,
              "ticks": ""
             }
            },
            "type": "scatterternary"
           }
          ],
          "surface": [
           {
            "colorbar": {
             "outlinewidth": 0,
             "ticks": ""
            },
            "colorscale": [
             [
              0,
              "#0d0887"
             ],
             [
              0.1111111111111111,
              "#46039f"
             ],
             [
              0.2222222222222222,
              "#7201a8"
             ],
             [
              0.3333333333333333,
              "#9c179e"
             ],
             [
              0.4444444444444444,
              "#bd3786"
             ],
             [
              0.5555555555555556,
              "#d8576b"
             ],
             [
              0.6666666666666666,
              "#ed7953"
             ],
             [
              0.7777777777777778,
              "#fb9f3a"
             ],
             [
              0.8888888888888888,
              "#fdca26"
             ],
             [
              1,
              "#f0f921"
             ]
            ],
            "type": "surface"
           }
          ],
          "table": [
           {
            "cells": {
             "fill": {
              "color": "#EBF0F8"
             },
             "line": {
              "color": "white"
             }
            },
            "header": {
             "fill": {
              "color": "#C8D4E3"
             },
             "line": {
              "color": "white"
             }
            },
            "type": "table"
           }
          ]
         },
         "layout": {
          "annotationdefaults": {
           "arrowcolor": "#2a3f5f",
           "arrowhead": 0,
           "arrowwidth": 1
          },
          "autotypenumbers": "strict",
          "coloraxis": {
           "colorbar": {
            "outlinewidth": 0,
            "ticks": ""
           }
          },
          "colorscale": {
           "diverging": [
            [
             0,
             "#8e0152"
            ],
            [
             0.1,
             "#c51b7d"
            ],
            [
             0.2,
             "#de77ae"
            ],
            [
             0.3,
             "#f1b6da"
            ],
            [
             0.4,
             "#fde0ef"
            ],
            [
             0.5,
             "#f7f7f7"
            ],
            [
             0.6,
             "#e6f5d0"
            ],
            [
             0.7,
             "#b8e186"
            ],
            [
             0.8,
             "#7fbc41"
            ],
            [
             0.9,
             "#4d9221"
            ],
            [
             1,
             "#276419"
            ]
           ],
           "sequential": [
            [
             0,
             "#0d0887"
            ],
            [
             0.1111111111111111,
             "#46039f"
            ],
            [
             0.2222222222222222,
             "#7201a8"
            ],
            [
             0.3333333333333333,
             "#9c179e"
            ],
            [
             0.4444444444444444,
             "#bd3786"
            ],
            [
             0.5555555555555556,
             "#d8576b"
            ],
            [
             0.6666666666666666,
             "#ed7953"
            ],
            [
             0.7777777777777778,
             "#fb9f3a"
            ],
            [
             0.8888888888888888,
             "#fdca26"
            ],
            [
             1,
             "#f0f921"
            ]
           ],
           "sequentialminus": [
            [
             0,
             "#0d0887"
            ],
            [
             0.1111111111111111,
             "#46039f"
            ],
            [
             0.2222222222222222,
             "#7201a8"
            ],
            [
             0.3333333333333333,
             "#9c179e"
            ],
            [
             0.4444444444444444,
             "#bd3786"
            ],
            [
             0.5555555555555556,
             "#d8576b"
            ],
            [
             0.6666666666666666,
             "#ed7953"
            ],
            [
             0.7777777777777778,
             "#fb9f3a"
            ],
            [
             0.8888888888888888,
             "#fdca26"
            ],
            [
             1,
             "#f0f921"
            ]
           ]
          },
          "colorway": [
           "#636efa",
           "#EF553B",
           "#00cc96",
           "#ab63fa",
           "#FFA15A",
           "#19d3f3",
           "#FF6692",
           "#B6E880",
           "#FF97FF",
           "#FECB52"
          ],
          "font": {
           "color": "#2a3f5f"
          },
          "geo": {
           "bgcolor": "white",
           "lakecolor": "white",
           "landcolor": "#E5ECF6",
           "showlakes": true,
           "showland": true,
           "subunitcolor": "white"
          },
          "hoverlabel": {
           "align": "left"
          },
          "hovermode": "closest",
          "mapbox": {
           "style": "light"
          },
          "paper_bgcolor": "white",
          "plot_bgcolor": "#E5ECF6",
          "polar": {
           "angularaxis": {
            "gridcolor": "white",
            "linecolor": "white",
            "ticks": ""
           },
           "bgcolor": "#E5ECF6",
           "radialaxis": {
            "gridcolor": "white",
            "linecolor": "white",
            "ticks": ""
           }
          },
          "scene": {
           "xaxis": {
            "backgroundcolor": "#E5ECF6",
            "gridcolor": "white",
            "gridwidth": 2,
            "linecolor": "white",
            "showbackground": true,
            "ticks": "",
            "zerolinecolor": "white"
           },
           "yaxis": {
            "backgroundcolor": "#E5ECF6",
            "gridcolor": "white",
            "gridwidth": 2,
            "linecolor": "white",
            "showbackground": true,
            "ticks": "",
            "zerolinecolor": "white"
           },
           "zaxis": {
            "backgroundcolor": "#E5ECF6",
            "gridcolor": "white",
            "gridwidth": 2,
            "linecolor": "white",
            "showbackground": true,
            "ticks": "",
            "zerolinecolor": "white"
           }
          },
          "shapedefaults": {
           "line": {
            "color": "#2a3f5f"
           }
          },
          "ternary": {
           "aaxis": {
            "gridcolor": "white",
            "linecolor": "white",
            "ticks": ""
           },
           "baxis": {
            "gridcolor": "white",
            "linecolor": "white",
            "ticks": ""
           },
           "bgcolor": "#E5ECF6",
           "caxis": {
            "gridcolor": "white",
            "linecolor": "white",
            "ticks": ""
           }
          },
          "title": {
           "x": 0.05
          },
          "xaxis": {
           "automargin": true,
           "gridcolor": "white",
           "linecolor": "white",
           "ticks": "",
           "title": {
            "standoff": 15
           },
           "zerolinecolor": "white",
           "zerolinewidth": 2
          },
          "yaxis": {
           "automargin": true,
           "gridcolor": "white",
           "linecolor": "white",
           "ticks": "",
           "title": {
            "standoff": 15
           },
           "zerolinecolor": "white",
           "zerolinewidth": 2
          }
         }
        },
        "title": {
         "text": "ECDCs: Average Sessions per Child"
        },
        "xaxis": {
         "anchor": "y",
         "autorange": true,
         "domain": [
          0,
          1
         ],
         "range": [
          -0.5,
          21.5
         ],
         "title": {
          "text": "School"
         },
         "type": "category"
        },
        "yaxis": {
         "anchor": "x",
         "autorange": true,
         "domain": [
          0,
          1
         ],
         "range": [
          0,
          95.18796992481204
         ],
         "title": {
          "text": "Total Sessions"
         },
         "type": "linear"
        }
       }
      },
      "image/png": "[encoded data removed]",
      "text/html": [
       "<div>                            <div id=\"e2fbec30-8020-4442-a9c5-d9d4017fbdb6\" class=\"plotly-graph-div\" style=\"height:525px; width:100%;\"></div>            <script type=\"text/javascript\">                require([\"plotly\"], function(Plotly) {                    window.PLOTLYENV=window.PLOTLYENV || {};                                    if (document.getElementById(\"e2fbec30-8020-4442-a9c5-d9d4017fbdb6\")) {                    Plotly.newPlot(                        \"e2fbec30-8020-4442-a9c5-d9d4017fbdb6\",                        [{\"alignmentgroup\":\"True\",\"hovertemplate\":\"School=%{x}\\u003cbr\\u003eTotal Sessions=%{y}\\u003cextra\\u003e\\u003c\\u002fextra\\u003e\",\"legendgroup\":\"\",\"marker\":{\"color\":\"#636efa\",\"pattern\":{\"shape\":\"\"}},\"name\":\"\",\"offsetgroup\":\"\",\"orientation\":\"v\",\"showlegend\":false,\"textposition\":\"auto\",\"x\":[\"Kokkewiet\",\"Living Ubuntu\",\"Sisonke\",\"Dorothy\",\"Zizamele\",\"Bright Angels\",\"Green Apple\",\"Qaqawuli Godolozi\",\"Paulos Oyigcwele\",\"Noluthando\",\"Lithemba\",\"Sinethemba\",\"Charles Duna\",\"Nobandla\",\"Jesus Dominion\",\"Nonkqubela\",\"Aaron Gqadu\",\"Jongilanga\",\"Sifunimfundo\",\"Seyisi\",\"Vukani Daycare\",\"Bambino\"],\"xaxis\":\"x\",\"y\":[90.42857142857143,71.54545454545455,68.61904761904762,64.43478260869566,60.21739130434783,59.72222222222222,54.81818181818182,54.75,54.458333333333336,51.208333333333336,50.611111111111114,49.30434782608695,46.869565217391305,46.47826086956522,45.91304347826087,45.05555555555556,43.0,40.75,36.56521739130435,33.708333333333336,8.666666666666666,7.647058823529412],\"yaxis\":\"y\",\"type\":\"bar\"}],                        {\"template\":{\"data\":{\"histogram2dcontour\":[{\"type\":\"histogram2dcontour\",\"colorbar\":{\"outlinewidth\":0,\"ticks\":\"\"},\"colorscale\":[[0.0,\"#0d0887\"],[0.1111111111111111,\"#46039f\"],[0.2222222222222222,\"#7201a8\"],[0.3333333333333333,\"#9c179e\"],[0.4444444444444444,\"#bd3786\"],[0.5555555555555556,\"#d8576b\"],[0.6666666666666666,\"#ed7953\"],[0.7777777777777778,\"#fb9f3a\"],[0.8888888888888888,\"#fdca26\"],[1.0,\"#f0f921\"]]}],\"choropleth\":[{\"type\":\"choropleth\",\"colorbar\":{\"outlinewidth\":0,\"ticks\":\"\"}}],\"histogram2d\":[{\"type\":\"histogram2d\",\"colorbar\":{\"outlinewidth\":0,\"ticks\":\"\"},\"colorscale\":[[0.0,\"#0d0887\"],[0.1111111111111111,\"#46039f\"],[0.2222222222222222,\"#7201a8\"],[0.3333333333333333,\"#9c179e\"],[0.4444444444444444,\"#bd3786\"],[0.5555555555555556,\"#d8576b\"],[0.6666666666666666,\"#ed7953\"],[0.7777777777777778,\"#fb9f3a\"],[0.8888888888888888,\"#fdca26\"],[1.0,\"#f0f921\"]]}],\"heatmap\":[{\"type\":\"heatmap\",\"colorbar\":{\"outlinewidth\":0,\"ticks\":\"\"},\"colorscale\":[[0.0,\"#0d0887\"],[0.1111111111111111,\"#46039f\"],[0.2222222222222222,\"#7201a8\"],[0.3333333333333333,\"#9c179e\"],[0.4444444444444444,\"#bd3786\"],[0.5555555555555556,\"#d8576b\"],[0.6666666666666666,\"#ed7953\"],[0.7777777777777778,\"#fb9f3a\"],[0.8888888888888888,\"#fdca26\"],[1.0,\"#f0f921\"]]}],\"heatmapgl\":[{\"type\":\"heatmapgl\",\"colorbar\":{\"outlinewidth\":0,\"ticks\":\"\"},\"colorscale\":[[0.0,\"#0d0887\"],[0.1111111111111111,\"#46039f\"],[0.2222222222222222,\"#7201a8\"],[0.3333333333333333,\"#9c179e\"],[0.4444444444444444,\"#bd3786\"],[0.5555555555555556,\"#d8576b\"],[0.6666666666666666,\"#ed7953\"],[0.7777777777777778,\"#fb9f3a\"],[0.8888888888888888,\"#fdca26\"],[1.0,\"#f0f921\"]]}],\"contourcarpet\":[{\"type\":\"contourcarpet\",\"colorbar\":{\"outlinewidth\":0,\"ticks\":\"\"}}],\"contour\":[{\"type\":\"contour\",\"colorbar\":{\"outlinewidth\":0,\"ticks\":\"\"},\"colorscale\":[[0.0,\"#0d0887\"],[0.1111111111111111,\"#46039f\"],[0.2222222222222222,\"#7201a8\"],[0.3333333333333333,\"#9c179e\"],[0.4444444444444444,\"#bd3786\"],[0.5555555555555556,\"#d8576b\"],[0.6666666666666666,\"#ed7953\"],[0.7777777777777778,\"#fb9f3a\"],[0.8888888888888888,\"#fdca26\"],[1.0,\"#f0f921\"]]}],\"surface\":[{\"type\":\"surface\",\"colorbar\":{\"outlinewidth\":0,\"ticks\":\"\"},\"colorscale\":[[0.0,\"#0d0887\"],[0.1111111111111111,\"#46039f\"],[0.2222222222222222,\"#7201a8\"],[0.3333333333333333,\"#9c179e\"],[0.4444444444444444,\"#bd3786\"],[0.5555555555555556,\"#d8576b\"],[0.6666666666666666,\"#ed7953\"],[0.7777777777777778,\"#fb9f3a\"],[0.8888888888888888,\"#fdca26\"],[1.0,\"#f0f921\"]]}],\"mesh3d\":[{\"type\":\"mesh3d\",\"colorbar\":{\"outlinewidth\":0,\"ticks\":\"\"}}],\"scatter\":[{\"fillpattern\":{\"fillmode\":\"overlay\",\"size\":10,\"solidity\":0.2},\"type\":\"scatter\"}],\"parcoords\":[{\"type\":\"parcoords\",\"line\":{\"colorbar\":{\"outlinewidth\":0,\"ticks\":\"\"}}}],\"scatterpolargl\":[{\"type\":\"scatterpolargl\",\"marker\":{\"colorbar\":{\"outlinewidth\":0,\"ticks\":\"\"}}}],\"bar\":[{\"error_x\":{\"color\":\"#2a3f5f\"},\"error_y\":{\"color\":\"#2a3f5f\"},\"marker\":{\"line\":{\"color\":\"#E5ECF6\",\"width\":0.5},\"pattern\":{\"fillmode\":\"overlay\",\"size\":10,\"solidity\":0.2}},\"type\":\"bar\"}],\"scattergeo\":[{\"type\":\"scattergeo\",\"marker\":{\"colorbar\":{\"outlinewidth\":0,\"ticks\":\"\"}}}],\"scatterpolar\":[{\"type\":\"scatterpolar\",\"marker\":{\"colorbar\":{\"outlinewidth\":0,\"ticks\":\"\"}}}],\"histogram\":[{\"marker\":{\"pattern\":{\"fillmode\":\"overlay\",\"size\":10,\"solidity\":0.2}},\"type\":\"histogram\"}],\"scattergl\":[{\"type\":\"scattergl\",\"marker\":{\"colorbar\":{\"outlinewidth\":0,\"ticks\":\"\"}}}],\"scatter3d\":[{\"type\":\"scatter3d\",\"line\":{\"colorbar\":{\"outlinewidth\":0,\"ticks\":\"\"}},\"marker\":{\"colorbar\":{\"outlinewidth\":0,\"ticks\":\"\"}}}],\"scattermapbox\":[{\"type\":\"scattermapbox\",\"marker\":{\"colorbar\":{\"outlinewidth\":0,\"ticks\":\"\"}}}],\"scatterternary\":[{\"type\":\"scatterternary\",\"marker\":{\"colorbar\":{\"outlinewidth\":0,\"ticks\":\"\"}}}],\"scattercarpet\":[{\"type\":\"scattercarpet\",\"marker\":{\"colorbar\":{\"outlinewidth\":0,\"ticks\":\"\"}}}],\"carpet\":[{\"aaxis\":{\"endlinecolor\":\"#2a3f5f\",\"gridcolor\":\"white\",\"linecolor\":\"white\",\"minorgridcolor\":\"white\",\"startlinecolor\":\"#2a3f5f\"},\"baxis\":{\"endlinecolor\":\"#2a3f5f\",\"gridcolor\":\"white\",\"linecolor\":\"white\",\"minorgridcolor\":\"white\",\"startlinecolor\":\"#2a3f5f\"},\"type\":\"carpet\"}],\"table\":[{\"cells\":{\"fill\":{\"color\":\"#EBF0F8\"},\"line\":{\"color\":\"white\"}},\"header\":{\"fill\":{\"color\":\"#C8D4E3\"},\"line\":{\"color\":\"white\"}},\"type\":\"table\"}],\"barpolar\":[{\"marker\":{\"line\":{\"color\":\"#E5ECF6\",\"width\":0.5},\"pattern\":{\"fillmode\":\"overlay\",\"size\":10,\"solidity\":0.2}},\"type\":\"barpolar\"}],\"pie\":[{\"automargin\":true,\"type\":\"pie\"}]},\"layout\":{\"autotypenumbers\":\"strict\",\"colorway\":[\"#636efa\",\"#EF553B\",\"#00cc96\",\"#ab63fa\",\"#FFA15A\",\"#19d3f3\",\"#FF6692\",\"#B6E880\",\"#FF97FF\",\"#FECB52\"],\"font\":{\"color\":\"#2a3f5f\"},\"hovermode\":\"closest\",\"hoverlabel\":{\"align\":\"left\"},\"paper_bgcolor\":\"white\",\"plot_bgcolor\":\"#E5ECF6\",\"polar\":{\"bgcolor\":\"#E5ECF6\",\"angularaxis\":{\"gridcolor\":\"white\",\"linecolor\":\"white\",\"ticks\":\"\"},\"radialaxis\":{\"gridcolor\":\"white\",\"linecolor\":\"white\",\"ticks\":\"\"}},\"ternary\":{\"bgcolor\":\"#E5ECF6\",\"aaxis\":{\"gridcolor\":\"white\",\"linecolor\":\"white\",\"ticks\":\"\"},\"baxis\":{\"gridcolor\":\"white\",\"linecolor\":\"white\",\"ticks\":\"\"},\"caxis\":{\"gridcolor\":\"white\",\"linecolor\":\"white\",\"ticks\":\"\"}},\"coloraxis\":{\"colorbar\":{\"outlinewidth\":0,\"ticks\":\"\"}},\"colorscale\":{\"sequential\":[[0.0,\"#0d0887\"],[0.1111111111111111,\"#46039f\"],[0.2222222222222222,\"#7201a8\"],[0.3333333333333333,\"#9c179e\"],[0.4444444444444444,\"#bd3786\"],[0.5555555555555556,\"#d8576b\"],[0.6666666666666666,\"#ed7953\"],[0.7777777777777778,\"#fb9f3a\"],[0.8888888888888888,\"#fdca26\"],[1.0,\"#f0f921\"]],\"sequentialminus\":[[0.0,\"#0d0887\"],[0.1111111111111111,\"#46039f\"],[0.2222222222222222,\"#7201a8\"],[0.3333333333333333,\"#9c179e\"],[0.4444444444444444,\"#bd3786\"],[0.5555555555555556,\"#d8576b\"],[0.6666666666666666,\"#ed7953\"],[0.7777777777777778,\"#fb9f3a\"],[0.8888888888888888,\"#fdca26\"],[1.0,\"#f0f921\"]],\"diverging\":[[0,\"#8e0152\"],[0.1,\"#c51b7d\"],[0.2,\"#de77ae\"],[0.3,\"#f1b6da\"],[0.4,\"#fde0ef\"],[0.5,\"#f7f7f7\"],[0.6,\"#e6f5d0\"],[0.7,\"#b8e186\"],[0.8,\"#7fbc41\"],[0.9,\"#4d9221\"],[1,\"#276419\"]]},\"xaxis\":{\"gridcolor\":\"white\",\"linecolor\":\"white\",\"ticks\":\"\",\"title\":{\"standoff\":15},\"zerolinecolor\":\"white\",\"automargin\":true,\"zerolinewidth\":2},\"yaxis\":{\"gridcolor\":\"white\",\"linecolor\":\"white\",\"ticks\":\"\",\"title\":{\"standoff\":15},\"zerolinecolor\":\"white\",\"automargin\":true,\"zerolinewidth\":2},\"scene\":{\"xaxis\":{\"backgroundcolor\":\"#E5ECF6\",\"gridcolor\":\"white\",\"linecolor\":\"white\",\"showbackground\":true,\"ticks\":\"\",\"zerolinecolor\":\"white\",\"gridwidth\":2},\"yaxis\":{\"backgroundcolor\":\"#E5ECF6\",\"gridcolor\":\"white\",\"linecolor\":\"white\",\"showbackground\":true,\"ticks\":\"\",\"zerolinecolor\":\"white\",\"gridwidth\":2},\"zaxis\":{\"backgroundcolor\":\"#E5ECF6\",\"gridcolor\":\"white\",\"linecolor\":\"white\",\"showbackground\":true,\"ticks\":\"\",\"zerolinecolor\":\"white\",\"gridwidth\":2}},\"shapedefaults\":{\"line\":{\"color\":\"#2a3f5f\"}},\"annotationdefaults\":{\"arrowcolor\":\"#2a3f5f\",\"arrowhead\":0,\"arrowwidth\":1},\"geo\":{\"bgcolor\":\"white\",\"landcolor\":\"#E5ECF6\",\"subunitcolor\":\"white\",\"showland\":true,\"showlakes\":true,\"lakecolor\":\"white\"},\"title\":{\"x\":0.05},\"mapbox\":{\"style\":\"light\"}}},\"xaxis\":{\"anchor\":\"y\",\"domain\":[0.0,1.0],\"title\":{\"text\":\"School\"}},\"yaxis\":{\"anchor\":\"x\",\"domain\":[0.0,1.0],\"title\":{\"text\":\"Total Sessions\"}},\"legend\":{\"tracegroupgap\":0},\"title\":{\"text\":\"ECDCs: Average Sessions per Child\"},\"barmode\":\"relative\"},                        {\"responsive\": true}                    ).then(function(){\n",
       "                            \n",
       "var gd = document.getElementById('e2fbec30-8020-4442-a9c5-d9d4017fbdb6');\n",
       "var x = new MutationObserver(function (mutations, observer) {{\n",
       "        var display = window.getComputedStyle(gd).display;\n",
       "        if (!display || display === 'none') {{\n",
       "            console.log([gd, 'removed!']);\n",
       "            Plotly.purge(gd);\n",
       "            observer.disconnect();\n",
       "        }}\n",
       "}});\n",
       "\n",
       "// Listen for the removal of the full notebook cells\n",
       "var notebookContainer = gd.closest('#notebook-container');\n",
       "if (notebookContainer) {{\n",
       "    x.observe(notebookContainer, {childList: true});\n",
       "}}\n",
       "\n",
       "// Listen for the clearing of the current output cell\n",
       "var outputEl = gd.closest('.output');\n",
       "if (outputEl) {{\n",
       "    x.observe(outputEl, {childList: true});\n",
       "}}\n",
       "\n",
       "                        })                };                });            </script>        </div>"
      ]
     },
     "metadata": {},
     "output_type": "display_data"
    }
   ],
   "source": [
    "# Group by 'School' and calculate the percentage\n",
    "filtered_children = children[(children['On The Programme'] == 'Yes') & (children['Grade'] == \"PreR\")]\n",
    "grouped = filtered_children.groupby('School')['Total Sessions'].mean().sort_values(ascending=False).reset_index()\n",
    "\n",
    "# Plot the sorted data using Plotly\n",
    "fig = px.bar(grouped,\n",
    "             y='Total Sessions',\n",
    "             x='School',\n",
    "             title='ECDCs: Average Sessions per Child',\n",
    "             template='plotly')\n",
    "\n",
    "fig.show()"
   ]
  },
  {
   "cell_type": "code",
   "execution_count": 53,
   "id": "ec541e19-8813-4bf0-93a1-922c8cb59c50",
   "metadata": {
    "tags": []
   },
   "outputs": [
    {
     "data": {
      "application/vnd.plotly.v1+json": {
       "config": {
        "plotlyServerURL": "https://plot.ly"
       },
       "data": [
        {
         "alignmentgroup": "True",
         "hovertemplate": "School=%{x}<br>Total Sessions=%{y}<extra></extra>",
         "legendgroup": "",
         "marker": {
          "color": "#636efa",
          "pattern": {
           "shape": ""
          }
         },
         "name": "",
         "offsetgroup": "",
         "orientation": "v",
         "showlegend": false,
         "textposition": "auto",
         "type": "bar",
         "x": [
          "Dorothy",
          "Sisonke",
          "Zizamele",
          "Paulos Oyigcwele",
          "Noluthando",
          "Green Apple",
          "Sinethemba",
          "Qaqawuli Godolozi",
          "Charles Duna",
          "Bright Angels",
          "Nobandla",
          "Jesus Dominion",
          "Aaron Gqadu",
          "Lithemba",
          "Sifunimfundo",
          "Jongilanga",
          "Nonkqubela",
          "Seyisi",
          "Living Ubuntu",
          "Kokkewiet",
          "Vukani Daycare",
          "Bambino"
         ],
         "xaxis": "x",
         "y": [
          1482,
          1441,
          1385,
          1307,
          1229,
          1206,
          1134,
          1095,
          1078,
          1075,
          1069,
          1056,
          946,
          911,
          841,
          815,
          811,
          809,
          787,
          633,
          156,
          130
         ],
         "yaxis": "y"
        }
       ],
       "layout": {
        "autosize": true,
        "barmode": "relative",
        "legend": {
         "tracegroupgap": 0
        },
        "template": {
         "data": {
          "bar": [
           {
            "error_x": {
             "color": "#2a3f5f"
            },
            "error_y": {
             "color": "#2a3f5f"
            },
            "marker": {
             "line": {
              "color": "#E5ECF6",
              "width": 0.5
             },
             "pattern": {
              "fillmode": "overlay",
              "size": 10,
              "solidity": 0.2
             }
            },
            "type": "bar"
           }
          ],
          "barpolar": [
           {
            "marker": {
             "line": {
              "color": "#E5ECF6",
              "width": 0.5
             },
             "pattern": {
              "fillmode": "overlay",
              "size": 10,
              "solidity": 0.2
             }
            },
            "type": "barpolar"
           }
          ],
          "carpet": [
           {
            "aaxis": {
             "endlinecolor": "#2a3f5f",
             "gridcolor": "white",
             "linecolor": "white",
             "minorgridcolor": "white",
             "startlinecolor": "#2a3f5f"
            },
            "baxis": {
             "endlinecolor": "#2a3f5f",
             "gridcolor": "white",
             "linecolor": "white",
             "minorgridcolor": "white",
             "startlinecolor": "#2a3f5f"
            },
            "type": "carpet"
           }
          ],
          "choropleth": [
           {
            "colorbar": {
             "outlinewidth": 0,
             "ticks": ""
            },
            "type": "choropleth"
           }
          ],
          "contour": [
           {
            "colorbar": {
             "outlinewidth": 0,
             "ticks": ""
            },
            "colorscale": [
             [
              0,
              "#0d0887"
             ],
             [
              0.1111111111111111,
              "#46039f"
             ],
             [
              0.2222222222222222,
              "#7201a8"
             ],
             [
              0.3333333333333333,
              "#9c179e"
             ],
             [
              0.4444444444444444,
              "#bd3786"
             ],
             [
              0.5555555555555556,
              "#d8576b"
             ],
             [
              0.6666666666666666,
              "#ed7953"
             ],
             [
              0.7777777777777778,
              "#fb9f3a"
             ],
             [
              0.8888888888888888,
              "#fdca26"
             ],
             [
              1,
              "#f0f921"
             ]
            ],
            "type": "contour"
           }
          ],
          "contourcarpet": [
           {
            "colorbar": {
             "outlinewidth": 0,
             "ticks": ""
            },
            "type": "contourcarpet"
           }
          ],
          "heatmap": [
           {
            "colorbar": {
             "outlinewidth": 0,
             "ticks": ""
            },
            "colorscale": [
             [
              0,
              "#0d0887"
             ],
             [
              0.1111111111111111,
              "#46039f"
             ],
             [
              0.2222222222222222,
              "#7201a8"
             ],
             [
              0.3333333333333333,
              "#9c179e"
             ],
             [
              0.4444444444444444,
              "#bd3786"
             ],
             [
              0.5555555555555556,
              "#d8576b"
             ],
             [
              0.6666666666666666,
              "#ed7953"
             ],
             [
              0.7777777777777778,
              "#fb9f3a"
             ],
             [
              0.8888888888888888,
              "#fdca26"
             ],
             [
              1,
              "#f0f921"
             ]
            ],
            "type": "heatmap"
           }
          ],
          "heatmapgl": [
           {
            "colorbar": {
             "outlinewidth": 0,
             "ticks": ""
            },
            "colorscale": [
             [
              0,
              "#0d0887"
             ],
             [
              0.1111111111111111,
              "#46039f"
             ],
             [
              0.2222222222222222,
              "#7201a8"
             ],
             [
              0.3333333333333333,
              "#9c179e"
             ],
             [
              0.4444444444444444,
              "#bd3786"
             ],
             [
              0.5555555555555556,
              "#d8576b"
             ],
             [
              0.6666666666666666,
              "#ed7953"
             ],
             [
              0.7777777777777778,
              "#fb9f3a"
             ],
             [
              0.8888888888888888,
              "#fdca26"
             ],
             [
              1,
              "#f0f921"
             ]
            ],
            "type": "heatmapgl"
           }
          ],
          "histogram": [
           {
            "marker": {
             "pattern": {
              "fillmode": "overlay",
              "size": 10,
              "solidity": 0.2
             }
            },
            "type": "histogram"
           }
          ],
          "histogram2d": [
           {
            "colorbar": {
             "outlinewidth": 0,
             "ticks": ""
            },
            "colorscale": [
             [
              0,
              "#0d0887"
             ],
             [
              0.1111111111111111,
              "#46039f"
             ],
             [
              0.2222222222222222,
              "#7201a8"
             ],
             [
              0.3333333333333333,
              "#9c179e"
             ],
             [
              0.4444444444444444,
              "#bd3786"
             ],
             [
              0.5555555555555556,
              "#d8576b"
             ],
             [
              0.6666666666666666,
              "#ed7953"
             ],
             [
              0.7777777777777778,
              "#fb9f3a"
             ],
             [
              0.8888888888888888,
              "#fdca26"
             ],
             [
              1,
              "#f0f921"
             ]
            ],
            "type": "histogram2d"
           }
          ],
          "histogram2dcontour": [
           {
            "colorbar": {
             "outlinewidth": 0,
             "ticks": ""
            },
            "colorscale": [
             [
              0,
              "#0d0887"
             ],
             [
              0.1111111111111111,
              "#46039f"
             ],
             [
              0.2222222222222222,
              "#7201a8"
             ],
             [
              0.3333333333333333,
              "#9c179e"
             ],
             [
              0.4444444444444444,
              "#bd3786"
             ],
             [
              0.5555555555555556,
              "#d8576b"
             ],
             [
              0.6666666666666666,
              "#ed7953"
             ],
             [
              0.7777777777777778,
              "#fb9f3a"
             ],
             [
              0.8888888888888888,
              "#fdca26"
             ],
             [
              1,
              "#f0f921"
             ]
            ],
            "type": "histogram2dcontour"
           }
          ],
          "mesh3d": [
           {
            "colorbar": {
             "outlinewidth": 0,
             "ticks": ""
            },
            "type": "mesh3d"
           }
          ],
          "parcoords": [
           {
            "line": {
             "colorbar": {
              "outlinewidth": 0,
              "ticks": ""
             }
            },
            "type": "parcoords"
           }
          ],
          "pie": [
           {
            "automargin": true,
            "type": "pie"
           }
          ],
          "scatter": [
           {
            "fillpattern": {
             "fillmode": "overlay",
             "size": 10,
             "solidity": 0.2
            },
            "type": "scatter"
           }
          ],
          "scatter3d": [
           {
            "line": {
             "colorbar": {
              "outlinewidth": 0,
              "ticks": ""
             }
            },
            "marker": {
             "colorbar": {
              "outlinewidth": 0,
              "ticks": ""
             }
            },
            "type": "scatter3d"
           }
          ],
          "scattercarpet": [
           {
            "marker": {
             "colorbar": {
              "outlinewidth": 0,
              "ticks": ""
             }
            },
            "type": "scattercarpet"
           }
          ],
          "scattergeo": [
           {
            "marker": {
             "colorbar": {
              "outlinewidth": 0,
              "ticks": ""
             }
            },
            "type": "scattergeo"
           }
          ],
          "scattergl": [
           {
            "marker": {
             "colorbar": {
              "outlinewidth": 0,
              "ticks": ""
             }
            },
            "type": "scattergl"
           }
          ],
          "scattermapbox": [
           {
            "marker": {
             "colorbar": {
              "outlinewidth": 0,
              "ticks": ""
             }
            },
            "type": "scattermapbox"
           }
          ],
          "scatterpolar": [
           {
            "marker": {
             "colorbar": {
              "outlinewidth": 0,
              "ticks": ""
             }
            },
            "type": "scatterpolar"
           }
          ],
          "scatterpolargl": [
           {
            "marker": {
             "colorbar": {
              "outlinewidth": 0,
              "ticks": ""
             }
            },
            "type": "scatterpolargl"
           }
          ],
          "scatterternary": [
           {
            "marker": {
             "colorbar": {
              "outlinewidth": 0,
              "ticks": ""
             }
            },
            "type": "scatterternary"
           }
          ],
          "surface": [
           {
            "colorbar": {
             "outlinewidth": 0,
             "ticks": ""
            },
            "colorscale": [
             [
              0,
              "#0d0887"
             ],
             [
              0.1111111111111111,
              "#46039f"
             ],
             [
              0.2222222222222222,
              "#7201a8"
             ],
             [
              0.3333333333333333,
              "#9c179e"
             ],
             [
              0.4444444444444444,
              "#bd3786"
             ],
             [
              0.5555555555555556,
              "#d8576b"
             ],
             [
              0.6666666666666666,
              "#ed7953"
             ],
             [
              0.7777777777777778,
              "#fb9f3a"
             ],
             [
              0.8888888888888888,
              "#fdca26"
             ],
             [
              1,
              "#f0f921"
             ]
            ],
            "type": "surface"
           }
          ],
          "table": [
           {
            "cells": {
             "fill": {
              "color": "#EBF0F8"
             },
             "line": {
              "color": "white"
             }
            },
            "header": {
             "fill": {
              "color": "#C8D4E3"
             },
             "line": {
              "color": "white"
             }
            },
            "type": "table"
           }
          ]
         },
         "layout": {
          "annotationdefaults": {
           "arrowcolor": "#2a3f5f",
           "arrowhead": 0,
           "arrowwidth": 1
          },
          "autotypenumbers": "strict",
          "coloraxis": {
           "colorbar": {
            "outlinewidth": 0,
            "ticks": ""
           }
          },
          "colorscale": {
           "diverging": [
            [
             0,
             "#8e0152"
            ],
            [
             0.1,
             "#c51b7d"
            ],
            [
             0.2,
             "#de77ae"
            ],
            [
             0.3,
             "#f1b6da"
            ],
            [
             0.4,
             "#fde0ef"
            ],
            [
             0.5,
             "#f7f7f7"
            ],
            [
             0.6,
             "#e6f5d0"
            ],
            [
             0.7,
             "#b8e186"
            ],
            [
             0.8,
             "#7fbc41"
            ],
            [
             0.9,
             "#4d9221"
            ],
            [
             1,
             "#276419"
            ]
           ],
           "sequential": [
            [
             0,
             "#0d0887"
            ],
            [
             0.1111111111111111,
             "#46039f"
            ],
            [
             0.2222222222222222,
             "#7201a8"
            ],
            [
             0.3333333333333333,
             "#9c179e"
            ],
            [
             0.4444444444444444,
             "#bd3786"
            ],
            [
             0.5555555555555556,
             "#d8576b"
            ],
            [
             0.6666666666666666,
             "#ed7953"
            ],
            [
             0.7777777777777778,
             "#fb9f3a"
            ],
            [
             0.8888888888888888,
             "#fdca26"
            ],
            [
             1,
             "#f0f921"
            ]
           ],
           "sequentialminus": [
            [
             0,
             "#0d0887"
            ],
            [
             0.1111111111111111,
             "#46039f"
            ],
            [
             0.2222222222222222,
             "#7201a8"
            ],
            [
             0.3333333333333333,
             "#9c179e"
            ],
            [
             0.4444444444444444,
             "#bd3786"
            ],
            [
             0.5555555555555556,
             "#d8576b"
            ],
            [
             0.6666666666666666,
             "#ed7953"
            ],
            [
             0.7777777777777778,
             "#fb9f3a"
            ],
            [
             0.8888888888888888,
             "#fdca26"
            ],
            [
             1,
             "#f0f921"
            ]
           ]
          },
          "colorway": [
           "#636efa",
           "#EF553B",
           "#00cc96",
           "#ab63fa",
           "#FFA15A",
           "#19d3f3",
           "#FF6692",
           "#B6E880",
           "#FF97FF",
           "#FECB52"
          ],
          "font": {
           "color": "#2a3f5f"
          },
          "geo": {
           "bgcolor": "white",
           "lakecolor": "white",
           "landcolor": "#E5ECF6",
           "showlakes": true,
           "showland": true,
           "subunitcolor": "white"
          },
          "hoverlabel": {
           "align": "left"
          },
          "hovermode": "closest",
          "mapbox": {
           "style": "light"
          },
          "paper_bgcolor": "white",
          "plot_bgcolor": "#E5ECF6",
          "polar": {
           "angularaxis": {
            "gridcolor": "white",
            "linecolor": "white",
            "ticks": ""
           },
           "bgcolor": "#E5ECF6",
           "radialaxis": {
            "gridcolor": "white",
            "linecolor": "white",
            "ticks": ""
           }
          },
          "scene": {
           "xaxis": {
            "backgroundcolor": "#E5ECF6",
            "gridcolor": "white",
            "gridwidth": 2,
            "linecolor": "white",
            "showbackground": true,
            "ticks": "",
            "zerolinecolor": "white"
           },
           "yaxis": {
            "backgroundcolor": "#E5ECF6",
            "gridcolor": "white",
            "gridwidth": 2,
            "linecolor": "white",
            "showbackground": true,
            "ticks": "",
            "zerolinecolor": "white"
           },
           "zaxis": {
            "backgroundcolor": "#E5ECF6",
            "gridcolor": "white",
            "gridwidth": 2,
            "linecolor": "white",
            "showbackground": true,
            "ticks": "",
            "zerolinecolor": "white"
           }
          },
          "shapedefaults": {
           "line": {
            "color": "#2a3f5f"
           }
          },
          "ternary": {
           "aaxis": {
            "gridcolor": "white",
            "linecolor": "white",
            "ticks": ""
           },
           "baxis": {
            "gridcolor": "white",
            "linecolor": "white",
            "ticks": ""
           },
           "bgcolor": "#E5ECF6",
           "caxis": {
            "gridcolor": "white",
            "linecolor": "white",
            "ticks": ""
           }
          },
          "title": {
           "x": 0.05
          },
          "xaxis": {
           "automargin": true,
           "gridcolor": "white",
           "linecolor": "white",
           "ticks": "",
           "title": {
            "standoff": 15
           },
           "zerolinecolor": "white",
           "zerolinewidth": 2
          },
          "yaxis": {
           "automargin": true,
           "gridcolor": "white",
           "linecolor": "white",
           "ticks": "",
           "title": {
            "standoff": 15
           },
           "zerolinecolor": "white",
           "zerolinewidth": 2
          }
         }
        },
        "title": {
         "text": "ECDCs: Total Sessions in 2023"
        },
        "xaxis": {
         "anchor": "y",
         "autorange": true,
         "domain": [
          0,
          1
         ],
         "range": [
          -0.5,
          21.5
         ],
         "title": {
          "text": "School"
         },
         "type": "category"
        },
        "yaxis": {
         "anchor": "x",
         "autorange": true,
         "domain": [
          0,
          1
         ],
         "range": [
          0,
          1560
         ],
         "title": {
          "text": "Total Sessions"
         },
         "type": "linear"
        }
       }
      },
      "image/png": "[encoded data removed]",
      "text/html": [
       "<div>                            <div id=\"4d54720b-6411-417e-b3a6-ee039a1073b4\" class=\"plotly-graph-div\" style=\"height:525px; width:100%;\"></div>            <script type=\"text/javascript\">                require([\"plotly\"], function(Plotly) {                    window.PLOTLYENV=window.PLOTLYENV || {};                                    if (document.getElementById(\"4d54720b-6411-417e-b3a6-ee039a1073b4\")) {                    Plotly.newPlot(                        \"4d54720b-6411-417e-b3a6-ee039a1073b4\",                        [{\"alignmentgroup\":\"True\",\"hovertemplate\":\"School=%{x}\\u003cbr\\u003eTotal Sessions=%{y}\\u003cextra\\u003e\\u003c\\u002fextra\\u003e\",\"legendgroup\":\"\",\"marker\":{\"color\":\"#636efa\",\"pattern\":{\"shape\":\"\"}},\"name\":\"\",\"offsetgroup\":\"\",\"orientation\":\"v\",\"showlegend\":false,\"textposition\":\"auto\",\"x\":[\"Dorothy\",\"Sisonke\",\"Zizamele\",\"Paulos Oyigcwele\",\"Noluthando\",\"Green Apple\",\"Sinethemba\",\"Qaqawuli Godolozi\",\"Charles Duna\",\"Bright Angels\",\"Nobandla\",\"Jesus Dominion\",\"Aaron Gqadu\",\"Lithemba\",\"Sifunimfundo\",\"Jongilanga\",\"Nonkqubela\",\"Seyisi\",\"Living Ubuntu\",\"Kokkewiet\",\"Vukani Daycare\",\"Bambino\"],\"xaxis\":\"x\",\"y\":[1482.0,1441.0,1385.0,1307.0,1229.0,1206.0,1134.0,1095.0,1078.0,1075.0,1069.0,1056.0,946.0,911.0,841.0,815.0,811.0,809.0,787.0,633.0,156.0,130.0],\"yaxis\":\"y\",\"type\":\"bar\"}],                        {\"template\":{\"data\":{\"histogram2dcontour\":[{\"type\":\"histogram2dcontour\",\"colorbar\":{\"outlinewidth\":0,\"ticks\":\"\"},\"colorscale\":[[0.0,\"#0d0887\"],[0.1111111111111111,\"#46039f\"],[0.2222222222222222,\"#7201a8\"],[0.3333333333333333,\"#9c179e\"],[0.4444444444444444,\"#bd3786\"],[0.5555555555555556,\"#d8576b\"],[0.6666666666666666,\"#ed7953\"],[0.7777777777777778,\"#fb9f3a\"],[0.8888888888888888,\"#fdca26\"],[1.0,\"#f0f921\"]]}],\"choropleth\":[{\"type\":\"choropleth\",\"colorbar\":{\"outlinewidth\":0,\"ticks\":\"\"}}],\"histogram2d\":[{\"type\":\"histogram2d\",\"colorbar\":{\"outlinewidth\":0,\"ticks\":\"\"},\"colorscale\":[[0.0,\"#0d0887\"],[0.1111111111111111,\"#46039f\"],[0.2222222222222222,\"#7201a8\"],[0.3333333333333333,\"#9c179e\"],[0.4444444444444444,\"#bd3786\"],[0.5555555555555556,\"#d8576b\"],[0.6666666666666666,\"#ed7953\"],[0.7777777777777778,\"#fb9f3a\"],[0.8888888888888888,\"#fdca26\"],[1.0,\"#f0f921\"]]}],\"heatmap\":[{\"type\":\"heatmap\",\"colorbar\":{\"outlinewidth\":0,\"ticks\":\"\"},\"colorscale\":[[0.0,\"#0d0887\"],[0.1111111111111111,\"#46039f\"],[0.2222222222222222,\"#7201a8\"],[0.3333333333333333,\"#9c179e\"],[0.4444444444444444,\"#bd3786\"],[0.5555555555555556,\"#d8576b\"],[0.6666666666666666,\"#ed7953\"],[0.7777777777777778,\"#fb9f3a\"],[0.8888888888888888,\"#fdca26\"],[1.0,\"#f0f921\"]]}],\"heatmapgl\":[{\"type\":\"heatmapgl\",\"colorbar\":{\"outlinewidth\":0,\"ticks\":\"\"},\"colorscale\":[[0.0,\"#0d0887\"],[0.1111111111111111,\"#46039f\"],[0.2222222222222222,\"#7201a8\"],[0.3333333333333333,\"#9c179e\"],[0.4444444444444444,\"#bd3786\"],[0.5555555555555556,\"#d8576b\"],[0.6666666666666666,\"#ed7953\"],[0.7777777777777778,\"#fb9f3a\"],[0.8888888888888888,\"#fdca26\"],[1.0,\"#f0f921\"]]}],\"contourcarpet\":[{\"type\":\"contourcarpet\",\"colorbar\":{\"outlinewidth\":0,\"ticks\":\"\"}}],\"contour\":[{\"type\":\"contour\",\"colorbar\":{\"outlinewidth\":0,\"ticks\":\"\"},\"colorscale\":[[0.0,\"#0d0887\"],[0.1111111111111111,\"#46039f\"],[0.2222222222222222,\"#7201a8\"],[0.3333333333333333,\"#9c179e\"],[0.4444444444444444,\"#bd3786\"],[0.5555555555555556,\"#d8576b\"],[0.6666666666666666,\"#ed7953\"],[0.7777777777777778,\"#fb9f3a\"],[0.8888888888888888,\"#fdca26\"],[1.0,\"#f0f921\"]]}],\"surface\":[{\"type\":\"surface\",\"colorbar\":{\"outlinewidth\":0,\"ticks\":\"\"},\"colorscale\":[[0.0,\"#0d0887\"],[0.1111111111111111,\"#46039f\"],[0.2222222222222222,\"#7201a8\"],[0.3333333333333333,\"#9c179e\"],[0.4444444444444444,\"#bd3786\"],[0.5555555555555556,\"#d8576b\"],[0.6666666666666666,\"#ed7953\"],[0.7777777777777778,\"#fb9f3a\"],[0.8888888888888888,\"#fdca26\"],[1.0,\"#f0f921\"]]}],\"mesh3d\":[{\"type\":\"mesh3d\",\"colorbar\":{\"outlinewidth\":0,\"ticks\":\"\"}}],\"scatter\":[{\"fillpattern\":{\"fillmode\":\"overlay\",\"size\":10,\"solidity\":0.2},\"type\":\"scatter\"}],\"parcoords\":[{\"type\":\"parcoords\",\"line\":{\"colorbar\":{\"outlinewidth\":0,\"ticks\":\"\"}}}],\"scatterpolargl\":[{\"type\":\"scatterpolargl\",\"marker\":{\"colorbar\":{\"outlinewidth\":0,\"ticks\":\"\"}}}],\"bar\":[{\"error_x\":{\"color\":\"#2a3f5f\"},\"error_y\":{\"color\":\"#2a3f5f\"},\"marker\":{\"line\":{\"color\":\"#E5ECF6\",\"width\":0.5},\"pattern\":{\"fillmode\":\"overlay\",\"size\":10,\"solidity\":0.2}},\"type\":\"bar\"}],\"scattergeo\":[{\"type\":\"scattergeo\",\"marker\":{\"colorbar\":{\"outlinewidth\":0,\"ticks\":\"\"}}}],\"scatterpolar\":[{\"type\":\"scatterpolar\",\"marker\":{\"colorbar\":{\"outlinewidth\":0,\"ticks\":\"\"}}}],\"histogram\":[{\"marker\":{\"pattern\":{\"fillmode\":\"overlay\",\"size\":10,\"solidity\":0.2}},\"type\":\"histogram\"}],\"scattergl\":[{\"type\":\"scattergl\",\"marker\":{\"colorbar\":{\"outlinewidth\":0,\"ticks\":\"\"}}}],\"scatter3d\":[{\"type\":\"scatter3d\",\"line\":{\"colorbar\":{\"outlinewidth\":0,\"ticks\":\"\"}},\"marker\":{\"colorbar\":{\"outlinewidth\":0,\"ticks\":\"\"}}}],\"scattermapbox\":[{\"type\":\"scattermapbox\",\"marker\":{\"colorbar\":{\"outlinewidth\":0,\"ticks\":\"\"}}}],\"scatterternary\":[{\"type\":\"scatterternary\",\"marker\":{\"colorbar\":{\"outlinewidth\":0,\"ticks\":\"\"}}}],\"scattercarpet\":[{\"type\":\"scattercarpet\",\"marker\":{\"colorbar\":{\"outlinewidth\":0,\"ticks\":\"\"}}}],\"carpet\":[{\"aaxis\":{\"endlinecolor\":\"#2a3f5f\",\"gridcolor\":\"white\",\"linecolor\":\"white\",\"minorgridcolor\":\"white\",\"startlinecolor\":\"#2a3f5f\"},\"baxis\":{\"endlinecolor\":\"#2a3f5f\",\"gridcolor\":\"white\",\"linecolor\":\"white\",\"minorgridcolor\":\"white\",\"startlinecolor\":\"#2a3f5f\"},\"type\":\"carpet\"}],\"table\":[{\"cells\":{\"fill\":{\"color\":\"#EBF0F8\"},\"line\":{\"color\":\"white\"}},\"header\":{\"fill\":{\"color\":\"#C8D4E3\"},\"line\":{\"color\":\"white\"}},\"type\":\"table\"}],\"barpolar\":[{\"marker\":{\"line\":{\"color\":\"#E5ECF6\",\"width\":0.5},\"pattern\":{\"fillmode\":\"overlay\",\"size\":10,\"solidity\":0.2}},\"type\":\"barpolar\"}],\"pie\":[{\"automargin\":true,\"type\":\"pie\"}]},\"layout\":{\"autotypenumbers\":\"strict\",\"colorway\":[\"#636efa\",\"#EF553B\",\"#00cc96\",\"#ab63fa\",\"#FFA15A\",\"#19d3f3\",\"#FF6692\",\"#B6E880\",\"#FF97FF\",\"#FECB52\"],\"font\":{\"color\":\"#2a3f5f\"},\"hovermode\":\"closest\",\"hoverlabel\":{\"align\":\"left\"},\"paper_bgcolor\":\"white\",\"plot_bgcolor\":\"#E5ECF6\",\"polar\":{\"bgcolor\":\"#E5ECF6\",\"angularaxis\":{\"gridcolor\":\"white\",\"linecolor\":\"white\",\"ticks\":\"\"},\"radialaxis\":{\"gridcolor\":\"white\",\"linecolor\":\"white\",\"ticks\":\"\"}},\"ternary\":{\"bgcolor\":\"#E5ECF6\",\"aaxis\":{\"gridcolor\":\"white\",\"linecolor\":\"white\",\"ticks\":\"\"},\"baxis\":{\"gridcolor\":\"white\",\"linecolor\":\"white\",\"ticks\":\"\"},\"caxis\":{\"gridcolor\":\"white\",\"linecolor\":\"white\",\"ticks\":\"\"}},\"coloraxis\":{\"colorbar\":{\"outlinewidth\":0,\"ticks\":\"\"}},\"colorscale\":{\"sequential\":[[0.0,\"#0d0887\"],[0.1111111111111111,\"#46039f\"],[0.2222222222222222,\"#7201a8\"],[0.3333333333333333,\"#9c179e\"],[0.4444444444444444,\"#bd3786\"],[0.5555555555555556,\"#d8576b\"],[0.6666666666666666,\"#ed7953\"],[0.7777777777777778,\"#fb9f3a\"],[0.8888888888888888,\"#fdca26\"],[1.0,\"#f0f921\"]],\"sequentialminus\":[[0.0,\"#0d0887\"],[0.1111111111111111,\"#46039f\"],[0.2222222222222222,\"#7201a8\"],[0.3333333333333333,\"#9c179e\"],[0.4444444444444444,\"#bd3786\"],[0.5555555555555556,\"#d8576b\"],[0.6666666666666666,\"#ed7953\"],[0.7777777777777778,\"#fb9f3a\"],[0.8888888888888888,\"#fdca26\"],[1.0,\"#f0f921\"]],\"diverging\":[[0,\"#8e0152\"],[0.1,\"#c51b7d\"],[0.2,\"#de77ae\"],[0.3,\"#f1b6da\"],[0.4,\"#fde0ef\"],[0.5,\"#f7f7f7\"],[0.6,\"#e6f5d0\"],[0.7,\"#b8e186\"],[0.8,\"#7fbc41\"],[0.9,\"#4d9221\"],[1,\"#276419\"]]},\"xaxis\":{\"gridcolor\":\"white\",\"linecolor\":\"white\",\"ticks\":\"\",\"title\":{\"standoff\":15},\"zerolinecolor\":\"white\",\"automargin\":true,\"zerolinewidth\":2},\"yaxis\":{\"gridcolor\":\"white\",\"linecolor\":\"white\",\"ticks\":\"\",\"title\":{\"standoff\":15},\"zerolinecolor\":\"white\",\"automargin\":true,\"zerolinewidth\":2},\"scene\":{\"xaxis\":{\"backgroundcolor\":\"#E5ECF6\",\"gridcolor\":\"white\",\"linecolor\":\"white\",\"showbackground\":true,\"ticks\":\"\",\"zerolinecolor\":\"white\",\"gridwidth\":2},\"yaxis\":{\"backgroundcolor\":\"#E5ECF6\",\"gridcolor\":\"white\",\"linecolor\":\"white\",\"showbackground\":true,\"ticks\":\"\",\"zerolinecolor\":\"white\",\"gridwidth\":2},\"zaxis\":{\"backgroundcolor\":\"#E5ECF6\",\"gridcolor\":\"white\",\"linecolor\":\"white\",\"showbackground\":true,\"ticks\":\"\",\"zerolinecolor\":\"white\",\"gridwidth\":2}},\"shapedefaults\":{\"line\":{\"color\":\"#2a3f5f\"}},\"annotationdefaults\":{\"arrowcolor\":\"#2a3f5f\",\"arrowhead\":0,\"arrowwidth\":1},\"geo\":{\"bgcolor\":\"white\",\"landcolor\":\"#E5ECF6\",\"subunitcolor\":\"white\",\"showland\":true,\"showlakes\":true,\"lakecolor\":\"white\"},\"title\":{\"x\":0.05},\"mapbox\":{\"style\":\"light\"}}},\"xaxis\":{\"anchor\":\"y\",\"domain\":[0.0,1.0],\"title\":{\"text\":\"School\"}},\"yaxis\":{\"anchor\":\"x\",\"domain\":[0.0,1.0],\"title\":{\"text\":\"Total Sessions\"}},\"legend\":{\"tracegroupgap\":0},\"title\":{\"text\":\"ECDCs: Total Sessions in 2023\"},\"barmode\":\"relative\"},                        {\"responsive\": true}                    ).then(function(){\n",
       "                            \n",
       "var gd = document.getElementById('4d54720b-6411-417e-b3a6-ee039a1073b4');\n",
       "var x = new MutationObserver(function (mutations, observer) {{\n",
       "        var display = window.getComputedStyle(gd).display;\n",
       "        if (!display || display === 'none') {{\n",
       "            console.log([gd, 'removed!']);\n",
       "            Plotly.purge(gd);\n",
       "            observer.disconnect();\n",
       "        }}\n",
       "}});\n",
       "\n",
       "// Listen for the removal of the full notebook cells\n",
       "var notebookContainer = gd.closest('#notebook-container');\n",
       "if (notebookContainer) {{\n",
       "    x.observe(notebookContainer, {childList: true});\n",
       "}}\n",
       "\n",
       "// Listen for the clearing of the current output cell\n",
       "var outputEl = gd.closest('.output');\n",
       "if (outputEl) {{\n",
       "    x.observe(outputEl, {childList: true});\n",
       "}}\n",
       "\n",
       "                        })                };                });            </script>        </div>"
      ]
     },
     "metadata": {},
     "output_type": "display_data"
    }
   ],
   "source": [
    "# Group by 'School' and calculate the percentage\n",
    "filtered_children = children[(children['On The Programme'] == 'Yes') & (children['Grade'] == \"PreR\")]\n",
    "grouped = filtered_children.groupby('School')['Total Sessions'].sum().sort_values(ascending=False).reset_index()\n",
    "\n",
    "# Plot the sorted data using Plotly\n",
    "fig = px.bar(grouped,\n",
    "             y='Total Sessions',\n",
    "             x='School',\n",
    "             title='ECDCs: Total Sessions in 2023',\n",
    "             template='plotly')\n",
    "\n",
    "fig.show()"
   ]
  },
  {
   "cell_type": "markdown",
   "id": "94e17fba-2548-43cc-a7af-e728833baf55",
   "metadata": {},
   "source": [
    "### Sessions Per Grade (Primary) - Top 10"
   ]
  },
  {
   "cell_type": "code",
   "execution_count": 72,
   "id": "4cad4cf3-d62f-4994-a1b9-ff89c7e11c96",
   "metadata": {
    "tags": []
   },
   "outputs": [],
   "source": [
    "def sessions_per_grade_primary_top10():\n",
    "    return primary_on.groupby(['School', 'Grade'])['Total Sessions'].mean().sort_values(ascending=False).head(10)"
   ]
  },
  {
   "cell_type": "markdown",
   "id": "08a24424-4caa-4a49-a82a-3c2a5e1bb925",
   "metadata": {},
   "source": [
    "### Sessions Per Grade (Primary) - Bottom 10"
   ]
  },
  {
   "cell_type": "code",
   "execution_count": 55,
   "id": "41484248-9ccd-43dd-a549-97ba656b9bf5",
   "metadata": {
    "tags": []
   },
   "outputs": [
    {
     "data": {
      "text/plain": [
       "School       Grade  \n",
       "Astra        Grade 1     6.951220\n",
       "Phakamile    Grade 1     7.666667\n",
       "Mzingisi     Grade 1     7.722222\n",
       "             Grade R     8.055556\n",
       "Astra        Grade R     9.307692\n",
       "Clarkson     Grade 2     9.954545\n",
       "Empumalanga  Grade 1    10.756098\n",
       "Phakamile    Grade R    10.833333\n",
       "Clarkson     Grade R    10.976190\n",
       "             Grade 1    11.036364\n",
       "Name: Total Sessions, dtype: float64"
      ]
     },
     "execution_count": 55,
     "metadata": {},
     "output_type": "execute_result"
    }
   ],
   "source": [
    "primary_on.groupby(['School', 'Grade'])['Total Sessions'].mean().sort_values(ascending=True).head(10)"
   ]
  },
  {
   "cell_type": "markdown",
   "id": "41edab88-4d43-4b00-ace6-3597d5992345",
   "metadata": {
    "tags": []
   },
   "source": [
    "### Sessions per LC (Primary) - Top 20"
   ]
  },
  {
   "cell_type": "code",
   "execution_count": 56,
   "id": "e9fe5211-152e-4fc1-87d9-bb47f09df286",
   "metadata": {
    "tags": []
   },
   "outputs": [
    {
     "data": {
      "text/plain": [
       "LC Name                   School       \n",
       "Sibulele Ngcobo           St Augustines    43.285714\n",
       "Nokubonga Nguty           St Augustines    39.000000\n",
       "Masande Tyali             St Augustines    37.750000\n",
       "Xabiso Xaba               St Augustines    37.625000\n",
       "Phaphama Kolisi           Seyisi           36.600000\n",
       "Siphosethu Mlenze         Seyisi           35.909091\n",
       "Nomathamsanqa Mazoka      Seyisi           35.000000\n",
       "Sisipho Ntisa             Fumisukoma       35.000000\n",
       "Thenjiwe Shushu           Seyisi           33.300000\n",
       "Elam Xalipi               Fumisukoma       33.000000\n",
       "Esethu Mantakana          Fumisukoma       32.700000\n",
       "Sisipho Wali              Isaac Booi       32.666667\n",
       "Sinazo Jwara              Seyisi           32.333333\n",
       "Nandipha Putela           Fumisukoma       32.300000\n",
       "Ntombizandile Ngamntwini  Fumisukoma       32.111111\n",
       "Alizwa Tsili              Seyisi           31.900000\n",
       "Sinazo Maxaza             Fumisukoma       31.400000\n",
       "Asenathi Phiri            Seyisi           31.333333\n",
       "Zimkhitha Matole          Isaac Booi       31.000000\n",
       "Anelisa Nakani            Fumisukoma       30.800000\n",
       "Name: Total Sessions, dtype: float64"
      ]
     },
     "execution_count": 56,
     "metadata": {},
     "output_type": "execute_result"
    }
   ],
   "source": [
    "primary_on.groupby(['LC Name', 'School'])['Total Sessions'].mean().sort_values(ascending=False).head(20)"
   ]
  },
  {
   "cell_type": "markdown",
   "id": "22f214ef-2d95-4100-bd79-99d6ec4f670c",
   "metadata": {},
   "source": [
    "### Sessions per LC (Primary) - Bottom 20"
   ]
  },
  {
   "cell_type": "code",
   "execution_count": 58,
   "id": "d1038494-1d82-4010-a776-4e912af9d689",
   "metadata": {
    "tags": []
   },
   "outputs": [
    {
     "data": {
      "text/plain": [
       "LC Name             School      \n",
       "Shenaaz Britz       Astra            6.833333\n",
       "Cheslean Warney     Astra            6.916667\n",
       "Denise Donay        Astra            7.181818\n",
       "Jennelee Ruth Noah  Astra            8.454545\n",
       "Saudah Davids       Astra            8.625000\n",
       "Lihlumelo Gaba      Molefe          12.222222\n",
       "Anesipho Budaza     Empumalanga     14.250000\n",
       "Lisakhanya Mboniso  Molefe          14.500000\n",
       "Noluthando Kondile  Empumalanga     15.600000\n",
       "Anathi Nqono        Ebongweni       18.181818\n",
       "Mihlali Giya        Empumalanga     18.500000\n",
       "Sibabalwe Ngcobo    Empumalanga     19.583333\n",
       "Zikhona Blauw       Aaron Gqadu     20.400000\n",
       "Luphumzo Bassie     Ben Sinuka      21.888889\n",
       "Anelisa Nowala      Empumalanga     22.416667\n",
       "Sinazo Njokweni     Charles Duna    22.833333\n",
       "Onwabile Bebe       Aaron Gqadu     23.333333\n",
       "Emihle Lucas        Charles Duna    23.333333\n",
       "Fikiswa Rhayiza     Ebongweni       23.333333\n",
       "Sinethemba Msizi    Ebongweni       23.916667\n",
       "Name: Total Sessions, dtype: float64"
      ]
     },
     "execution_count": 58,
     "metadata": {},
     "output_type": "execute_result"
    }
   ],
   "source": [
    "low_lc = primary_on[primary_on['City'] == 'Gqeberha']\n",
    "low_lc.groupby(['LC Name', 'School'])['Total Sessions'].mean().sort_values(ascending=True).head(20)"
   ]
  },
  {
   "cell_type": "markdown",
   "id": "97afc149-ec09-489b-a96f-3f2236210b0b",
   "metadata": {
    "tags": []
   },
   "source": [
    "### Sessions per ECD"
   ]
  },
  {
   "cell_type": "code",
   "execution_count": 59,
   "id": "23fc233c-a948-4497-9375-41da7ef9ed37",
   "metadata": {
    "tags": []
   },
   "outputs": [
    {
     "data": {
      "text/plain": [
       "School             Grade\n",
       "Kokkewiet          PreR     90.428571\n",
       "Living Ubuntu      PreR     71.545455\n",
       "Sisonke            PreR     68.619048\n",
       "Dorothy            PreR     64.434783\n",
       "Zizamele           PreR     60.217391\n",
       "Bright Angels      PreR     59.722222\n",
       "Green Apple        PreR     54.818182\n",
       "Qaqawuli Godolozi  PreR     54.750000\n",
       "Paulos Oyigcwele   PreR     54.458333\n",
       "Noluthando         PreR     51.208333\n",
       "Lithemba           PreR     50.611111\n",
       "Sinethemba         PreR     49.304348\n",
       "Charles Duna       PreR     46.869565\n",
       "Nobandla           PreR     46.478261\n",
       "Jesus Dominion     PreR     45.913043\n",
       "Nonkqubela         PreR     45.055556\n",
       "Aaron Gqadu        PreR     43.000000\n",
       "Jongilanga         PreR     40.750000\n",
       "Sifunimfundo       PreR     36.565217\n",
       "Seyisi             PreR     33.708333\n",
       "Vukani Daycare     PreR      8.666667\n",
       "Bambino            PreR      7.647059\n",
       "Name: Total Sessions, dtype: float64"
      ]
     },
     "execution_count": 59,
     "metadata": {},
     "output_type": "execute_result"
    }
   ],
   "source": [
    "ecd_on.groupby(['School', 'Grade'])['Total Sessions'].mean().sort_values(ascending=False)"
   ]
  },
  {
   "cell_type": "markdown",
   "id": "c12a341c-0586-49a2-95b8-5ab4cf38f55b",
   "metadata": {
    "tags": []
   },
   "source": [
    "### Sessions per LC (ECD) - Top 20"
   ]
  },
  {
   "cell_type": "code",
   "execution_count": 60,
   "id": "ea80478f-9fb3-46db-9a59-796a9c109aa2",
   "metadata": {
    "tags": []
   },
   "outputs": [
    {
     "data": {
      "text/plain": [
       "LC Name               School           \n",
       "Zolani Bonani         Kokkewiet            90.428571\n",
       "Debonice Malan        Living Ubuntu        71.545455\n",
       "Khanyisa Kuhlane      Sisonke              68.666667\n",
       "Alizwa Tsili          Sisonke              68.555556\n",
       "Khanyisa Mini         Dorothy              67.000000\n",
       "Mahle Sixaso          Zizamele             65.090909\n",
       "Saneliso Ndlovu       Dorothy              61.636364\n",
       "Esihle Jona           Bright Angels        61.000000\n",
       "Phelelwe Nyoka        Green Apple          59.833333\n",
       "Siphokazi Ncwabeni    Sinethemba           58.833333\n",
       "Yibanathi Mpumlwana   Bright Angels        58.444444\n",
       "Chulumanco Boloti     Noluthando           56.166667\n",
       "Sithenkosi Gcolotela  Zizamele             55.750000\n",
       "Sisipho Xhamntwana    Paulos Oyigcwele     55.416667\n",
       "Blessing Muronzi      Qaqawuli Godolozi    55.363636\n",
       "Siphokazi Soxujwa     Lithemba             54.125000\n",
       "Akhona Pita           Qaqawuli Godolozi    54.000000\n",
       "Hazel Khumalo         Paulos Oyigcwele     53.500000\n",
       "Nwabisa Mashawa       Nobandla             51.500000\n",
       "Ncumisa Mselani       Charles Duna         49.500000\n",
       "Name: Total Sessions, dtype: float64"
      ]
     },
     "execution_count": 60,
     "metadata": {},
     "output_type": "execute_result"
    }
   ],
   "source": [
    "ecd_on.groupby(['LC Name', 'School'])['Total Sessions'].mean().sort_values(ascending=False).head(20)"
   ]
  },
  {
   "cell_type": "markdown",
   "id": "7fed1db4-fd14-4f54-b023-97d2350a8bb6",
   "metadata": {},
   "source": [
    "### Sessions per LC (ECD) - Bottom 20"
   ]
  },
  {
   "cell_type": "code",
   "execution_count": 61,
   "id": "598dea4c-c4f3-440c-917e-f80e452877ac",
   "metadata": {
    "tags": []
   },
   "outputs": [
    {
     "data": {
      "text/plain": [
       "LC Name               School        \n",
       "Natolino Takor        Bambino            6.333333\n",
       "Phelokazi Qwazi       Vukani Daycare     7.555556\n",
       "Jacquline Jantjies    Bambino            9.125000\n",
       "Zubenathi Ntshontsho  Vukani Daycare     9.777778\n",
       "Nosipho Gxasheka      Seyisi            23.000000\n",
       "Nelisa Zondani        Seyisi            32.333333\n",
       "Lindokuhle Nobebe     Sifunimfundo      32.833333\n",
       "Nomathamsanqa Mazoka  Seyisi            36.181818\n",
       "Phumla Rasmeni        Jongilanga        36.555556\n",
       "Ntombovuyo Piliso     Sinethemba        38.909091\n",
       "Ethel Mavaivai        Sifunimfundo      40.636364\n",
       "Phelisa Mangesi       Nonkqubela        40.750000\n",
       "Esona Mbanga          Nobandla          41.000000\n",
       "Lolwethu Vice         Jesus Dominion    42.818182\n",
       "Sibonokuhle Lugogo    Aaron Gqadu       42.909091\n",
       "Zintle Majola         Aaron Gqadu       43.090909\n",
       "Sinovuyo Hlulani      Charles Duna      44.000000\n",
       "Siyakhiwa Mesele      Jongilanga        44.181818\n",
       "Thandile Funde        Noluthando        46.250000\n",
       "Siphesihle Biko       Lithemba          47.800000\n",
       "Name: Total Sessions, dtype: float64"
      ]
     },
     "execution_count": 61,
     "metadata": {},
     "output_type": "execute_result"
    }
   ],
   "source": [
    "ecd_on.groupby(['LC Name', 'School'])['Total Sessions'].mean().sort_values(ascending=True).head(20)"
   ]
  },
  {
   "cell_type": "markdown",
   "id": "3c63ad21-9229-49d7-b880-af1e0f6de570",
   "metadata": {
    "tags": []
   },
   "source": [
    "### Standard Deviation of Sessions (Low is good)"
   ]
  },
  {
   "cell_type": "code",
   "execution_count": 78,
   "id": "f0543b6d-be30-47c9-aeff-1d9f7a7f0d23",
   "metadata": {
    "tags": []
   },
   "outputs": [
    {
     "ename": "NameError",
     "evalue": "name 'gbo_ecd_on' is not defined",
     "output_type": "error",
     "traceback": [
      "\u001b[0;31m---------------------------------------------------------------------------\u001b[0m",
      "\u001b[0;31mNameError\u001b[0m                                 Traceback (most recent call last)",
      "Cell \u001b[0;32mIn[78], line 2\u001b[0m\n\u001b[1;32m      1\u001b[0m plt\u001b[38;5;241m.\u001b[39mfigure(figsize\u001b[38;5;241m=\u001b[39m(\u001b[38;5;241m12\u001b[39m,\u001b[38;5;241m6\u001b[39m))\n\u001b[0;32m----> 2\u001b[0m gbo_ecd_on[\u001b[38;5;124m'\u001b[39m\u001b[38;5;124mTotal Sessions\u001b[39m\u001b[38;5;124m'\u001b[39m]\u001b[38;5;241m.\u001b[39mstd()\u001b[38;5;241m.\u001b[39msort_values()\u001b[38;5;241m.\u001b[39mplot(kind\u001b[38;5;241m=\u001b[39m\u001b[38;5;124m\"\u001b[39m\u001b[38;5;124mbar\u001b[39m\u001b[38;5;124m\"\u001b[39m, color\u001b[38;5;241m=\u001b[39mECD_colour)\n\u001b[1;32m      3\u001b[0m plt\u001b[38;5;241m.\u001b[39mtitle(\u001b[38;5;124m\"\u001b[39m\u001b[38;5;124mSession Standard Deviation by ECDC\u001b[39m\u001b[38;5;124m\"\u001b[39m)\n\u001b[1;32m      4\u001b[0m plt\u001b[38;5;241m.\u001b[39mxlabel(\u001b[38;5;124m\"\u001b[39m\u001b[38;5;124m<-----  Good                  Bad  ----->\u001b[39m\u001b[38;5;124m\"\u001b[39m)\n",
      "\u001b[0;31mNameError\u001b[0m: name 'gbo_ecd_on' is not defined"
     ]
    },
    {
     "data": {
      "text/plain": [
       "<Figure size 1200x600 with 0 Axes>"
      ]
     },
     "metadata": {},
     "output_type": "display_data"
    }
   ],
   "source": [
    "\n",
    "\n",
    "plt.figure(figsize=(12,6))\n",
    "gbo_ecd_on['Total Sessions'].std().sort_values().plot(kind=\"bar\", color=ECD_colour)\n",
    "plt.title(\"Session Standard Deviation by ECDC\")\n",
    "plt.xlabel(\"<-----  Good                  Bad  ----->\")"
   ]
  },
  {
   "cell_type": "markdown",
   "id": "a7ad07d3-c4f5-4802-a378-433b9d16997f",
   "metadata": {},
   "source": [
    "# ASSESSMENTS"
   ]
  },
  {
   "cell_type": "markdown",
   "id": "8a8f9ead-47b6-427d-ada1-5dc1f03112b0",
   "metadata": {
    "tags": []
   },
   "source": [
    "### Jan Assessment Percentages\n"
   ]
  },
  {
   "cell_type": "code",
   "execution_count": 63,
   "id": "9a457610-4b8f-4c64-b82b-64d27a8dd2d5",
   "metadata": {
    "tags": []
   },
   "outputs": [
    {
     "data": {
      "text/html": [
       "<div>\n",
       "<style scoped>\n",
       "    .dataframe tbody tr th:only-of-type {\n",
       "        vertical-align: middle;\n",
       "    }\n",
       "\n",
       "    .dataframe tbody tr th {\n",
       "        vertical-align: top;\n",
       "    }\n",
       "\n",
       "    .dataframe thead th {\n",
       "        text-align: right;\n",
       "    }\n",
       "</style>\n",
       "<table border=\"1\" class=\"dataframe\">\n",
       "  <thead>\n",
       "    <tr style=\"text-align: right;\">\n",
       "      <th></th>\n",
       "      <th>Number of Children</th>\n",
       "      <th>Number of Children Assessed</th>\n",
       "      <th>Percentage Assessed</th>\n",
       "    </tr>\n",
       "    <tr>\n",
       "      <th>School</th>\n",
       "      <th></th>\n",
       "      <th></th>\n",
       "      <th></th>\n",
       "    </tr>\n",
       "  </thead>\n",
       "  <tbody>\n",
       "    <tr>\n",
       "      <th>Astra</th>\n",
       "      <td>250</td>\n",
       "      <td>248</td>\n",
       "      <td>99.200000</td>\n",
       "    </tr>\n",
       "    <tr>\n",
       "      <th>Charles Duna</th>\n",
       "      <td>265</td>\n",
       "      <td>260</td>\n",
       "      <td>98.113208</td>\n",
       "    </tr>\n",
       "    <tr>\n",
       "      <th>Mzingisi</th>\n",
       "      <td>46</td>\n",
       "      <td>45</td>\n",
       "      <td>97.826087</td>\n",
       "    </tr>\n",
       "    <tr>\n",
       "      <th>St Augustines</th>\n",
       "      <td>108</td>\n",
       "      <td>105</td>\n",
       "      <td>97.222222</td>\n",
       "    </tr>\n",
       "    <tr>\n",
       "      <th>Isaac Booi</th>\n",
       "      <td>547</td>\n",
       "      <td>528</td>\n",
       "      <td>96.526508</td>\n",
       "    </tr>\n",
       "    <tr>\n",
       "      <th>Sandwater</th>\n",
       "      <td>52</td>\n",
       "      <td>50</td>\n",
       "      <td>96.153846</td>\n",
       "    </tr>\n",
       "    <tr>\n",
       "      <th>Phakamile</th>\n",
       "      <td>171</td>\n",
       "      <td>164</td>\n",
       "      <td>95.906433</td>\n",
       "    </tr>\n",
       "    <tr>\n",
       "      <th>Zukisa</th>\n",
       "      <td>34</td>\n",
       "      <td>32</td>\n",
       "      <td>94.117647</td>\n",
       "    </tr>\n",
       "    <tr>\n",
       "      <th>Seyisi</th>\n",
       "      <td>358</td>\n",
       "      <td>320</td>\n",
       "      <td>89.385475</td>\n",
       "    </tr>\n",
       "    <tr>\n",
       "      <th>Clarkson</th>\n",
       "      <td>231</td>\n",
       "      <td>205</td>\n",
       "      <td>88.744589</td>\n",
       "    </tr>\n",
       "    <tr>\n",
       "      <th>Ebongweni</th>\n",
       "      <td>102</td>\n",
       "      <td>90</td>\n",
       "      <td>88.235294</td>\n",
       "    </tr>\n",
       "    <tr>\n",
       "      <th>Fumisukoma</th>\n",
       "      <td>736</td>\n",
       "      <td>644</td>\n",
       "      <td>87.500000</td>\n",
       "    </tr>\n",
       "    <tr>\n",
       "      <th>Empumalanga</th>\n",
       "      <td>255</td>\n",
       "      <td>218</td>\n",
       "      <td>85.490196</td>\n",
       "    </tr>\n",
       "    <tr>\n",
       "      <th>Molefe</th>\n",
       "      <td>56</td>\n",
       "      <td>47</td>\n",
       "      <td>83.928571</td>\n",
       "    </tr>\n",
       "    <tr>\n",
       "      <th>Aaron Gqadu</th>\n",
       "      <td>56</td>\n",
       "      <td>47</td>\n",
       "      <td>83.928571</td>\n",
       "    </tr>\n",
       "    <tr>\n",
       "      <th>Ben Sinuka</th>\n",
       "      <td>113</td>\n",
       "      <td>92</td>\n",
       "      <td>81.415929</td>\n",
       "    </tr>\n",
       "    <tr>\n",
       "      <th>Khanyisa</th>\n",
       "      <td>76</td>\n",
       "      <td>57</td>\n",
       "      <td>75.000000</td>\n",
       "    </tr>\n",
       "  </tbody>\n",
       "</table>\n",
       "</div>"
      ],
      "text/plain": [
       "               Number of Children  Number of Children Assessed  \\\n",
       "School                                                           \n",
       "Astra                         250                          248   \n",
       "Charles Duna                  265                          260   \n",
       "Mzingisi                       46                           45   \n",
       "St Augustines                 108                          105   \n",
       "Isaac Booi                    547                          528   \n",
       "Sandwater                      52                           50   \n",
       "Phakamile                     171                          164   \n",
       "Zukisa                         34                           32   \n",
       "Seyisi                        358                          320   \n",
       "Clarkson                      231                          205   \n",
       "Ebongweni                     102                           90   \n",
       "Fumisukoma                    736                          644   \n",
       "Empumalanga                   255                          218   \n",
       "Molefe                         56                           47   \n",
       "Aaron Gqadu                    56                           47   \n",
       "Ben Sinuka                    113                           92   \n",
       "Khanyisa                       76                           57   \n",
       "\n",
       "               Percentage Assessed  \n",
       "School                              \n",
       "Astra                    99.200000  \n",
       "Charles Duna             98.113208  \n",
       "Mzingisi                 97.826087  \n",
       "St Augustines            97.222222  \n",
       "Isaac Booi               96.526508  \n",
       "Sandwater                96.153846  \n",
       "Phakamile                95.906433  \n",
       "Zukisa                   94.117647  \n",
       "Seyisi                   89.385475  \n",
       "Clarkson                 88.744589  \n",
       "Ebongweni                88.235294  \n",
       "Fumisukoma               87.500000  \n",
       "Empumalanga              85.490196  \n",
       "Molefe                   83.928571  \n",
       "Aaron Gqadu              83.928571  \n",
       "Ben Sinuka               81.415929  \n",
       "Khanyisa                 75.000000  "
      ]
     },
     "execution_count": 63,
     "metadata": {},
     "output_type": "execute_result"
    }
   ],
   "source": [
    "primary = children[children['Grade'] != 'PreR']\n",
    "primary_on = primary[primary['On The Programme'] == 'Yes']\n",
    "\n",
    "gbo_primary = children[children['Grade'] != 'PreR'].groupby('School')\n",
    "gbo_primary_on = primary[primary['On The Programme'] == 'Yes'].groupby('School')\n",
    "\n",
    "total_children = gbo_primary['Full Name'].count()\n",
    "total_children_assessed = gbo_primary['Jan - Phonics'].count()\n",
    "\n",
    "percent_assessed = (total_children_assessed / total_children) * 100\n",
    "\n",
    "\n",
    "df_assessed = pd.DataFrame({'Number of Children': total_children, \n",
    "                          'Number of Children Assessed': total_children_assessed, \n",
    "                          'Percentage Assessed': percent_assessed})\n",
    "df_assessed.sort_values('Percentage Assessed', ascending=False)"
   ]
  },
  {
   "cell_type": "markdown",
   "id": "234bf17d-18f6-4cdb-b8c3-d8fb54bc96d0",
   "metadata": {
    "tags": []
   },
   "source": [
    "### Jan ECD Assessments"
   ]
  },
  {
   "cell_type": "code",
   "execution_count": null,
   "id": "f2a02dc1-ba9c-47b9-a0b0-1151d783a86a",
   "metadata": {
    "tags": []
   },
   "outputs": [],
   "source": [
    "gbo_ecd = children[children['Grade'] == 'PreR'].groupby('School')\n",
    "gbo_ecd_on = ecd[ecd['On The Programme'] == 'Yes'].groupby('School')\n",
    "\n",
    "total_children = gbo_ecd_on['Full Name'].count()\n",
    "total_children_assessed = gbo_ecd_on['Jan - Phonics'].count()\n",
    "\n",
    "percent_assessed = (total_children_assessed / total_children) * 100\n",
    "\n",
    "\n",
    "df_assessed = pd.DataFrame({'Number of Children': total_children, \n",
    "                          'Number of Children Assessed': total_children_assessed, \n",
    "                          'Percentage Assessed': percent_assessed})\n",
    "df_assessed.sort_values('Percentage Assessed', ascending=False)"
   ]
  },
  {
   "cell_type": "markdown",
   "id": "a1a13f92-fde6-438c-9a76-1121b8fd7b73",
   "metadata": {},
   "source": [
    "### Low Assessment Grades (Under 85%)"
   ]
  },
  {
   "cell_type": "code",
   "execution_count": null,
   "id": "4461393f-f34e-429b-b234-6fac1f311889",
   "metadata": {
    "tags": []
   },
   "outputs": [],
   "source": [
    "gbo_grade = primary.groupby(['School', 'Grade'])\n",
    "total_children_grade = gbo_grade['Full Name'].count()\n",
    "total_children_grade_assessed = gbo_grade['Jan - Total'].count()\n",
    "\n",
    "percent_assessed_grade = (total_children_grade_assessed / total_children_grade) * 100\n",
    "\n",
    "\n",
    "df_assessed_grade = pd.DataFrame({'Number of Children': total_children_grade, \n",
    "                          'Number of Children Assessed': total_children_grade_assessed, \n",
    "                          'Percentage Assessed': percent_assessed_grade})\n",
    "\n",
    "# df_assessed_grade\n",
    "df_assessed_grade[df_assessed_grade['Percentage Assessed'] < 85]"
   ]
  },
  {
   "cell_type": "markdown",
   "id": "405c9fb4-736f-4b21-b233-31c90e44df62",
   "metadata": {},
   "source": [
    "### June Assessment Percentages"
   ]
  },
  {
   "cell_type": "code",
   "execution_count": null,
   "id": "8573a19d-2022-42c7-a5ca-bda0bec883dd",
   "metadata": {
    "tags": []
   },
   "outputs": [],
   "source": [
    "#Note in January we are only assessing children on the programme\n",
    "\n",
    "primary = children[children['Grade'] != 'PreR']\n",
    "primary_on = primary[primary['On The Programme'] == 'Yes']\n",
    "\n",
    "gbo_primary = children[children['Grade'] != 'PreR'].groupby('School')\n",
    "gbo_primary_on = primary[primary['On The Programme'] == 'Yes'].groupby('School')\n",
    "\n",
    "total_children = gbo_primary_on['Full Name'].count()\n",
    "total_children_assessed = gbo_primary_on['June - Phonics'].count()\n",
    "\n",
    "percent_assessed = (total_children_assessed / total_children) * 100\n",
    "\n",
    "\n",
    "df_assessed = pd.DataFrame({'Number of Children': total_children, \n",
    "                          'Number of Children Assessed': total_children_assessed, \n",
    "                          'Percentage Assessed': percent_assessed})\n",
    "df_assessed.sort_values('Percentage Assessed', ascending=False)"
   ]
  },
  {
   "cell_type": "markdown",
   "id": "384eab37-ef85-482b-bb0f-7afc8d38932f",
   "metadata": {},
   "source": [
    "### June ECD Assessments"
   ]
  },
  {
   "cell_type": "code",
   "execution_count": null,
   "id": "977d19a8-cfd3-4bba-bb8f-ba865639b851",
   "metadata": {
    "tags": []
   },
   "outputs": [],
   "source": [
    "gbo_ecd = children[children['Grade'] == 'PreR'].groupby('School')\n",
    "gbo_ecd_on = ecd[ecd['On The Programme'] == 'Yes'].groupby('School')\n",
    "\n",
    "total_children = gbo_ecd_on['Full Name'].count()\n",
    "total_children_assessed = gbo_ecd_on['June - Phonics'].count()\n",
    "\n",
    "percent_assessed = (total_children_assessed / total_children) * 100\n",
    "\n",
    "\n",
    "df_assessed = pd.DataFrame({'Number of Children': total_children, \n",
    "                          'Number of Children Assessed': total_children_assessed, \n",
    "                          'Percentage Assessed': percent_assessed})\n",
    "df_assessed.sort_values('Percentage Assessed', ascending=False)"
   ]
  },
  {
   "cell_type": "markdown",
   "id": "350db0b6-c54c-4278-9c22-f3b76cbf8de8",
   "metadata": {},
   "source": [
    "### Low Assessment Grades"
   ]
  },
  {
   "cell_type": "code",
   "execution_count": null,
   "id": "baa1fa6e-a5fc-4d8b-8a8c-c46eeecb6006",
   "metadata": {
    "tags": []
   },
   "outputs": [],
   "source": [
    "gbo_grade = primary_on.groupby(['School', 'Grade'])\n",
    "total_children_grade = gbo_grade['Full Name'].count()\n",
    "total_children_grade_assessed = gbo_grade['June - Total'].count()\n",
    "\n",
    "percent_assessed_grade = (total_children_grade_assessed / total_children_grade) * 100\n",
    "\n",
    "\n",
    "df_assessed_grade = pd.DataFrame({'Number of Children': total_children_grade, \n",
    "                          'Number of Children Assessed': total_children_grade_assessed, \n",
    "                          'Percentage Assessed': percent_assessed_grade})\n",
    "\n",
    "# df_assessed_grade\n",
    "df_assessed_grade[df_assessed_grade['Percentage Assessed'] < 85]"
   ]
  },
  {
   "cell_type": "code",
   "execution_count": null,
   "id": "c0ed8a9a-de8d-45a2-8d51-3c8dbf2da0e5",
   "metadata": {},
   "outputs": [],
   "source": [
    "# Export PDFs of Children Not Assessed - Check This Code\n",
    "# import os\n",
    "# import pandas as pd\n",
    "# from fpdf import FPDF\n",
    "\n",
    "# # Group by 'Schools' and 'Grade', and filter for records where 'Jan - Total' is NaN\n",
    "# primary_nan = primary[primary['Jan - Total'].isnull()]\n",
    "# gbo_school_grade = primary_nan.groupby(['Schools', 'Grade'])\n",
    "\n",
    "# # Loop through each unique school in the 'Schools' column\n",
    "# for school in primary_nan['Schools'].unique():\n",
    "    \n",
    "#     # Create a PDF for the current school\n",
    "#     pdf = FPDF()\n",
    "#     pdf.add_page()\n",
    "#     pdf.set_font('Arial', 'B', 16)\n",
    "#     pdf.cell(0, 10, f\"List of Children Not Assessed at {school}\", 0, 1)\n",
    "#     pdf.set_font('Arial', '', 12)\n",
    "\n",
    "#         # Loop through each unique grade for the current school\n",
    "#     for grade in primary_nan[primary_nan['Schools'] == school]['Grade'].unique():\n",
    "\n",
    "#         # Get the list of children for the current school and grade\n",
    "#         children_list = gbo_school_grade.get_group((school, grade))['Full Name'].tolist()\n",
    "\n",
    "#         # Add the list of children to the PDF\n",
    "#         pdf.cell(0, 10, f\"{grade.upper()}:\", 0, 1)\n",
    "#         for child in children_list:\n",
    "#             pdf.cell(0, 10, str(child), 0, 1)\n",
    "\n",
    "#     # Save the PDF for the current school\n",
    "#     pdf_file_name = f\"{school} Children Not Assessed.pdf\"\n",
    "#     pdf.output(pdf_file_name, 'F')\n",
    "\n",
    "# print(f\"{pdf_file_name} saved successfully.\")\n"
   ]
  },
  {
   "cell_type": "markdown",
   "id": "66e93e85-07cc-4a13-b99b-0190853fbd44",
   "metadata": {
    "tags": []
   },
   "source": [
    "# CHECKING LCs"
   ]
  },
  {
   "cell_type": "code",
   "execution_count": 64,
   "id": "adb53628-1053-4cfa-aaa3-ac24e058bae8",
   "metadata": {
    "tags": []
   },
   "outputs": [
    {
     "data": {
      "text/html": [
       "<div>\n",
       "<style scoped>\n",
       "    .dataframe tbody tr th:only-of-type {\n",
       "        vertical-align: middle;\n",
       "    }\n",
       "\n",
       "    .dataframe tbody tr th {\n",
       "        vertical-align: top;\n",
       "    }\n",
       "\n",
       "    .dataframe thead th {\n",
       "        text-align: right;\n",
       "    }\n",
       "</style>\n",
       "<table border=\"1\" class=\"dataframe\">\n",
       "  <thead>\n",
       "    <tr style=\"text-align: right;\">\n",
       "      <th></th>\n",
       "      <th>LC Name</th>\n",
       "      <th>School</th>\n",
       "      <th>Num of Children</th>\n",
       "    </tr>\n",
       "  </thead>\n",
       "  <tbody>\n",
       "    <tr>\n",
       "      <th>140</th>\n",
       "      <td>Zolani Bonani</td>\n",
       "      <td>Kokkewiet</td>\n",
       "      <td>7</td>\n",
       "    </tr>\n",
       "    <tr>\n",
       "      <th>114</th>\n",
       "      <td>Sisipho Ntisa</td>\n",
       "      <td>Fumisukoma</td>\n",
       "      <td>7</td>\n",
       "    </tr>\n",
       "    <tr>\n",
       "      <th>96</th>\n",
       "      <td>Sibulele Ngcobo</td>\n",
       "      <td>St Augustines</td>\n",
       "      <td>7</td>\n",
       "    </tr>\n",
       "    <tr>\n",
       "      <th>44</th>\n",
       "      <td>Lathitha Skosana</td>\n",
       "      <td>Clarkson</td>\n",
       "      <td>13</td>\n",
       "    </tr>\n",
       "  </tbody>\n",
       "</table>\n",
       "</div>"
      ],
      "text/plain": [
       "              LC Name         School  Num of Children\n",
       "140     Zolani Bonani      Kokkewiet                7\n",
       "114     Sisipho Ntisa     Fumisukoma                7\n",
       "96    Sibulele Ngcobo  St Augustines                7\n",
       "44   Lathitha Skosana       Clarkson               13"
      ]
     },
     "execution_count": 64,
     "metadata": {},
     "output_type": "execute_result"
    }
   ],
   "source": [
    "program_yes = children[(children['On The Programme'] == 'Yes') & (children['LC Name'] != 'Graduated') ]\n",
    "lc_program_counts = program_yes.groupby(['LC Name', 'School']).size().reset_index(name=\"Num of Children\").sort_values(\"Num of Children\")\n",
    "lc_program_counts[~lc_program_counts['Num of Children'].between(8,12)]"
   ]
  },
  {
   "cell_type": "markdown",
   "id": "80ffbfaf-2613-4042-a19c-74c8f5fc6f3a",
   "metadata": {
    "tags": []
   },
   "source": [
    "#### Breakdown of LC: Child Ratios"
   ]
  },
  {
   "cell_type": "code",
   "execution_count": 65,
   "id": "f0c6876c-98ef-405b-926b-ee9bb8ec27ab",
   "metadata": {
    "tags": []
   },
   "outputs": [
    {
     "data": {
      "text/plain": [
       "Num of Children\n",
       "12    61\n",
       "11    32\n",
       "10    19\n",
       "9     15\n",
       "8     12\n",
       "7      3\n",
       "13     1\n",
       "Name: count, dtype: int64"
      ]
     },
     "execution_count": 65,
     "metadata": {},
     "output_type": "execute_result"
    }
   ],
   "source": [
    "lc_program_counts['Num of Children'].value_counts()"
   ]
  },
  {
   "cell_type": "markdown",
   "id": "015191d4-c97d-43a2-b35f-39275fe6a787",
   "metadata": {},
   "source": [
    "### Total Sessions by LCs ECDCs"
   ]
  },
  {
   "cell_type": "code",
   "execution_count": 66,
   "id": "05686092-656e-48b3-8293-1afff04c10dd",
   "metadata": {
    "tags": []
   },
   "outputs": [
    {
     "data": {
      "text/plain": [
       "School             LC Name             \n",
       "Sisonke            Khanyisa Kuhlane        824.0\n",
       "Dorothy            Khanyisa Mini           804.0\n",
       "Living Ubuntu      Debonice Malan          787.0\n",
       "Green Apple        Phelelwe Nyoka          718.0\n",
       "Zizamele           Mahle Sixaso            716.0\n",
       "Sinethemba         Siphokazi Ncwabeni      706.0\n",
       "Dorothy            Saneliso Ndlovu         678.0\n",
       "Noluthando         Chulumanco Boloti       674.0\n",
       "Zizamele           Sithenkosi Gcolotela    669.0\n",
       "Paulos Oyigcwele   Sisipho Xhamntwana      665.0\n",
       "                   Hazel Khumalo           642.0\n",
       "Kokkewiet          Zolani Bonani           633.0\n",
       "Nobandla           Nwabisa Mashawa         618.0\n",
       "Sisonke            Alizwa Tsili            617.0\n",
       "Qaqawuli Godolozi  Blessing Muronzi        609.0\n",
       "Charles Duna       Ncumisa Mselani         594.0\n",
       "Jesus Dominion     Yandisa Ntsumpa         585.0\n",
       "Noluthando         Thandile Funde          555.0\n",
       "Bright Angels      Esihle Jona             549.0\n",
       "                   Yibanathi Mpumlwana     526.0\n",
       "Green Apple        Basanele Hlwempu        488.0\n",
       "Qaqawuli Godolozi  Akhona Pita             486.0\n",
       "Jongilanga         Siyakhiwa Mesele        486.0\n",
       "Nonkqubela         Sanelisiwe Nonkwe       485.0\n",
       "Charles Duna       Sinovuyo Hlulani        484.0\n",
       "Lithemba           Siphesihle Biko         478.0\n",
       "Aaron Gqadu        Zintle Majola           474.0\n",
       "                   Sibonokuhle Lugogo      472.0\n",
       "Jesus Dominion     Lolwethu Vice           471.0\n",
       "Nobandla           Esona Mbanga            451.0\n",
       "Sifunimfundo       Ethel Mavaivai          447.0\n",
       "Lithemba           Siphokazi Soxujwa       433.0\n",
       "Sinethemba         Ntombovuyo Piliso       428.0\n",
       "Seyisi             Nomathamsanqa Mazoka    398.0\n",
       "Sifunimfundo       Lindokuhle Nobebe       394.0\n",
       "Seyisi             Nelisa Zondani          388.0\n",
       "Jongilanga         Phumla Rasmeni          329.0\n",
       "Nonkqubela         Phelisa Mangesi         326.0\n",
       "Vukani Daycare     Zubenathi Ntshontsho     88.0\n",
       "Bambino            Jacquline Jantjies       73.0\n",
       "Vukani Daycare     Phelokazi Qwazi          68.0\n",
       "Bambino            Natolino Takor           57.0\n",
       "Seyisi             Nosipho Gxasheka         23.0\n",
       "Name: Total Sessions, dtype: float64"
      ]
     },
     "execution_count": 66,
     "metadata": {},
     "output_type": "execute_result"
    }
   ],
   "source": [
    "ecd = children[children['Grade'] == 'PreR']\n",
    "ecd_on = ecd[ecd['On The Programme'] == 'Yes']\n",
    "ecd_on.groupby(['School', 'LC Name'])['Total Sessions'].sum().sort_values(ascending=False)"
   ]
  },
  {
   "cell_type": "markdown",
   "id": "175420fa-cf14-4db8-bb5f-2c2b109f904e",
   "metadata": {
    "tags": []
   },
   "source": [
    "### Total Sessions by LCs Primary"
   ]
  },
  {
   "cell_type": "code",
   "execution_count": 70,
   "id": "0c5c5ce7-ea93-4520-818e-759836eba609",
   "metadata": {
    "tags": []
   },
   "outputs": [],
   "source": [
    "def sessions_per_lc():\n",
    "    primary = children[children['Grade'] != 'PreR']\n",
    "    primary_on = primary[primary['On The Programme'] == 'Yes']\n",
    "    return primary_on.groupby(['School', 'LC Name'])['Total Sessions'].sum().sort_values(ascending=False)"
   ]
  },
  {
   "cell_type": "code",
   "execution_count": 71,
   "id": "92d1aea3-7a50-4547-8746-cf73da393af6",
   "metadata": {},
   "outputs": [
    {
     "data": {
      "text/plain": [
       "School         LC Name                     \n",
       "Seyisi         Siphosethu Mlenze               395.0\n",
       "Isaac Booi     Sisipho Wali                    392.0\n",
       "               Zimkhitha Matole                372.0\n",
       "Ben Sinuka     Ntlakanipho Ngqondi             367.0\n",
       "Seyisi         Phaphama Kolisi                 366.0\n",
       "Sandwater      Marizanne Mzangwa               357.0\n",
       "Seyisi         Sihle Bunu                      348.0\n",
       "Isaac Booi     Seluleko Mvabi                  340.0\n",
       "               Siyamthanda Shevan Palamente    337.0\n",
       "               Sinethemba Maxwell Mofu         337.0\n",
       "               Siya Matola                     335.0\n",
       "Aaron Gqadu    Lithalethu Manga                334.0\n",
       "Seyisi         Thenjiwe Shushu                 333.0\n",
       "               Dolly Msizi                     333.0\n",
       "Fumisukoma     Esethu Mantakana                327.0\n",
       "               Nandipha Putela                 323.0\n",
       "Seyisi         Alizwa Tsili                    319.0\n",
       "Isaac Booi     Sinombulelo Mali                318.0\n",
       "Seyisi         Asanele Somhlahlo               314.0\n",
       "Fumisukoma     Sinazo Maxaza                   314.0\n",
       "St Augustines  Nokubonga Nguty                 312.0\n",
       "Charles Duna   Sibahle Buwa                    310.0\n",
       "Ebongweni      Siphephelo Mkuli                310.0\n",
       "Charles Duna   Nandipha Princess Brikwa        309.0\n",
       "Fumisukoma     Anelisa Nakani                  308.0\n",
       "               Silindokuhle Hlolimpi           308.0\n",
       "Isaac Booi     Lizalise Baliwe                 307.0\n",
       "Fumisukoma     Lisakhanya Mahleza              305.0\n",
       "St Augustines  Sibulele Ngcobo                 303.0\n",
       "Seyisi         Noluyolo Nyati                  302.0\n",
       "Isaac Booi     Anam Mabangula                  302.0\n",
       "St Augustines  Masande Tyali                   302.0\n",
       "               Xabiso Xaba                     301.0\n",
       "Charles Duna   Siyamthanda Masala              300.0\n",
       "Isaac Booi     Viwe Gloria Mke                 300.0\n",
       "Fumisukoma     Sizole Zimba                    299.0\n",
       "Isaac Booi     Nominentle Magwa                299.0\n",
       "               Anita Ngceza                    299.0\n",
       "Ben Sinuka     Sinazo Moabi                    299.0\n",
       "Fumisukoma     Liyema Tom                      297.0\n",
       "Molefe         Babalwa Lindi                   296.0\n",
       "Ben Sinuka     Mihle Gunguluza                 296.0\n",
       "Charles Duna   Philasande Moshoeshoe           295.0\n",
       "               Sanele Dyasi                    291.0\n",
       "Seyisi         Sinazo Jwara                    291.0\n",
       "Fumisukoma     Ntombizandile Ngamntwini        289.0\n",
       "Ebongweni      Sinethemba Msizi                287.0\n",
       "Seyisi         Asenathi Phiri                  282.0\n",
       "Ebongweni      Fikiswa Rhayiza                 280.0\n",
       "Charles Duna   Emihle Lucas                    280.0\n",
       "Aaron Gqadu    Onwabile Bebe                   280.0\n",
       "               Bongiwe Nontsinga               274.0\n",
       "Charles Duna   Sinazo Njokweni                 274.0\n",
       "               Lutho Ngqokwe                   270.0\n",
       "Empumalanga    Anelisa Nowala                  269.0\n",
       "Fumisukoma     Elam Xalipi                     264.0\n",
       "Sandwater      Zikhona Gomo                    248.0\n",
       "Fumisukoma     Sisipho Ntisa                   245.0\n",
       "               Athenkosi Jodwana               240.0\n",
       "Empumalanga    Sibabalwe Ngcobo                235.0\n",
       "Seyisi         Nosipho Gxasheka                228.0\n",
       "Sandwater      Jasmine Lodewyk                 226.0\n",
       "Molefe         Misokuhle Sogiba                218.0\n",
       "Aaron Gqadu    Zikhona Blauw                   204.0\n",
       "Khanyisa       Zanele Qoboka                   201.0\n",
       "Ebongweni      Anathi Nqono                    200.0\n",
       "Ben Sinuka     Luphumzo Bassie                 197.0\n",
       "Sandwater      Daniellen Goeda                 193.0\n",
       "Clarkson       Lathitha Skosana                187.0\n",
       "Empumalanga    Mihlali Giya                    185.0\n",
       "Khanyisa       Khanyisa Maci                   174.0\n",
       "Empumalanga    Anesipho Budaza                 171.0\n",
       "Clarkson       Bianca Goeda                    163.0\n",
       "               Zongezile Gcilitshane           156.0\n",
       "Empumalanga    Noluthando Kondile              156.0\n",
       "Clarkson       Tasmia Alla                     150.0\n",
       "               Sinovuyo Nyanda                 145.0\n",
       "Molefe         Lisakhanya Mboniso              145.0\n",
       "Zukisa         Yonela Moni                     143.0\n",
       "Clarkson       Kariena Tsaoane                 138.0\n",
       "Zukisa         Lisalethu Mngqi                 135.0\n",
       "Phakamile      Sisanda Ngxalo                  131.0\n",
       "Mzingisi       Mthabiseng Ngalo                124.0\n",
       "Zukisa         Siyamthanda Mpambana            122.0\n",
       "Clarkson       Bridgette Gamede                121.0\n",
       "Phakamile      Bongolethu Mani                 120.0\n",
       "Mzingisi       Zandile Maqokolo                114.0\n",
       "Clarkson       Jonty Lawack                    114.0\n",
       "Zukisa         Achuma Philani                  113.0\n",
       "Phakamile      Siyanda Wabena                  111.0\n",
       "Molefe         Lihlumelo Gaba                  110.0\n",
       "Astra          Jennelee Ruth Noah               93.0\n",
       "Clarkson       Vicky-Lee Cunningham             91.0\n",
       "               Shaunney Nyondo                  85.0\n",
       "Astra          Cheslean Warney                  83.0\n",
       "Phakamile      Liko Mini                        82.0\n",
       "Astra          Shenaaz Britz                    82.0\n",
       "               Denise Donay                     79.0\n",
       "Clarkson       La-Mique Wolfkop                 70.0\n",
       "Astra          Saudah Davids                    69.0\n",
       "Mzingisi       Athini Xakekile                  46.0\n",
       "Seyisi         Nomathamsanqa Mazoka             35.0\n",
       "Name: Total Sessions, dtype: float64"
      ]
     },
     "execution_count": 71,
     "metadata": {},
     "output_type": "execute_result"
    }
   ],
   "source": [
    "session_per_lc()"
   ]
  },
  {
   "cell_type": "markdown",
   "id": "c766ac3a-9965-426c-8833-651d7212fd7b",
   "metadata": {},
   "source": [
    "# RESULTS CHECKS"
   ]
  },
  {
   "cell_type": "markdown",
   "id": "36a2d1b8-bd2e-43a2-af02-6f63d511c809",
   "metadata": {
    "tags": []
   },
   "source": [
    "### First Sound Drop Offs (Primary)\n",
    "##### (Uncomment .csv if export wanted)"
   ]
  },
  {
   "cell_type": "code",
   "execution_count": null,
   "id": "3dae2aad-e054-4591-8ab0-fcf80f9e0b6d",
   "metadata": {
    "tags": []
   },
   "outputs": [],
   "source": [
    "children[['Full Name', 'School','Grade','Total Sessions','June - Listen First Sound Improvement']].sort_values('June - Listen First Sound Improvement').head(15)\n",
    "# children[['Full Name', 'School','Grade','Total Sessions','June - Listen First Sound Improvement']].sort_values('June - Listen First Sound Improvement').to_csv(\"Listen First Sound Checks.csv\", index=False)"
   ]
  },
  {
   "cell_type": "markdown",
   "id": "aeff98c8-3d9f-46b3-95b0-6fa26a1ae287",
   "metadata": {},
   "source": [
    "### Phonics Drop Offs (Primary)\n",
    "##### (Uncomment .csv if export wanted)"
   ]
  },
  {
   "cell_type": "code",
   "execution_count": null,
   "id": "6264c103-3101-4af8-91ff-5ce96eb00ef3",
   "metadata": {
    "tags": []
   },
   "outputs": [],
   "source": [
    "# children[['Full Name', 'School','Grade','Total Sessions','June - Phonics Improvement']].sort_values('June - Phonics Improvement').to_csv(\"Phonics Checks.csv\", index=False)\n",
    "children[['Full Name', 'School','Grade','Total Sessions','June - Phonics Improvement']].sort_values('June - Phonics Improvement').head(15)"
   ]
  },
  {
   "cell_type": "markdown",
   "id": "2eadbe98-210d-4bfb-89d9-acaafc9b2c85",
   "metadata": {},
   "source": [
    "### Total Drop Offs (Primary)\n",
    "##### (Uncomment .csv if export wanted)"
   ]
  },
  {
   "cell_type": "code",
   "execution_count": null,
   "id": "6c8f787b-b8d6-43db-9c35-f49eba4b2578",
   "metadata": {
    "tags": []
   },
   "outputs": [],
   "source": [
    "primary_check = primary_on[primary_on['June - Listen First Sound'].notna()]\n",
    "# primary_check[['Full Name', 'School','Grade','Total Sessions','Jan - Total', 'June - Total','June - Total Improvement']].sort_values('June - Total Improvement').to_csv(\"Total Improvement Checks.csv\", index=False)\n",
    "primary_check[['Full Name', 'School','Grade','Total Sessions','Jan - Total', 'June - Total','June - Total Improvement']].sort_values('June - Total Improvement').head(15)"
   ]
  },
  {
   "cell_type": "markdown",
   "id": "72e0a6d7-3b5a-4890-8887-3bdcbba36c05",
   "metadata": {},
   "source": [
    "### Reading Drop Offs (Primary)\n",
    "##### (Uncomment .csv if export wanted)"
   ]
  },
  {
   "cell_type": "code",
   "execution_count": null,
   "id": "9a4e1fcc-df23-406d-a7d0-9a40f3fbda32",
   "metadata": {
    "tags": []
   },
   "outputs": [],
   "source": [
    "primary_check = primary_on[primary_on['June - Listen First Sound'].notna()]\n",
    "# primary_check[['Full Name', 'School','Grade','Total Sessions','Jan - Read Story', 'June - Read Story','June - Read Story Improvement']].sort_values('June - Read Story Improvement').to_csv(\"Reading Improvement Checks.csv\", index=False)\n",
    "primary_check[['Full Name', 'School','Grade','Total Sessions','Jan - Read Story', 'June - Read Story','June - Read Story Improvement']].sort_values('June - Read Story Improvement').head(15)"
   ]
  },
  {
   "cell_type": "markdown",
   "id": "b0c38997-9444-4cc8-bc52-27171aeb1b09",
   "metadata": {},
   "source": [
    "### All Children: Write Letters but Can't Read\n",
    "##### (Uncomment .csv if export wanted)"
   ]
  },
  {
   "cell_type": "code",
   "execution_count": 80,
   "id": "b6a05ec9-49d2-4563-88b0-eb0a624b6e26",
   "metadata": {
    "tags": []
   },
   "outputs": [
    {
     "data": {
      "text/html": [
       "<div>\n",
       "<style scoped>\n",
       "    .dataframe tbody tr th:only-of-type {\n",
       "        vertical-align: middle;\n",
       "    }\n",
       "\n",
       "    .dataframe tbody tr th {\n",
       "        vertical-align: top;\n",
       "    }\n",
       "\n",
       "    .dataframe thead th {\n",
       "        text-align: right;\n",
       "    }\n",
       "</style>\n",
       "<table border=\"1\" class=\"dataframe\">\n",
       "  <thead>\n",
       "    <tr style=\"text-align: right;\">\n",
       "      <th></th>\n",
       "      <th>Full Name</th>\n",
       "      <th>School</th>\n",
       "      <th>Grade</th>\n",
       "      <th>Total Sessions</th>\n",
       "      <th>June - Written Letters</th>\n",
       "      <th>June - Phonics</th>\n",
       "      <th>Write_Read_Dif</th>\n",
       "    </tr>\n",
       "  </thead>\n",
       "  <tbody>\n",
       "    <tr>\n",
       "      <th>1404</th>\n",
       "      <td>Bhalasane Solulele</td>\n",
       "      <td>Seyisi</td>\n",
       "      <td>Grade 1</td>\n",
       "      <td>32.0</td>\n",
       "      <td>25.0</td>\n",
       "      <td>0.0</td>\n",
       "      <td>25.0</td>\n",
       "    </tr>\n",
       "    <tr>\n",
       "      <th>466</th>\n",
       "      <td>Mani Unabantu</td>\n",
       "      <td>Fumisukoma</td>\n",
       "      <td>Grade 2</td>\n",
       "      <td>24.0</td>\n",
       "      <td>24.0</td>\n",
       "      <td>0.0</td>\n",
       "      <td>24.0</td>\n",
       "    </tr>\n",
       "    <tr>\n",
       "      <th>442</th>\n",
       "      <td>Ala Aqhama</td>\n",
       "      <td>Isaac Booi</td>\n",
       "      <td>Grade 2</td>\n",
       "      <td>27.0</td>\n",
       "      <td>26.0</td>\n",
       "      <td>6.0</td>\n",
       "      <td>20.0</td>\n",
       "    </tr>\n",
       "    <tr>\n",
       "      <th>789</th>\n",
       "      <td>Mlonyeni Kungawo</td>\n",
       "      <td>Green Apple</td>\n",
       "      <td>PreR</td>\n",
       "      <td>44.0</td>\n",
       "      <td>21.0</td>\n",
       "      <td>3.0</td>\n",
       "      <td>18.0</td>\n",
       "    </tr>\n",
       "    <tr>\n",
       "      <th>3883</th>\n",
       "      <td>Peter Collin</td>\n",
       "      <td>Sandwater</td>\n",
       "      <td>Grade 1</td>\n",
       "      <td>19.0</td>\n",
       "      <td>18.0</td>\n",
       "      <td>1.0</td>\n",
       "      <td>17.0</td>\n",
       "    </tr>\n",
       "    <tr>\n",
       "      <th>766</th>\n",
       "      <td>Dambuza Mivuyo</td>\n",
       "      <td>Fumisukoma</td>\n",
       "      <td>Grade 1</td>\n",
       "      <td>25.0</td>\n",
       "      <td>21.0</td>\n",
       "      <td>4.0</td>\n",
       "      <td>17.0</td>\n",
       "    </tr>\n",
       "    <tr>\n",
       "      <th>388</th>\n",
       "      <td>Qeqe Khayone Anothando</td>\n",
       "      <td>Seyisi</td>\n",
       "      <td>Grade 3</td>\n",
       "      <td>NaN</td>\n",
       "      <td>25.0</td>\n",
       "      <td>9.0</td>\n",
       "      <td>16.0</td>\n",
       "    </tr>\n",
       "    <tr>\n",
       "      <th>2838</th>\n",
       "      <td>Mtwazi Inaminkosi</td>\n",
       "      <td>Isaac Booi</td>\n",
       "      <td>Grade 1</td>\n",
       "      <td>23.0</td>\n",
       "      <td>23.0</td>\n",
       "      <td>8.0</td>\n",
       "      <td>15.0</td>\n",
       "    </tr>\n",
       "    <tr>\n",
       "      <th>3594</th>\n",
       "      <td>Sam Abukhanyise</td>\n",
       "      <td>Charles Duna</td>\n",
       "      <td>Grade 1</td>\n",
       "      <td>21.0</td>\n",
       "      <td>21.0</td>\n",
       "      <td>6.0</td>\n",
       "      <td>15.0</td>\n",
       "    </tr>\n",
       "    <tr>\n",
       "      <th>3711</th>\n",
       "      <td>Matomela Qhama</td>\n",
       "      <td>Seyisi</td>\n",
       "      <td>Grade 1</td>\n",
       "      <td>34.0</td>\n",
       "      <td>20.0</td>\n",
       "      <td>5.0</td>\n",
       "      <td>15.0</td>\n",
       "    </tr>\n",
       "    <tr>\n",
       "      <th>647</th>\n",
       "      <td>Bulo Ntsika</td>\n",
       "      <td>Seyisi</td>\n",
       "      <td>Grade 2</td>\n",
       "      <td>39.0</td>\n",
       "      <td>15.0</td>\n",
       "      <td>0.0</td>\n",
       "      <td>15.0</td>\n",
       "    </tr>\n",
       "    <tr>\n",
       "      <th>552</th>\n",
       "      <td>Soya Kwakuhle</td>\n",
       "      <td>Seyisi</td>\n",
       "      <td>Grade 2</td>\n",
       "      <td>27.0</td>\n",
       "      <td>13.0</td>\n",
       "      <td>1.0</td>\n",
       "      <td>12.0</td>\n",
       "    </tr>\n",
       "    <tr>\n",
       "      <th>805</th>\n",
       "      <td>Kapayi Alunamda</td>\n",
       "      <td>Isaac Booi</td>\n",
       "      <td>Grade 1</td>\n",
       "      <td>28.0</td>\n",
       "      <td>21.0</td>\n",
       "      <td>9.0</td>\n",
       "      <td>12.0</td>\n",
       "    </tr>\n",
       "    <tr>\n",
       "      <th>740</th>\n",
       "      <td>Ndima Okuhle</td>\n",
       "      <td>Fumisukoma</td>\n",
       "      <td>Grade 1</td>\n",
       "      <td>34.0</td>\n",
       "      <td>26.0</td>\n",
       "      <td>14.0</td>\n",
       "      <td>12.0</td>\n",
       "    </tr>\n",
       "    <tr>\n",
       "      <th>928</th>\n",
       "      <td>Tshungulwana Phinola</td>\n",
       "      <td>Seyisi</td>\n",
       "      <td>Grade 1</td>\n",
       "      <td>34.0</td>\n",
       "      <td>12.0</td>\n",
       "      <td>0.0</td>\n",
       "      <td>12.0</td>\n",
       "    </tr>\n",
       "    <tr>\n",
       "      <th>1205</th>\n",
       "      <td>Smayile Anathi</td>\n",
       "      <td>Aaron Gqadu</td>\n",
       "      <td>Grade 1</td>\n",
       "      <td>24.0</td>\n",
       "      <td>14.0</td>\n",
       "      <td>3.0</td>\n",
       "      <td>11.0</td>\n",
       "    </tr>\n",
       "    <tr>\n",
       "      <th>796</th>\n",
       "      <td>Mabindla Imivuyo</td>\n",
       "      <td>Isaac Booi</td>\n",
       "      <td>Grade 1</td>\n",
       "      <td>26.0</td>\n",
       "      <td>11.0</td>\n",
       "      <td>1.0</td>\n",
       "      <td>10.0</td>\n",
       "    </tr>\n",
       "    <tr>\n",
       "      <th>801</th>\n",
       "      <td>Ntantiso Ubona</td>\n",
       "      <td>Isaac Booi</td>\n",
       "      <td>Grade 1</td>\n",
       "      <td>28.0</td>\n",
       "      <td>16.0</td>\n",
       "      <td>7.0</td>\n",
       "      <td>9.0</td>\n",
       "    </tr>\n",
       "    <tr>\n",
       "      <th>1438</th>\n",
       "      <td>Qoku Somila</td>\n",
       "      <td>Jesus Dominion</td>\n",
       "      <td>PreR</td>\n",
       "      <td>61.0</td>\n",
       "      <td>20.0</td>\n",
       "      <td>11.0</td>\n",
       "      <td>9.0</td>\n",
       "    </tr>\n",
       "    <tr>\n",
       "      <th>3255</th>\n",
       "      <td>Kasper Lisakhanya</td>\n",
       "      <td>Charles Duna</td>\n",
       "      <td>Grade R</td>\n",
       "      <td>24.0</td>\n",
       "      <td>13.0</td>\n",
       "      <td>5.0</td>\n",
       "      <td>8.0</td>\n",
       "    </tr>\n",
       "    <tr>\n",
       "      <th>2872</th>\n",
       "      <td>Awu Mivuyo</td>\n",
       "      <td>Ben Sinuka</td>\n",
       "      <td>Grade 2</td>\n",
       "      <td>33.0</td>\n",
       "      <td>21.0</td>\n",
       "      <td>13.0</td>\n",
       "      <td>8.0</td>\n",
       "    </tr>\n",
       "    <tr>\n",
       "      <th>2086</th>\n",
       "      <td>Nyati Abenathi</td>\n",
       "      <td>Isaac Booi</td>\n",
       "      <td>Grade 2</td>\n",
       "      <td>22.0</td>\n",
       "      <td>26.0</td>\n",
       "      <td>19.0</td>\n",
       "      <td>7.0</td>\n",
       "    </tr>\n",
       "    <tr>\n",
       "      <th>3512</th>\n",
       "      <td>Mafani Oyisa</td>\n",
       "      <td>Molefe</td>\n",
       "      <td>Grade 1</td>\n",
       "      <td>13.0</td>\n",
       "      <td>7.0</td>\n",
       "      <td>0.0</td>\n",
       "      <td>7.0</td>\n",
       "    </tr>\n",
       "    <tr>\n",
       "      <th>659</th>\n",
       "      <td>Mtsila Iyazi</td>\n",
       "      <td>Aaron Gqadu</td>\n",
       "      <td>Grade 1</td>\n",
       "      <td>22.0</td>\n",
       "      <td>10.0</td>\n",
       "      <td>3.0</td>\n",
       "      <td>7.0</td>\n",
       "    </tr>\n",
       "    <tr>\n",
       "      <th>1526</th>\n",
       "      <td>Ncumse Hlanganani</td>\n",
       "      <td>Zizamele</td>\n",
       "      <td>PreR</td>\n",
       "      <td>76.0</td>\n",
       "      <td>19.0</td>\n",
       "      <td>12.0</td>\n",
       "      <td>7.0</td>\n",
       "    </tr>\n",
       "  </tbody>\n",
       "</table>\n",
       "</div>"
      ],
      "text/plain": [
       "                   Full Name          School    Grade  Total Sessions  \\\n",
       "1404      Bhalasane Solulele          Seyisi  Grade 1            32.0   \n",
       "466            Mani Unabantu      Fumisukoma  Grade 2            24.0   \n",
       "442               Ala Aqhama      Isaac Booi  Grade 2            27.0   \n",
       "789         Mlonyeni Kungawo     Green Apple     PreR            44.0   \n",
       "3883            Peter Collin       Sandwater  Grade 1            19.0   \n",
       "766           Dambuza Mivuyo      Fumisukoma  Grade 1            25.0   \n",
       "388   Qeqe Khayone Anothando          Seyisi  Grade 3             NaN   \n",
       "2838       Mtwazi Inaminkosi      Isaac Booi  Grade 1            23.0   \n",
       "3594         Sam Abukhanyise    Charles Duna  Grade 1            21.0   \n",
       "3711          Matomela Qhama          Seyisi  Grade 1            34.0   \n",
       "647              Bulo Ntsika          Seyisi  Grade 2            39.0   \n",
       "552            Soya Kwakuhle          Seyisi  Grade 2            27.0   \n",
       "805          Kapayi Alunamda      Isaac Booi  Grade 1            28.0   \n",
       "740             Ndima Okuhle      Fumisukoma  Grade 1            34.0   \n",
       "928     Tshungulwana Phinola          Seyisi  Grade 1            34.0   \n",
       "1205          Smayile Anathi     Aaron Gqadu  Grade 1            24.0   \n",
       "796         Mabindla Imivuyo      Isaac Booi  Grade 1            26.0   \n",
       "801           Ntantiso Ubona      Isaac Booi  Grade 1            28.0   \n",
       "1438             Qoku Somila  Jesus Dominion     PreR            61.0   \n",
       "3255       Kasper Lisakhanya    Charles Duna  Grade R            24.0   \n",
       "2872              Awu Mivuyo      Ben Sinuka  Grade 2            33.0   \n",
       "2086          Nyati Abenathi      Isaac Booi  Grade 2            22.0   \n",
       "3512            Mafani Oyisa          Molefe  Grade 1            13.0   \n",
       "659             Mtsila Iyazi     Aaron Gqadu  Grade 1            22.0   \n",
       "1526       Ncumse Hlanganani        Zizamele     PreR            76.0   \n",
       "\n",
       "      June - Written Letters  June - Phonics  Write_Read_Dif  \n",
       "1404                    25.0             0.0            25.0  \n",
       "466                     24.0             0.0            24.0  \n",
       "442                     26.0             6.0            20.0  \n",
       "789                     21.0             3.0            18.0  \n",
       "3883                    18.0             1.0            17.0  \n",
       "766                     21.0             4.0            17.0  \n",
       "388                     25.0             9.0            16.0  \n",
       "2838                    23.0             8.0            15.0  \n",
       "3594                    21.0             6.0            15.0  \n",
       "3711                    20.0             5.0            15.0  \n",
       "647                     15.0             0.0            15.0  \n",
       "552                     13.0             1.0            12.0  \n",
       "805                     21.0             9.0            12.0  \n",
       "740                     26.0            14.0            12.0  \n",
       "928                     12.0             0.0            12.0  \n",
       "1205                    14.0             3.0            11.0  \n",
       "796                     11.0             1.0            10.0  \n",
       "801                     16.0             7.0             9.0  \n",
       "1438                    20.0            11.0             9.0  \n",
       "3255                    13.0             5.0             8.0  \n",
       "2872                    21.0            13.0             8.0  \n",
       "2086                    26.0            19.0             7.0  \n",
       "3512                     7.0             0.0             7.0  \n",
       "659                     10.0             3.0             7.0  \n",
       "1526                    19.0            12.0             7.0  "
      ]
     },
     "execution_count": 80,
     "metadata": {},
     "output_type": "execute_result"
    }
   ],
   "source": [
    "children = children[children['June - Phonics'].notna() & children['June - Written Letters'].notna()]\n",
    "\n",
    "children['Write_Read_Dif'] = children['June - Written Letters'] - children['June - Phonics']\n",
    "filtered_children = children[['Full Name', 'School','Grade','Total Sessions','June - Written Letters', 'June - Phonics','Write_Read_Dif']].sort_values('Write_Read_Dif', ascending=False)\n",
    "\n",
    "# filtered_children.to_csv(\"Write But Cannot Read Checks.csv\", index=False)\n",
    "filtered_children.head(25)"
   ]
  },
  {
   "cell_type": "code",
   "execution_count": null,
   "id": "e7905dd3-c107-4b12-8047-d86b202a5dda",
   "metadata": {},
   "outputs": [],
   "source": []
  }
 ],
 "metadata": {
  "kernelspec": {
   "display_name": "Python 3 (ipykernel)",
   "language": "python",
   "name": "python3"
  },
  "language_info": {
   "codemirror_mode": {
    "name": "ipython",
    "version": 3
   },
   "file_extension": ".py",
   "mimetype": "text/x-python",
   "name": "python",
   "nbconvert_exporter": "python",
   "pygments_lexer": "ipython3",
   "version": "3.11.3"
  }
 },
 "nbformat": 4,
 "nbformat_minor": 5
}
