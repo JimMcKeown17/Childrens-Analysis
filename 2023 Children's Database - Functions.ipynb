{
 "cells": [
  {
   "cell_type": "markdown",
   "id": "d75215b4-4075-43e7-831a-203e538b74d1",
   "metadata": {},
   "source": [
    "## Input Correct File Path"
   ]
  },
  {
   "cell_type": "code",
   "execution_count": 9,
   "id": "2c7e4055-03d5-40a2-81bd-18b130a48438",
   "metadata": {
    "tags": []
   },
   "outputs": [],
   "source": [
    "file_path = \"Results By Year/20230913- Children Database  - English Main.xlsx\""
   ]
  },
  {
   "cell_type": "code",
   "execution_count": 10,
   "id": "999c3321-540d-4246-89e7-ec8cc7df048b",
   "metadata": {},
   "outputs": [],
   "source": [
    "import pandas as pd\n",
    "import seaborn as sns\n",
    "import matplotlib.pyplot as plt\n",
    "import plotly.express as px\n",
    "import openpyxl\n",
    "from jupyter_dash import JupyterDash\n",
    "from dash import dcc, html\n",
    "from dash import html\n",
    "\n",
    "pd.set_option('display.max_rows', None)\n",
    "\n",
    "from dash.dependencies import Output, Input\n",
    "from dash.exceptions import PreventUpdate\n"
   ]
  },
  {
   "cell_type": "code",
   "execution_count": 11,
   "id": "cadfa83d-32dc-40fd-8349-5b577fa46ffb",
   "metadata": {
    "tags": []
   },
   "outputs": [
    {
     "name": "stderr",
     "output_type": "stream",
     "text": [
      "/Users/jimmckeown/anaconda3/lib/python3.11/site-packages/openpyxl/worksheet/_read_only.py:79: UserWarning: Unknown extension is not supported and will be removed\n",
      "  for idx, row in parser.parse():\n"
     ]
    }
   ],
   "source": [
    "c22 = pd.read_csv(\"Results By Year/All22.csv\")\n",
    "sheet_name = \"Children Results \"\n",
    "children = pd.read_excel(file_path, sheet_name=sheet_name)"
   ]
  },
  {
   "cell_type": "code",
   "execution_count": 12,
   "id": "2a3bb807-319e-485b-a682-ee1ad0ffb163",
   "metadata": {
    "tags": []
   },
   "outputs": [],
   "source": [
    "# children = children_all[children_all['Jan - Listen First Sound'].notna() & children_all['June - Listen First Sound'].notna()].copy()\n",
    "\n",
    "# children = children[children['City'] == 'Gqeberha'].copy()\n",
    "# children = children[children['Schools'] != 'St Augustines'].copy()\n",
    "\n",
    "children['Jan - Total'] = children[['Jan - Listen First Sound', 'Jan - Listen Word','Jan - Phonics', 'Jan - Blends', 'Jan - Sight Words',\n",
    "                                  'Jan - Read Sentences', 'Jan - Read Story', 'Jan - Story Comprehension',\n",
    "                                  'Jan - Written Letters', 'Jan - Write Name', 'Jan - Write CVCs',\n",
    "                                  'Jan - Write Sentences']].sum(axis=1,min_count=1)\n",
    "children['June - Total'] = children[['June - Listen First Sound',\n",
    "       'June - Listen Word','June - Phonics', 'June - Blends', 'June - Sight Words',\n",
    "                                  'June - Read Sentences', 'June - Read Story', 'June - Story Comprehension',\n",
    "                                  'June - Written Letters', 'June - Write Name', 'June - Write CVCs',\n",
    "                                  'June - Write Sentences']].sum(axis=1,min_count=1)\n",
    "children['June - Listen First Sound Improvement'] = children['June - Listen First Sound'] - children['Jan - Listen First Sound']\n",
    "children['June - Listen Word Improvement'] = children['June - Listen Word'] - children['Jan - Listen Word']\n",
    "children['June - Phonics Improvement'] = children['June - Phonics'] - children['Jan - Phonics']\n",
    "children['June - Written Letters Improvement'] = children['June - Written Letters'] - children['Jan - Written Letters']\n",
    "children[\"Jan - Sounds Total\"] =  children[\"Jan - Listen First Sound\"] + children[\"Jan - Listen Word\"]\n",
    "children[\"June - Sounds Total\"] =  children[\"June - Listen First Sound\"] + children[\"June - Listen Word\"]\n",
    "children[\"June - Sounds Total Improvement\"] = children[\"June - Sounds Total\"] - children[\"Jan - Sounds Total\"]\n",
    "children[\"June - Blends Improvement\"] = children[\"June - Blends\"] - children[\"Jan - Blends\"]\n",
    "children[\"June - Read Sentences Improvement\"] = children[\"June - Read Sentences\"] - children[\"Jan - Read Sentences\"]\n",
    "children[\"June - Read Story Improvement\"] = children[\"June - Read Story\"] - children[\"Jan - Read Story\"]\n",
    "children[\"June - Sight Words Improvement\"] = children[\"June - Sight Words\"] - children[\"Jan - Sight Words\"]\n",
    "children[\"June - Write Sentence Improvement\"] = children[\"June - Write Sentences\"] - children[\"Jan - Write Sentences\"]\n",
    "children[\"June - Write CVCs Improvement\"] = children[\"June - Write CVCs\"] - children[\"Jan - Write CVCs\"]\n",
    "children[\"June - Total Improvement\"] = children[\"June - Total\"] - children[\"Jan - Total\"]\n",
    "# Sounds and Phonics Total is 49\n",
    "children[\"Jan - Sounds and Phonics\"] = children[\"Jan - Listen First Sound\"] + children[\"Jan - Listen Word\"] + children['Jan - Phonics']\n",
    "# Reading total is 128\n",
    "children[\"Jan - Reading\"] = children[\"Jan - Blends\"] + children[\"Jan - Sight Words\"] + children['Jan - Read Sentences'] + children[\"Jan - Read Story\"] + children[\"Jan - Story Comprehension\"]\n",
    "# Writing total is 87\n",
    "children[\"Jan - Writing\"] = children['Jan - Written Letters'] + children[\"Jan - Write CVCs\"] + children[\"Jan - Write Sentences\"]\n",
    "# Sounds and Phonics Total is 49\n",
    "children[\"June - Sounds and Phonics\"] = children[\"June - Listen First Sound\"] + children[\"June - Listen Word\"] + children['June - Phonics']\n",
    "# Reading total is 128\n",
    "children[\"June - Reading\"] = children[\"June - Blends\"] + children[\"June - Sight Words\"] + children['June - Read Sentences'] + children[\"June - Read Story\"] + children[\"June - Story Comprehension\"]\n",
    "# Writing total is 87\n",
    "children[\"June - Writing\"] = children['June - Written Letters'] + children[\"June - Write CVCs\"] + children[\"June - Write Sentences\"]\n",
    "\n",
    "children[\"June - Sounds and Phonics Improvement\"] = children[\"June - Sounds and Phonics\"] - children[\"Jan - Sounds and Phonics\"]\n",
    "children[\"June - Reading Improvement\"] = children[\"June - Reading\"] - children[\"Jan - Reading\"]\n",
    "children[\"June - Writing Improvement\"] = children[\"June - Writing\"] - children[\"Jan - Writing\"] \n",
    "\n",
    "improvement_columns = [\"June - Listen First Sound Improvement\",\"June - Listen Word Improvement\", \"June - Phonics Improvement\",\"June - Blends Improvement\", \"June - Sight Words Improvement\", \"June - Read Sentences Improvement\", \"June - Read Story Improvement\", \"June - Written Letters Improvement\", \"June - Write CVCs Improvement\", \"June - Write Sentence Improvement\", \"June - Total Improvement\" ]\n",
    "\n",
    "primary = children[children['Grade'] != 'PreR']\n",
    "primary_on = primary[primary['On The Programme'] == 'Yes']\n",
    "\n",
    "ecd = children[children['Grade'] == 'PreR']\n",
    "ecd_on = ecd[ecd['On The Programme'] == 'Yes']"
   ]
  },
  {
   "cell_type": "markdown",
   "id": "27f78758-c993-4263-8236-2c5f04280ca2",
   "metadata": {},
   "source": [
    "# Functions"
   ]
  },
  {
   "cell_type": "code",
   "execution_count": 13,
   "id": "0dbf8571-6849-4f7d-bded-2156729858e7",
   "metadata": {
    "tags": []
   },
   "outputs": [],
   "source": [
    "def total_sessions_per_lc():\n",
    "    primary = children[children['Grade'] != 'PreR']\n",
    "    primary_on = primary[primary['On The Programme'] == 'Yes']\n",
    "    return primary_on.groupby(['School', 'LC Name'])['Total Sessions'].sum().sort_values(ascending=False)\n",
    "\n",
    "def total_sessions_per_ecd():\n",
    "    ecd = children[children['Grade'] == 'PreR']\n",
    "    ecd_on = ecd[ecd['On The Programme'] == 'Yes']\n",
    "    return ecd_on.groupby(['School', 'LC Name'])['Total Sessions'].sum().sort_values(ascending=False)\n",
    "\n",
    "def avg_sessions_per_grade_primary_top10():\n",
    "    return primary_on.groupby(['School', 'Grade'])['Total Sessions'].mean().sort_values(ascending=False).head(10)\n",
    "\n",
    "def avg_sessions_per_grade_primary_bottom10():\n",
    "    return primary_on.groupby(['School', 'Grade'])['Total Sessions'].mean().sort_values(ascending=True).head(10)\n",
    "\n",
    "def avg_sessions_per_lc_top20():\n",
    "    return primary_on.groupby(['LC Name', 'School'])['Total Sessions'].mean().sort_values(ascending=False).head(20)\n",
    "\n",
    "def avg_sessions_per_lc_bottom20():\n",
    "    return primary_on.groupby(['LC Name', 'School'])['Total Sessions'].mean().sort_values(ascending=True).head(20)\n",
    "\n",
    "def avg_sessions_per_ecd():\n",
    "    return ecd_on.groupby(['School', 'Grade'])['Total Sessions'].mean().sort_values(ascending=False)\n",
    "\n",
    "def avg_sessions_per_school():\n",
    "    return primary_on.groupby(['School', 'Grade'])['Total Sessions'].mean().sort_values(ascending=False)\n",
    "\n",
    "def avg_sessions_per_lc_ecd_top20():\n",
    "    return ecd_on.groupby(['LC Name', 'School'])['Total Sessions'].mean().sort_values(ascending=False).head(20)\n",
    "    \n",
    "def avg_sessions_per_lc_ecd_botton20():\n",
    "    return ecd_on.groupby(['LC Name', 'School'])['Total Sessions'].mean().sort_values(ascending=True).head(20)\n",
    "\n",
    "def children_on_programme_chart():\n",
    "    kids_on_programme = ecd_on.groupby('School')['Mcode'].count().reset_index(name=\"Num of Children\").sort_values(\"Num of Children\", ascending=False)\n",
    "\n",
    "    # Plot the sorted data using Plotly\n",
    "    fig = px.bar(kids_on_programme,\n",
    "                 y='Num of Children',\n",
    "                 x='School',\n",
    "                 title='Number of Children on Programme',\n",
    "                 template='plotly')\n",
    "\n",
    "    return fig.show()\n",
    "\n",
    "def children_on_programme_stacked_chart():\n",
    "    kids_on_programme = primary_on.groupby(['School', 'Grade'])['Mcode'].count().reset_index(name=\"Num of Children\").sort_values(\"Num of Children\", ascending=False)\n",
    "\n",
    "    # Plot the sorted data using Plotly\n",
    "    fig = px.bar(kids_on_programme,\n",
    "                 y='Num of Children',\n",
    "                 x='School',\n",
    "                 color='Grade',\n",
    "                 title='Number of Children on Programme',\n",
    "                 template='plotly')\n",
    "\n",
    "    return fig.show()\n",
    "\n",
    "def sessions_per_child_primary():\n",
    "    filtered_children = children[(children['On The Programme'] == 'Yes') & (children['Grade'] != \"PreR\")]\n",
    "    grouped = filtered_children.groupby('School')['Total Sessions'].mean().sort_values(ascending=False).reset_index()\n",
    "\n",
    "    # Plot the sorted data using Plotly\n",
    "    fig = px.bar(grouped,\n",
    "                 y='Total Sessions',\n",
    "                 x='School',\n",
    "                 title='Primary School: Average Sessions per Child',\n",
    "                 template='plotly')\n",
    "\n",
    "    return fig.show()\n",
    "\n",
    "def sessions_per_child_ecd():\n",
    "    filtered_children = children[(children['On The Programme'] == 'Yes') & (children['Grade'] == \"PreR\")]\n",
    "    grouped = filtered_children.groupby('School')['Total Sessions'].mean().sort_values(ascending=False).reset_index()\n",
    "\n",
    "    # Plot the sorted data using Plotly\n",
    "    fig = px.bar(grouped,\n",
    "                 y='Total Sessions',\n",
    "                 x='School',\n",
    "                 title='ECDCs: Average Sessions per Child',\n",
    "                 template='plotly')\n",
    "\n",
    "    return fig.show()\n",
    "\n",
    "def total_sessions_ecd():\n",
    "    filtered_children = children[(children['On The Programme'] == 'Yes') & (children['Grade'] == \"PreR\")]\n",
    "    grouped = filtered_children.groupby('School')['Total Sessions'].sum().sort_values(ascending=False).reset_index()\n",
    "\n",
    "    # Plot the sorted data using Plotly\n",
    "    fig = px.bar(grouped,\n",
    "                 y='Total Sessions',\n",
    "                 x='School',\n",
    "                 title='ECDCs: Total Sessions in 2023',\n",
    "                 template='plotly')\n",
    "\n",
    "    return fig.show()\n",
    "\n",
    "def total_sessions_by_ecd_lc():\n",
    "    ecd = children[children['Grade'] == 'PreR']\n",
    "    ecd_on = ecd[ecd['On The Programme'] == 'Yes']\n",
    "    return ecd_on.groupby(['School', 'LC Name'])['Total Sessions'].sum().sort_values(ascending=False)\n",
    "\n",
    "def jan_assessments_per_school():\n",
    "    primary = children[children['Grade'] != 'PreR']\n",
    "    primary_on = primary[primary['On The Programme'] == 'Yes']\n",
    "\n",
    "    gbo_primary = children[children['Grade'] != 'PreR'].groupby('School')\n",
    "    gbo_primary_on = primary[primary['On The Programme'] == 'Yes'].groupby('School')\n",
    "\n",
    "    total_children = gbo_primary['Full Name'].count()\n",
    "    total_children_assessed = gbo_primary['Jan - Phonics'].count()\n",
    "\n",
    "    percent_assessed = (total_children_assessed / total_children) * 100\n",
    "\n",
    "\n",
    "    df_assessed = pd.DataFrame({'Number of Children': total_children, \n",
    "                              'Number of Children Assessed': total_children_assessed, \n",
    "                              'Percentage Assessed': percent_assessed})\n",
    "    return df_assessed.sort_values('Percentage Assessed', ascending=False)\n",
    "\n",
    "def jan_assessments_per_ecd():\n",
    "    gbo_ecd = children[children['Grade'] == 'PreR'].groupby('School')\n",
    "    gbo_ecd_on = ecd[ecd['On The Programme'] == 'Yes'].groupby('School')\n",
    "\n",
    "    total_children = gbo_ecd_on['Full Name'].count()\n",
    "    total_children_assessed = gbo_ecd_on['Jan - Phonics'].count()\n",
    "\n",
    "    percent_assessed = (total_children_assessed / total_children) * 100\n",
    "\n",
    "\n",
    "    df_assessed = pd.DataFrame({'Number of Children': total_children, \n",
    "                              'Number of Children Assessed': total_children_assessed, \n",
    "                              'Percentage Assessed': percent_assessed})\n",
    "    return df_assessed.sort_values('Percentage Assessed', ascending=False)\n",
    "\n",
    "def low_assessments_grades():\n",
    "    gbo_grade = primary.groupby(['School', 'Grade'])\n",
    "    total_children_grade = gbo_grade['Full Name'].count()\n",
    "    total_children_grade_assessed = gbo_grade['Jan - Total'].count()\n",
    "\n",
    "    percent_assessed_grade = (total_children_grade_assessed / total_children_grade) * 100\n",
    "\n",
    "\n",
    "    df_assessed_grade = pd.DataFrame({'Number of Children': total_children_grade, \n",
    "                              'Number of Children Assessed': total_children_grade_assessed, \n",
    "                              'Percentage Assessed': percent_assessed_grade})\n",
    "\n",
    "    # df_assessed_grade\n",
    "    return df_assessed_grade[df_assessed_grade['Percentage Assessed'] < 85]\n",
    "\n",
    "def june_assessments_per_school():\n",
    "    #Note in January we are only assessing children on the programme\n",
    "\n",
    "    primary = children[children['Grade'] != 'PreR']\n",
    "    primary_on = primary[primary['On The Programme'] == 'Yes']\n",
    "\n",
    "    gbo_primary = children[children['Grade'] != 'PreR'].groupby('School')\n",
    "    gbo_primary_on = primary[primary['On The Programme'] == 'Yes'].groupby('School')\n",
    "\n",
    "    total_children = gbo_primary_on['Full Name'].count()\n",
    "    total_children_assessed = gbo_primary_on['June - Phonics'].count()\n",
    "\n",
    "    percent_assessed = (total_children_assessed / total_children) * 100\n",
    "\n",
    "\n",
    "    df_assessed = pd.DataFrame({'Number of Children': total_children, \n",
    "                              'Number of Children Assessed': total_children_assessed, \n",
    "                              'Percentage Assessed': percent_assessed})\n",
    "    return df_assessed.sort_values('Percentage Assessed', ascending=False)\n",
    "\n",
    "def june_assessments_per_ecd():\n",
    "    gbo_ecd = children[children['Grade'] == 'PreR'].groupby('School')\n",
    "    gbo_ecd_on = ecd[ecd['On The Programme'] == 'Yes'].groupby('School')\n",
    "\n",
    "    total_children = gbo_ecd_on['Full Name'].count()\n",
    "    total_children_assessed = gbo_ecd_on['June - Phonics'].count()\n",
    "\n",
    "    percent_assessed = (total_children_assessed / total_children) * 100\n",
    "\n",
    "\n",
    "    df_assessed = pd.DataFrame({'Number of Children': total_children, \n",
    "                              'Number of Children Assessed': total_children_assessed, \n",
    "                              'Percentage Assessed': percent_assessed})\n",
    "    return df_assessed.sort_values('Percentage Assessed', ascending=False)\n",
    "\n",
    "def low_assessment_grades():\n",
    "    gbo_grade = primary_on.groupby(['School', 'Grade'])\n",
    "    total_children_grade = gbo_grade['Full Name'].count()\n",
    "    total_children_grade_assessed = gbo_grade['June - Total'].count()\n",
    "\n",
    "    percent_assessed_grade = (total_children_grade_assessed / total_children_grade) * 100\n",
    "\n",
    "\n",
    "    df_assessed_grade = pd.DataFrame({'Number of Children': total_children_grade, \n",
    "                              'Number of Children Assessed': total_children_grade_assessed, \n",
    "                              'Percentage Assessed': percent_assessed_grade})\n",
    "\n",
    "    # df_assessed_grade\n",
    "    return df_assessed_grade[df_assessed_grade['Percentage Assessed'] < 85]\n",
    "\n",
    "def lc_kids_check():\n",
    "    program_yes = children[(children['On The Programme'] == 'Yes') & (children['LC Name'] != 'Graduated') ]\n",
    "    lc_program_counts = program_yes.groupby(['LC Name', 'School']).size().reset_index(name=\"Num of Children\").sort_values(\"Num of Children\")\n",
    "    return lc_program_counts[~lc_program_counts['Num of Children'].between(8,12)]"
   ]
  },
  {
   "cell_type": "markdown",
   "id": "5776fff8-d659-4b4a-bfb7-d9d83056e02e",
   "metadata": {},
   "source": [
    "# List of Functions\n",
    "\n",
    "- total_sessions_per_lc()\n",
    "\n",
    "- total_sessions_per_ecd()\n",
    "\n",
    "- avg_sessions_per_grade_primary_top10()\n",
    "\n",
    "- avg_sessions_per_grade_primary_bottom10()\n",
    "\n",
    "- avg_sessions_per_lc_top20()\n",
    "\n",
    "- avg_sessions_per_lc_bottom20()\n",
    "\n",
    "- avg_sessions_per_ecd()\n",
    "\n",
    "- avg_sessions_per_school()\n",
    "\n",
    "- avg_sessions_per_lc_ecd_top20()\n",
    "    \n",
    "- avg_sessions_per_lc_ecd_botton20()\n",
    "\n",
    "- children_on_programme_chart()\n",
    "\n",
    "- children_on_programme_stacked_chart()\n",
    "\n",
    "- sessions_per_child_primary()\n",
    "\n",
    "- sessions_per_child_ecd()\n",
    "\n",
    "- total_sessions_ecd()\n",
    "\n",
    "- total_sessions_by_ecd_lc()\n",
    "\n",
    "- jan_assessments_per_school()\n",
    "\n",
    "- jan_assessments_per_ecd()\n",
    "\n",
    "- low_assessments_grades()\n",
    "\n",
    "- june_assessments_per_school()\n",
    "\n",
    "- june_assessments_per_ecd()\n",
    "\n",
    "- low_assessment_grades()\n",
    "\n",
    "- lc_kids_check()\n"
   ]
  },
  {
   "cell_type": "code",
   "execution_count": 21,
   "id": "ed18eedb-b2d8-470a-b9b4-2e9530fc9074",
   "metadata": {
    "tags": []
   },
   "outputs": [
    {
     "data": {
      "application/vnd.plotly.v1+json": {
       "config": {
        "plotlyServerURL": "https://plot.ly"
       },
       "data": [
        {
         "alignmentgroup": "True",
         "hovertemplate": "School=%{x}<br>Total Sessions=%{y}<extra></extra>",
         "legendgroup": "",
         "marker": {
          "color": "#636efa",
          "pattern": {
           "shape": ""
          }
         },
         "name": "",
         "offsetgroup": "",
         "orientation": "v",
         "showlegend": false,
         "textposition": "auto",
         "type": "bar",
         "x": [
          "Kokkewiet",
          "Living Ubuntu",
          "Sisonke",
          "Dorothy",
          "Zizamele",
          "Bright Angels",
          "Green Apple",
          "Qaqawuli Godolozi",
          "Paulos Oyigcwele",
          "Noluthando",
          "Lithemba",
          "Sinethemba",
          "Charles Duna",
          "Nobandla",
          "Jesus Dominion",
          "Nonkqubela",
          "Aaron Gqadu",
          "Jongilanga",
          "Sifunimfundo",
          "Seyisi",
          "Vukani Daycare",
          "Bambino"
         ],
         "xaxis": "x",
         "y": [
          90.42857142857143,
          71.54545454545455,
          68.61904761904762,
          64.43478260869566,
          60.21739130434783,
          59.72222222222222,
          54.81818181818182,
          54.75,
          54.458333333333336,
          51.208333333333336,
          50.611111111111114,
          49.30434782608695,
          46.869565217391305,
          46.47826086956522,
          45.91304347826087,
          45.05555555555556,
          43,
          40.75,
          36.56521739130435,
          33.708333333333336,
          8.666666666666666,
          7.647058823529412
         ],
         "yaxis": "y"
        }
       ],
       "layout": {
        "autosize": true,
        "barmode": "relative",
        "legend": {
         "tracegroupgap": 0
        },
        "template": {
         "data": {
          "bar": [
           {
            "error_x": {
             "color": "#2a3f5f"
            },
            "error_y": {
             "color": "#2a3f5f"
            },
            "marker": {
             "line": {
              "color": "#E5ECF6",
              "width": 0.5
             },
             "pattern": {
              "fillmode": "overlay",
              "size": 10,
              "solidity": 0.2
             }
            },
            "type": "bar"
           }
          ],
          "barpolar": [
           {
            "marker": {
             "line": {
              "color": "#E5ECF6",
              "width": 0.5
             },
             "pattern": {
              "fillmode": "overlay",
              "size": 10,
              "solidity": 0.2
             }
            },
            "type": "barpolar"
           }
          ],
          "carpet": [
           {
            "aaxis": {
             "endlinecolor": "#2a3f5f",
             "gridcolor": "white",
             "linecolor": "white",
             "minorgridcolor": "white",
             "startlinecolor": "#2a3f5f"
            },
            "baxis": {
             "endlinecolor": "#2a3f5f",
             "gridcolor": "white",
             "linecolor": "white",
             "minorgridcolor": "white",
             "startlinecolor": "#2a3f5f"
            },
            "type": "carpet"
           }
          ],
          "choropleth": [
           {
            "colorbar": {
             "outlinewidth": 0,
             "ticks": ""
            },
            "type": "choropleth"
           }
          ],
          "contour": [
           {
            "colorbar": {
             "outlinewidth": 0,
             "ticks": ""
            },
            "colorscale": [
             [
              0,
              "#0d0887"
             ],
             [
              0.1111111111111111,
              "#46039f"
             ],
             [
              0.2222222222222222,
              "#7201a8"
             ],
             [
              0.3333333333333333,
              "#9c179e"
             ],
             [
              0.4444444444444444,
              "#bd3786"
             ],
             [
              0.5555555555555556,
              "#d8576b"
             ],
             [
              0.6666666666666666,
              "#ed7953"
             ],
             [
              0.7777777777777778,
              "#fb9f3a"
             ],
             [
              0.8888888888888888,
              "#fdca26"
             ],
             [
              1,
              "#f0f921"
             ]
            ],
            "type": "contour"
           }
          ],
          "contourcarpet": [
           {
            "colorbar": {
             "outlinewidth": 0,
             "ticks": ""
            },
            "type": "contourcarpet"
           }
          ],
          "heatmap": [
           {
            "colorbar": {
             "outlinewidth": 0,
             "ticks": ""
            },
            "colorscale": [
             [
              0,
              "#0d0887"
             ],
             [
              0.1111111111111111,
              "#46039f"
             ],
             [
              0.2222222222222222,
              "#7201a8"
             ],
             [
              0.3333333333333333,
              "#9c179e"
             ],
             [
              0.4444444444444444,
              "#bd3786"
             ],
             [
              0.5555555555555556,
              "#d8576b"
             ],
             [
              0.6666666666666666,
              "#ed7953"
             ],
             [
              0.7777777777777778,
              "#fb9f3a"
             ],
             [
              0.8888888888888888,
              "#fdca26"
             ],
             [
              1,
              "#f0f921"
             ]
            ],
            "type": "heatmap"
           }
          ],
          "heatmapgl": [
           {
            "colorbar": {
             "outlinewidth": 0,
             "ticks": ""
            },
            "colorscale": [
             [
              0,
              "#0d0887"
             ],
             [
              0.1111111111111111,
              "#46039f"
             ],
             [
              0.2222222222222222,
              "#7201a8"
             ],
             [
              0.3333333333333333,
              "#9c179e"
             ],
             [
              0.4444444444444444,
              "#bd3786"
             ],
             [
              0.5555555555555556,
              "#d8576b"
             ],
             [
              0.6666666666666666,
              "#ed7953"
             ],
             [
              0.7777777777777778,
              "#fb9f3a"
             ],
             [
              0.8888888888888888,
              "#fdca26"
             ],
             [
              1,
              "#f0f921"
             ]
            ],
            "type": "heatmapgl"
           }
          ],
          "histogram": [
           {
            "marker": {
             "pattern": {
              "fillmode": "overlay",
              "size": 10,
              "solidity": 0.2
             }
            },
            "type": "histogram"
           }
          ],
          "histogram2d": [
           {
            "colorbar": {
             "outlinewidth": 0,
             "ticks": ""
            },
            "colorscale": [
             [
              0,
              "#0d0887"
             ],
             [
              0.1111111111111111,
              "#46039f"
             ],
             [
              0.2222222222222222,
              "#7201a8"
             ],
             [
              0.3333333333333333,
              "#9c179e"
             ],
             [
              0.4444444444444444,
              "#bd3786"
             ],
             [
              0.5555555555555556,
              "#d8576b"
             ],
             [
              0.6666666666666666,
              "#ed7953"
             ],
             [
              0.7777777777777778,
              "#fb9f3a"
             ],
             [
              0.8888888888888888,
              "#fdca26"
             ],
             [
              1,
              "#f0f921"
             ]
            ],
            "type": "histogram2d"
           }
          ],
          "histogram2dcontour": [
           {
            "colorbar": {
             "outlinewidth": 0,
             "ticks": ""
            },
            "colorscale": [
             [
              0,
              "#0d0887"
             ],
             [
              0.1111111111111111,
              "#46039f"
             ],
             [
              0.2222222222222222,
              "#7201a8"
             ],
             [
              0.3333333333333333,
              "#9c179e"
             ],
             [
              0.4444444444444444,
              "#bd3786"
             ],
             [
              0.5555555555555556,
              "#d8576b"
             ],
             [
              0.6666666666666666,
              "#ed7953"
             ],
             [
              0.7777777777777778,
              "#fb9f3a"
             ],
             [
              0.8888888888888888,
              "#fdca26"
             ],
             [
              1,
              "#f0f921"
             ]
            ],
            "type": "histogram2dcontour"
           }
          ],
          "mesh3d": [
           {
            "colorbar": {
             "outlinewidth": 0,
             "ticks": ""
            },
            "type": "mesh3d"
           }
          ],
          "parcoords": [
           {
            "line": {
             "colorbar": {
              "outlinewidth": 0,
              "ticks": ""
             }
            },
            "type": "parcoords"
           }
          ],
          "pie": [
           {
            "automargin": true,
            "type": "pie"
           }
          ],
          "scatter": [
           {
            "fillpattern": {
             "fillmode": "overlay",
             "size": 10,
             "solidity": 0.2
            },
            "type": "scatter"
           }
          ],
          "scatter3d": [
           {
            "line": {
             "colorbar": {
              "outlinewidth": 0,
              "ticks": ""
             }
            },
            "marker": {
             "colorbar": {
              "outlinewidth": 0,
              "ticks": ""
             }
            },
            "type": "scatter3d"
           }
          ],
          "scattercarpet": [
           {
            "marker": {
             "colorbar": {
              "outlinewidth": 0,
              "ticks": ""
             }
            },
            "type": "scattercarpet"
           }
          ],
          "scattergeo": [
           {
            "marker": {
             "colorbar": {
              "outlinewidth": 0,
              "ticks": ""
             }
            },
            "type": "scattergeo"
           }
          ],
          "scattergl": [
           {
            "marker": {
             "colorbar": {
              "outlinewidth": 0,
              "ticks": ""
             }
            },
            "type": "scattergl"
           }
          ],
          "scattermapbox": [
           {
            "marker": {
             "colorbar": {
              "outlinewidth": 0,
              "ticks": ""
             }
            },
            "type": "scattermapbox"
           }
          ],
          "scatterpolar": [
           {
            "marker": {
             "colorbar": {
              "outlinewidth": 0,
              "ticks": ""
             }
            },
            "type": "scatterpolar"
           }
          ],
          "scatterpolargl": [
           {
            "marker": {
             "colorbar": {
              "outlinewidth": 0,
              "ticks": ""
             }
            },
            "type": "scatterpolargl"
           }
          ],
          "scatterternary": [
           {
            "marker": {
             "colorbar": {
              "outlinewidth": 0,
              "ticks": ""
             }
            },
            "type": "scatterternary"
           }
          ],
          "surface": [
           {
            "colorbar": {
             "outlinewidth": 0,
             "ticks": ""
            },
            "colorscale": [
             [
              0,
              "#0d0887"
             ],
             [
              0.1111111111111111,
              "#46039f"
             ],
             [
              0.2222222222222222,
              "#7201a8"
             ],
             [
              0.3333333333333333,
              "#9c179e"
             ],
             [
              0.4444444444444444,
              "#bd3786"
             ],
             [
              0.5555555555555556,
              "#d8576b"
             ],
             [
              0.6666666666666666,
              "#ed7953"
             ],
             [
              0.7777777777777778,
              "#fb9f3a"
             ],
             [
              0.8888888888888888,
              "#fdca26"
             ],
             [
              1,
              "#f0f921"
             ]
            ],
            "type": "surface"
           }
          ],
          "table": [
           {
            "cells": {
             "fill": {
              "color": "#EBF0F8"
             },
             "line": {
              "color": "white"
             }
            },
            "header": {
             "fill": {
              "color": "#C8D4E3"
             },
             "line": {
              "color": "white"
             }
            },
            "type": "table"
           }
          ]
         },
         "layout": {
          "annotationdefaults": {
           "arrowcolor": "#2a3f5f",
           "arrowhead": 0,
           "arrowwidth": 1
          },
          "autotypenumbers": "strict",
          "coloraxis": {
           "colorbar": {
            "outlinewidth": 0,
            "ticks": ""
           }
          },
          "colorscale": {
           "diverging": [
            [
             0,
             "#8e0152"
            ],
            [
             0.1,
             "#c51b7d"
            ],
            [
             0.2,
             "#de77ae"
            ],
            [
             0.3,
             "#f1b6da"
            ],
            [
             0.4,
             "#fde0ef"
            ],
            [
             0.5,
             "#f7f7f7"
            ],
            [
             0.6,
             "#e6f5d0"
            ],
            [
             0.7,
             "#b8e186"
            ],
            [
             0.8,
             "#7fbc41"
            ],
            [
             0.9,
             "#4d9221"
            ],
            [
             1,
             "#276419"
            ]
           ],
           "sequential": [
            [
             0,
             "#0d0887"
            ],
            [
             0.1111111111111111,
             "#46039f"
            ],
            [
             0.2222222222222222,
             "#7201a8"
            ],
            [
             0.3333333333333333,
             "#9c179e"
            ],
            [
             0.4444444444444444,
             "#bd3786"
            ],
            [
             0.5555555555555556,
             "#d8576b"
            ],
            [
             0.6666666666666666,
             "#ed7953"
            ],
            [
             0.7777777777777778,
             "#fb9f3a"
            ],
            [
             0.8888888888888888,
             "#fdca26"
            ],
            [
             1,
             "#f0f921"
            ]
           ],
           "sequentialminus": [
            [
             0,
             "#0d0887"
            ],
            [
             0.1111111111111111,
             "#46039f"
            ],
            [
             0.2222222222222222,
             "#7201a8"
            ],
            [
             0.3333333333333333,
             "#9c179e"
            ],
            [
             0.4444444444444444,
             "#bd3786"
            ],
            [
             0.5555555555555556,
             "#d8576b"
            ],
            [
             0.6666666666666666,
             "#ed7953"
            ],
            [
             0.7777777777777778,
             "#fb9f3a"
            ],
            [
             0.8888888888888888,
             "#fdca26"
            ],
            [
             1,
             "#f0f921"
            ]
           ]
          },
          "colorway": [
           "#636efa",
           "#EF553B",
           "#00cc96",
           "#ab63fa",
           "#FFA15A",
           "#19d3f3",
           "#FF6692",
           "#B6E880",
           "#FF97FF",
           "#FECB52"
          ],
          "font": {
           "color": "#2a3f5f"
          },
          "geo": {
           "bgcolor": "white",
           "lakecolor": "white",
           "landcolor": "#E5ECF6",
           "showlakes": true,
           "showland": true,
           "subunitcolor": "white"
          },
          "hoverlabel": {
           "align": "left"
          },
          "hovermode": "closest",
          "mapbox": {
           "style": "light"
          },
          "paper_bgcolor": "white",
          "plot_bgcolor": "#E5ECF6",
          "polar": {
           "angularaxis": {
            "gridcolor": "white",
            "linecolor": "white",
            "ticks": ""
           },
           "bgcolor": "#E5ECF6",
           "radialaxis": {
            "gridcolor": "white",
            "linecolor": "white",
            "ticks": ""
           }
          },
          "scene": {
           "xaxis": {
            "backgroundcolor": "#E5ECF6",
            "gridcolor": "white",
            "gridwidth": 2,
            "linecolor": "white",
            "showbackground": true,
            "ticks": "",
            "zerolinecolor": "white"
           },
           "yaxis": {
            "backgroundcolor": "#E5ECF6",
            "gridcolor": "white",
            "gridwidth": 2,
            "linecolor": "white",
            "showbackground": true,
            "ticks": "",
            "zerolinecolor": "white"
           },
           "zaxis": {
            "backgroundcolor": "#E5ECF6",
            "gridcolor": "white",
            "gridwidth": 2,
            "linecolor": "white",
            "showbackground": true,
            "ticks": "",
            "zerolinecolor": "white"
           }
          },
          "shapedefaults": {
           "line": {
            "color": "#2a3f5f"
           }
          },
          "ternary": {
           "aaxis": {
            "gridcolor": "white",
            "linecolor": "white",
            "ticks": ""
           },
           "baxis": {
            "gridcolor": "white",
            "linecolor": "white",
            "ticks": ""
           },
           "bgcolor": "#E5ECF6",
           "caxis": {
            "gridcolor": "white",
            "linecolor": "white",
            "ticks": ""
           }
          },
          "title": {
           "x": 0.05
          },
          "xaxis": {
           "automargin": true,
           "gridcolor": "white",
           "linecolor": "white",
           "ticks": "",
           "title": {
            "standoff": 15
           },
           "zerolinecolor": "white",
           "zerolinewidth": 2
          },
          "yaxis": {
           "automargin": true,
           "gridcolor": "white",
           "linecolor": "white",
           "ticks": "",
           "title": {
            "standoff": 15
           },
           "zerolinecolor": "white",
           "zerolinewidth": 2
          }
         }
        },
        "title": {
         "text": "ECDCs: Average Sessions per Child"
        },
        "xaxis": {
         "anchor": "y",
         "autorange": true,
         "domain": [
          0,
          1
         ],
         "range": [
          -0.5,
          21.5
         ],
         "title": {
          "text": "School"
         },
         "type": "category"
        },
        "yaxis": {
         "anchor": "x",
         "autorange": true,
         "domain": [
          0,
          1
         ],
         "range": [
          0,
          95.18796992481204
         ],
         "title": {
          "text": "Total Sessions"
         },
         "type": "linear"
        }
       }
      },
      "image/png": "[encoded data removed]",
      "text/html": [
       "<div>                            <div id=\"1737e470-c75a-40c7-bd1d-7ee3b2436bad\" class=\"plotly-graph-div\" style=\"height:525px; width:100%;\"></div>            <script type=\"text/javascript\">                require([\"plotly\"], function(Plotly) {                    window.PLOTLYENV=window.PLOTLYENV || {};                                    if (document.getElementById(\"1737e470-c75a-40c7-bd1d-7ee3b2436bad\")) {                    Plotly.newPlot(                        \"1737e470-c75a-40c7-bd1d-7ee3b2436bad\",                        [{\"alignmentgroup\":\"True\",\"hovertemplate\":\"School=%{x}\\u003cbr\\u003eTotal Sessions=%{y}\\u003cextra\\u003e\\u003c\\u002fextra\\u003e\",\"legendgroup\":\"\",\"marker\":{\"color\":\"#636efa\",\"pattern\":{\"shape\":\"\"}},\"name\":\"\",\"offsetgroup\":\"\",\"orientation\":\"v\",\"showlegend\":false,\"textposition\":\"auto\",\"x\":[\"Kokkewiet\",\"Living Ubuntu\",\"Sisonke\",\"Dorothy\",\"Zizamele\",\"Bright Angels\",\"Green Apple\",\"Qaqawuli Godolozi\",\"Paulos Oyigcwele\",\"Noluthando\",\"Lithemba\",\"Sinethemba\",\"Charles Duna\",\"Nobandla\",\"Jesus Dominion\",\"Nonkqubela\",\"Aaron Gqadu\",\"Jongilanga\",\"Sifunimfundo\",\"Seyisi\",\"Vukani Daycare\",\"Bambino\"],\"xaxis\":\"x\",\"y\":[90.42857142857143,71.54545454545455,68.61904761904762,64.43478260869566,60.21739130434783,59.72222222222222,54.81818181818182,54.75,54.458333333333336,51.208333333333336,50.611111111111114,49.30434782608695,46.869565217391305,46.47826086956522,45.91304347826087,45.05555555555556,43.0,40.75,36.56521739130435,33.708333333333336,8.666666666666666,7.647058823529412],\"yaxis\":\"y\",\"type\":\"bar\"}],                        {\"template\":{\"data\":{\"histogram2dcontour\":[{\"type\":\"histogram2dcontour\",\"colorbar\":{\"outlinewidth\":0,\"ticks\":\"\"},\"colorscale\":[[0.0,\"#0d0887\"],[0.1111111111111111,\"#46039f\"],[0.2222222222222222,\"#7201a8\"],[0.3333333333333333,\"#9c179e\"],[0.4444444444444444,\"#bd3786\"],[0.5555555555555556,\"#d8576b\"],[0.6666666666666666,\"#ed7953\"],[0.7777777777777778,\"#fb9f3a\"],[0.8888888888888888,\"#fdca26\"],[1.0,\"#f0f921\"]]}],\"choropleth\":[{\"type\":\"choropleth\",\"colorbar\":{\"outlinewidth\":0,\"ticks\":\"\"}}],\"histogram2d\":[{\"type\":\"histogram2d\",\"colorbar\":{\"outlinewidth\":0,\"ticks\":\"\"},\"colorscale\":[[0.0,\"#0d0887\"],[0.1111111111111111,\"#46039f\"],[0.2222222222222222,\"#7201a8\"],[0.3333333333333333,\"#9c179e\"],[0.4444444444444444,\"#bd3786\"],[0.5555555555555556,\"#d8576b\"],[0.6666666666666666,\"#ed7953\"],[0.7777777777777778,\"#fb9f3a\"],[0.8888888888888888,\"#fdca26\"],[1.0,\"#f0f921\"]]}],\"heatmap\":[{\"type\":\"heatmap\",\"colorbar\":{\"outlinewidth\":0,\"ticks\":\"\"},\"colorscale\":[[0.0,\"#0d0887\"],[0.1111111111111111,\"#46039f\"],[0.2222222222222222,\"#7201a8\"],[0.3333333333333333,\"#9c179e\"],[0.4444444444444444,\"#bd3786\"],[0.5555555555555556,\"#d8576b\"],[0.6666666666666666,\"#ed7953\"],[0.7777777777777778,\"#fb9f3a\"],[0.8888888888888888,\"#fdca26\"],[1.0,\"#f0f921\"]]}],\"heatmapgl\":[{\"type\":\"heatmapgl\",\"colorbar\":{\"outlinewidth\":0,\"ticks\":\"\"},\"colorscale\":[[0.0,\"#0d0887\"],[0.1111111111111111,\"#46039f\"],[0.2222222222222222,\"#7201a8\"],[0.3333333333333333,\"#9c179e\"],[0.4444444444444444,\"#bd3786\"],[0.5555555555555556,\"#d8576b\"],[0.6666666666666666,\"#ed7953\"],[0.7777777777777778,\"#fb9f3a\"],[0.8888888888888888,\"#fdca26\"],[1.0,\"#f0f921\"]]}],\"contourcarpet\":[{\"type\":\"contourcarpet\",\"colorbar\":{\"outlinewidth\":0,\"ticks\":\"\"}}],\"contour\":[{\"type\":\"contour\",\"colorbar\":{\"outlinewidth\":0,\"ticks\":\"\"},\"colorscale\":[[0.0,\"#0d0887\"],[0.1111111111111111,\"#46039f\"],[0.2222222222222222,\"#7201a8\"],[0.3333333333333333,\"#9c179e\"],[0.4444444444444444,\"#bd3786\"],[0.5555555555555556,\"#d8576b\"],[0.6666666666666666,\"#ed7953\"],[0.7777777777777778,\"#fb9f3a\"],[0.8888888888888888,\"#fdca26\"],[1.0,\"#f0f921\"]]}],\"surface\":[{\"type\":\"surface\",\"colorbar\":{\"outlinewidth\":0,\"ticks\":\"\"},\"colorscale\":[[0.0,\"#0d0887\"],[0.1111111111111111,\"#46039f\"],[0.2222222222222222,\"#7201a8\"],[0.3333333333333333,\"#9c179e\"],[0.4444444444444444,\"#bd3786\"],[0.5555555555555556,\"#d8576b\"],[0.6666666666666666,\"#ed7953\"],[0.7777777777777778,\"#fb9f3a\"],[0.8888888888888888,\"#fdca26\"],[1.0,\"#f0f921\"]]}],\"mesh3d\":[{\"type\":\"mesh3d\",\"colorbar\":{\"outlinewidth\":0,\"ticks\":\"\"}}],\"scatter\":[{\"fillpattern\":{\"fillmode\":\"overlay\",\"size\":10,\"solidity\":0.2},\"type\":\"scatter\"}],\"parcoords\":[{\"type\":\"parcoords\",\"line\":{\"colorbar\":{\"outlinewidth\":0,\"ticks\":\"\"}}}],\"scatterpolargl\":[{\"type\":\"scatterpolargl\",\"marker\":{\"colorbar\":{\"outlinewidth\":0,\"ticks\":\"\"}}}],\"bar\":[{\"error_x\":{\"color\":\"#2a3f5f\"},\"error_y\":{\"color\":\"#2a3f5f\"},\"marker\":{\"line\":{\"color\":\"#E5ECF6\",\"width\":0.5},\"pattern\":{\"fillmode\":\"overlay\",\"size\":10,\"solidity\":0.2}},\"type\":\"bar\"}],\"scattergeo\":[{\"type\":\"scattergeo\",\"marker\":{\"colorbar\":{\"outlinewidth\":0,\"ticks\":\"\"}}}],\"scatterpolar\":[{\"type\":\"scatterpolar\",\"marker\":{\"colorbar\":{\"outlinewidth\":0,\"ticks\":\"\"}}}],\"histogram\":[{\"marker\":{\"pattern\":{\"fillmode\":\"overlay\",\"size\":10,\"solidity\":0.2}},\"type\":\"histogram\"}],\"scattergl\":[{\"type\":\"scattergl\",\"marker\":{\"colorbar\":{\"outlinewidth\":0,\"ticks\":\"\"}}}],\"scatter3d\":[{\"type\":\"scatter3d\",\"line\":{\"colorbar\":{\"outlinewidth\":0,\"ticks\":\"\"}},\"marker\":{\"colorbar\":{\"outlinewidth\":0,\"ticks\":\"\"}}}],\"scattermapbox\":[{\"type\":\"scattermapbox\",\"marker\":{\"colorbar\":{\"outlinewidth\":0,\"ticks\":\"\"}}}],\"scatterternary\":[{\"type\":\"scatterternary\",\"marker\":{\"colorbar\":{\"outlinewidth\":0,\"ticks\":\"\"}}}],\"scattercarpet\":[{\"type\":\"scattercarpet\",\"marker\":{\"colorbar\":{\"outlinewidth\":0,\"ticks\":\"\"}}}],\"carpet\":[{\"aaxis\":{\"endlinecolor\":\"#2a3f5f\",\"gridcolor\":\"white\",\"linecolor\":\"white\",\"minorgridcolor\":\"white\",\"startlinecolor\":\"#2a3f5f\"},\"baxis\":{\"endlinecolor\":\"#2a3f5f\",\"gridcolor\":\"white\",\"linecolor\":\"white\",\"minorgridcolor\":\"white\",\"startlinecolor\":\"#2a3f5f\"},\"type\":\"carpet\"}],\"table\":[{\"cells\":{\"fill\":{\"color\":\"#EBF0F8\"},\"line\":{\"color\":\"white\"}},\"header\":{\"fill\":{\"color\":\"#C8D4E3\"},\"line\":{\"color\":\"white\"}},\"type\":\"table\"}],\"barpolar\":[{\"marker\":{\"line\":{\"color\":\"#E5ECF6\",\"width\":0.5},\"pattern\":{\"fillmode\":\"overlay\",\"size\":10,\"solidity\":0.2}},\"type\":\"barpolar\"}],\"pie\":[{\"automargin\":true,\"type\":\"pie\"}]},\"layout\":{\"autotypenumbers\":\"strict\",\"colorway\":[\"#636efa\",\"#EF553B\",\"#00cc96\",\"#ab63fa\",\"#FFA15A\",\"#19d3f3\",\"#FF6692\",\"#B6E880\",\"#FF97FF\",\"#FECB52\"],\"font\":{\"color\":\"#2a3f5f\"},\"hovermode\":\"closest\",\"hoverlabel\":{\"align\":\"left\"},\"paper_bgcolor\":\"white\",\"plot_bgcolor\":\"#E5ECF6\",\"polar\":{\"bgcolor\":\"#E5ECF6\",\"angularaxis\":{\"gridcolor\":\"white\",\"linecolor\":\"white\",\"ticks\":\"\"},\"radialaxis\":{\"gridcolor\":\"white\",\"linecolor\":\"white\",\"ticks\":\"\"}},\"ternary\":{\"bgcolor\":\"#E5ECF6\",\"aaxis\":{\"gridcolor\":\"white\",\"linecolor\":\"white\",\"ticks\":\"\"},\"baxis\":{\"gridcolor\":\"white\",\"linecolor\":\"white\",\"ticks\":\"\"},\"caxis\":{\"gridcolor\":\"white\",\"linecolor\":\"white\",\"ticks\":\"\"}},\"coloraxis\":{\"colorbar\":{\"outlinewidth\":0,\"ticks\":\"\"}},\"colorscale\":{\"sequential\":[[0.0,\"#0d0887\"],[0.1111111111111111,\"#46039f\"],[0.2222222222222222,\"#7201a8\"],[0.3333333333333333,\"#9c179e\"],[0.4444444444444444,\"#bd3786\"],[0.5555555555555556,\"#d8576b\"],[0.6666666666666666,\"#ed7953\"],[0.7777777777777778,\"#fb9f3a\"],[0.8888888888888888,\"#fdca26\"],[1.0,\"#f0f921\"]],\"sequentialminus\":[[0.0,\"#0d0887\"],[0.1111111111111111,\"#46039f\"],[0.2222222222222222,\"#7201a8\"],[0.3333333333333333,\"#9c179e\"],[0.4444444444444444,\"#bd3786\"],[0.5555555555555556,\"#d8576b\"],[0.6666666666666666,\"#ed7953\"],[0.7777777777777778,\"#fb9f3a\"],[0.8888888888888888,\"#fdca26\"],[1.0,\"#f0f921\"]],\"diverging\":[[0,\"#8e0152\"],[0.1,\"#c51b7d\"],[0.2,\"#de77ae\"],[0.3,\"#f1b6da\"],[0.4,\"#fde0ef\"],[0.5,\"#f7f7f7\"],[0.6,\"#e6f5d0\"],[0.7,\"#b8e186\"],[0.8,\"#7fbc41\"],[0.9,\"#4d9221\"],[1,\"#276419\"]]},\"xaxis\":{\"gridcolor\":\"white\",\"linecolor\":\"white\",\"ticks\":\"\",\"title\":{\"standoff\":15},\"zerolinecolor\":\"white\",\"automargin\":true,\"zerolinewidth\":2},\"yaxis\":{\"gridcolor\":\"white\",\"linecolor\":\"white\",\"ticks\":\"\",\"title\":{\"standoff\":15},\"zerolinecolor\":\"white\",\"automargin\":true,\"zerolinewidth\":2},\"scene\":{\"xaxis\":{\"backgroundcolor\":\"#E5ECF6\",\"gridcolor\":\"white\",\"linecolor\":\"white\",\"showbackground\":true,\"ticks\":\"\",\"zerolinecolor\":\"white\",\"gridwidth\":2},\"yaxis\":{\"backgroundcolor\":\"#E5ECF6\",\"gridcolor\":\"white\",\"linecolor\":\"white\",\"showbackground\":true,\"ticks\":\"\",\"zerolinecolor\":\"white\",\"gridwidth\":2},\"zaxis\":{\"backgroundcolor\":\"#E5ECF6\",\"gridcolor\":\"white\",\"linecolor\":\"white\",\"showbackground\":true,\"ticks\":\"\",\"zerolinecolor\":\"white\",\"gridwidth\":2}},\"shapedefaults\":{\"line\":{\"color\":\"#2a3f5f\"}},\"annotationdefaults\":{\"arrowcolor\":\"#2a3f5f\",\"arrowhead\":0,\"arrowwidth\":1},\"geo\":{\"bgcolor\":\"white\",\"landcolor\":\"#E5ECF6\",\"subunitcolor\":\"white\",\"showland\":true,\"showlakes\":true,\"lakecolor\":\"white\"},\"title\":{\"x\":0.05},\"mapbox\":{\"style\":\"light\"}}},\"xaxis\":{\"anchor\":\"y\",\"domain\":[0.0,1.0],\"title\":{\"text\":\"School\"}},\"yaxis\":{\"anchor\":\"x\",\"domain\":[0.0,1.0],\"title\":{\"text\":\"Total Sessions\"}},\"legend\":{\"tracegroupgap\":0},\"title\":{\"text\":\"ECDCs: Average Sessions per Child\"},\"barmode\":\"relative\"},                        {\"responsive\": true}                    ).then(function(){\n",
       "                            \n",
       "var gd = document.getElementById('1737e470-c75a-40c7-bd1d-7ee3b2436bad');\n",
       "var x = new MutationObserver(function (mutations, observer) {{\n",
       "        var display = window.getComputedStyle(gd).display;\n",
       "        if (!display || display === 'none') {{\n",
       "            console.log([gd, 'removed!']);\n",
       "            Plotly.purge(gd);\n",
       "            observer.disconnect();\n",
       "        }}\n",
       "}});\n",
       "\n",
       "// Listen for the removal of the full notebook cells\n",
       "var notebookContainer = gd.closest('#notebook-container');\n",
       "if (notebookContainer) {{\n",
       "    x.observe(notebookContainer, {childList: true});\n",
       "}}\n",
       "\n",
       "// Listen for the clearing of the current output cell\n",
       "var outputEl = gd.closest('.output');\n",
       "if (outputEl) {{\n",
       "    x.observe(outputEl, {childList: true});\n",
       "}}\n",
       "\n",
       "                        })                };                });            </script>        </div>"
      ]
     },
     "metadata": {},
     "output_type": "display_data"
    }
   ],
   "source": [
    "sessions_per_child_ecd()"
   ]
  },
  {
   "cell_type": "code",
   "execution_count": null,
   "id": "20fa3e53-551a-4095-8946-3a1582db7219",
   "metadata": {},
   "outputs": [],
   "source": []
  }
 ],
 "metadata": {
  "kernelspec": {
   "display_name": "Python 3 (ipykernel)",
   "language": "python",
   "name": "python3"
  },
  "language_info": {
   "codemirror_mode": {
    "name": "ipython",
    "version": 3
   },
   "file_extension": ".py",
   "mimetype": "text/x-python",
   "name": "python",
   "nbconvert_exporter": "python",
   "pygments_lexer": "ipython3",
   "version": "3.11.3"
  }
 },
 "nbformat": 4,
 "nbformat_minor": 5
}
