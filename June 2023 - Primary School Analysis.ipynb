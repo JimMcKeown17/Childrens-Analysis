{
 "cells": [
  {
   "cell_type": "markdown",
   "id": "91a22007",
   "metadata": {},
   "source": [
    "# Primary School June 2023 Results - w Sandwater\n",
    "#### English Total: 267, ixiXhosa Total (June): 243, ixiXhosa Total (June): 272"
   ]
  },
  {
   "cell_type": "code",
   "execution_count": 7,
   "id": "382a7d75",
   "metadata": {
    "tags": [
     "hide_input"
    ]
   },
   "outputs": [],
   "source": [
    "import pandas as pd\n",
    "import seaborn as sns\n",
    "import matplotlib.pyplot as plt\n",
    "import plotly.express as px\n",
    "import numpy as np\n",
    "G3_colour = \"#6DA9E4\"\n",
    "G2_colour = \"#F7D060\"\n",
    "G1_colour = \"#917FB3\"\n",
    "GR_colour = \"#98D8AA\"\n",
    "ECD_colour = \"#FF6D60\""
   ]
  },
  {
   "cell_type": "code",
   "execution_count": 8,
   "id": "5ca150c9",
   "metadata": {
    "tags": [
     "hide_input"
    ]
   },
   "outputs": [
    {
     "name": "stderr",
     "output_type": "stream",
     "text": [
      "/Users/jimmckeown/anaconda3/lib/python3.11/site-packages/openpyxl/worksheet/_read_only.py:79: UserWarning: Unknown extension is not supported and will be removed\n",
      "  for idx, row in parser.parse():\n"
     ]
    },
    {
     "ename": "KeyError",
     "evalue": "'Schools'",
     "output_type": "error",
     "traceback": [
      "\u001b[0;31m---------------------------------------------------------------------------\u001b[0m",
      "\u001b[0;31mKeyError\u001b[0m                                  Traceback (most recent call last)",
      "File \u001b[0;32m~/anaconda3/lib/python3.11/site-packages/pandas/core/indexes/base.py:3653\u001b[0m, in \u001b[0;36mIndex.get_loc\u001b[0;34m(self, key)\u001b[0m\n\u001b[1;32m   3652\u001b[0m \u001b[38;5;28;01mtry\u001b[39;00m:\n\u001b[0;32m-> 3653\u001b[0m     \u001b[38;5;28;01mreturn\u001b[39;00m \u001b[38;5;28mself\u001b[39m\u001b[38;5;241m.\u001b[39m_engine\u001b[38;5;241m.\u001b[39mget_loc(casted_key)\n\u001b[1;32m   3654\u001b[0m \u001b[38;5;28;01mexcept\u001b[39;00m \u001b[38;5;167;01mKeyError\u001b[39;00m \u001b[38;5;28;01mas\u001b[39;00m err:\n",
      "File \u001b[0;32m~/anaconda3/lib/python3.11/site-packages/pandas/_libs/index.pyx:147\u001b[0m, in \u001b[0;36mpandas._libs.index.IndexEngine.get_loc\u001b[0;34m()\u001b[0m\n",
      "File \u001b[0;32m~/anaconda3/lib/python3.11/site-packages/pandas/_libs/index.pyx:176\u001b[0m, in \u001b[0;36mpandas._libs.index.IndexEngine.get_loc\u001b[0;34m()\u001b[0m\n",
      "File \u001b[0;32mpandas/_libs/hashtable_class_helper.pxi:7080\u001b[0m, in \u001b[0;36mpandas._libs.hashtable.PyObjectHashTable.get_item\u001b[0;34m()\u001b[0m\n",
      "File \u001b[0;32mpandas/_libs/hashtable_class_helper.pxi:7088\u001b[0m, in \u001b[0;36mpandas._libs.hashtable.PyObjectHashTable.get_item\u001b[0;34m()\u001b[0m\n",
      "\u001b[0;31mKeyError\u001b[0m: 'Schools'",
      "\nThe above exception was the direct cause of the following exception:\n",
      "\u001b[0;31mKeyError\u001b[0m                                  Traceback (most recent call last)",
      "Cell \u001b[0;32mIn[8], line 9\u001b[0m\n\u001b[1;32m      6\u001b[0m children \u001b[38;5;241m=\u001b[39m children_all[children_all[\u001b[38;5;124m'\u001b[39m\u001b[38;5;124mJan - Listen First Sound\u001b[39m\u001b[38;5;124m'\u001b[39m]\u001b[38;5;241m.\u001b[39mnotna() \u001b[38;5;241m&\u001b[39m children_all[\u001b[38;5;124m'\u001b[39m\u001b[38;5;124mJune - Listen First Sound\u001b[39m\u001b[38;5;124m'\u001b[39m]\u001b[38;5;241m.\u001b[39mnotna()]\u001b[38;5;241m.\u001b[39mcopy()\n\u001b[1;32m      8\u001b[0m exclude_schools \u001b[38;5;241m=\u001b[39m [\u001b[38;5;124m'\u001b[39m\u001b[38;5;124mSt Augustines\u001b[39m\u001b[38;5;124m'\u001b[39m, \u001b[38;5;124m'\u001b[39m\u001b[38;5;124mZukisa\u001b[39m\u001b[38;5;124m'\u001b[39m, \u001b[38;5;124m'\u001b[39m\u001b[38;5;124mKhanyisa\u001b[39m\u001b[38;5;124m'\u001b[39m, \u001b[38;5;124m'\u001b[39m\u001b[38;5;124mMzingisi\u001b[39m\u001b[38;5;124m'\u001b[39m, \u001b[38;5;124m'\u001b[39m\u001b[38;5;124mPhakamile\u001b[39m\u001b[38;5;124m'\u001b[39m]\n\u001b[0;32m----> 9\u001b[0m children \u001b[38;5;241m=\u001b[39m children[\u001b[38;5;241m~\u001b[39mchildren[\u001b[38;5;124m'\u001b[39m\u001b[38;5;124mSchools\u001b[39m\u001b[38;5;124m'\u001b[39m]\u001b[38;5;241m.\u001b[39misin(exclude_schools)]\u001b[38;5;241m.\u001b[39mcopy()\n\u001b[1;32m     11\u001b[0m children[\u001b[38;5;124m'\u001b[39m\u001b[38;5;124mJan - Total\u001b[39m\u001b[38;5;124m'\u001b[39m] \u001b[38;5;241m=\u001b[39m children[[\u001b[38;5;124m'\u001b[39m\u001b[38;5;124mJan - Listen First Sound\u001b[39m\u001b[38;5;124m'\u001b[39m, \u001b[38;5;124m'\u001b[39m\u001b[38;5;124mJan - Listen Word\u001b[39m\u001b[38;5;124m'\u001b[39m,\u001b[38;5;124m'\u001b[39m\u001b[38;5;124mJan - Phonics\u001b[39m\u001b[38;5;124m'\u001b[39m, \u001b[38;5;124m'\u001b[39m\u001b[38;5;124mJan - Blends\u001b[39m\u001b[38;5;124m'\u001b[39m, \u001b[38;5;124m'\u001b[39m\u001b[38;5;124mJan - Sight Words\u001b[39m\u001b[38;5;124m'\u001b[39m,\n\u001b[1;32m     12\u001b[0m                                   \u001b[38;5;124m'\u001b[39m\u001b[38;5;124mJan - Read Sentences\u001b[39m\u001b[38;5;124m'\u001b[39m, \u001b[38;5;124m'\u001b[39m\u001b[38;5;124mJan - Read Story\u001b[39m\u001b[38;5;124m'\u001b[39m, \u001b[38;5;124m'\u001b[39m\u001b[38;5;124mJan - Story Comprehension\u001b[39m\u001b[38;5;124m'\u001b[39m,\n\u001b[1;32m     13\u001b[0m                                   \u001b[38;5;124m'\u001b[39m\u001b[38;5;124mJan - Written Letters\u001b[39m\u001b[38;5;124m'\u001b[39m, \u001b[38;5;124m'\u001b[39m\u001b[38;5;124mJan - Write Name\u001b[39m\u001b[38;5;124m'\u001b[39m, \u001b[38;5;124m'\u001b[39m\u001b[38;5;124mJan - Write CVCs\u001b[39m\u001b[38;5;124m'\u001b[39m,\n\u001b[1;32m     14\u001b[0m                                   \u001b[38;5;124m'\u001b[39m\u001b[38;5;124mJan - Write Sentences\u001b[39m\u001b[38;5;124m'\u001b[39m]]\u001b[38;5;241m.\u001b[39msum(axis\u001b[38;5;241m=\u001b[39m\u001b[38;5;241m1\u001b[39m,min_count\u001b[38;5;241m=\u001b[39m\u001b[38;5;241m1\u001b[39m)\n\u001b[1;32m     15\u001b[0m children[\u001b[38;5;124m'\u001b[39m\u001b[38;5;124mJune - Total\u001b[39m\u001b[38;5;124m'\u001b[39m] \u001b[38;5;241m=\u001b[39m children[[\u001b[38;5;124m'\u001b[39m\u001b[38;5;124mJune - Listen First Sound\u001b[39m\u001b[38;5;124m'\u001b[39m,\n\u001b[1;32m     16\u001b[0m        \u001b[38;5;124m'\u001b[39m\u001b[38;5;124mJune - Listen Word\u001b[39m\u001b[38;5;124m'\u001b[39m,\u001b[38;5;124m'\u001b[39m\u001b[38;5;124mJune - Phonics\u001b[39m\u001b[38;5;124m'\u001b[39m, \u001b[38;5;124m'\u001b[39m\u001b[38;5;124mJune - Blends\u001b[39m\u001b[38;5;124m'\u001b[39m, \u001b[38;5;124m'\u001b[39m\u001b[38;5;124mJune - Sight Words\u001b[39m\u001b[38;5;124m'\u001b[39m,\n\u001b[1;32m     17\u001b[0m                                   \u001b[38;5;124m'\u001b[39m\u001b[38;5;124mJune - Read Sentences\u001b[39m\u001b[38;5;124m'\u001b[39m, \u001b[38;5;124m'\u001b[39m\u001b[38;5;124mJune - Read Story\u001b[39m\u001b[38;5;124m'\u001b[39m, \u001b[38;5;124m'\u001b[39m\u001b[38;5;124mJune - Story Comprehension\u001b[39m\u001b[38;5;124m'\u001b[39m,\n\u001b[1;32m     18\u001b[0m                                   \u001b[38;5;124m'\u001b[39m\u001b[38;5;124mJune - Written Letters\u001b[39m\u001b[38;5;124m'\u001b[39m, \u001b[38;5;124m'\u001b[39m\u001b[38;5;124mJune - Write Name\u001b[39m\u001b[38;5;124m'\u001b[39m, \u001b[38;5;124m'\u001b[39m\u001b[38;5;124mJune - Write CVCs\u001b[39m\u001b[38;5;124m'\u001b[39m,\n\u001b[1;32m     19\u001b[0m                                   \u001b[38;5;124m'\u001b[39m\u001b[38;5;124mJune - Write Sentences\u001b[39m\u001b[38;5;124m'\u001b[39m]]\u001b[38;5;241m.\u001b[39msum(axis\u001b[38;5;241m=\u001b[39m\u001b[38;5;241m1\u001b[39m,min_count\u001b[38;5;241m=\u001b[39m\u001b[38;5;241m1\u001b[39m)\n",
      "File \u001b[0;32m~/anaconda3/lib/python3.11/site-packages/pandas/core/frame.py:3761\u001b[0m, in \u001b[0;36mDataFrame.__getitem__\u001b[0;34m(self, key)\u001b[0m\n\u001b[1;32m   3759\u001b[0m \u001b[38;5;28;01mif\u001b[39;00m \u001b[38;5;28mself\u001b[39m\u001b[38;5;241m.\u001b[39mcolumns\u001b[38;5;241m.\u001b[39mnlevels \u001b[38;5;241m>\u001b[39m \u001b[38;5;241m1\u001b[39m:\n\u001b[1;32m   3760\u001b[0m     \u001b[38;5;28;01mreturn\u001b[39;00m \u001b[38;5;28mself\u001b[39m\u001b[38;5;241m.\u001b[39m_getitem_multilevel(key)\n\u001b[0;32m-> 3761\u001b[0m indexer \u001b[38;5;241m=\u001b[39m \u001b[38;5;28mself\u001b[39m\u001b[38;5;241m.\u001b[39mcolumns\u001b[38;5;241m.\u001b[39mget_loc(key)\n\u001b[1;32m   3762\u001b[0m \u001b[38;5;28;01mif\u001b[39;00m is_integer(indexer):\n\u001b[1;32m   3763\u001b[0m     indexer \u001b[38;5;241m=\u001b[39m [indexer]\n",
      "File \u001b[0;32m~/anaconda3/lib/python3.11/site-packages/pandas/core/indexes/base.py:3655\u001b[0m, in \u001b[0;36mIndex.get_loc\u001b[0;34m(self, key)\u001b[0m\n\u001b[1;32m   3653\u001b[0m     \u001b[38;5;28;01mreturn\u001b[39;00m \u001b[38;5;28mself\u001b[39m\u001b[38;5;241m.\u001b[39m_engine\u001b[38;5;241m.\u001b[39mget_loc(casted_key)\n\u001b[1;32m   3654\u001b[0m \u001b[38;5;28;01mexcept\u001b[39;00m \u001b[38;5;167;01mKeyError\u001b[39;00m \u001b[38;5;28;01mas\u001b[39;00m err:\n\u001b[0;32m-> 3655\u001b[0m     \u001b[38;5;28;01mraise\u001b[39;00m \u001b[38;5;167;01mKeyError\u001b[39;00m(key) \u001b[38;5;28;01mfrom\u001b[39;00m \u001b[38;5;21;01merr\u001b[39;00m\n\u001b[1;32m   3656\u001b[0m \u001b[38;5;28;01mexcept\u001b[39;00m \u001b[38;5;167;01mTypeError\u001b[39;00m:\n\u001b[1;32m   3657\u001b[0m     \u001b[38;5;66;03m# If we have a listlike key, _check_indexing_error will raise\u001b[39;00m\n\u001b[1;32m   3658\u001b[0m     \u001b[38;5;66;03m#  InvalidIndexError. Otherwise we fall through and re-raise\u001b[39;00m\n\u001b[1;32m   3659\u001b[0m     \u001b[38;5;66;03m#  the TypeError.\u001b[39;00m\n\u001b[1;32m   3660\u001b[0m     \u001b[38;5;28mself\u001b[39m\u001b[38;5;241m.\u001b[39m_check_indexing_error(key)\n",
      "\u001b[0;31mKeyError\u001b[0m: 'Schools'"
     ]
    }
   ],
   "source": [
    "# children_all = pd.read_csv(\"20230712 - Children Results - English.csv\")\n",
    "file_path = \"Results By Year/20230913- Children Database  - English Main.xlsx\"\n",
    "sheet_name = \"Children Results \"\n",
    "children_all = pd.read_excel(file_path, sheet_name=sheet_name)\n",
    "\n",
    "children = children_all[children_all['Jan - Listen First Sound'].notna() & children_all['June - Listen First Sound'].notna()].copy()\n",
    "\n",
    "exclude_schools = ['St Augustines', 'Zukisa', 'Khanyisa', 'Mzingisi', 'Phakamile']\n",
    "children = children[~children['Schools'].isin(exclude_schools)].copy()\n",
    "\n",
    "children['Jan - Total'] = children[['Jan - Listen First Sound', 'Jan - Listen Word','Jan - Phonics', 'Jan - Blends', 'Jan - Sight Words',\n",
    "                                  'Jan - Read Sentences', 'Jan - Read Story', 'Jan - Story Comprehension',\n",
    "                                  'Jan - Written Letters', 'Jan - Write Name', 'Jan - Write CVCs',\n",
    "                                  'Jan - Write Sentences']].sum(axis=1,min_count=1)\n",
    "children['June - Total'] = children[['June - Listen First Sound',\n",
    "       'June - Listen Word','June - Phonics', 'June - Blends', 'June - Sight Words',\n",
    "                                  'June - Read Sentences', 'June - Read Story', 'June - Story Comprehension',\n",
    "                                  'June - Written Letters', 'June - Write Name', 'June - Write CVCs',\n",
    "                                  'June - Write Sentences']].sum(axis=1,min_count=1)\n",
    "children['June - Listen First Sound Improvement'] = children['June - Listen First Sound'] - children['Jan - Listen First Sound']\n",
    "children['June - Listen Word Improvement'] = children['June - Listen Word'] - children['Jan - Listen Word']\n",
    "children['June - Phonics Improvement'] = children['June - Phonics'] - children['Jan - Phonics']\n",
    "children['June - Written Letters Improvement'] = children['June - Written Letters'] - children['Jan - Written Letters']\n",
    "children[\"Jan - Sounds Total\"] =  children[\"Jan - Listen First Sound\"] + children[\"Jan - Listen Word\"]\n",
    "children[\"June - Sounds Total\"] =  children[\"June - Listen First Sound\"] + children[\"June - Listen Word\"]\n",
    "children[\"June - Sounds Total Improvement\"] = children[\"June - Sounds Total\"] - children[\"Jan - Sounds Total\"]\n",
    "children[\"June - Blends Improvement\"] = children[\"June - Blends\"] - children[\"Jan - Blends\"]\n",
    "children[\"June - Read Sentences Improvement\"] = children[\"June - Read Sentences\"] - children[\"Jan - Read Sentences\"]\n",
    "children[\"June - Read Story Improvement\"] = children[\"June - Read Story\"] - children[\"Jan - Read Story\"]\n",
    "children[\"June - Sight Words Improvement\"] = children[\"June - Sight Words\"] - children[\"Jan - Sight Words\"]\n",
    "children[\"June - Write Sentence Improvement\"] = children[\"June - Write Sentences\"] - children[\"Jan - Write Sentences\"]\n",
    "children[\"June - Write CVCs Improvement\"] = children[\"June - Write CVCs\"] - children[\"Jan - Write CVCs\"]\n",
    "children[\"June - Total Improvement\"] = children[\"June - Total\"] - children[\"Jan - Total\"]\n",
    "# Sounds and Phonics Total is 49\n",
    "children[\"Jan - Sounds and Phonics\"] = children[\"Jan - Listen First Sound\"] + children[\"Jan - Listen Word\"] + children['Jan - Phonics']\n",
    "# Reading total is 128\n",
    "children[\"Jan - Reading\"] = children[\"Jan - Blends\"] + children[\"Jan - Sight Words\"] + children['Jan - Read Sentences'] + children[\"Jan - Read Story\"] + children[\"Jan - Story Comprehension\"]\n",
    "# Writing total is 87\n",
    "children[\"Jan - Writing\"] = children['Jan - Written Letters'] + children[\"Jan - Write CVCs\"] + children[\"Jan - Write Sentences\"]\n",
    "# Sounds and Phonics Total is 49\n",
    "children[\"June - Sounds and Phonics\"] = children[\"June - Listen First Sound\"] + children[\"June - Listen Word\"] + children['June - Phonics']\n",
    "# Reading total is 128\n",
    "children[\"June - Reading\"] = children[\"June - Blends\"] + children[\"June - Sight Words\"] + children['June - Read Sentences'] + children[\"June - Read Story\"] + children[\"June - Story Comprehension\"]\n",
    "# Writing total is 87\n",
    "children[\"June - Writing\"] = children['June - Written Letters'] + children[\"June - Write CVCs\"] + children[\"June - Write Sentences\"]\n",
    "\n",
    "children[\"June - Sounds and Phonics Improvement\"] = children[\"June - Sounds and Phonics\"] - children[\"Jan - Sounds and Phonics\"]\n",
    "children[\"June - Reading Improvement\"] = children[\"June - Reading\"] - children[\"Jan - Reading\"]\n",
    "children[\"June - Writing Improvement\"] = children[\"June - Writing\"] - children[\"Jan - Writing\"] \n",
    "\n",
    "children['Graduate_Status'] = children['June - Total'].apply(lambda x: 'Graduate' if x > 224 else np.nan)\n",
    "\n",
    "improvement_columns = [\"June - Listen First Sound Improvement\",\"June - Listen Word Improvement\", \"June - Phonics Improvement\",\"June - Blends Improvement\", \"June - Sight Words Improvement\", \"June - Read Sentences Improvement\", \"June - Read Story Improvement\", \"June - Written Letters Improvement\", \"June - Write CVCs Improvement\", \"June - Write Sentence Improvement\", \"June - Total Improvement\" ]\n",
    "improvement_columns_detailed = [\"Full Name\", 'Schools', 'Grade', 'LC Name',\"June - Listen First Sound Improvement\",\"June - Phonics Improvement\",\"June - Sight Words Improvement\", \"June - Read Story Improvement\", \"June - Written Letters Improvement\", \"June - Write Sentence Improvement\", \"June - Total Improvement\" ]\n"
   ]
  },
  {
   "cell_type": "code",
   "execution_count": null,
   "id": "27f0554f",
   "metadata": {
    "tags": [
     "hide_input"
    ]
   },
   "outputs": [],
   "source": [
    "primary = children[children['Grade'] != 'PreR']\n",
    "primary_on = primary[primary['On The Programme'] == 'Yes']\n",
    "gbo = primary.groupby('Schools')\n",
    "gbo_on = primary_on.groupby('Schools')\n",
    "\n",
    "GradeR = children[children['Grade'] == 'Grade R']\n",
    "GradeR_on = GradeR[GradeR['On The Programme'] == 'Yes']\n",
    "gboR = GradeR.groupby('Schools')\n",
    "gboR_on = GradeR_on.groupby('Schools')\n",
    "\n",
    "Grade1 = children[children['Grade'] == 'Grade 1']\n",
    "Grade1_on = Grade1[Grade1['On The Programme'] == 'Yes']\n",
    "gbo1 = Grade1.groupby('Schools')\n",
    "gbo1_on = Grade1_on.groupby('Schools')\n",
    "\n",
    "Grade2 = children[children['Grade'] == 'Grade 2']\n",
    "Grade2_on = Grade2[Grade2['On The Programme'] == 'Yes']\n",
    "gbo2 = Grade2.groupby('Schools')\n",
    "gbo2_on = Grade2_on.groupby('Schools')\n",
    "\n",
    "Grade3 = children[children['Grade'] == 'Grade 3']\n",
    "Grade3_on = Grade3[Grade3['On The Programme'] == 'Yes']\n",
    "gbo3 = Grade3.groupby('Schools')\n",
    "gbo3_on = Grade3_on.groupby('Schools')\n",
    "\n"
   ]
  },
  {
   "cell_type": "markdown",
   "id": "f2fd9c40",
   "metadata": {},
   "source": [
    "# % of Children Assessed"
   ]
  },
  {
   "cell_type": "code",
   "execution_count": null,
   "id": "a79e3ab0",
   "metadata": {
    "tags": [
     "hide_input"
    ]
   },
   "outputs": [],
   "source": [
    "primary_all = children_all[children_all['Grade'] != 'PreR']\n",
    "primary_on_all = primary_all[primary_all['On The Programme'] == 'Yes']\n",
    "gbo_all = primary_all.groupby('Schools')\n",
    "gbo_on_all = primary_on_all.groupby('Schools')\n",
    "\n",
    "total_children = gbo_on_all['Full Name'].count()\n",
    "total_children_assessed = gbo_on_all['June - Phonics'].count()\n",
    "\n",
    "percent_assessed = (total_children_assessed / total_children) * 100\n",
    "\n",
    "\n",
    "df_assessed = pd.DataFrame({'Number of Children': total_children, \n",
    "                          'Number of Children Assessed': total_children_assessed, \n",
    "                          'Percentage Assessed': percent_assessed})\n",
    "df_assessed.sort_values('Percentage Assessed', ascending=False)"
   ]
  },
  {
   "cell_type": "code",
   "execution_count": null,
   "id": "275576d3",
   "metadata": {
    "tags": [
     "hide_input"
    ]
   },
   "outputs": [],
   "source": [
    "df_all = primary.groupby('Schools')['On The Programme'].value_counts()\n",
    "pd.set_option('display.max_rows', None)\n",
    "df_all"
   ]
  },
  {
   "cell_type": "markdown",
   "id": "331aad9f",
   "metadata": {},
   "source": [
    "# Average Number of Sessions per Child"
   ]
  },
  {
   "cell_type": "code",
   "execution_count": null,
   "id": "f458c9e4",
   "metadata": {
    "tags": [
     "hide_input"
    ]
   },
   "outputs": [],
   "source": [
    "df = gbo['Total Sessions'].mean()\n",
    "df.sort_values(ascending=False).plot(kind=\"bar\")"
   ]
  },
  {
   "cell_type": "markdown",
   "id": "89583643",
   "metadata": {},
   "source": [
    "# Number of Sessions Kids on the Programme Received"
   ]
  },
  {
   "cell_type": "code",
   "execution_count": null,
   "id": "b0ed4491",
   "metadata": {
    "tags": [
     "hide_input"
    ]
   },
   "outputs": [],
   "source": [
    "import seaborn as sns\n",
    "\n",
    "plt.figure(figsize=(15, 10))\n",
    "sns.histplot(data=primary_on, x=\"Total Sessions\", hue=\"Schools\")\n",
    "plt.show()\n"
   ]
  },
  {
   "cell_type": "markdown",
   "id": "1759c91c",
   "metadata": {},
   "source": [
    "# Whole School Results"
   ]
  },
  {
   "cell_type": "markdown",
   "id": "768a3d3f",
   "metadata": {},
   "source": [
    "### All Grades Avg Improvement By School\n"
   ]
  },
  {
   "cell_type": "code",
   "execution_count": null,
   "id": "92eba4b0",
   "metadata": {
    "tags": [
     "hide_input"
    ]
   },
   "outputs": [],
   "source": [
    "\n",
    "# First, calculate the order of schools based on the mean of 'June - Total Improvement'\n",
    "order = primary_on.groupby('Schools')['June - Total Improvement'].mean().sort_values(ascending=False).index\n",
    "\n",
    "fig, ax = plt.subplots(figsize=(15, 6))\n",
    "\n",
    "# Then, pass this order to the 'order' parameter in the barplot function\n",
    "sns.barplot(data=primary_on, x='Schools', y='June - Total Improvement', order=order, errorbar=None, ax=ax, palette=\"rocket\")\n",
    "plt.title(\"Average Progress of Children by School\")\n",
    "plt.xticks(rotation=90)\n",
    "plt.show()"
   ]
  },
  {
   "cell_type": "markdown",
   "id": "daeb797e",
   "metadata": {},
   "source": [
    "### All Grades Avg Improvement in Table"
   ]
  },
  {
   "cell_type": "code",
   "execution_count": null,
   "id": "83c3841c",
   "metadata": {
    "tags": [
     "hide_input"
    ]
   },
   "outputs": [],
   "source": [
    "df_improvement = gbo_on[improvement_columns].mean()\n",
    "df_improvement.sort_values('June - Total Improvement', ascending=False)"
   ]
  },
  {
   "cell_type": "markdown",
   "id": "4dd264ae",
   "metadata": {},
   "source": [
    "# Grade R Results"
   ]
  },
  {
   "cell_type": "markdown",
   "id": "526b362c",
   "metadata": {},
   "source": [
    "### GR Jan and June results side-by-side"
   ]
  },
  {
   "cell_type": "code",
   "execution_count": null,
   "id": "43ef79c2",
   "metadata": {
    "tags": [
     "hide_input"
    ]
   },
   "outputs": [],
   "source": [
    "import seaborn as sns\n",
    "import matplotlib.pyplot as plt\n",
    "\n",
    "# Groupby 'Schools' and calculate the mean, then sort by 'June - Total'\n",
    "GradeR_on_grouped = GradeR_on.groupby('Schools')[['Jan - Total', 'June - Total']].mean().sort_values('June - Total', ascending=False).reset_index()\n",
    "\n",
    "# Melt the DataFrame to a \"long\" format suitable for seaborn\n",
    "melted = GradeR_on_grouped.melt(id_vars='Schools', var_name='Month', value_name='Average Total Score')\n",
    "\n",
    "# Plot the data\n",
    "plt.figure(figsize=(15, 6))\n",
    "sns.barplot(data=melted, x='Schools', y='Average Total Score', hue='Month')\n",
    "plt.title('Average Total Scores for January and June')\n",
    "plt.xlabel('Schools')\n",
    "plt.ylabel('Average Total Score')\n",
    "plt.xticks(rotation=90)\n",
    "plt.show()\n",
    "\n"
   ]
  },
  {
   "cell_type": "markdown",
   "id": "5f475a7d",
   "metadata": {},
   "source": [
    "### GR Improvement by School"
   ]
  },
  {
   "cell_type": "code",
   "execution_count": null,
   "id": "ef2bebe9",
   "metadata": {
    "tags": [
     "hide_input"
    ]
   },
   "outputs": [],
   "source": [
    "# First, calculate the order of schools based on the mean of 'June - Total Improvement'\n",
    "order = GradeR_on.groupby('Schools')['June - Total Improvement'].mean().sort_values(ascending=False).index\n",
    "\n",
    "fig, ax = plt.subplots(figsize=(15, 6))\n",
    "\n",
    "# Then, pass this order to the 'order' parameter in the barplot function\n",
    "sns.barplot(data=GradeR_on, x='Schools', y='June - Total Improvement', order=order, errorbar=None, ax=ax, palette=\"rocket\")\n",
    "plt.title(\"Average Progress of Children by School\")\n",
    "plt.xticks(rotation=90)\n",
    "plt.show()"
   ]
  },
  {
   "cell_type": "markdown",
   "id": "233e7149",
   "metadata": {},
   "source": [
    "### GR Improvement Results in Table"
   ]
  },
  {
   "cell_type": "code",
   "execution_count": null,
   "id": "20b1f684",
   "metadata": {
    "tags": [
     "hide_input"
    ]
   },
   "outputs": [],
   "source": [
    "df_GradeR_improvement = gboR_on[improvement_columns].mean()\n",
    "df_GradeR_improvement.sort_values('June - Total Improvement', ascending=False)"
   ]
  },
  {
   "cell_type": "markdown",
   "id": "a6219b45",
   "metadata": {},
   "source": [
    "### GR Improvement Results of Children with 15 or More Sessions"
   ]
  },
  {
   "cell_type": "code",
   "execution_count": null,
   "id": "cb7e0f53",
   "metadata": {
    "tags": [
     "hide_input"
    ]
   },
   "outputs": [],
   "source": [
    "GradeR_qualify = GradeR[(GradeR['On The Programme'] == 'Yes') & (GradeR['Total Sessions'] > 15)]\n",
    "df_GradeR_qualify_improvement = GradeR_qualify.groupby('Schools')[improvement_columns].mean()\n",
    "df_GradeR_qualify_improvement.sort_values('June - Total Improvement', ascending=False)"
   ]
  },
  {
   "cell_type": "markdown",
   "id": "c8ad629f",
   "metadata": {},
   "source": [
    "# Grade 1 Summary"
   ]
  },
  {
   "cell_type": "markdown",
   "id": "22751620",
   "metadata": {},
   "source": [
    "### G1 Jan and June results side-by-side"
   ]
  },
  {
   "cell_type": "code",
   "execution_count": null,
   "id": "d7b75924",
   "metadata": {
    "tags": [
     "hide_input"
    ]
   },
   "outputs": [],
   "source": [
    "import seaborn as sns\n",
    "import matplotlib.pyplot as plt\n",
    "\n",
    "# Groupby 'Schools' and calculate the mean, then sort by 'June - Total'\n",
    "Grade1_on_grouped = Grade1_on.groupby('Schools')[['Jan - Total', 'June - Total']].mean().sort_values('June - Total', ascending=False).reset_index()\n",
    "\n",
    "# Melt the DataFrame to a \"long\" format suitable for seaborn\n",
    "melted = Grade1_on_grouped.melt(id_vars='Schools', var_name='Month', value_name='Average Total Score')\n",
    "\n",
    "# Plot the data\n",
    "plt.figure(figsize=(15, 6))\n",
    "sns.barplot(data=melted, x='Schools', y='Average Total Score', hue='Month')\n",
    "plt.title('Average Total Scores for January and June')\n",
    "plt.xlabel('Schools')\n",
    "plt.ylabel('Average Total Score')\n",
    "plt.xticks(rotation=90)\n",
    "plt.show()\n"
   ]
  },
  {
   "cell_type": "markdown",
   "id": "4634a1bc",
   "metadata": {},
   "source": [
    "### G1 Improvement By School"
   ]
  },
  {
   "cell_type": "code",
   "execution_count": null,
   "id": "e48eed12",
   "metadata": {
    "tags": [
     "hide_input"
    ]
   },
   "outputs": [],
   "source": [
    "# First, calculate the order of schools based on the mean of 'June - Total Improvement'\n",
    "order = Grade1_on.groupby('Schools')['June - Total Improvement'].mean().sort_values(ascending=False).index\n",
    "\n",
    "fig, ax = plt.subplots(figsize=(15, 6))\n",
    "\n",
    "# Then, pass this order to the 'order' parameter in the barplot function\n",
    "sns.barplot(data=Grade1_on, x='Schools', y='June - Total Improvement', order=order, errorbar=None, ax=ax, palette=\"rocket\")\n",
    "plt.title(\"Average Progress of Children by School\")\n",
    "plt.xticks(rotation=90)\n",
    "plt.show()"
   ]
  },
  {
   "cell_type": "markdown",
   "id": "18791047",
   "metadata": {},
   "source": [
    "### G1 Improvement Results in Table"
   ]
  },
  {
   "cell_type": "code",
   "execution_count": null,
   "id": "a81acf86",
   "metadata": {
    "tags": [
     "hide_input"
    ]
   },
   "outputs": [],
   "source": [
    "df_Grade1_improvement = gbo1_on[improvement_columns].mean()\n",
    "df_Grade1_improvement.sort_values('June - Total Improvement', ascending=False)"
   ]
  },
  {
   "cell_type": "markdown",
   "id": "6738bffa",
   "metadata": {},
   "source": [
    "# Grade 2 Summary"
   ]
  },
  {
   "cell_type": "markdown",
   "id": "8bafa5fd",
   "metadata": {},
   "source": [
    "### G2 Jan and June results side-by-side\n"
   ]
  },
  {
   "cell_type": "code",
   "execution_count": null,
   "id": "ee12e563",
   "metadata": {
    "tags": [
     "hide_input"
    ]
   },
   "outputs": [],
   "source": [
    "import seaborn as sns\n",
    "import matplotlib.pyplot as plt\n",
    "\n",
    "# Groupby 'Schools' and calculate the mean, then sort by 'June - Total'\n",
    "Grade2_on_grouped = Grade2_on.groupby('Schools')[['Jan - Total', 'June - Total']].mean().sort_values('June - Total', ascending=False).reset_index()\n",
    "\n",
    "# Melt the DataFrame to a \"long\" format suitable for seaborn\n",
    "melted = Grade2_on_grouped.melt(id_vars='Schools', var_name='Month', value_name='Average Total Score')\n",
    "\n",
    "# Plot the data\n",
    "plt.figure(figsize=(15, 6))\n",
    "sns.barplot(data=melted, x='Schools', y='Average Total Score', hue='Month')\n",
    "plt.title('Average Total Scores for January and June')\n",
    "plt.xlabel('Schools')\n",
    "plt.ylabel('Average Total Score')\n",
    "plt.xticks(rotation=90)\n",
    "plt.show()"
   ]
  },
  {
   "cell_type": "markdown",
   "id": "8adeda52",
   "metadata": {},
   "source": [
    "### G2 Improvement Results"
   ]
  },
  {
   "cell_type": "code",
   "execution_count": null,
   "id": "c5671028",
   "metadata": {
    "tags": [
     "hide_input"
    ]
   },
   "outputs": [],
   "source": [
    "# First, calculate the order of schools based on the mean of 'June - Total Improvement'\n",
    "order = Grade2_on.groupby('Schools')['June - Total Improvement'].mean().sort_values(ascending=False).index\n",
    "\n",
    "fig, ax = plt.subplots(figsize=(15, 6))\n",
    "\n",
    "# Then, pass this order to the 'order' parameter in the barplot function\n",
    "sns.barplot(data=Grade2_on, x='Schools', y='June - Total Improvement', order=order, errorbar=None, ax=ax, palette=\"rocket\")\n",
    "plt.title(\"Average Progress of Children by School\")\n",
    "plt.xticks(rotation=90)\n",
    "plt.show()"
   ]
  },
  {
   "cell_type": "markdown",
   "id": "956f5b6f",
   "metadata": {},
   "source": [
    "### G2 Improvement Results in Table"
   ]
  },
  {
   "cell_type": "code",
   "execution_count": null,
   "id": "526dfb1d",
   "metadata": {
    "scrolled": true,
    "tags": [
     "hide_input"
    ]
   },
   "outputs": [],
   "source": [
    "df_Grade2_improvement = gbo2_on[improvement_columns].mean()\n",
    "df_Grade2_improvement.sort_values('June - Total Improvement', ascending=False)"
   ]
  },
  {
   "cell_type": "markdown",
   "id": "cbe8a933",
   "metadata": {},
   "source": [
    "# Grade 3 Summary"
   ]
  },
  {
   "cell_type": "markdown",
   "id": "c907672f",
   "metadata": {},
   "source": [
    "### G3 Jan and June results side-by-side"
   ]
  },
  {
   "cell_type": "code",
   "execution_count": null,
   "id": "d30f1a0b",
   "metadata": {
    "tags": [
     "hide_input"
    ]
   },
   "outputs": [],
   "source": [
    "import seaborn as sns\n",
    "import matplotlib.pyplot as plt\n",
    "\n",
    "# Groupby 'Schools' and calculate the mean, then sort by 'June - Total'\n",
    "Grade3_on_grouped = Grade3_on.groupby('Schools')[['Jan - Total', 'June - Total']].mean().sort_values('June - Total', ascending=False).reset_index()\n",
    "\n",
    "# Melt the DataFrame to a \"long\" format suitable for seaborn\n",
    "melted = Grade3_on_grouped.melt(id_vars='Schools', var_name='Month', value_name='Average Total Score')\n",
    "\n",
    "# Plot the data\n",
    "plt.figure(figsize=(15, 6))\n",
    "sns.barplot(data=melted, x='Schools', y='Average Total Score', hue='Month')\n",
    "plt.title('Average Total Scores for January and June')\n",
    "plt.xlabel('Schools')\n",
    "plt.ylabel('Average Total Score')\n",
    "plt.xticks(rotation=90)\n",
    "plt.show()"
   ]
  },
  {
   "cell_type": "markdown",
   "id": "bfcbe5c8",
   "metadata": {},
   "source": [
    "### G3 Improvement Results"
   ]
  },
  {
   "cell_type": "code",
   "execution_count": null,
   "id": "94c15deb",
   "metadata": {
    "tags": [
     "hide_input"
    ]
   },
   "outputs": [],
   "source": [
    "# First, calculate the order of schools based on the mean of 'June - Total Improvement'\n",
    "order = Grade3_on.groupby('Schools')['June - Total Improvement'].mean().sort_values(ascending=False).index\n",
    "\n",
    "fig, ax = plt.subplots(figsize=(15, 6))\n",
    "\n",
    "# Then, pass this order to the 'order' parameter in the barplot function\n",
    "sns.barplot(data=Grade3_on, x='Schools', y='June - Total Improvement', order=order, errorbar=None, ax=ax, palette=\"rocket\")\n",
    "plt.title(\"Average Progress of Children by School\")\n",
    "plt.xticks(rotation=90)\n",
    "plt.show()"
   ]
  },
  {
   "cell_type": "markdown",
   "id": "a2eec9a6",
   "metadata": {},
   "source": [
    "### G3 Improvement Results by Table"
   ]
  },
  {
   "cell_type": "code",
   "execution_count": null,
   "id": "250f632a",
   "metadata": {
    "tags": [
     "hide_input"
    ]
   },
   "outputs": [],
   "source": [
    "df_Grade3_improvement = gbo3_on[improvement_columns].mean()\n",
    "df_Grade3_improvement.sort_values('June - Total Improvement', ascending=False)"
   ]
  },
  {
   "cell_type": "markdown",
   "id": "04bc0d32",
   "metadata": {},
   "source": [
    "# LCs with the Most Overall Improvement"
   ]
  },
  {
   "cell_type": "code",
   "execution_count": null,
   "id": "00b53569",
   "metadata": {
    "tags": [
     "hide_input"
    ]
   },
   "outputs": [],
   "source": [
    "gbo_new = primary_on.groupby(['Schools', 'LC Name'])\n",
    "gbo_new['June - Total Improvement'].mean().sort_values(ascending=False)"
   ]
  },
  {
   "cell_type": "markdown",
   "id": "35a71c25",
   "metadata": {},
   "source": [
    "# Beginners Performance\n",
    "#### Checking the performance of children with a Sounds & Phonics Score under 20"
   ]
  },
  {
   "cell_type": "code",
   "execution_count": null,
   "id": "811db81a",
   "metadata": {
    "tags": [
     "hide_input"
    ]
   },
   "outputs": [],
   "source": [
    "df_beginners = primary[(primary['On The Programme'] == 'Yes') & (primary['Jan - Sounds and Phonics'] < 20)]\n",
    "columns = [\"June - Listen First Sound Improvement\",\"June - Listen Word Improvement\", \"June - Phonics Improvement\", \"June - Sounds and Phonics Improvement\"]\n",
    "df_beginners.groupby('Schools')[columns].mean().sort_values(\"June - Sounds and Phonics Improvement\", ascending=False)"
   ]
  },
  {
   "cell_type": "markdown",
   "id": "eb9e52a7",
   "metadata": {},
   "source": [
    "# Early Readers Performance\n",
    "#### Checking the performance of children with a Reading Score between 10% and 39%"
   ]
  },
  {
   "cell_type": "markdown",
   "id": "fac75c96",
   "metadata": {},
   "source": [
    "### Number of Early Readers"
   ]
  },
  {
   "cell_type": "code",
   "execution_count": null,
   "id": "894af7f0",
   "metadata": {
    "tags": [
     "hide_input"
    ]
   },
   "outputs": [],
   "source": [
    "df_early_readers = primary[(primary['On The Programme'] == 'Yes') & (primary['Jan - Sounds and Phonics'] > 35) & (primary['Jan - Reading'] > 13) & (primary['Jan - Reading'] < 50)]\n",
    "df_early_readers.groupby(['Grade', 'Schools'])['Mcode'].count()"
   ]
  },
  {
   "cell_type": "markdown",
   "id": "944763c8",
   "metadata": {},
   "source": [
    "### Early Readers Performance"
   ]
  },
  {
   "cell_type": "code",
   "execution_count": null,
   "id": "16d84608",
   "metadata": {
    "scrolled": true,
    "tags": [
     "hide_input"
    ]
   },
   "outputs": [],
   "source": [
    "# Reading total is 128\n",
    "# children[\"June - Reading\"] = children[\"June - Blends\"] + children[\"June - Sight Words\"] + children['June - Read Sentences'] + children[\"June - Read Story\"] + children[\"June - Story Comprehension\"]\n",
    "\n",
    "df_early_readers = primary[(primary['On The Programme'] == 'Yes') & (primary['Jan - Sounds and Phonics'] > 35) & (primary['Jan - Reading'] > 13) & (primary['Jan - Reading'] < 50)]\n",
    "columns = [\"June - Blends Improvement\", \"June - Sight Words Improvement\", 'June - Read Sentences Improvement', \"June - Read Story Improvement\", \"June - Reading Improvement\"]\n",
    "df_early_readers.groupby('Schools')[columns].mean().sort_values(\"June - Reading Improvement\", ascending=False)"
   ]
  },
  {
   "cell_type": "markdown",
   "id": "a0402612",
   "metadata": {},
   "source": [
    "# Good Readers Performance\n",
    "##### Definted as knowing 90% of their phonics/sounds and having an initial reading score above 40%"
   ]
  },
  {
   "cell_type": "markdown",
   "id": "b669d4a4",
   "metadata": {},
   "source": [
    "### Number of 'Good Readers'"
   ]
  },
  {
   "cell_type": "code",
   "execution_count": null,
   "id": "12e29863",
   "metadata": {
    "tags": [
     "hide_input"
    ]
   },
   "outputs": [],
   "source": [
    "df_good_readers = primary[(primary['On The Programme'] == 'Yes') & (primary['Jan - Sounds and Phonics'] > 35) & (primary['Jan - Reading'] >= 50)]\n",
    "df_good_readers.groupby(['Grade','Schools'])['Mcode'].count()"
   ]
  },
  {
   "cell_type": "markdown",
   "id": "445ab325",
   "metadata": {},
   "source": [
    "### Improvement of 'Good Readers'"
   ]
  },
  {
   "cell_type": "code",
   "execution_count": null,
   "id": "81201171",
   "metadata": {
    "tags": [
     "hide_input"
    ]
   },
   "outputs": [],
   "source": [
    "# Reading total is 128\n",
    "# children[\"June - Reading\"] = children[\"June - Blends\"] + children[\"June - Sight Words\"] + children['June - Read Sentences'] + children[\"June - Read Story\"] + children[\"June - Story Comprehension\"]\n",
    "\n",
    "df_good_readers = primary[(primary['On The Programme'] == 'Yes') & (primary['Jan - Sounds and Phonics'] > 35) & (primary['Jan - Reading'] >= 50)]\n",
    "columns = [\"June - Sight Words Improvement\",\"June - Read Story Improvement\", \"June - Reading Improvement\"]\n",
    "df_good_readers.groupby('Schools')[columns].mean().sort_values(\"June - Reading Improvement\", ascending=False)"
   ]
  },
  {
   "cell_type": "markdown",
   "id": "7a974f14",
   "metadata": {},
   "source": [
    "# Beginner Writers Performance\n",
    "##### Definted as knowing 90% of their phonics/sounds and having an initial writing score above 40%"
   ]
  },
  {
   "cell_type": "markdown",
   "id": "8c66a989",
   "metadata": {},
   "source": [
    "### Number of Beginner Writers"
   ]
  },
  {
   "cell_type": "code",
   "execution_count": null,
   "id": "fa8c725e",
   "metadata": {
    "tags": [
     "hide_input"
    ]
   },
   "outputs": [],
   "source": [
    "# Writing total is 87\n",
    "\n",
    "df_good_writers = primary[(primary['On The Programme'] == 'Yes') & (primary['Jan - Sounds and Phonics'] > 35) & (primary['Jan - Writing'] > 34)]\n",
    "df_good_writers.groupby(['Grade','Schools'])['Mcode'].count()"
   ]
  },
  {
   "cell_type": "markdown",
   "id": "868ed15b",
   "metadata": {},
   "source": [
    "### Performance of Beginner Writers"
   ]
  },
  {
   "cell_type": "code",
   "execution_count": null,
   "id": "07798737",
   "metadata": {
    "tags": [
     "hide_input"
    ]
   },
   "outputs": [],
   "source": [
    "# Writing total is 87\n",
    "\n",
    "df_good_writers = primary[(primary['On The Programme'] == 'Yes') & (primary['Jan - Sounds and Phonics'] > 35) & (primary['Jan - Writing'] > 34)]\n",
    "columns = [\"June - Write Sentence Improvement\",\"June - Write CVCs\", \"June - Writing Improvement\"]\n",
    "df_good_writers.groupby('Schools')[columns].mean().sort_values(\"June - Writing Improvement\", ascending=False)"
   ]
  },
  {
   "cell_type": "markdown",
   "id": "c156de55",
   "metadata": {},
   "source": [
    "# Number of Kids to Graduate\n",
    "#### Kids scoring 85% or higher"
   ]
  },
  {
   "cell_type": "markdown",
   "id": "b7d74334",
   "metadata": {},
   "source": [
    "### Names of Kids to Graduate"
   ]
  },
  {
   "cell_type": "code",
   "execution_count": null,
   "id": "45f9f9d7",
   "metadata": {},
   "outputs": [],
   "source": [
    "graduates = children[children['Graduate_Status'] == \"Graduate\"][['Mcode', 'Schools', 'Grade','Full Name', 'Gender', 'LC Name', 'On The Programme', 'Total Sessions', 'Jan - Total','June - Total']]\n",
    "graduates.sort_values(['Schools', 'LC Name'])"
   ]
  },
  {
   "cell_type": "markdown",
   "id": "5ca507c4",
   "metadata": {},
   "source": [
    "### Number of Graduates"
   ]
  },
  {
   "cell_type": "code",
   "execution_count": null,
   "id": "c72a8b3a",
   "metadata": {
    "tags": [
     "hide_input"
    ]
   },
   "outputs": [],
   "source": [
    "graduates = children[children['June - Total'] > 224]\n",
    "graduates['Mcode'].nunique()"
   ]
  },
  {
   "cell_type": "markdown",
   "id": "17557760",
   "metadata": {},
   "source": [
    "### Graduates per Grade & School"
   ]
  },
  {
   "cell_type": "code",
   "execution_count": null,
   "id": "6b69f98f",
   "metadata": {
    "scrolled": true,
    "tags": [
     "hide_input"
    ]
   },
   "outputs": [],
   "source": [
    "graduates = children[children['June - Total'] > 224]\n",
    "graduates.groupby(['Grade', 'Schools'])['Mcode'].count()"
   ]
  },
  {
   "cell_type": "markdown",
   "id": "353c695c",
   "metadata": {},
   "source": [
    "# Top Performing Children"
   ]
  },
  {
   "cell_type": "code",
   "execution_count": null,
   "id": "e17aa99f",
   "metadata": {
    "tags": [
     "hide_input"
    ]
   },
   "outputs": [],
   "source": [
    "top_improved_children = children[['Mcode', 'Full Name', 'Schools', 'Grade', 'LC Name', 'Jan - Total', 'June - Total', 'June - Total Improvement']].sort_values('June - Total Improvement', ascending=False).head(50)\n",
    "top_improved_children"
   ]
  },
  {
   "cell_type": "markdown",
   "id": "d017b4f3",
   "metadata": {},
   "source": [
    "### ECD: Top 20"
   ]
  },
  {
   "cell_type": "code",
   "execution_count": null,
   "id": "fd2d17bc",
   "metadata": {
    "tags": [
     "hide_input"
    ]
   },
   "outputs": [],
   "source": [
    "top_improved_ecd_children = children[children['Grade'] == 'PreR'][improvement_columns_detailed].sort_values('June - Total Improvement', ascending=False).head(20)\n",
    "top_improved_ecd_children"
   ]
  },
  {
   "cell_type": "markdown",
   "id": "6f4eed4d",
   "metadata": {},
   "source": [
    "### Grade R: Top 10"
   ]
  },
  {
   "cell_type": "code",
   "execution_count": null,
   "id": "9dec0a8a",
   "metadata": {
    "tags": [
     "hide_input"
    ]
   },
   "outputs": [],
   "source": [
    "top_improved_gradeR_children = children[children['Grade'] == 'Grade R'][improvement_columns_detailed].sort_values('June - Total Improvement', ascending=False).head(10)\n",
    "top_improved_gradeR_children"
   ]
  },
  {
   "cell_type": "markdown",
   "id": "12bd3512",
   "metadata": {},
   "source": [
    "### Grade 1: Top 10"
   ]
  },
  {
   "cell_type": "code",
   "execution_count": null,
   "id": "a7effed2",
   "metadata": {
    "tags": [
     "hide_input"
    ]
   },
   "outputs": [],
   "source": [
    "top_improved_grade1_children = children[children['Grade'] == 'Grade 1'][improvement_columns_detailed].sort_values('June - Total Improvement', ascending=False).head(10)\n",
    "top_improved_grade1_children"
   ]
  },
  {
   "cell_type": "markdown",
   "id": "f36a7458",
   "metadata": {},
   "source": [
    "### Grade 2: Top 10"
   ]
  },
  {
   "cell_type": "code",
   "execution_count": null,
   "id": "8d40238a",
   "metadata": {
    "tags": [
     "hide_input"
    ]
   },
   "outputs": [],
   "source": [
    "top_improved_grade2_children = children[children['Grade'] == 'Grade 2'][improvement_columns_detailed].sort_values('June - Total Improvement', ascending=False).head(10)\n",
    "top_improved_grade2_children"
   ]
  },
  {
   "cell_type": "markdown",
   "id": "899394fa",
   "metadata": {},
   "source": [
    "### Grade 3: Top 10"
   ]
  },
  {
   "cell_type": "code",
   "execution_count": null,
   "id": "d36c934f",
   "metadata": {
    "tags": [
     "hide_input"
    ]
   },
   "outputs": [],
   "source": [
    "top_improved_grade3_children = children[children['Grade'] == 'Grade 3'][improvement_columns_detailed].sort_values('June - Total Improvement', ascending=False).head(10)\n",
    "top_improved_grade3_children"
   ]
  },
  {
   "cell_type": "code",
   "execution_count": null,
   "id": "87ccf9f1",
   "metadata": {},
   "outputs": [],
   "source": [
    "# LC Improvement Columns by School\n",
    "#### This creates an HTML for each school w/ each row being an LC and the average result of their kids for each improvement column"
   ]
  },
  {
   "cell_type": "code",
   "execution_count": null,
   "id": "ad17a888-01aa-4376-8854-0e3e9ecce8ff",
   "metadata": {},
   "outputs": [],
   "source": [
    "# Get the unique schools\n",
    "unique_schools = children['Schools'].unique()\n",
    "\n",
    "for school in unique_schools:\n",
    "    # Filter dataframe for each school and 'On The Programme' == 'Yes'\n",
    "    df_school = children[(children['Schools'] == school) & (children['On The Programme'] == 'Yes')]\n",
    "    \n",
    "    # Group by 'LC Name', calculate the mean, and sort values\n",
    "    result = df_school.groupby('LC Name')[improvement_columns].mean().sort_values('June - Total Improvement', ascending=False)\n",
    "    \n",
    "    # Convert the result dataframe to html and save in a file\n",
    "    result.to_html(f\"{school.replace(' ', '_')}_Results.html\")\n"
   ]
  },
  {
   "cell_type": "code",
   "execution_count": null,
   "id": "45671fdc-cdff-481f-8ef8-403de0d0b660",
   "metadata": {},
   "outputs": [],
   "source": [
    "# June Results & Improvement per LC\n",
    "#### This creates HTML files for each LC and all of their kids performance."
   ]
  },
  {
   "cell_type": "code",
   "execution_count": null,
   "id": "495a5d69-5213-457c-aaf8-0cecbc6da5b8",
   "metadata": {
    "tags": []
   },
   "outputs": [],
   "source": [
    "import os\n",
    "\n",
    "# Lists of columns to keep in each CSV\n",
    "columns_to_keep1 = ['LC Name', 'Full Name', 'Grade','Total Sessions', 'June - Listen First Sound', 'June - Listen Word', 'June - Phonics', 'June - Blends', \n",
    "                    'June - Sight Words', 'June - Read Sentences', 'June - Read Story', \n",
    "                    'June - Written Letters',\n",
    "                    'June - Write CVCs', 'June - Write Sentences', 'June - Total']\n",
    "\n",
    "# Replace these with your second list of columns\n",
    "columns_to_keep2 = [\"LC Name\", \"Full Name\", \"Grade\",\"Total Sessions\",\"June - Listen First Sound Improvement\",\"June - Listen Word Improvement\", \"June - Phonics Improvement\",\"June - Blends Improvement\",\"June - Sight Words Improvement\", \"June - Read Sentences Improvement\", \"June - Read Story Improvement\", \"June - Written Letters Improvement\", \"June - Write CVCs Improvement\", \"June - Write Sentence Improvement\", \"June - Total Improvement\" ]\n",
    "# Create a new directory for these HTML files, if it doesn't already exist\n",
    "os.makedirs('June Results HTML', exist_ok=True)\n",
    "\n",
    "# Loop through each unique 'LC Name'\n",
    "for lc_name, group in children.groupby('LC Name'):\n",
    "    # Filter the groups\n",
    "    filtered_group1 = group[columns_to_keep1].sort_values('Full Name')\n",
    "    filtered_group2 = group[columns_to_keep2].sort_values('Full Name')\n",
    "\n",
    "    # Convert these DataFrames to HTML tables and concatenate them with a line break in between\n",
    "    html_table1 = filtered_group1.to_html(index=False)\n",
    "    html_table2 = filtered_group2.to_html(index=False)\n",
    "    combined_html = html_table1 + '<br>'*2 + html_table2\n",
    "\n",
    "    # Create the HTML filename\n",
    "    filename = os.path.join('June Results HTML', f'{lc_name}.html')\n",
    "\n",
    "    # Save the HTML content to the file\n",
    "    with open(filename, 'w') as f:\n",
    "        f.write(combined_html)\n"
   ]
  }
 ],
 "metadata": {
  "celltoolbar": "Tags",
  "kernelspec": {
   "display_name": "Python 3 (ipykernel)",
   "language": "python",
   "name": "python3"
  },
  "language_info": {
   "codemirror_mode": {
    "name": "ipython",
    "version": 3
   },
   "file_extension": ".py",
   "mimetype": "text/x-python",
   "name": "python",
   "nbconvert_exporter": "python",
   "pygments_lexer": "ipython3",
   "version": "3.11.3"
  }
 },
 "nbformat": 4,
 "nbformat_minor": 5
}
