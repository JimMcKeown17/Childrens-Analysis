{
 "cells": [
  {
   "cell_type": "code",
   "execution_count": 6,
   "id": "85320004-f98e-4560-bb79-5bd08c96d4f3",
   "metadata": {
    "tags": []
   },
   "outputs": [],
   "source": [
    "import pandas as pd\n",
    "import seaborn as sns\n",
    "import matplotlib.pyplot as plt\n",
    "import dash\n",
    "\n",
    "# import plotly\n",
    "import plotly.graph_objects as go\n",
    "import plotly.express as px\n",
    "\n",
    "from jupyter_dash import JupyterDash\n",
    "from dash import dcc, html, Input, Output\n",
    "\n",
    "from dash.dependencies import Output, Input\n",
    "from dash.exceptions import PreventUpdate\n",
    "\n",
    "G3_colour = \"#6DA9E4\"\n",
    "G2_colour = \"#F7D060\"\n",
    "G1_colour = \"#917FB3\"\n",
    "GR_colour = \"#98D8AA\"\n",
    "ECD_colour = \"#FF6D60\""
   ]
  },
  {
   "cell_type": "code",
   "execution_count": 7,
   "id": "634a85b6-1668-4e19-93ac-b933c5fc87f5",
   "metadata": {
    "tags": []
   },
   "outputs": [],
   "source": [
    "# uni = pd.read_csv(\"20230401 - Masi University Main Sheet.csv\")\n",
    "# tl = pd.read_csv(\"2023 Top Learner  High School - Main -20230120 - NMB High Schools.csv\")\n",
    "children = pd.read_csv(\"Results By Year/All22.csv\").assign(\n",
    "    full_sessions = lambda x: x[\"Total Sessions\"] > 30\n",
    ")"
   ]
  },
  {
   "cell_type": "code",
   "execution_count": 17,
   "id": "867781a0-7335-48ec-8145-b76d6ef4f712",
   "metadata": {
    "tags": []
   },
   "outputs": [
    {
     "data": {
      "text/plain": [
       "Index(['Mcode', 'Schools', 'Centre Type', 'Class', 'Teacher', 'Grade', 'Hub',\n",
       "       'Surname & Name', 'True Zero Check', 'Ever On Programme',\n",
       "       'On The Programme', 'On The Programme EOY', 'Pairing Number', 'LC Name',\n",
       "       'Start Date', 'Total Sessions', 'Jan - Pencil handling',\n",
       "       'Jan - Picture', 'Jan - Name', 'Jan - Sounds First Letter',\n",
       "       'Jan - Phonics', 'Jan - Blending', 'Jan - Sight Words',\n",
       "       'Jan - CVCs Written', 'Jan - Written Words', 'Jan - Sounds Full Word',\n",
       "       'Jan - Letters Correct', 'Jan - Sentence 1', 'Jan - Sentence 2',\n",
       "       'Jan - Writing a Story', 'Jan - Total', 'Jan - Total Score %',\n",
       "       'Jun - Pencil handling', 'Jun - Picture', 'Jun - Name',\n",
       "       'Jun - Sounds First Letter', 'Jun - Phonics', 'Jun - Blending',\n",
       "       'Jun - Sight Words', 'Jun - CVCs Written', 'Jun - Written Words',\n",
       "       'Jun - Sounds Full Word', 'Jun -  Letters Correct (8/29pts)',\n",
       "       'Jun - Sentence 1', 'Jun - Sentence 2', 'Jun - Writing a Story',\n",
       "       'Jun - Total', 'Jun - Total Score %', 'Nov - Pencil handling',\n",
       "       'Nov - Picture', 'Nov - Name', 'Nov - Sounds First Letter',\n",
       "       'Nov - Phonics', 'Nov - Blending', 'Nov - Sight Words',\n",
       "       'Nov - CVCs Written', 'Nov - Written Words', 'Nov - Sounds Full Word',\n",
       "       'Nov - Letters Correct', 'Nov - Sentence 1', 'Nov - Sentence 2',\n",
       "       'Nov - Writing a Story', 'Nov - Total', 'Nov - Total Score %',\n",
       "       'Jan Assessment', 'June Assessment', 'Nov Assessment', 'full_sessions',\n",
       "       'Jan - Sounds and Phonics', 'Nov - Sounds and Phonics',\n",
       "       'Sounds and Phonics Improvement', 'Jan - Setence Total',\n",
       "       'Nov - Sentence Total', 'First Sounds Improvement',\n",
       "       'Phonics Improvement', 'Sight Words Improvement', 'Letters Improvement',\n",
       "       'Sentence Improvement', 'Total Improvement',\n",
       "       'Ever On Programme w Grads'],\n",
       "      dtype='object')"
      ]
     },
     "execution_count": 17,
     "metadata": {},
     "output_type": "execute_result"
    }
   ],
   "source": [
    "children.columns"
   ]
  },
  {
   "cell_type": "code",
   "execution_count": 18,
   "id": "94a5038b-3719-4934-9879-705d29ee0bb6",
   "metadata": {
    "tags": []
   },
   "outputs": [],
   "source": [
    "children[\"Jan - Sounds and Phonics\"] =  children[\"Jan - Sounds First Letter\"] + children[\"Jan - Phonics\"]\n",
    "children[\"Nov - Sounds and Phonics\"] =  children[\"Nov - Sounds First Letter\"] + children[\"Nov - Phonics\"]\n",
    "children[\"Sounds and Phonics Improvement\"] = children[\"Nov - Sounds and Phonics\"] - children[\"Jan - Sounds and Phonics\"]\n",
    "children[\"Jan - Setence Total\"] = children[\"Jan - Sentence 1\"] + children[\"Jan - Sentence 2\"]\n",
    "children[\"Nov - Sentence Total\"] = children[\"Nov - Sentence 1\"] + children[\"Nov - Sentence 2\"]\n",
    "children[\"First Sounds Improvement\"] = children[\"Nov - Sounds First Letter\"] - children[\"Jan - Sounds First Letter\"]\n",
    "children[\"Phonics Improvement\"] = children[\"Nov - Phonics\"] - children[\"Jan - Phonics\"]\n",
    "children[\"Sight Words Improvement\"] = children[\"Nov - Sight Words\"] - children[\"Jan - Sight Words\"]\n",
    "children[\"Letters Improvement\"] = children[\"Nov - Letters Correct\"] - children[\"Jan - Letters Correct\"]\n",
    "children[\"CVCs Improvement\"] = children[\"Nov - CVCs Written\"] - children[\"Jan - CVCs Written\"]\n",
    "children[\"Sentence Improvement\"] = children[\"Nov - Sentence Total\"] - children[\"Jan - Setence Total\"]\n",
    "children[\"Writing a Story\"] = children[\"Nov - Writing a Story\"] - children[\"Jan - Writing a Story\"]\n",
    "children[\"Total Improvement\"] = children[\"Nov - Total\"] - children[\"Jan - Total\"]\n",
    "children['Ever On Programme w Grads'] = children['Ever On Programme'].apply(lambda x: 'Yes' if x == 'Yes' or x == 'Graduated' else 'No')\n",
    "\n",
    "improvement_columns = [\"First Sounds Improvement\",\"Phonics Improvement\",\"Sight Words Improvement\", \"Letters Improvement\", \"Sentence Improvement\", \"Total Improvement\" ]"
   ]
  },
  {
   "cell_type": "code",
   "execution_count": 9,
   "id": "79246564-44bb-402e-8057-19dcc75ac199",
   "metadata": {
    "tags": []
   },
   "outputs": [],
   "source": [
    "# We are excluding our graduates from all of these\n",
    "on_programme_primary = children[(children['On The Programme EOY'] == \"Yes\") & (children['Grade'] != \"PreR\") & (children['Ever On Programme'] != \"Graduated\")]\n",
    "on_primary = on_programme_primary.groupby(\"Schools\")\n",
    "not_programme_primary = children[(children['On The Programme EOY'] == \"No\") & (children['Centre Type'] != \"ECD\") & (children['Ever On Programme'] != \"Graduated\")]\n",
    "not_primary = on_programme_primary.groupby(\"Schools\")\n",
    "on_programme_ecd = children[(children['On The Programme EOY'] == \"Yes\") & (children['Grade'] == \"PreR\")]\n",
    "on_ecd = on_programme_ecd.groupby(\"Schools\")\n",
    "not_programme_ecd = children[(children['On The Programme EOY'] == \"No\") & (children['Grade'] == \"PreR\") & (children['Ever On Programme'] != \"Graduated\")]\n",
    "not_ecd = on_programme_ecd.groupby(\"Schools\")\n",
    "on_programme_R = children[(children['On The Programme EOY'] == \"Yes\") & (children['Grade'] == \"Grade R\")]\n",
    "on_R = on_programme_R.groupby(\"Schools\")\n",
    "not_programme_R = children[(children['On The Programme EOY'] == \"No\") & (children['Grade'] == \"Grade R\") & (children['Ever On Programme'] != \"Graduated\")]\n",
    "not_R = not_programme_R.groupby(\"Schools\")\n",
    "on_programme_1 = children[(children['On The Programme EOY'] == \"Yes\") & (children['Grade'] == \"Grade 1\")]\n",
    "on_1 = on_programme_1.groupby(\"Schools\")\n",
    "not_programme_1 = children[(children['On The Programme EOY'] == \"No\") & (children['Grade'] == \"Grade 1\") & (children['Ever On Programme'] != \"Graduated\")]\n",
    "not_1 = not_programme_1.groupby(\"Schools\")\n",
    "on_programme_2 = children[(children['On The Programme EOY'] == \"Yes\") & (children['Grade'] == \"Grade 2\")]\n",
    "on_2 = on_programme_2.groupby(\"Schools\")\n",
    "not_programme_2 = children[(children['On The Programme EOY'] == \"No\") & (children['Grade'] == \"Grade 2\") & (children['Ever On Programme'] != \"Graduated\")]\n",
    "not_2 = not_programme_2.groupby(\"Schools\")\n",
    "on_programme_3 = children[(children['On The Programme EOY'] == \"Yes\") & (children['Grade'] == \"Grade 3\")]\n",
    "on_3 = on_programme_3.groupby(\"Schools\")\n",
    "not_programme_3 = children[(children['On The Programme EOY'] == \"No\") & (children['Grade'] == \"Grade 3\") & (children['Ever On Programme'] != \"Graduated\")]\n",
    "not_3 = not_programme_3.groupby(\"Schools\")\n",
    "all_ECD = children[children['Grade'] == \"PreR\"]\n",
    "all_Primary = children[(children['Grade'] != \"PreR\") & (children['Ever On Programme'] != \"Graduated\")]\n",
    "all_Primary_all = children[(children['Grade'] != \"PreR\")]\n",
    "\n",
    "\n",
    "#graduates included below. When we are comparing total scores for kids on the programme vs graduated out of the programme, we want to include our grads.\n",
    "all_R = children[children['Grade'] == \"Grade R\"]\n",
    "all_1 = children[children['Grade'] == \"Grade 1\"]\n",
    "all_2 = children[children['Grade'] == \"Grade 2\"]\n",
    "all_3 = children[children['Grade'] == \"Grade 3\"]\n",
    "all_ECD_R = pd.concat([all_ECD, all_R])\n",
    "on_programme_primary_grads = children[(children['On The Programme EOY'] == \"Yes\") & (children['Grade'] != \"PreR\")]\n",
    "on_primary_grads = on_programme_primary_grads.groupby(\"Schools\")"
   ]
  },
  {
   "cell_type": "code",
   "execution_count": 24,
   "id": "070ea773-37c3-4528-9e92-1e9474bd829c",
   "metadata": {
    "tags": []
   },
   "outputs": [
    {
     "data": {
      "text/html": [
       "\n",
       "        <iframe\n",
       "            width=\"100%\"\n",
       "            height=\"650\"\n",
       "            src=\"http://127.0.0.1:8050/\"\n",
       "            frameborder=\"0\"\n",
       "            allowfullscreen\n",
       "            \n",
       "        ></iframe>\n",
       "        "
      ],
      "text/plain": [
       "<IPython.lib.display.IFrame at 0x179464c90>"
      ]
     },
     "metadata": {},
     "output_type": "display_data"
    }
   ],
   "source": [
    "app = JupyterDash(__name__)\n",
    "\n",
    "app.layout = html.Div([\n",
    "    dcc.Dropdown(\n",
    "    id=\"stat\",\n",
    "    options=[\"Phonics Improvement\",\"Sight Words Improvement\", \"Letters Improvement\", \"Total Improvement\"],\n",
    "    value=\"Total Improvement\"\n",
    "    ),\n",
    "    dcc.Graph(id=\"Graph\")\n",
    "])\n",
    "\n",
    "@app.callback(\n",
    "    Output(\"Graph\", \"figure\"),\n",
    "    Input(\"stat\", \"value\")\n",
    ")\n",
    "\n",
    "def stat_picker(stat):\n",
    "    \n",
    "    # Figuring out who is on the programme for ECD\n",
    "    on_programme_ecd = children[(children['On The Programme EOY'] == \"Yes\") & (children['Grade'] == \"PreR\")]\n",
    "\n",
    "    # Calculate the average 'Total Improvement' per 'Schools'\n",
    "    avg_improvement = on_programme_ecd.groupby('Schools', as_index=False)[stat].mean()\n",
    "    avg_improvement = avg_improvement.sort_values(by=stat, ascending=False)\n",
    "\n",
    "    # Create the bar plot\n",
    "    fig = px.bar(avg_improvement, \n",
    "                 x=\"Schools\", \n",
    "                 y=f\"{stat}\", \n",
    "                 title=f\"Average Progress of ECD Children by {stat}\",\n",
    "                color=\"Schools\")\n",
    "\n",
    "    # Set x-axis title\n",
    "    fig.update_xaxes(title_text=\"Schools\")\n",
    "\n",
    "    # Set y-axis title\n",
    "    fig.update_yaxes(title_text=f\"{stat}\")\n",
    "\n",
    "    # Update layout properties\n",
    "    fig.update_layout(autosize=False, width=900, height=600)\n",
    "    return fig\n",
    "\n",
    "if __name__ == '__main__':\n",
    "    app.run_server(mode=\"inline\")\n",
    "\n"
   ]
  },
  {
   "cell_type": "code",
   "execution_count": null,
   "id": "a3847adf-33e5-4df0-b485-bcdb090941dc",
   "metadata": {},
   "outputs": [],
   "source": [
    "# !The problem below is taking the average while mixing grades!# "
   ]
  },
  {
   "cell_type": "code",
   "execution_count": 23,
   "id": "5b841f6f-093e-4919-a0fc-a4f10fd53db8",
   "metadata": {
    "tags": []
   },
   "outputs": [
    {
     "data": {
      "text/html": [
       "\n",
       "        <iframe\n",
       "            width=\"100%\"\n",
       "            height=\"650\"\n",
       "            src=\"http://127.0.0.1:8050/\"\n",
       "            frameborder=\"0\"\n",
       "            allowfullscreen\n",
       "            \n",
       "        ></iframe>\n",
       "        "
      ],
      "text/plain": [
       "<IPython.lib.display.IFrame at 0x17949a210>"
      ]
     },
     "metadata": {},
     "output_type": "display_data"
    }
   ],
   "source": [
    "app = JupyterDash(__name__)\n",
    "\n",
    "app.layout = html.Div([\n",
    "    dcc.Dropdown(\n",
    "    id=\"stat\",\n",
    "    options=[\"First Sounds Improvement\",\"Phonics Improvement\",\"Sight Words Improvement\", \"Letters Improvement\", \"CVCs Improvement\", \"Total Improvement\"],\n",
    "    value=\"Total Improvement\"\n",
    "    ),\n",
    "    dcc.Graph(id=\"Graph\")\n",
    "])\n",
    "\n",
    "@app.callback(\n",
    "    Output(\"Graph\", \"figure\"),\n",
    "    Input(\"stat\", \"value\")\n",
    ")\n",
    "\n",
    "def stat_picker(stat):\n",
    "    \n",
    "    # Figuring out who is on the programme for Grades R & 1\n",
    "    on_programme_primary = children[(children['On The Programme EOY'] == \"Yes\") & (children['Grade'].isin([\"Grade R\", \"Grade 1\"]))]\n",
    "\n",
    "    # Calculate the average 'Total Improvement' per 'Schools'\n",
    "    avg_improvement = on_programme_primary.groupby('Schools', as_index=False)[stat].mean()\n",
    "    avg_improvement = avg_improvement.sort_values(by=stat, ascending=False)\n",
    "\n",
    "    # Create the bar plot\n",
    "    fig = px.bar(avg_improvement, \n",
    "                 x=\"Schools\", \n",
    "                 y=f\"{stat}\", \n",
    "                 title=f\"Average Progress of Grades R & 1 Children by {stat}\",\n",
    "                color=\"Schools\")\n",
    "\n",
    "    # Set x-axis title\n",
    "    fig.update_xaxes(title_text=\"Schools\")\n",
    "\n",
    "    # Set y-axis title\n",
    "    fig.update_yaxes(title_text=f\"{stat}\")\n",
    "\n",
    "    # Update layout properties\n",
    "    fig.update_layout(autosize=False, width=900, height=600)\n",
    "    return fig\n",
    "\n",
    "if __name__ == '__main__':\n",
    "    app.run_server(mode=\"inline\")\n",
    "\n"
   ]
  },
  {
   "cell_type": "code",
   "execution_count": 22,
   "id": "ed5e333c-0509-403f-b09a-9a7584c505c8",
   "metadata": {
    "tags": []
   },
   "outputs": [
    {
     "data": {
      "text/html": [
       "\n",
       "        <iframe\n",
       "            width=\"100%\"\n",
       "            height=\"650\"\n",
       "            src=\"http://127.0.0.1:8050/\"\n",
       "            frameborder=\"0\"\n",
       "            allowfullscreen\n",
       "            \n",
       "        ></iframe>\n",
       "        "
      ],
      "text/plain": [
       "<IPython.lib.display.IFrame at 0x17945c950>"
      ]
     },
     "metadata": {},
     "output_type": "display_data"
    }
   ],
   "source": [
    "app = JupyterDash(__name__)\n",
    "\n",
    "app.layout = html.Div([\n",
    "    dcc.Dropdown(\n",
    "    id=\"stat\",\n",
    "    options=[\"Sight Words Improvement\", \"Letters Improvement\", \"CVCs Improvement\", \"Sentence Improvement\", \"Writing a Story\", \"Total Improvement\"],\n",
    "    value=\"Total Improvement\"\n",
    "    ),\n",
    "    dcc.Graph(id=\"Graph\")\n",
    "])\n",
    "\n",
    "@app.callback(\n",
    "    Output(\"Graph\", \"figure\"),\n",
    "    Input(\"stat\", \"value\")\n",
    ")\n",
    "\n",
    "def stat_picker(stat):\n",
    "    \n",
    "    # Figuring out who is on the programme for Grades 2 & 3\n",
    "    on_programme_primary = children[(children['On The Programme EOY'] == \"Yes\") & (children['Grade'].isin([\"Grade 2\", \"Grade 3\"]))]\n",
    "\n",
    "    # Calculate the average 'Total Improvement' per 'Schools'\n",
    "    avg_improvement = on_programme_primary.groupby('Schools', as_index=False)[stat].mean()\n",
    "    avg_improvement = avg_improvement.sort_values(by=stat, ascending=False)\n",
    "\n",
    "    # Create the bar plot\n",
    "    fig = px.bar(avg_improvement, \n",
    "                 x=\"Schools\", \n",
    "                 y=f\"{stat}\", \n",
    "                 title=f\"Average Progress of Grades 2 & 3 Children by {stat}\",\n",
    "                color=\"Schools\")\n",
    "\n",
    "    # Set x-axis title\n",
    "    fig.update_xaxes(title_text=\"Schools\")\n",
    "\n",
    "    # Set y-axis title\n",
    "    fig.update_yaxes(title_text=f\"{stat}\")\n",
    "\n",
    "    # Update layout properties\n",
    "    fig.update_layout(autosize=False, width=900, height=600)\n",
    "    return fig\n",
    "\n",
    "if __name__ == '__main__':\n",
    "    app.run_server(mode=\"inline\")\n",
    "\n"
   ]
  },
  {
   "cell_type": "code",
   "execution_count": null,
   "id": "1789c623-649d-46fe-9e66-3c2e579ab8bc",
   "metadata": {},
   "outputs": [],
   "source": []
  }
 ],
 "metadata": {
  "kernelspec": {
   "display_name": "Python 3 (ipykernel)",
   "language": "python",
   "name": "python3"
  },
  "language_info": {
   "codemirror_mode": {
    "name": "ipython",
    "version": 3
   },
   "file_extension": ".py",
   "mimetype": "text/x-python",
   "name": "python",
   "nbconvert_exporter": "python",
   "pygments_lexer": "ipython3",
   "version": "3.11.3"
  }
 },
 "nbformat": 4,
 "nbformat_minor": 5
}
