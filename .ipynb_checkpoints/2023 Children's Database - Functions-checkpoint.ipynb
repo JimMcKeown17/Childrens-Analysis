{
 "cells": [
  {
   "cell_type": "code",
   "execution_count": 42,
   "id": "999c3321-540d-4246-89e7-ec8cc7df048b",
   "metadata": {},
   "outputs": [],
   "source": [
    "import pandas as pd\n",
    "import seaborn as sns\n",
    "import matplotlib.pyplot as plt\n",
    "import plotly.express as px\n",
    "import openpyxl\n",
    "from jupyter_dash import JupyterDash\n",
    "from dash import dcc, html\n",
    "from dash import html\n",
    "\n",
    "pd.set_option('display.max_rows', None)\n",
    "\n",
    "from dash.dependencies import Output, Input\n",
    "from dash.exceptions import PreventUpdate\n",
    "G3_colour = \"#6DA9E4\"\n",
    "G2_colour = \"#F7D060\"\n",
    "G1_colour = \"#917FB3\"\n",
    "GR_colour = \"#98D8AA\"\n",
    "ECD_colour = \"#FF6D60\""
   ]
  },
  {
   "cell_type": "code",
   "execution_count": null,
   "id": "ae947767-6aa9-4130-8c7a-9e9c62fa81b4",
   "metadata": {},
   "outputs": [],
   "source": []
  },
  {
   "cell_type": "code",
   "execution_count": 43,
   "id": "cadfa83d-32dc-40fd-8349-5b577fa46ffb",
   "metadata": {
    "tags": []
   },
   "outputs": [
    {
     "name": "stderr",
     "output_type": "stream",
     "text": [
      "/Users/jimmckeown/anaconda3/lib/python3.11/site-packages/openpyxl/worksheet/_read_only.py:79: UserWarning:\n",
      "\n",
      "Unknown extension is not supported and will be removed\n",
      "\n"
     ]
    }
   ],
   "source": [
    "c22 = pd.read_csv(\"Results By Year/All22.csv\")\n",
    "\n",
    "file_path = \"Results By Year/20230913- Children Database  - English Main.xlsx\"\n",
    "sheet_name = \"Children Results \"\n",
    "c23 = pd.read_excel(file_path, sheet_name=sheet_name)\n",
    "\n",
    "# Display the first few rows of the DataFrame\n",
    "c23.shape\n",
    "children = c23.copy()"
   ]
  },
  {
   "cell_type": "code",
   "execution_count": 44,
   "id": "2a3bb807-319e-485b-a682-ee1ad0ffb163",
   "metadata": {
    "tags": []
   },
   "outputs": [],
   "source": [
    "# children = children_all[children_all['Jan - Listen First Sound'].notna() & children_all['June - Listen First Sound'].notna()].copy()\n",
    "\n",
    "# children = children[children['City'] == 'Gqeberha'].copy()\n",
    "# children = children[children['Schools'] != 'St Augustines'].copy()\n",
    "\n",
    "children['Jan - Total'] = children[['Jan - Listen First Sound', 'Jan - Listen Word','Jan - Phonics', 'Jan - Blends', 'Jan - Sight Words',\n",
    "                                  'Jan - Read Sentences', 'Jan - Read Story', 'Jan - Story Comprehension',\n",
    "                                  'Jan - Written Letters', 'Jan - Write Name', 'Jan - Write CVCs',\n",
    "                                  'Jan - Write Sentences']].sum(axis=1,min_count=1)\n",
    "children['June - Total'] = children[['June - Listen First Sound',\n",
    "       'June - Listen Word','June - Phonics', 'June - Blends', 'June - Sight Words',\n",
    "                                  'June - Read Sentences', 'June - Read Story', 'June - Story Comprehension',\n",
    "                                  'June - Written Letters', 'June - Write Name', 'June - Write CVCs',\n",
    "                                  'June - Write Sentences']].sum(axis=1,min_count=1)\n",
    "children['June - Listen First Sound Improvement'] = children['June - Listen First Sound'] - children['Jan - Listen First Sound']\n",
    "children['June - Listen Word Improvement'] = children['June - Listen Word'] - children['Jan - Listen Word']\n",
    "children['June - Phonics Improvement'] = children['June - Phonics'] - children['Jan - Phonics']\n",
    "children['June - Written Letters Improvement'] = children['June - Written Letters'] - children['Jan - Written Letters']\n",
    "children[\"Jan - Sounds Total\"] =  children[\"Jan - Listen First Sound\"] + children[\"Jan - Listen Word\"]\n",
    "children[\"June - Sounds Total\"] =  children[\"June - Listen First Sound\"] + children[\"June - Listen Word\"]\n",
    "children[\"June - Sounds Total Improvement\"] = children[\"June - Sounds Total\"] - children[\"Jan - Sounds Total\"]\n",
    "children[\"June - Blends Improvement\"] = children[\"June - Blends\"] - children[\"Jan - Blends\"]\n",
    "children[\"June - Read Sentences Improvement\"] = children[\"June - Read Sentences\"] - children[\"Jan - Read Sentences\"]\n",
    "children[\"June - Read Story Improvement\"] = children[\"June - Read Story\"] - children[\"Jan - Read Story\"]\n",
    "children[\"June - Sight Words Improvement\"] = children[\"June - Sight Words\"] - children[\"Jan - Sight Words\"]\n",
    "children[\"June - Write Sentence Improvement\"] = children[\"June - Write Sentences\"] - children[\"Jan - Write Sentences\"]\n",
    "children[\"June - Write CVCs Improvement\"] = children[\"June - Write CVCs\"] - children[\"Jan - Write CVCs\"]\n",
    "children[\"June - Total Improvement\"] = children[\"June - Total\"] - children[\"Jan - Total\"]\n",
    "# Sounds and Phonics Total is 49\n",
    "children[\"Jan - Sounds and Phonics\"] = children[\"Jan - Listen First Sound\"] + children[\"Jan - Listen Word\"] + children['Jan - Phonics']\n",
    "# Reading total is 128\n",
    "children[\"Jan - Reading\"] = children[\"Jan - Blends\"] + children[\"Jan - Sight Words\"] + children['Jan - Read Sentences'] + children[\"Jan - Read Story\"] + children[\"Jan - Story Comprehension\"]\n",
    "# Writing total is 87\n",
    "children[\"Jan - Writing\"] = children['Jan - Written Letters'] + children[\"Jan - Write CVCs\"] + children[\"Jan - Write Sentences\"]\n",
    "# Sounds and Phonics Total is 49\n",
    "children[\"June - Sounds and Phonics\"] = children[\"June - Listen First Sound\"] + children[\"June - Listen Word\"] + children['June - Phonics']\n",
    "# Reading total is 128\n",
    "children[\"June - Reading\"] = children[\"June - Blends\"] + children[\"June - Sight Words\"] + children['June - Read Sentences'] + children[\"June - Read Story\"] + children[\"June - Story Comprehension\"]\n",
    "# Writing total is 87\n",
    "children[\"June - Writing\"] = children['June - Written Letters'] + children[\"June - Write CVCs\"] + children[\"June - Write Sentences\"]\n",
    "\n",
    "children[\"June - Sounds and Phonics Improvement\"] = children[\"June - Sounds and Phonics\"] - children[\"Jan - Sounds and Phonics\"]\n",
    "children[\"June - Reading Improvement\"] = children[\"June - Reading\"] - children[\"Jan - Reading\"]\n",
    "children[\"June - Writing Improvement\"] = children[\"June - Writing\"] - children[\"Jan - Writing\"] \n",
    "\n",
    "improvement_columns = [\"June - Listen First Sound Improvement\",\"June - Listen Word Improvement\", \"June - Phonics Improvement\",\"June - Blends Improvement\", \"June - Sight Words Improvement\", \"June - Read Sentences Improvement\", \"June - Read Story Improvement\", \"June - Written Letters Improvement\", \"June - Write CVCs Improvement\", \"June - Write Sentence Improvement\", \"June - Total Improvement\" ]\n",
    "\n",
    "primary = children[children['Grade'] != 'PreR']\n",
    "primary_on = primary[primary['On The Programme'] == 'Yes']\n",
    "\n",
    "ecd = children[children['Grade'] == 'PreR']\n",
    "ecd_on = ecd[ecd['On The Programme'] == 'Yes']"
   ]
  },
  {
   "cell_type": "markdown",
   "id": "27f78758-c993-4263-8236-2c5f04280ca2",
   "metadata": {},
   "source": [
    "# Functions"
   ]
  },
  {
   "cell_type": "code",
   "execution_count": 2,
   "id": "0dbf8571-6849-4f7d-bded-2156729858e7",
   "metadata": {
    "tags": []
   },
   "outputs": [],
   "source": [
    "def sessions_per_lc():\n",
    "    primary = children[children['Grade'] != 'PreR']\n",
    "    primary_on = primary[primary['On The Programme'] == 'Yes']\n",
    "    return primary_on.groupby(['School', 'LC Name'])['Total Sessions'].sum().sort_values(ascending=False)\n",
    "\n",
    "def sessions_per_grade_primary_top10():\n",
    "    return primary_on.groupby(['School', 'Grade'])['Total Sessions'].mean().sort_values(ascending=False).head(10)\n",
    "\n",
    "def sessions_per_grade_primary_bottom10():\n",
    "    return primary_on.groupby(['School', 'Grade'])['Total Sessions'].mean().sort_values(ascending=True).head(10)\n",
    "\n",
    "def sessions_per_lc_top20():\n",
    "    return primary_on.groupby(['LC Name', 'School'])['Total Sessions'].mean().sort_values(ascending=False).head(20)\n",
    "\n",
    "def sessions_per_lc_bottom20():\n",
    "    return primary_on.groupby(['LC Name', 'School'])['Total Sessions'].mean().sort_values(ascending=True).head(20)\n",
    "\n",
    "def sessions_per_ecd():\n",
    "    return ecd_on.groupby(['School', 'Grade'])['Total Sessions'].mean().sort_values(ascending=False)\n",
    "\n",
    "def sessions_per_school():\n",
    "    return primary_on.groupby(['School', 'Grade'])['Total Sessions'].mean().sort_values(ascending=False)\n",
    "\n",
    "def sessions_per_lc_ecd_top20():\n",
    "    return ecd_on.groupby(['LC Name', 'School'])['Total Sessions'].mean().sort_values(ascending=False).head(20)\n",
    "    \n",
    "def sessions_per_lc_ecd_botton20():\n",
    "    return ecd_on.groupby(['LC Name', 'School'])['Total Sessions'].mean().sort_values(ascending=True).head(20)\n",
    "\n",
    "def children_on_programme_chart():\n",
    "    kids_on_programme = ecd_on.groupby('School')['Mcode'].count().reset_index(name=\"Num of Children\").sort_values(\"Num of Children\", ascending=False)\n",
    "\n",
    "    # Plot the sorted data using Plotly\n",
    "    fig = px.bar(kids_on_programme,\n",
    "                 y='Num of Children',\n",
    "                 x='School',\n",
    "                 title='Number of Children on Programme',\n",
    "                 template='plotly')\n",
    "\n",
    "    return fig.show()\n",
    "\n",
    "def children_on_programme_stacked_chart():\n",
    "    kids_on_programme = primary_on.groupby(['School', 'Grade'])['Mcode'].count().reset_index(name=\"Num of Children\").sort_values(\"Num of Children\", ascending=False)\n",
    "\n",
    "    # Plot the sorted data using Plotly\n",
    "    fig = px.bar(kids_on_programme,\n",
    "                 y='Num of Children',\n",
    "                 x='School',\n",
    "                 color='Grade',\n",
    "                 title='Number of Children on Programme',\n",
    "                 template='plotly')\n",
    "\n",
    "    return fig.show()\n",
    "\n",
    "def sessions_per_child_primary():\n",
    "    filtered_children = children[(children['On The Programme'] == 'Yes') & (children['Grade'] != \"PreR\")]\n",
    "    grouped = filtered_children.groupby('School')['Total Sessions'].mean().sort_values(ascending=False).reset_index()\n",
    "\n",
    "    # Plot the sorted data using Plotly\n",
    "    fig = px.bar(grouped,\n",
    "                 y='Total Sessions',\n",
    "                 x='School',\n",
    "                 title='Primary School: Average Sessions per Child',\n",
    "                 template='plotly')\n",
    "\n",
    "    return fig.show()\n",
    "\n",
    "def sessions_per_child_ecd():\n",
    "    filtered_children = children[(children['On The Programme'] == 'Yes') & (children['Grade'] == \"PreR\")]\n",
    "    grouped = filtered_children.groupby('School')['Total Sessions'].mean().sort_values(ascending=False).reset_index()\n",
    "\n",
    "    # Plot the sorted data using Plotly\n",
    "    fig = px.bar(grouped,\n",
    "                 y='Total Sessions',\n",
    "                 x='School',\n",
    "                 title='ECDCs: Average Sessions per Child',\n",
    "                 template='plotly')\n",
    "\n",
    "    return fig.show()\n",
    "\n",
    "def total_sessions_ecd():\n",
    "    filtered_children = children[(children['On The Programme'] == 'Yes') & (children['Grade'] == \"PreR\")]\n",
    "    grouped = filtered_children.groupby('School')['Total Sessions'].sum().sort_values(ascending=False).reset_index()\n",
    "\n",
    "    # Plot the sorted data using Plotly\n",
    "    fig = px.bar(grouped,\n",
    "                 y='Total Sessions',\n",
    "                 x='School',\n",
    "                 title='ECDCs: Total Sessions in 2023',\n",
    "                 template='plotly')\n",
    "\n",
    "    return fig.show()\n",
    "\n",
    "def total_sessions_by_ecd_lc():\n",
    "    ecd = children[children['Grade'] == 'PreR']\n",
    "    ecd_on = ecd[ecd['On The Programme'] == 'Yes']\n",
    "    return ecd_on.groupby(['School', 'LC Name'])['Total Sessions'].sum().sort_values(ascending=False)\n",
    "\n",
    "def jan_assessments_per_school():\n",
    "    primary = children[children['Grade'] != 'PreR']\n",
    "    primary_on = primary[primary['On The Programme'] == 'Yes']\n",
    "\n",
    "    gbo_primary = children[children['Grade'] != 'PreR'].groupby('School')\n",
    "    gbo_primary_on = primary[primary['On The Programme'] == 'Yes'].groupby('School')\n",
    "\n",
    "    total_children = gbo_primary['Full Name'].count()\n",
    "    total_children_assessed = gbo_primary['Jan - Phonics'].count()\n",
    "\n",
    "    percent_assessed = (total_children_assessed / total_children) * 100\n",
    "\n",
    "\n",
    "    df_assessed = pd.DataFrame({'Number of Children': total_children, \n",
    "                              'Number of Children Assessed': total_children_assessed, \n",
    "                              'Percentage Assessed': percent_assessed})\n",
    "    return df_assessed.sort_values('Percentage Assessed', ascending=False)\n",
    "\n",
    "def jan_assessments_per_ecd():\n",
    "    gbo_ecd = children[children['Grade'] == 'PreR'].groupby('School')\n",
    "    gbo_ecd_on = ecd[ecd['On The Programme'] == 'Yes'].groupby('School')\n",
    "\n",
    "    total_children = gbo_ecd_on['Full Name'].count()\n",
    "    total_children_assessed = gbo_ecd_on['Jan - Phonics'].count()\n",
    "\n",
    "    percent_assessed = (total_children_assessed / total_children) * 100\n",
    "\n",
    "\n",
    "    df_assessed = pd.DataFrame({'Number of Children': total_children, \n",
    "                              'Number of Children Assessed': total_children_assessed, \n",
    "                              'Percentage Assessed': percent_assessed})\n",
    "    return df_assessed.sort_values('Percentage Assessed', ascending=False)\n",
    "\n",
    "def low_assessment_grades():\n",
    "    gbo_grade = primary.groupby(['School', 'Grade'])\n",
    "    total_children_grade = gbo_grade['Full Name'].count()\n",
    "    total_children_grade_assessed = gbo_grade['Jan - Total'].count()\n",
    "\n",
    "    percent_assessed_grade = (total_children_grade_assessed / total_children_grade) * 100\n",
    "\n",
    "\n",
    "    df_assessed_grade = pd.DataFrame({'Number of Children': total_children_grade, \n",
    "                              'Number of Children Assessed': total_children_grade_assessed, \n",
    "                              'Percentage Assessed': percent_assessed_grade})\n",
    "\n",
    "    # df_assessed_grade\n",
    "    return df_assessed_grade[df_assessed_grade['Percentage Assessed'] < 85]\n",
    "\n"
   ]
  },
  {
   "cell_type": "markdown",
   "id": "a7ad07d3-c4f5-4802-a378-433b9d16997f",
   "metadata": {},
   "source": [
    "# ASSESSMENTS"
   ]
  },
  {
   "cell_type": "markdown",
   "id": "a1a13f92-fde6-438c-9a76-1121b8fd7b73",
   "metadata": {},
   "source": [
    "### Low Assessment Grades (Under 85%)"
   ]
  },
  {
   "cell_type": "code",
   "execution_count": null,
   "id": "4461393f-f34e-429b-b234-6fac1f311889",
   "metadata": {
    "tags": []
   },
   "outputs": [],
   "source": [
    "gbo_grade = primary.groupby(['School', 'Grade'])\n",
    "total_children_grade = gbo_grade['Full Name'].count()\n",
    "total_children_grade_assessed = gbo_grade['Jan - Total'].count()\n",
    "\n",
    "percent_assessed_grade = (total_children_grade_assessed / total_children_grade) * 100\n",
    "\n",
    "\n",
    "df_assessed_grade = pd.DataFrame({'Number of Children': total_children_grade, \n",
    "                          'Number of Children Assessed': total_children_grade_assessed, \n",
    "                          'Percentage Assessed': percent_assessed_grade})\n",
    "\n",
    "# df_assessed_grade\n",
    "df_assessed_grade[df_assessed_grade['Percentage Assessed'] < 85]"
   ]
  },
  {
   "cell_type": "markdown",
   "id": "405c9fb4-736f-4b21-b233-31c90e44df62",
   "metadata": {},
   "source": [
    "### June Assessment Percentages"
   ]
  },
  {
   "cell_type": "code",
   "execution_count": null,
   "id": "8573a19d-2022-42c7-a5ca-bda0bec883dd",
   "metadata": {
    "tags": []
   },
   "outputs": [],
   "source": [
    "#Note in January we are only assessing children on the programme\n",
    "\n",
    "primary = children[children['Grade'] != 'PreR']\n",
    "primary_on = primary[primary['On The Programme'] == 'Yes']\n",
    "\n",
    "gbo_primary = children[children['Grade'] != 'PreR'].groupby('School')\n",
    "gbo_primary_on = primary[primary['On The Programme'] == 'Yes'].groupby('School')\n",
    "\n",
    "total_children = gbo_primary_on['Full Name'].count()\n",
    "total_children_assessed = gbo_primary_on['June - Phonics'].count()\n",
    "\n",
    "percent_assessed = (total_children_assessed / total_children) * 100\n",
    "\n",
    "\n",
    "df_assessed = pd.DataFrame({'Number of Children': total_children, \n",
    "                          'Number of Children Assessed': total_children_assessed, \n",
    "                          'Percentage Assessed': percent_assessed})\n",
    "df_assessed.sort_values('Percentage Assessed', ascending=False)"
   ]
  },
  {
   "cell_type": "markdown",
   "id": "384eab37-ef85-482b-bb0f-7afc8d38932f",
   "metadata": {},
   "source": [
    "### June ECD Assessments"
   ]
  },
  {
   "cell_type": "code",
   "execution_count": null,
   "id": "977d19a8-cfd3-4bba-bb8f-ba865639b851",
   "metadata": {
    "tags": []
   },
   "outputs": [],
   "source": [
    "gbo_ecd = children[children['Grade'] == 'PreR'].groupby('School')\n",
    "gbo_ecd_on = ecd[ecd['On The Programme'] == 'Yes'].groupby('School')\n",
    "\n",
    "total_children = gbo_ecd_on['Full Name'].count()\n",
    "total_children_assessed = gbo_ecd_on['June - Phonics'].count()\n",
    "\n",
    "percent_assessed = (total_children_assessed / total_children) * 100\n",
    "\n",
    "\n",
    "df_assessed = pd.DataFrame({'Number of Children': total_children, \n",
    "                          'Number of Children Assessed': total_children_assessed, \n",
    "                          'Percentage Assessed': percent_assessed})\n",
    "df_assessed.sort_values('Percentage Assessed', ascending=False)"
   ]
  },
  {
   "cell_type": "markdown",
   "id": "350db0b6-c54c-4278-9c22-f3b76cbf8de8",
   "metadata": {},
   "source": [
    "### Low Assessment Grades"
   ]
  },
  {
   "cell_type": "code",
   "execution_count": null,
   "id": "baa1fa6e-a5fc-4d8b-8a8c-c46eeecb6006",
   "metadata": {
    "tags": []
   },
   "outputs": [],
   "source": [
    "gbo_grade = primary_on.groupby(['School', 'Grade'])\n",
    "total_children_grade = gbo_grade['Full Name'].count()\n",
    "total_children_grade_assessed = gbo_grade['June - Total'].count()\n",
    "\n",
    "percent_assessed_grade = (total_children_grade_assessed / total_children_grade) * 100\n",
    "\n",
    "\n",
    "df_assessed_grade = pd.DataFrame({'Number of Children': total_children_grade, \n",
    "                          'Number of Children Assessed': total_children_grade_assessed, \n",
    "                          'Percentage Assessed': percent_assessed_grade})\n",
    "\n",
    "# df_assessed_grade\n",
    "df_assessed_grade[df_assessed_grade['Percentage Assessed'] < 85]"
   ]
  },
  {
   "cell_type": "code",
   "execution_count": null,
   "id": "c0ed8a9a-de8d-45a2-8d51-3c8dbf2da0e5",
   "metadata": {},
   "outputs": [],
   "source": [
    "# Export PDFs of Children Not Assessed - Check This Code\n",
    "# import os\n",
    "# import pandas as pd\n",
    "# from fpdf import FPDF\n",
    "\n",
    "# # Group by 'Schools' and 'Grade', and filter for records where 'Jan - Total' is NaN\n",
    "# primary_nan = primary[primary['Jan - Total'].isnull()]\n",
    "# gbo_school_grade = primary_nan.groupby(['Schools', 'Grade'])\n",
    "\n",
    "# # Loop through each unique school in the 'Schools' column\n",
    "# for school in primary_nan['Schools'].unique():\n",
    "    \n",
    "#     # Create a PDF for the current school\n",
    "#     pdf = FPDF()\n",
    "#     pdf.add_page()\n",
    "#     pdf.set_font('Arial', 'B', 16)\n",
    "#     pdf.cell(0, 10, f\"List of Children Not Assessed at {school}\", 0, 1)\n",
    "#     pdf.set_font('Arial', '', 12)\n",
    "\n",
    "#         # Loop through each unique grade for the current school\n",
    "#     for grade in primary_nan[primary_nan['Schools'] == school]['Grade'].unique():\n",
    "\n",
    "#         # Get the list of children for the current school and grade\n",
    "#         children_list = gbo_school_grade.get_group((school, grade))['Full Name'].tolist()\n",
    "\n",
    "#         # Add the list of children to the PDF\n",
    "#         pdf.cell(0, 10, f\"{grade.upper()}:\", 0, 1)\n",
    "#         for child in children_list:\n",
    "#             pdf.cell(0, 10, str(child), 0, 1)\n",
    "\n",
    "#     # Save the PDF for the current school\n",
    "#     pdf_file_name = f\"{school} Children Not Assessed.pdf\"\n",
    "#     pdf.output(pdf_file_name, 'F')\n",
    "\n",
    "# print(f\"{pdf_file_name} saved successfully.\")\n"
   ]
  },
  {
   "cell_type": "markdown",
   "id": "66e93e85-07cc-4a13-b99b-0190853fbd44",
   "metadata": {
    "tags": []
   },
   "source": [
    "# CHECKING LCs"
   ]
  },
  {
   "cell_type": "code",
   "execution_count": 64,
   "id": "adb53628-1053-4cfa-aaa3-ac24e058bae8",
   "metadata": {
    "tags": []
   },
   "outputs": [
    {
     "data": {
      "text/html": [
       "<div>\n",
       "<style scoped>\n",
       "    .dataframe tbody tr th:only-of-type {\n",
       "        vertical-align: middle;\n",
       "    }\n",
       "\n",
       "    .dataframe tbody tr th {\n",
       "        vertical-align: top;\n",
       "    }\n",
       "\n",
       "    .dataframe thead th {\n",
       "        text-align: right;\n",
       "    }\n",
       "</style>\n",
       "<table border=\"1\" class=\"dataframe\">\n",
       "  <thead>\n",
       "    <tr style=\"text-align: right;\">\n",
       "      <th></th>\n",
       "      <th>LC Name</th>\n",
       "      <th>School</th>\n",
       "      <th>Num of Children</th>\n",
       "    </tr>\n",
       "  </thead>\n",
       "  <tbody>\n",
       "    <tr>\n",
       "      <th>140</th>\n",
       "      <td>Zolani Bonani</td>\n",
       "      <td>Kokkewiet</td>\n",
       "      <td>7</td>\n",
       "    </tr>\n",
       "    <tr>\n",
       "      <th>114</th>\n",
       "      <td>Sisipho Ntisa</td>\n",
       "      <td>Fumisukoma</td>\n",
       "      <td>7</td>\n",
       "    </tr>\n",
       "    <tr>\n",
       "      <th>96</th>\n",
       "      <td>Sibulele Ngcobo</td>\n",
       "      <td>St Augustines</td>\n",
       "      <td>7</td>\n",
       "    </tr>\n",
       "    <tr>\n",
       "      <th>44</th>\n",
       "      <td>Lathitha Skosana</td>\n",
       "      <td>Clarkson</td>\n",
       "      <td>13</td>\n",
       "    </tr>\n",
       "  </tbody>\n",
       "</table>\n",
       "</div>"
      ],
      "text/plain": [
       "              LC Name         School  Num of Children\n",
       "140     Zolani Bonani      Kokkewiet                7\n",
       "114     Sisipho Ntisa     Fumisukoma                7\n",
       "96    Sibulele Ngcobo  St Augustines                7\n",
       "44   Lathitha Skosana       Clarkson               13"
      ]
     },
     "execution_count": 64,
     "metadata": {},
     "output_type": "execute_result"
    }
   ],
   "source": [
    "program_yes = children[(children['On The Programme'] == 'Yes') & (children['LC Name'] != 'Graduated') ]\n",
    "lc_program_counts = program_yes.groupby(['LC Name', 'School']).size().reset_index(name=\"Num of Children\").sort_values(\"Num of Children\")\n",
    "lc_program_counts[~lc_program_counts['Num of Children'].between(8,12)]"
   ]
  },
  {
   "cell_type": "markdown",
   "id": "80ffbfaf-2613-4042-a19c-74c8f5fc6f3a",
   "metadata": {
    "tags": []
   },
   "source": [
    "#### Breakdown of LC: Child Ratios"
   ]
  },
  {
   "cell_type": "code",
   "execution_count": 65,
   "id": "f0c6876c-98ef-405b-926b-ee9bb8ec27ab",
   "metadata": {
    "tags": []
   },
   "outputs": [
    {
     "data": {
      "text/plain": [
       "Num of Children\n",
       "12    61\n",
       "11    32\n",
       "10    19\n",
       "9     15\n",
       "8     12\n",
       "7      3\n",
       "13     1\n",
       "Name: count, dtype: int64"
      ]
     },
     "execution_count": 65,
     "metadata": {},
     "output_type": "execute_result"
    }
   ],
   "source": [
    "lc_program_counts['Num of Children'].value_counts()"
   ]
  },
  {
   "cell_type": "markdown",
   "id": "015191d4-c97d-43a2-b35f-39275fe6a787",
   "metadata": {},
   "source": [
    "### Total Sessions by LCs ECDCs"
   ]
  },
  {
   "cell_type": "code",
   "execution_count": 66,
   "id": "05686092-656e-48b3-8293-1afff04c10dd",
   "metadata": {
    "tags": []
   },
   "outputs": [
    {
     "data": {
      "text/plain": [
       "School             LC Name             \n",
       "Sisonke            Khanyisa Kuhlane        824.0\n",
       "Dorothy            Khanyisa Mini           804.0\n",
       "Living Ubuntu      Debonice Malan          787.0\n",
       "Green Apple        Phelelwe Nyoka          718.0\n",
       "Zizamele           Mahle Sixaso            716.0\n",
       "Sinethemba         Siphokazi Ncwabeni      706.0\n",
       "Dorothy            Saneliso Ndlovu         678.0\n",
       "Noluthando         Chulumanco Boloti       674.0\n",
       "Zizamele           Sithenkosi Gcolotela    669.0\n",
       "Paulos Oyigcwele   Sisipho Xhamntwana      665.0\n",
       "                   Hazel Khumalo           642.0\n",
       "Kokkewiet          Zolani Bonani           633.0\n",
       "Nobandla           Nwabisa Mashawa         618.0\n",
       "Sisonke            Alizwa Tsili            617.0\n",
       "Qaqawuli Godolozi  Blessing Muronzi        609.0\n",
       "Charles Duna       Ncumisa Mselani         594.0\n",
       "Jesus Dominion     Yandisa Ntsumpa         585.0\n",
       "Noluthando         Thandile Funde          555.0\n",
       "Bright Angels      Esihle Jona             549.0\n",
       "                   Yibanathi Mpumlwana     526.0\n",
       "Green Apple        Basanele Hlwempu        488.0\n",
       "Qaqawuli Godolozi  Akhona Pita             486.0\n",
       "Jongilanga         Siyakhiwa Mesele        486.0\n",
       "Nonkqubela         Sanelisiwe Nonkwe       485.0\n",
       "Charles Duna       Sinovuyo Hlulani        484.0\n",
       "Lithemba           Siphesihle Biko         478.0\n",
       "Aaron Gqadu        Zintle Majola           474.0\n",
       "                   Sibonokuhle Lugogo      472.0\n",
       "Jesus Dominion     Lolwethu Vice           471.0\n",
       "Nobandla           Esona Mbanga            451.0\n",
       "Sifunimfundo       Ethel Mavaivai          447.0\n",
       "Lithemba           Siphokazi Soxujwa       433.0\n",
       "Sinethemba         Ntombovuyo Piliso       428.0\n",
       "Seyisi             Nomathamsanqa Mazoka    398.0\n",
       "Sifunimfundo       Lindokuhle Nobebe       394.0\n",
       "Seyisi             Nelisa Zondani          388.0\n",
       "Jongilanga         Phumla Rasmeni          329.0\n",
       "Nonkqubela         Phelisa Mangesi         326.0\n",
       "Vukani Daycare     Zubenathi Ntshontsho     88.0\n",
       "Bambino            Jacquline Jantjies       73.0\n",
       "Vukani Daycare     Phelokazi Qwazi          68.0\n",
       "Bambino            Natolino Takor           57.0\n",
       "Seyisi             Nosipho Gxasheka         23.0\n",
       "Name: Total Sessions, dtype: float64"
      ]
     },
     "execution_count": 66,
     "metadata": {},
     "output_type": "execute_result"
    }
   ],
   "source": [
    "ecd = children[children['Grade'] == 'PreR']\n",
    "ecd_on = ecd[ecd['On The Programme'] == 'Yes']\n",
    "ecd_on.groupby(['School', 'LC Name'])['Total Sessions'].sum().sort_values(ascending=False)"
   ]
  },
  {
   "cell_type": "markdown",
   "id": "175420fa-cf14-4db8-bb5f-2c2b109f904e",
   "metadata": {
    "tags": []
   },
   "source": [
    "### Total Sessions by LCs Primary"
   ]
  },
  {
   "cell_type": "code",
   "execution_count": 70,
   "id": "0c5c5ce7-ea93-4520-818e-759836eba609",
   "metadata": {
    "tags": []
   },
   "outputs": [],
   "source": [
    "def sessions_per_lc():\n",
    "    primary = children[children['Grade'] != 'PreR']\n",
    "    primary_on = primary[primary['On The Programme'] == 'Yes']\n",
    "    return primary_on.groupby(['School', 'LC Name'])['Total Sessions'].sum().sort_values(ascending=False)"
   ]
  },
  {
   "cell_type": "code",
   "execution_count": 71,
   "id": "92d1aea3-7a50-4547-8746-cf73da393af6",
   "metadata": {},
   "outputs": [
    {
     "data": {
      "text/plain": [
       "School         LC Name                     \n",
       "Seyisi         Siphosethu Mlenze               395.0\n",
       "Isaac Booi     Sisipho Wali                    392.0\n",
       "               Zimkhitha Matole                372.0\n",
       "Ben Sinuka     Ntlakanipho Ngqondi             367.0\n",
       "Seyisi         Phaphama Kolisi                 366.0\n",
       "Sandwater      Marizanne Mzangwa               357.0\n",
       "Seyisi         Sihle Bunu                      348.0\n",
       "Isaac Booi     Seluleko Mvabi                  340.0\n",
       "               Siyamthanda Shevan Palamente    337.0\n",
       "               Sinethemba Maxwell Mofu         337.0\n",
       "               Siya Matola                     335.0\n",
       "Aaron Gqadu    Lithalethu Manga                334.0\n",
       "Seyisi         Thenjiwe Shushu                 333.0\n",
       "               Dolly Msizi                     333.0\n",
       "Fumisukoma     Esethu Mantakana                327.0\n",
       "               Nandipha Putela                 323.0\n",
       "Seyisi         Alizwa Tsili                    319.0\n",
       "Isaac Booi     Sinombulelo Mali                318.0\n",
       "Seyisi         Asanele Somhlahlo               314.0\n",
       "Fumisukoma     Sinazo Maxaza                   314.0\n",
       "St Augustines  Nokubonga Nguty                 312.0\n",
       "Charles Duna   Sibahle Buwa                    310.0\n",
       "Ebongweni      Siphephelo Mkuli                310.0\n",
       "Charles Duna   Nandipha Princess Brikwa        309.0\n",
       "Fumisukoma     Anelisa Nakani                  308.0\n",
       "               Silindokuhle Hlolimpi           308.0\n",
       "Isaac Booi     Lizalise Baliwe                 307.0\n",
       "Fumisukoma     Lisakhanya Mahleza              305.0\n",
       "St Augustines  Sibulele Ngcobo                 303.0\n",
       "Seyisi         Noluyolo Nyati                  302.0\n",
       "Isaac Booi     Anam Mabangula                  302.0\n",
       "St Augustines  Masande Tyali                   302.0\n",
       "               Xabiso Xaba                     301.0\n",
       "Charles Duna   Siyamthanda Masala              300.0\n",
       "Isaac Booi     Viwe Gloria Mke                 300.0\n",
       "Fumisukoma     Sizole Zimba                    299.0\n",
       "Isaac Booi     Nominentle Magwa                299.0\n",
       "               Anita Ngceza                    299.0\n",
       "Ben Sinuka     Sinazo Moabi                    299.0\n",
       "Fumisukoma     Liyema Tom                      297.0\n",
       "Molefe         Babalwa Lindi                   296.0\n",
       "Ben Sinuka     Mihle Gunguluza                 296.0\n",
       "Charles Duna   Philasande Moshoeshoe           295.0\n",
       "               Sanele Dyasi                    291.0\n",
       "Seyisi         Sinazo Jwara                    291.0\n",
       "Fumisukoma     Ntombizandile Ngamntwini        289.0\n",
       "Ebongweni      Sinethemba Msizi                287.0\n",
       "Seyisi         Asenathi Phiri                  282.0\n",
       "Ebongweni      Fikiswa Rhayiza                 280.0\n",
       "Charles Duna   Emihle Lucas                    280.0\n",
       "Aaron Gqadu    Onwabile Bebe                   280.0\n",
       "               Bongiwe Nontsinga               274.0\n",
       "Charles Duna   Sinazo Njokweni                 274.0\n",
       "               Lutho Ngqokwe                   270.0\n",
       "Empumalanga    Anelisa Nowala                  269.0\n",
       "Fumisukoma     Elam Xalipi                     264.0\n",
       "Sandwater      Zikhona Gomo                    248.0\n",
       "Fumisukoma     Sisipho Ntisa                   245.0\n",
       "               Athenkosi Jodwana               240.0\n",
       "Empumalanga    Sibabalwe Ngcobo                235.0\n",
       "Seyisi         Nosipho Gxasheka                228.0\n",
       "Sandwater      Jasmine Lodewyk                 226.0\n",
       "Molefe         Misokuhle Sogiba                218.0\n",
       "Aaron Gqadu    Zikhona Blauw                   204.0\n",
       "Khanyisa       Zanele Qoboka                   201.0\n",
       "Ebongweni      Anathi Nqono                    200.0\n",
       "Ben Sinuka     Luphumzo Bassie                 197.0\n",
       "Sandwater      Daniellen Goeda                 193.0\n",
       "Clarkson       Lathitha Skosana                187.0\n",
       "Empumalanga    Mihlali Giya                    185.0\n",
       "Khanyisa       Khanyisa Maci                   174.0\n",
       "Empumalanga    Anesipho Budaza                 171.0\n",
       "Clarkson       Bianca Goeda                    163.0\n",
       "               Zongezile Gcilitshane           156.0\n",
       "Empumalanga    Noluthando Kondile              156.0\n",
       "Clarkson       Tasmia Alla                     150.0\n",
       "               Sinovuyo Nyanda                 145.0\n",
       "Molefe         Lisakhanya Mboniso              145.0\n",
       "Zukisa         Yonela Moni                     143.0\n",
       "Clarkson       Kariena Tsaoane                 138.0\n",
       "Zukisa         Lisalethu Mngqi                 135.0\n",
       "Phakamile      Sisanda Ngxalo                  131.0\n",
       "Mzingisi       Mthabiseng Ngalo                124.0\n",
       "Zukisa         Siyamthanda Mpambana            122.0\n",
       "Clarkson       Bridgette Gamede                121.0\n",
       "Phakamile      Bongolethu Mani                 120.0\n",
       "Mzingisi       Zandile Maqokolo                114.0\n",
       "Clarkson       Jonty Lawack                    114.0\n",
       "Zukisa         Achuma Philani                  113.0\n",
       "Phakamile      Siyanda Wabena                  111.0\n",
       "Molefe         Lihlumelo Gaba                  110.0\n",
       "Astra          Jennelee Ruth Noah               93.0\n",
       "Clarkson       Vicky-Lee Cunningham             91.0\n",
       "               Shaunney Nyondo                  85.0\n",
       "Astra          Cheslean Warney                  83.0\n",
       "Phakamile      Liko Mini                        82.0\n",
       "Astra          Shenaaz Britz                    82.0\n",
       "               Denise Donay                     79.0\n",
       "Clarkson       La-Mique Wolfkop                 70.0\n",
       "Astra          Saudah Davids                    69.0\n",
       "Mzingisi       Athini Xakekile                  46.0\n",
       "Seyisi         Nomathamsanqa Mazoka             35.0\n",
       "Name: Total Sessions, dtype: float64"
      ]
     },
     "execution_count": 71,
     "metadata": {},
     "output_type": "execute_result"
    }
   ],
   "source": [
    "session_per_lc()"
   ]
  },
  {
   "cell_type": "markdown",
   "id": "c766ac3a-9965-426c-8833-651d7212fd7b",
   "metadata": {},
   "source": [
    "# RESULTS CHECKS"
   ]
  },
  {
   "cell_type": "markdown",
   "id": "36a2d1b8-bd2e-43a2-af02-6f63d511c809",
   "metadata": {
    "tags": []
   },
   "source": [
    "### First Sound Drop Offs (Primary)\n",
    "##### (Uncomment .csv if export wanted)"
   ]
  },
  {
   "cell_type": "code",
   "execution_count": null,
   "id": "3dae2aad-e054-4591-8ab0-fcf80f9e0b6d",
   "metadata": {
    "tags": []
   },
   "outputs": [],
   "source": [
    "children[['Full Name', 'School','Grade','Total Sessions','June - Listen First Sound Improvement']].sort_values('June - Listen First Sound Improvement').head(15)\n",
    "# children[['Full Name', 'School','Grade','Total Sessions','June - Listen First Sound Improvement']].sort_values('June - Listen First Sound Improvement').to_csv(\"Listen First Sound Checks.csv\", index=False)"
   ]
  },
  {
   "cell_type": "markdown",
   "id": "aeff98c8-3d9f-46b3-95b0-6fa26a1ae287",
   "metadata": {},
   "source": [
    "### Phonics Drop Offs (Primary)\n",
    "##### (Uncomment .csv if export wanted)"
   ]
  },
  {
   "cell_type": "code",
   "execution_count": null,
   "id": "6264c103-3101-4af8-91ff-5ce96eb00ef3",
   "metadata": {
    "tags": []
   },
   "outputs": [],
   "source": [
    "# children[['Full Name', 'School','Grade','Total Sessions','June - Phonics Improvement']].sort_values('June - Phonics Improvement').to_csv(\"Phonics Checks.csv\", index=False)\n",
    "children[['Full Name', 'School','Grade','Total Sessions','June - Phonics Improvement']].sort_values('June - Phonics Improvement').head(15)"
   ]
  },
  {
   "cell_type": "markdown",
   "id": "2eadbe98-210d-4bfb-89d9-acaafc9b2c85",
   "metadata": {},
   "source": [
    "### Total Drop Offs (Primary)\n",
    "##### (Uncomment .csv if export wanted)"
   ]
  },
  {
   "cell_type": "code",
   "execution_count": null,
   "id": "6c8f787b-b8d6-43db-9c35-f49eba4b2578",
   "metadata": {
    "tags": []
   },
   "outputs": [],
   "source": [
    "primary_check = primary_on[primary_on['June - Listen First Sound'].notna()]\n",
    "# primary_check[['Full Name', 'School','Grade','Total Sessions','Jan - Total', 'June - Total','June - Total Improvement']].sort_values('June - Total Improvement').to_csv(\"Total Improvement Checks.csv\", index=False)\n",
    "primary_check[['Full Name', 'School','Grade','Total Sessions','Jan - Total', 'June - Total','June - Total Improvement']].sort_values('June - Total Improvement').head(15)"
   ]
  },
  {
   "cell_type": "markdown",
   "id": "72e0a6d7-3b5a-4890-8887-3bdcbba36c05",
   "metadata": {},
   "source": [
    "### Reading Drop Offs (Primary)\n",
    "##### (Uncomment .csv if export wanted)"
   ]
  },
  {
   "cell_type": "code",
   "execution_count": null,
   "id": "9a4e1fcc-df23-406d-a7d0-9a40f3fbda32",
   "metadata": {
    "tags": []
   },
   "outputs": [],
   "source": [
    "primary_check = primary_on[primary_on['June - Listen First Sound'].notna()]\n",
    "# primary_check[['Full Name', 'School','Grade','Total Sessions','Jan - Read Story', 'June - Read Story','June - Read Story Improvement']].sort_values('June - Read Story Improvement').to_csv(\"Reading Improvement Checks.csv\", index=False)\n",
    "primary_check[['Full Name', 'School','Grade','Total Sessions','Jan - Read Story', 'June - Read Story','June - Read Story Improvement']].sort_values('June - Read Story Improvement').head(15)"
   ]
  },
  {
   "cell_type": "markdown",
   "id": "b0c38997-9444-4cc8-bc52-27171aeb1b09",
   "metadata": {},
   "source": [
    "### All Children: Write Letters but Can't Read\n",
    "##### (Uncomment .csv if export wanted)"
   ]
  },
  {
   "cell_type": "code",
   "execution_count": null,
   "id": "b6a05ec9-49d2-4563-88b0-eb0a624b6e26",
   "metadata": {
    "tags": []
   },
   "outputs": [],
   "source": [
    "children = children[children['June - Phonics'].notna() & children['June - Written Letters'].notna()]\n",
    "\n",
    "children['Write_Read_Dif'] = children['June - Written Letters'] - children['June - Phonics']\n",
    "filtered_children = children[['Full Name', 'School','Grade','Total Sessions','June - Written Letters', 'June - Phonics','Write_Read_Dif']].sort_values('Write_Read_Dif', ascending=False)\n",
    "\n",
    "# filtered_children.to_csv(\"Write But Cannot Read Checks.csv\", index=False)\n",
    "filtered_children.head(25)"
   ]
  },
  {
   "cell_type": "code",
   "execution_count": null,
   "id": "e7905dd3-c107-4b12-8047-d86b202a5dda",
   "metadata": {},
   "outputs": [],
   "source": []
  }
 ],
 "metadata": {
  "kernelspec": {
   "display_name": "Python 3 (ipykernel)",
   "language": "python",
   "name": "python3"
  },
  "language_info": {
   "codemirror_mode": {
    "name": "ipython",
    "version": 3
   },
   "file_extension": ".py",
   "mimetype": "text/x-python",
   "name": "python",
   "nbconvert_exporter": "python",
   "pygments_lexer": "ipython3",
   "version": "3.11.3"
  }
 },
 "nbformat": 4,
 "nbformat_minor": 5
}
