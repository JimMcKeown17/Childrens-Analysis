{
 "cells": [
  {
   "cell_type": "code",
   "execution_count": 45,
   "id": "22bd9d47",
   "metadata": {},
   "outputs": [],
   "source": [
    "import pandas as pd\n",
    "import seaborn as sns\n",
    "import matplotlib.pyplot as plt\n",
    "import plotly.express as px\n",
    "G3_colour = \"#6DA9E4\"\n",
    "G2_colour = \"#F7D060\"\n",
    "G1_colour = \"#917FB3\"\n",
    "GR_colour = \"#98D8AA\"\n",
    "ECD_colour = \"#FF6D60\""
   ]
  },
  {
   "cell_type": "code",
   "execution_count": 46,
   "id": "a2cca612",
   "metadata": {},
   "outputs": [],
   "source": [
    "c23 = pd.read_csv(\"2023 - Childrens Database - Temp.csv\")\n",
    "c22 = pd.read_csv(\"2022 - Children's Results.csv\")\n",
    "c21_nov = pd.read_csv(\"2021 Nov Scores - Access Upload.csv\")\n",
    "c21_jan = pd.read_csv(\"2021 Jan Scores - Access Upload.csv\")\n",
    "c20_nov = pd.read_csv(\"2020 Nov Scores - Access Upload.csv\")\n",
    "c20_jan = pd.read_csv(\"2020 Jan Scores - Access Upload.csv\")\n",
    "c19_jan = pd.read_csv(\"2019 Jan Scores - Access Upload.csv\")\n",
    "ever = pd.read_csv(\"On Programme (2019 - 2022).csv\")"
   ]
  },
  {
   "cell_type": "code",
   "execution_count": 47,
   "id": "b4174c5d",
   "metadata": {},
   "outputs": [],
   "source": [
    "# Assuming c22 and c21 are existing dataframes\n",
    "\n",
    "# Perform the merge on 'Mcode' with a left join\n",
    "merged_df = c22.merge(c21_nov[['Mcode', 'Nov - Total']], on='Mcode', how='left')\n",
    "\n",
    "# Rename the 'Nov - Total' column from c21 to 'Nov 21 - Total'\n",
    "merged_df.rename(columns={'Nov - Total': 'Nov 21 - Total'}, inplace=True)\n",
    "\n",
    "# Update the c22 dataframe with the merged data\n",
    "c22 = merged_df\n"
   ]
  },
  {
   "cell_type": "code",
   "execution_count": 48,
   "id": "61454e1e",
   "metadata": {},
   "outputs": [
    {
     "data": {
      "text/plain": [
       "Index(['Mcode', 'Schools', 'Centre Type', 'Class', 'Teacher', 'Grade', 'Hub',\n",
       "       'Surname & Name', 'True Zero Check', 'Ever On Programme',\n",
       "       'On The Programme', 'On The Programme EOY', 'Pairing Number', 'LC Name',\n",
       "       'Start Date', 'Total Sessions', 'Jan - Pencil handling',\n",
       "       'Jan - Picture', 'Jan - Name', 'Jan - Sounds First Letter',\n",
       "       'Jan - Phonics', 'Jan - Blending', 'Jan - Sight Words',\n",
       "       'Jan - CVCs Written', 'Jan - Written Words', 'Jan - Sounds Full Word',\n",
       "       'Jan - Letters Correct', 'Jan - Sentence 1', 'Jan - Sentence 2',\n",
       "       'Jan - Writing a Story', 'Jan - Total', 'Jan - Total Score %',\n",
       "       'Jun - Pencil handling', 'Jun - Picture', 'Jun - Name',\n",
       "       'Jun - Sounds First Letter', 'Jun - Phonics', 'Jun - Blending',\n",
       "       'Jun - Sight Words', 'Jun - CVCs Written', 'Jun - Written Words',\n",
       "       'Jun - Sounds Full Word', 'Jun -  Letters Correct (8/29pts)',\n",
       "       'Jun - Sentence 1', 'Jun - Sentence 2', 'Jun - Writing a Story',\n",
       "       'Jun - Total', 'Jun - Total Score %', 'Nov - Pencil handling',\n",
       "       'Nov - Picture', 'Nov - Name', 'Nov - Sounds First Letter',\n",
       "       'Nov - Phonics', 'Nov - Blending', 'Nov - Sight Words',\n",
       "       'Nov - CVCs Written', 'Nov - Written Words', 'Nov - Sounds Full Word',\n",
       "       'Nov - Letters Correct', 'Nov - Sentence 1', 'Nov - Sentence 2',\n",
       "       'Nov - Writing a Story', 'Nov - Total_x', 'Nov - Total Score %',\n",
       "       'Jan Assessment', 'June Assessment', 'Nov Assessment', 'Nov - Total_y'],\n",
       "      dtype='object')"
      ]
     },
     "execution_count": 48,
     "metadata": {},
     "output_type": "execute_result"
    }
   ],
   "source": [
    "c22.columns"
   ]
  },
  {
   "cell_type": "code",
   "execution_count": 49,
   "id": "30daee57",
   "metadata": {},
   "outputs": [],
   "source": [
    "# Create a dictionary from the c21 dataframe with 'Mcode' as keys and 'Nov - Total' as values\n",
    "lookup_dict = c21_nov.set_index('Mcode')['Nov - Total'].to_dict()\n",
    "\n",
    "# Use the map function to create the new column 'Nov 21 - Total' in c22\n",
    "c22['Nov 21 - Total'] = c22['Mcode'].map(lookup_dict)\n"
   ]
  },
  {
   "cell_type": "code",
   "execution_count": 50,
   "id": "14ffad4e",
   "metadata": {},
   "outputs": [],
   "source": [
    "# Create a dictionary from the c21 dataframe with 'Mcode' as keys and 'Nov - Total' as values\n",
    "lookup_dict = c21_jan.set_index('Mcode')['Jan - Total'].to_dict()\n",
    "\n",
    "# Use the map function to create the new column 'Nov 21 - Total' in c22\n",
    "c22['Jan 21 - Total'] = c22['Mcode'].map(lookup_dict)"
   ]
  },
  {
   "cell_type": "code",
   "execution_count": 51,
   "id": "b93f9cd8",
   "metadata": {},
   "outputs": [],
   "source": [
    "# Create a dictionary from the c21 dataframe with 'Mcode' as keys and 'Nov - Total' as values\n",
    "lookup_dict = c20_jan.set_index('Mcode')['Jan - Total'].to_dict()\n",
    "\n",
    "# Use the map function to create the new column 'Nov 21 - Total' in c22\n",
    "c22['Jan 20 - Total'] = c22['Mcode'].map(lookup_dict)"
   ]
  },
  {
   "cell_type": "code",
   "execution_count": 52,
   "id": "21a4924e",
   "metadata": {},
   "outputs": [],
   "source": [
    "all_3yrs = c22['Nov - Total_x'].notna() & c22['Jan 21 - Total'].notna() & c22['Jan 20 - Total'].notna()\n",
    "all_3 = c22[all_3yrs]"
   ]
  },
  {
   "cell_type": "code",
   "execution_count": 53,
   "id": "0d5415c2",
   "metadata": {},
   "outputs": [
    {
     "name": "stderr",
     "output_type": "stream",
     "text": [
      "C:\\Users\\jim\\AppData\\Local\\Temp\\ipykernel_19812\\3885359560.py:1: SettingWithCopyWarning: \n",
      "A value is trying to be set on a copy of a slice from a DataFrame.\n",
      "Try using .loc[row_indexer,col_indexer] = value instead\n",
      "\n",
      "See the caveats in the documentation: https://pandas.pydata.org/pandas-docs/stable/user_guide/indexing.html#returning-a-view-versus-a-copy\n",
      "  all_3[\"Improvement_3yrs\"] = all_3['Nov - Total_x'] - all_3['Jan 20 - Total']\n"
     ]
    }
   ],
   "source": [
    "all_3[\"Improvement_3yrs\"] = all_3['Nov - Total_x'] - all_3['Jan 20 - Total']"
   ]
  },
  {
   "cell_type": "code",
   "execution_count": 58,
   "id": "ad1ccc0b",
   "metadata": {},
   "outputs": [],
   "source": [
    "gbo3 = all_3.groupby(['Schools','Ever On Programme'])\n"
   ]
  },
  {
   "cell_type": "markdown",
   "id": "82660797",
   "metadata": {},
   "source": [
    "# On the Programme 3 years"
   ]
  },
  {
   "cell_type": "code",
   "execution_count": 60,
   "id": "66034e23",
   "metadata": {},
   "outputs": [
    {
     "data": {
      "text/plain": [
       "<AxesSubplot:xlabel='Schools,Ever On Programme'>"
      ]
     },
     "execution_count": 60,
     "metadata": {},
     "output_type": "execute_result"
    },
    {
     "data": {
      "image/png": "[encoded data removed]",
      "text/plain": [
       "<Figure size 640x480 with 1 Axes>"
      ]
     },
     "metadata": {},
     "output_type": "display_data"
    }
   ],
   "source": [
    "gbo3[\"Improvement_3yrs\"].mean().plot(kind=\"bar\")"
   ]
  },
  {
   "cell_type": "code",
   "execution_count": null,
   "id": "bfabf4b5",
   "metadata": {},
   "outputs": [],
   "source": []
  }
 ],
 "metadata": {
  "kernelspec": {
   "display_name": "Python 3 (ipykernel)",
   "language": "python",
   "name": "python3"
  },
  "language_info": {
   "codemirror_mode": {
    "name": "ipython",
    "version": 3
   },
   "file_extension": ".py",
   "mimetype": "text/x-python",
   "name": "python",
   "nbconvert_exporter": "python",
   "pygments_lexer": "ipython3",
   "version": "3.9.13"
  }
 },
 "nbformat": 4,
 "nbformat_minor": 5
}
