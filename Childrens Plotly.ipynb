{
 "cells": [
  {
   "cell_type": "markdown",
   "id": "552e5389-a655-429c-acc2-373c0524cba9",
   "metadata": {},
   "source": [
    "# Notes to Self\n",
    "- Improvement by Metric created below allowing filtering for different grades\n",
    "\n",
    "## Future things to add\n",
    "- Session analysis (per center or per LC)\n",
    "- Perhaps tables w/ low performers (be it # of sessions, attendance, kids results, etc)"
   ]
  },
  {
   "cell_type": "code",
   "execution_count": 20,
   "id": "85320004-f98e-4560-bb79-5bd08c96d4f3",
   "metadata": {
    "tags": []
   },
   "outputs": [],
   "source": [
    "import pandas as pd\n",
    "import matplotlib.pyplot as plt\n",
    "import dash\n",
    "import numpy as np\n",
    "\n",
    "# import plotly\n",
    "import plotly.graph_objects as go\n",
    "import plotly.express as px\n",
    "\n",
    "from jupyter_dash import JupyterDash\n",
    "from dash import dcc, html, Input, Output\n",
    "\n",
    "from dash.dependencies import Output, Input\n",
    "from dash.exceptions import PreventUpdate\n",
    "\n",
    "G3_colour = \"#6DA9E4\"\n",
    "G2_colour = \"#F7D060\"\n",
    "G1_colour = \"#917FB3\"\n",
    "GR_colour = \"#98D8AA\"\n",
    "ECD_colour = \"#FF6D60\""
   ]
  },
  {
   "cell_type": "code",
   "execution_count": 21,
   "id": "634a85b6-1668-4e19-93ac-b933c5fc87f5",
   "metadata": {
    "tags": []
   },
   "outputs": [],
   "source": [
    "# uni = pd.read_csv(\"20230401 - Masi University Main Sheet.csv\")\n",
    "# tl = pd.read_csv(\"2023 Top Learner  High School - Main -20230120 - NMB High Schools.csv\")\n",
    "children_all = pd.read_csv(\"Results By Year/20230830.csv\").assign(\n",
    "    full_sessions = lambda x: x[\"Total Sessions\"] > 30\n",
    ")"
   ]
  },
  {
   "cell_type": "code",
   "execution_count": 34,
   "id": "94a5038b-3719-4934-9879-705d29ee0bb6",
   "metadata": {
    "tags": []
   },
   "outputs": [],
   "source": [
    "# children_all = pd.read_csv(\"20230712 - Children Results - English.csv\")\n",
    "children = children_all[children_all['Jan - Listen First Sound'].notna() & children_all['June - Listen First Sound'].notna()].copy()\n",
    "\n",
    "exclude_schools = ['Zukisa', 'Khanyisa', 'Mzingisi', 'Phakamile', 'Living Ubuntu']\n",
    "children = children[~children['School'].isin(exclude_schools)].copy()\n",
    "\n",
    "children['Jan - Total'] = children[['Jan - Listen First Sound', 'Jan - Listen Word','Jan - Phonics', 'Jan - Blends', 'Jan - Sight Words',\n",
    "                                  'Jan - Read Sentences', 'Jan - Read Story', 'Jan - Story Comprehension',\n",
    "                                  'Jan - Written Letters', 'Jan - Write Name', 'Jan - Write CVCs',\n",
    "                                  'Jan - Write Sentences']].sum(axis=1,min_count=1)\n",
    "children['June - Total'] = children[['June - Listen First Sound',\n",
    "       'June - Listen Word','June - Phonics', 'June - Blends', 'June - Sight Words',\n",
    "                                  'June - Read Sentences', 'June - Read Story', 'June - Story Comprehension',\n",
    "                                  'June - Written Letters', 'June - Write Name', 'June - Write CVCs',\n",
    "                                  'June - Write Sentences']].sum(axis=1,min_count=1)\n",
    "children['June - Listen First Sound Improvement'] = children['June - Listen First Sound'] - children['Jan - Listen First Sound']\n",
    "children['June - Listen Word Improvement'] = children['June - Listen Word'] - children['Jan - Listen Word']\n",
    "children['June - Phonics Improvement'] = children['June - Phonics'] - children['Jan - Phonics']\n",
    "children['June - Written Letters Improvement'] = children['June - Written Letters'] - children['Jan - Written Letters']\n",
    "children[\"Jan - Sounds Total\"] =  children[\"Jan - Listen First Sound\"] + children[\"Jan - Listen Word\"]\n",
    "children[\"June - Sounds Total\"] =  children[\"June - Listen First Sound\"] + children[\"June - Listen Word\"]\n",
    "children[\"June - Sounds Total Improvement\"] = children[\"June - Sounds Total\"] - children[\"Jan - Sounds Total\"]\n",
    "children[\"June - Blends Improvement\"] = children[\"June - Blends\"] - children[\"Jan - Blends\"]\n",
    "children[\"June - Read Sentences Improvement\"] = children[\"June - Read Sentences\"] - children[\"Jan - Read Sentences\"]\n",
    "children[\"June - Read Story Improvement\"] = children[\"June - Read Story\"] - children[\"Jan - Read Story\"]\n",
    "children[\"June - Sight Words Improvement\"] = children[\"June - Sight Words\"] - children[\"Jan - Sight Words\"]\n",
    "children[\"June - Write Sentence Improvement\"] = children[\"June - Write Sentences\"] - children[\"Jan - Write Sentences\"]\n",
    "children[\"June - Write CVCs Improvement\"] = children[\"June - Write CVCs\"] - children[\"Jan - Write CVCs\"]\n",
    "children[\"June - Total Improvement\"] = children[\"June - Total\"] - children[\"Jan - Total\"]\n",
    "# Sounds and Phonics Total is 49\n",
    "children[\"Jan - Sounds and Phonics\"] = children[\"Jan - Listen First Sound\"] + children[\"Jan - Listen Word\"] + children['Jan - Phonics']\n",
    "# Reading total is 128\n",
    "children[\"Jan - Reading\"] = children[\"Jan - Blends\"] + children[\"Jan - Sight Words\"] + children['Jan - Read Sentences'] + children[\"Jan - Read Story\"] + children[\"Jan - Story Comprehension\"]\n",
    "# Writing total is 87\n",
    "children[\"Jan - Writing\"] = children['Jan - Written Letters'] + children[\"Jan - Write CVCs\"] + children[\"Jan - Write Sentences\"]\n",
    "# Sounds and Phonics Total is 49\n",
    "children[\"June - Sounds and Phonics\"] = children[\"June - Listen First Sound\"] + children[\"June - Listen Word\"] + children['June - Phonics']\n",
    "# Reading total is 128\n",
    "children[\"June - Reading\"] = children[\"June - Blends\"] + children[\"June - Sight Words\"] + children['June - Read Sentences'] + children[\"June - Read Story\"] + children[\"June - Story Comprehension\"]\n",
    "# Writing total is 87\n",
    "children[\"June - Writing\"] = children['June - Written Letters'] + children[\"June - Write CVCs\"] + children[\"June - Write Sentences\"]\n",
    "\n",
    "children[\"June - Sounds and Phonics Improvement\"] = children[\"June - Sounds and Phonics\"] - children[\"Jan - Sounds and Phonics\"]\n",
    "children[\"June - Reading Improvement\"] = children[\"June - Reading\"] - children[\"Jan - Reading\"]\n",
    "children[\"June - Writing Improvement\"] = children[\"June - Writing\"] - children[\"Jan - Writing\"] \n",
    "\n",
    "children['Graduate_Status'] = children['June - Total'].apply(lambda x: 'Graduate' if x > 224 else np.nan)\n",
    "\n",
    "improvement_columns = [\"June - Listen First Sound Improvement\",\"June - Listen Word Improvement\", \"June - Phonics Improvement\",\"June - Blends Improvement\", \"June - Sight Words Improvement\", \"June - Read Sentences Improvement\", \"June - Read Story Improvement\", \"June - Written Letters Improvement\", \"June - Write CVCs Improvement\", \"June - Write Sentence Improvement\", \"June - Total Improvement\" ]\n",
    "improvement_columns_detailed = [\"Full Name\", 'School', 'Grade', 'LC Name',\"June - Listen First Sound Improvement\",\"June - Phonics Improvement\",\"June - Sight Words Improvement\", \"June - Read Story Improvement\", \"June - Written Letters Improvement\", \"June - Write Sentence Improvement\", \"June - Total Improvement\" ]\n"
   ]
  },
  {
   "cell_type": "code",
   "execution_count": 35,
   "id": "79246564-44bb-402e-8057-19dcc75ac199",
   "metadata": {
    "tags": []
   },
   "outputs": [],
   "source": [
    "primary = children[children['Grade'] != 'PreR']\n",
    "primary_on = primary[primary['On The Programme'] == 'Yes']\n",
    "gbo = primary.groupby('School')\n",
    "gbo_on = primary_on.groupby('School')\n",
    "\n",
    "GradeR = children[children['Grade'] == 'Grade R']\n",
    "GradeR_on = GradeR[GradeR['On The Programme'] == 'Yes']\n",
    "gboR = GradeR.groupby('School')\n",
    "gboR_on = GradeR_on.groupby('School')\n",
    "\n",
    "Grade1 = children[children['Grade'] == 'Grade 1']\n",
    "Grade1_on = Grade1[Grade1['On The Programme'] == 'Yes']\n",
    "gbo1 = Grade1.groupby('School')\n",
    "gbo1_on = Grade1_on.groupby('School')\n",
    "\n",
    "Grade2 = children[children['Grade'] == 'Grade 2']\n",
    "Grade2_on = Grade2[Grade2['On The Programme'] == 'Yes']\n",
    "gbo2 = Grade2.groupby('School')\n",
    "gbo2_on = Grade2_on.groupby('School')\n",
    "\n",
    "Grade3 = children[children['Grade'] == 'Grade 3']\n",
    "Grade3_on = Grade3[Grade3['On The Programme'] == 'Yes']\n",
    "gbo3 = Grade3.groupby('School')\n",
    "gbo3_on = Grade3_on.groupby('School')\n",
    "\n"
   ]
  },
  {
   "cell_type": "code",
   "execution_count": 36,
   "id": "070ea773-37c3-4528-9e92-1e9474bd829c",
   "metadata": {
    "tags": []
   },
   "outputs": [
    {
     "data": {
      "text/html": [
       "\n",
       "        <iframe\n",
       "            width=\"100%\"\n",
       "            height=\"650\"\n",
       "            src=\"http://127.0.0.1:8050/\"\n",
       "            frameborder=\"0\"\n",
       "            allowfullscreen\n",
       "            \n",
       "        ></iframe>\n",
       "        "
      ],
      "text/plain": [
       "<IPython.lib.display.IFrame at 0x1606ec950>"
      ]
     },
     "metadata": {},
     "output_type": "display_data"
    }
   ],
   "source": [
    "app = JupyterDash(__name__)\n",
    "\n",
    "app.layout = html.Div([\n",
    "    dcc.Dropdown(\n",
    "    id=\"stat\",\n",
    "    options=[\"June - Phonics Improvement\",\"June - Sight Words Improvement\", \"June - Letters Improvement\", \"June - Total Improvement\"],\n",
    "    value=\"June - Total Improvement\"\n",
    "    ),\n",
    "    dcc.Graph(id=\"Graph\")\n",
    "])\n",
    "\n",
    "@app.callback(\n",
    "    Output(\"Graph\", \"figure\"),\n",
    "    Input(\"stat\", \"value\")\n",
    ")\n",
    "\n",
    "def stat_picker(stat):\n",
    "    \n",
    "    # Figuring out who is on the programme for ECD\n",
    "    on_programme_ecd = children[(children['On The Programme'] == \"Yes\") & (children['Grade'] == \"PreR\")]\n",
    "\n",
    "    # Calculate the average 'Total Improvement' per 'Schools'\n",
    "    avg_improvement = on_programme_ecd.groupby('School', as_index=False)[stat].mean()\n",
    "    avg_improvement = avg_improvement.sort_values(by=stat, ascending=False)\n",
    "\n",
    "    # Create the bar plot\n",
    "    fig = px.bar(avg_improvement, \n",
    "                 x=\"School\", \n",
    "                 y=f\"{stat}\", \n",
    "                 title=f\"Average Progress of ECD Children by {stat}\",\n",
    "                color=\"School\")\n",
    "\n",
    "    # Set x-axis title\n",
    "    fig.update_xaxes(title_text=\"School\")\n",
    "\n",
    "    # Set y-axis title\n",
    "    fig.update_yaxes(title_text=f\"{stat}\")\n",
    "\n",
    "    # Update layout properties\n",
    "    fig.update_layout(autosize=False, width=900, height=600)\n",
    "    return fig\n",
    "\n",
    "if __name__ == '__main__':\n",
    "    app.run_server(mode=\"inline\")\n",
    "\n"
   ]
  },
  {
   "cell_type": "code",
   "execution_count": 39,
   "id": "5b841f6f-093e-4919-a0fc-a4f10fd53db8",
   "metadata": {
    "tags": []
   },
   "outputs": [
    {
     "data": {
      "text/html": [
       "\n",
       "        <iframe\n",
       "            width=\"100%\"\n",
       "            height=\"650\"\n",
       "            src=\"http://127.0.0.1:8050/\"\n",
       "            frameborder=\"0\"\n",
       "            allowfullscreen\n",
       "            \n",
       "        ></iframe>\n",
       "        "
      ],
      "text/plain": [
       "<IPython.lib.display.IFrame at 0x1625411d0>"
      ]
     },
     "metadata": {},
     "output_type": "display_data"
    }
   ],
   "source": [
    "app = JupyterDash(__name__)\n",
    "\n",
    "app.layout = html.Div([\n",
    "    dcc.Dropdown(\n",
    "    id=\"stat\",\n",
    "    options=[\"June - Phonics Improvement\",\"June - Sight Words Improvement\", \"June - Blends Improvement\", \"June - Write CVCs Improvement\", \"June - Letters Improvement\", \"June - Read Sentences Improvement\", \"June - Total Improvement\"],\n",
    "    value=\"June - Total Improvement\"\n",
    "    ),\n",
    "    dcc.Graph(id=\"Graph\")\n",
    "])\n",
    "\n",
    "@app.callback(\n",
    "    Output(\"Graph\", \"figure\"),\n",
    "    Input(\"stat\", \"value\")\n",
    ")\n",
    "\n",
    "def stat_picker(stat):\n",
    "    \n",
    "    # Figuring out who is on the programme for ECD\n",
    "    on_programme_primary = children[(children['On The Programme'] == \"Yes\") & (children['Grade'].isin([\"Grade R\", \"Grade 1\"]))]\n",
    "\n",
    "    # Calculate the average 'Total Improvement' per 'Schools'\n",
    "    avg_improvement = on_programme_primary.groupby('School', as_index=False)[stat].mean()\n",
    "    avg_improvement = avg_improvement.sort_values(by=stat, ascending=False)\n",
    "\n",
    "    # Create the bar plot\n",
    "    fig = px.bar(avg_improvement, \n",
    "                 x=\"School\", \n",
    "                 y=f\"{stat}\", \n",
    "                 title=f\"Average Progress of Grade R & 1 Children by {stat}\",\n",
    "                color=\"School\")\n",
    "\n",
    "    # Set x-axis title\n",
    "    fig.update_xaxes(title_text=\"School\")\n",
    "\n",
    "    # Set y-axis title\n",
    "    fig.update_yaxes(title_text=f\"{stat}\")\n",
    "\n",
    "    # Update layout properties\n",
    "    fig.update_layout(autosize=False, width=900, height=600)\n",
    "    return fig\n",
    "\n",
    "if __name__ == '__main__':\n",
    "    app.run_server(mode=\"inline\")\n",
    "\n"
   ]
  },
  {
   "cell_type": "code",
   "execution_count": 40,
   "id": "ed5e333c-0509-403f-b09a-9a7584c505c8",
   "metadata": {
    "tags": []
   },
   "outputs": [
    {
     "data": {
      "text/html": [
       "\n",
       "        <iframe\n",
       "            width=\"100%\"\n",
       "            height=\"650\"\n",
       "            src=\"http://127.0.0.1:8050/\"\n",
       "            frameborder=\"0\"\n",
       "            allowfullscreen\n",
       "            \n",
       "        ></iframe>\n",
       "        "
      ],
      "text/plain": [
       "<IPython.lib.display.IFrame at 0x1627b9b10>"
      ]
     },
     "metadata": {},
     "output_type": "display_data"
    }
   ],
   "source": [
    "app = JupyterDash(__name__)\n",
    "\n",
    "app.layout = html.Div([\n",
    "    dcc.Dropdown(\n",
    "    id=\"stat\",\n",
    "    options=[\"June - Read Sentences Improvement\", \"June - Read Story Improvement\", \"June - Write Sentence Improvement\", \"June - Sight Words Improvement\", \"June - Blends Improvement\", \"June - Write CVCs Improvement\", \"June - Letters Improvement\", \"June - Total Improvement\"],\n",
    "    value=\"June - Total Improvement\"\n",
    "    ),\n",
    "    dcc.Graph(id=\"Graph\")\n",
    "])\n",
    "\n",
    "@app.callback(\n",
    "    Output(\"Graph\", \"figure\"),\n",
    "    Input(\"stat\", \"value\")\n",
    ")\n",
    "\n",
    "def stat_picker(stat):\n",
    "    \n",
    "    # Figuring out who is on the programme for ECD\n",
    "    on_programme_primary = children[(children['On The Programme'] == \"Yes\") & (children['Grade'].isin([\"Grade 2\", \"Grade 3\"]))]\n",
    "\n",
    "    # Calculate the average 'Total Improvement' per 'Schools'\n",
    "    avg_improvement = on_programme_primary.groupby('School', as_index=False)[stat].mean()\n",
    "    avg_improvement = avg_improvement.sort_values(by=stat, ascending=False)\n",
    "\n",
    "    # Create the bar plot\n",
    "    fig = px.bar(avg_improvement, \n",
    "                 x=\"School\", \n",
    "                 y=f\"{stat}\", \n",
    "                 title=f\"Average Progress of Grade 2 & 3 Children by {stat}\",\n",
    "                color=\"School\")\n",
    "\n",
    "    # Set x-axis title\n",
    "    fig.update_xaxes(title_text=\"School\")\n",
    "\n",
    "    # Set y-axis title\n",
    "    fig.update_yaxes(title_text=f\"{stat}\")\n",
    "\n",
    "    # Update layout properties\n",
    "    fig.update_layout(autosize=False, width=900, height=600)\n",
    "    return fig\n",
    "\n",
    "if __name__ == '__main__':\n",
    "    app.run_server(mode=\"inline\")\n",
    "\n"
   ]
  },
  {
   "cell_type": "code",
   "execution_count": 47,
   "id": "1789c623-649d-46fe-9e66-3c2e579ab8bc",
   "metadata": {},
   "outputs": [
    {
     "data": {
      "text/html": [
       "\n",
       "        <iframe\n",
       "            width=\"100%\"\n",
       "            height=\"650\"\n",
       "            src=\"http://127.0.0.1:8050/\"\n",
       "            frameborder=\"0\"\n",
       "            allowfullscreen\n",
       "            \n",
       "        ></iframe>\n",
       "        "
      ],
      "text/plain": [
       "<IPython.lib.display.IFrame at 0x162893ad0>"
      ]
     },
     "metadata": {},
     "output_type": "display_data"
    }
   ],
   "source": [
    "app = JupyterDash(__name__)\n",
    "\n",
    "app.layout = html.Div([\n",
    "    dcc.Dropdown(\n",
    "    id=\"grade\",\n",
    "    options=[\"PreR\", \"Grade R\", \"Grade 1\", \"Grade 2\", \"Grade 3\"],\n",
    "    value=\"PreR\"\n",
    "    ),\n",
    "    dcc.Graph(id=\"Graph\")\n",
    "])\n",
    "\n",
    "@app.callback(\n",
    "    Output(\"Graph\", \"figure\"),\n",
    "    Input(\"grade\", \"value\")\n",
    ")\n",
    "\n",
    "def stat_picker(grade):\n",
    "    \n",
    "    # Figuring out who is on the programme for ECD\n",
    "    on_programme = children[(children['On The Programme'] == \"Yes\") & (children['Grade'] == f\"{grade}\")]\n",
    "\n",
    "    # Calculate the average 'Total Improvement' per 'Schools'\n",
    "    avg_sessions = on_programme.groupby('School', as_index=False)['Total Sessions'].mean()\n",
    "    avg_sessions = avg_sessions.sort_values(by=\"Total Sessions\", ascending=False)\n",
    "\n",
    "    # Create the bar plot\n",
    "    fig = px.bar(avg_sessions, \n",
    "                 x=\"School\", \n",
    "                 y=\"Total Sessions\", \n",
    "                 title=f\"Total Sessions for {grade}\",\n",
    "                 color=\"School\")\n",
    "\n",
    "    # Set x-axis title\n",
    "    fig.update_xaxes(title_text=\"School\")\n",
    "\n",
    "    # Set y-axis title\n",
    "    fig.update_yaxes(title_text=\"Total Sessions\")\n",
    "\n",
    "    # Update layout properties\n",
    "    fig.update_layout(autosize=False, width=900, height=600)\n",
    "    return fig\n",
    "\n",
    "if __name__ == '__main__':\n",
    "    app.run_server(mode=\"inline\")\n",
    "\n"
   ]
  },
  {
   "cell_type": "code",
   "execution_count": null,
   "id": "3c3d4e10-1ccc-4519-97f2-914df7cd8647",
   "metadata": {},
   "outputs": [],
   "source": []
  }
 ],
 "metadata": {
  "kernelspec": {
   "display_name": "Python 3 (ipykernel)",
   "language": "python",
   "name": "python3"
  },
  "language_info": {
   "codemirror_mode": {
    "name": "ipython",
    "version": 3
   },
   "file_extension": ".py",
   "mimetype": "text/x-python",
   "name": "python",
   "nbconvert_exporter": "python",
   "pygments_lexer": "ipython3",
   "version": "3.11.3"
  }
 },
 "nbformat": 4,
 "nbformat_minor": 5
}
