{
 "cells": [
  {
   "cell_type": "code",
   "execution_count": 47,
   "id": "65bce59a-e340-4e14-a846-d7c205edbf82",
   "metadata": {
    "tags": []
   },
   "outputs": [],
   "source": [
    "import pandas as pd\n",
    "import seaborn as sns\n",
    "import matplotlib.pyplot as plt\n",
    "import plotly.express as px\n",
    "import openpyxl\n",
    "from jupyter_dash import JupyterDash\n",
    "from dash import dcc, html\n",
    "from dash import html\n",
    "\n",
    "pd.set_option('display.max_rows', None)\n",
    "\n",
    "from dash.dependencies import Output, Input\n",
    "from dash.exceptions import PreventUpdate"
   ]
  },
  {
   "cell_type": "code",
   "execution_count": 73,
   "id": "8c81dae9-08c5-4a71-9f17-dbbe9cdbf8bf",
   "metadata": {
    "tags": []
   },
   "outputs": [],
   "source": []
  },
  {
   "cell_type": "code",
   "execution_count": 49,
   "id": "b7284b81-e4aa-43d1-bc61-639672e2e0ea",
   "metadata": {
    "tags": []
   },
   "outputs": [],
   "source": [
    "file_path = \"Zazi iZandi EGRA.xlsx\"\n",
    "sheet_name = \"Sheet2\"\n",
    "all_children = pd.read_excel(file_path, sheet_name=sheet_name)"
   ]
  },
  {
   "cell_type": "code",
   "execution_count": 50,
   "id": "38b3a0de-8307-4f1a-99b0-bdd027594c7b",
   "metadata": {
    "tags": []
   },
   "outputs": [],
   "source": [
    "children = all_children[all_children['Province'] == 'Eastern Cape']"
   ]
  },
  {
   "cell_type": "code",
   "execution_count": 76,
   "id": "e7c834f7-1409-47b7-bcff-e7ca38581993",
   "metadata": {
    "tags": []
   },
   "outputs": [],
   "source": [
    "def process_string(x):\n",
    "    try:\n",
    "        return list(map(int, x.split()))\n",
    "    except:\n",
    "        return []\n",
    "\n",
    "children.loc[:, \"letter_nums_correct_list\"] = children[\"letter_1_metadata_9\"].apply(process_string)\n"
   ]
  },
  {
   "cell_type": "code",
   "execution_count": 101,
   "id": "2dac9ddc-87e0-497b-8df0-e95b2265bb72",
   "metadata": {},
   "outputs": [
    {
     "data": {
      "text/html": [
       "<div>\n",
       "<style scoped>\n",
       "    .dataframe tbody tr th:only-of-type {\n",
       "        vertical-align: middle;\n",
       "    }\n",
       "\n",
       "    .dataframe tbody tr th {\n",
       "        vertical-align: top;\n",
       "    }\n",
       "\n",
       "    .dataframe thead th {\n",
       "        text-align: right;\n",
       "    }\n",
       "</style>\n",
       "<table border=\"1\" class=\"dataframe\">\n",
       "  <thead>\n",
       "    <tr style=\"text-align: right;\">\n",
       "      <th></th>\n",
       "      <th>unique_letters_correct</th>\n",
       "      <th>letters_cleaned</th>\n",
       "    </tr>\n",
       "  </thead>\n",
       "  <tbody>\n",
       "    <tr>\n",
       "      <th>0</th>\n",
       "      <td>26</td>\n",
       "      <td>[v, r, i, w, q, l, z, p, e, a, k, y, o, g, n, ...</td>\n",
       "    </tr>\n",
       "    <tr>\n",
       "      <th>2</th>\n",
       "      <td>24</td>\n",
       "      <td>[v, r, i, w, q, l, z, p, e, a, k, y, o, n, t, ...</td>\n",
       "    </tr>\n",
       "    <tr>\n",
       "      <th>3</th>\n",
       "      <td>23</td>\n",
       "      <td>[v, r, i, w, q, l, z, p, e, a, k, y, o, n, t, ...</td>\n",
       "    </tr>\n",
       "    <tr>\n",
       "      <th>4</th>\n",
       "      <td>26</td>\n",
       "      <td>[v, r, i, w, q, l, z, p, e, a, k, y, o, g, n, ...</td>\n",
       "    </tr>\n",
       "    <tr>\n",
       "      <th>6</th>\n",
       "      <td>11</td>\n",
       "      <td>[y, n, e, a, s, i, k, h, m, d, l]</td>\n",
       "    </tr>\n",
       "    <tr>\n",
       "      <th>7</th>\n",
       "      <td>24</td>\n",
       "      <td>[v, r, i, w, l, z, p, e, a, k, y, o, g, n, t, ...</td>\n",
       "    </tr>\n",
       "    <tr>\n",
       "      <th>9</th>\n",
       "      <td>19</td>\n",
       "      <td>[v, r, i, w, l, z, p, e, a, k, o, n, t, h, f, ...</td>\n",
       "    </tr>\n",
       "    <tr>\n",
       "      <th>10</th>\n",
       "      <td>26</td>\n",
       "      <td>[v, r, i, w, q, l, z, p, e, a, k, y, o, g, n, ...</td>\n",
       "    </tr>\n",
       "    <tr>\n",
       "      <th>11</th>\n",
       "      <td>12</td>\n",
       "      <td>[n, t, v, e, u, s, l, i, k, m, d, y]</td>\n",
       "    </tr>\n",
       "    <tr>\n",
       "      <th>12</th>\n",
       "      <td>0</td>\n",
       "      <td>[]</td>\n",
       "    </tr>\n",
       "    <tr>\n",
       "      <th>13</th>\n",
       "      <td>5</td>\n",
       "      <td>[e, a, s, m, l]</td>\n",
       "    </tr>\n",
       "    <tr>\n",
       "      <th>15</th>\n",
       "      <td>0</td>\n",
       "      <td>[]</td>\n",
       "    </tr>\n",
       "    <tr>\n",
       "      <th>18</th>\n",
       "      <td>0</td>\n",
       "      <td>[]</td>\n",
       "    </tr>\n",
       "    <tr>\n",
       "      <th>23</th>\n",
       "      <td>0</td>\n",
       "      <td>[]</td>\n",
       "    </tr>\n",
       "    <tr>\n",
       "      <th>25</th>\n",
       "      <td>0</td>\n",
       "      <td>[]</td>\n",
       "    </tr>\n",
       "    <tr>\n",
       "      <th>27</th>\n",
       "      <td>0</td>\n",
       "      <td>[]</td>\n",
       "    </tr>\n",
       "    <tr>\n",
       "      <th>29</th>\n",
       "      <td>0</td>\n",
       "      <td>[]</td>\n",
       "    </tr>\n",
       "    <tr>\n",
       "      <th>30</th>\n",
       "      <td>0</td>\n",
       "      <td>[]</td>\n",
       "    </tr>\n",
       "    <tr>\n",
       "      <th>32</th>\n",
       "      <td>0</td>\n",
       "      <td>[]</td>\n",
       "    </tr>\n",
       "    <tr>\n",
       "      <th>34</th>\n",
       "      <td>4</td>\n",
       "      <td>[a, d, e, i]</td>\n",
       "    </tr>\n",
       "    <tr>\n",
       "      <th>36</th>\n",
       "      <td>22</td>\n",
       "      <td>[r, i, w, q, l, z, p, e, a, k, o, n, t, j, x, ...</td>\n",
       "    </tr>\n",
       "    <tr>\n",
       "      <th>37</th>\n",
       "      <td>4</td>\n",
       "      <td>[m, s, e, k]</td>\n",
       "    </tr>\n",
       "    <tr>\n",
       "      <th>38</th>\n",
       "      <td>9</td>\n",
       "      <td>[n, h, e, u, s, i, f, m, l]</td>\n",
       "    </tr>\n",
       "    <tr>\n",
       "      <th>39</th>\n",
       "      <td>11</td>\n",
       "      <td>[n, c, v, e, s, l, i, k, m, y, z]</td>\n",
       "    </tr>\n",
       "    <tr>\n",
       "      <th>40</th>\n",
       "      <td>0</td>\n",
       "      <td>[]</td>\n",
       "    </tr>\n",
       "    <tr>\n",
       "      <th>41</th>\n",
       "      <td>16</td>\n",
       "      <td>[o, n, c, t, h, e, a, u, s, i, k, f, m, d, l, z]</td>\n",
       "    </tr>\n",
       "    <tr>\n",
       "      <th>42</th>\n",
       "      <td>17</td>\n",
       "      <td>[o, d, c, t, v, e, r, a, u, s, i, k, h, m, f, ...</td>\n",
       "    </tr>\n",
       "    <tr>\n",
       "      <th>43</th>\n",
       "      <td>0</td>\n",
       "      <td>[]</td>\n",
       "    </tr>\n",
       "    <tr>\n",
       "      <th>44</th>\n",
       "      <td>2</td>\n",
       "      <td>[m, s]</td>\n",
       "    </tr>\n",
       "    <tr>\n",
       "      <th>46</th>\n",
       "      <td>10</td>\n",
       "      <td>[n, c, e, u, s, i, k, f, m, l]</td>\n",
       "    </tr>\n",
       "    <tr>\n",
       "      <th>48</th>\n",
       "      <td>13</td>\n",
       "      <td>[y, n, c, t, e, a, u, s, i, k, f, m, l]</td>\n",
       "    </tr>\n",
       "    <tr>\n",
       "      <th>49</th>\n",
       "      <td>15</td>\n",
       "      <td>[d, n, c, t, v, e, u, s, i, k, h, m, f, l, z]</td>\n",
       "    </tr>\n",
       "    <tr>\n",
       "      <th>53</th>\n",
       "      <td>19</td>\n",
       "      <td>[v, i, l, z, e, a, k, y, o, n, t, j, h, f, d, ...</td>\n",
       "    </tr>\n",
       "    <tr>\n",
       "      <th>55</th>\n",
       "      <td>0</td>\n",
       "      <td>[]</td>\n",
       "    </tr>\n",
       "    <tr>\n",
       "      <th>56</th>\n",
       "      <td>20</td>\n",
       "      <td>[r, i, l, z, p, e, a, k, y, o, n, t, j, h, f, ...</td>\n",
       "    </tr>\n",
       "    <tr>\n",
       "      <th>69</th>\n",
       "      <td>0</td>\n",
       "      <td>[]</td>\n",
       "    </tr>\n",
       "    <tr>\n",
       "      <th>71</th>\n",
       "      <td>0</td>\n",
       "      <td>[]</td>\n",
       "    </tr>\n",
       "    <tr>\n",
       "      <th>73</th>\n",
       "      <td>0</td>\n",
       "      <td>[]</td>\n",
       "    </tr>\n",
       "    <tr>\n",
       "      <th>75</th>\n",
       "      <td>0</td>\n",
       "      <td>[]</td>\n",
       "    </tr>\n",
       "    <tr>\n",
       "      <th>77</th>\n",
       "      <td>0</td>\n",
       "      <td>[]</td>\n",
       "    </tr>\n",
       "    <tr>\n",
       "      <th>79</th>\n",
       "      <td>0</td>\n",
       "      <td>[]</td>\n",
       "    </tr>\n",
       "    <tr>\n",
       "      <th>81</th>\n",
       "      <td>0</td>\n",
       "      <td>[]</td>\n",
       "    </tr>\n",
       "    <tr>\n",
       "      <th>83</th>\n",
       "      <td>0</td>\n",
       "      <td>[]</td>\n",
       "    </tr>\n",
       "    <tr>\n",
       "      <th>84</th>\n",
       "      <td>7</td>\n",
       "      <td>[n, e, a, s, k, f, m]</td>\n",
       "    </tr>\n",
       "    <tr>\n",
       "      <th>86</th>\n",
       "      <td>10</td>\n",
       "      <td>[n, t, v, e, a, s, i, m, l, z]</td>\n",
       "    </tr>\n",
       "    <tr>\n",
       "      <th>87</th>\n",
       "      <td>0</td>\n",
       "      <td>[]</td>\n",
       "    </tr>\n",
       "    <tr>\n",
       "      <th>89</th>\n",
       "      <td>0</td>\n",
       "      <td>[]</td>\n",
       "    </tr>\n",
       "    <tr>\n",
       "      <th>91</th>\n",
       "      <td>0</td>\n",
       "      <td>[]</td>\n",
       "    </tr>\n",
       "    <tr>\n",
       "      <th>92</th>\n",
       "      <td>8</td>\n",
       "      <td>[n, e, a, s, i, k, m, l]</td>\n",
       "    </tr>\n",
       "    <tr>\n",
       "      <th>94</th>\n",
       "      <td>0</td>\n",
       "      <td>[]</td>\n",
       "    </tr>\n",
       "    <tr>\n",
       "      <th>99</th>\n",
       "      <td>5</td>\n",
       "      <td>[n, e, s, m, l]</td>\n",
       "    </tr>\n",
       "    <tr>\n",
       "      <th>101</th>\n",
       "      <td>6</td>\n",
       "      <td>[o, c, s, i, m, z]</td>\n",
       "    </tr>\n",
       "    <tr>\n",
       "      <th>103</th>\n",
       "      <td>0</td>\n",
       "      <td>[]</td>\n",
       "    </tr>\n",
       "    <tr>\n",
       "      <th>105</th>\n",
       "      <td>0</td>\n",
       "      <td>[]</td>\n",
       "    </tr>\n",
       "    <tr>\n",
       "      <th>106</th>\n",
       "      <td>26</td>\n",
       "      <td>[v, r, i, w, q, l, z, p, e, a, k, y, o, g, n, ...</td>\n",
       "    </tr>\n",
       "    <tr>\n",
       "      <th>108</th>\n",
       "      <td>0</td>\n",
       "      <td>[]</td>\n",
       "    </tr>\n",
       "    <tr>\n",
       "      <th>110</th>\n",
       "      <td>0</td>\n",
       "      <td>[]</td>\n",
       "    </tr>\n",
       "    <tr>\n",
       "      <th>111</th>\n",
       "      <td>0</td>\n",
       "      <td>[]</td>\n",
       "    </tr>\n",
       "    <tr>\n",
       "      <th>112</th>\n",
       "      <td>14</td>\n",
       "      <td>[y, n, c, t, e, a, s, i, k, f, m, d, l, z]</td>\n",
       "    </tr>\n",
       "    <tr>\n",
       "      <th>113</th>\n",
       "      <td>26</td>\n",
       "      <td>[v, r, i, w, q, l, z, p, e, a, k, y, o, g, n, ...</td>\n",
       "    </tr>\n",
       "    <tr>\n",
       "      <th>114</th>\n",
       "      <td>23</td>\n",
       "      <td>[v, r, i, w, q, l, z, p, e, a, k, y, o, n, t, ...</td>\n",
       "    </tr>\n",
       "    <tr>\n",
       "      <th>115</th>\n",
       "      <td>26</td>\n",
       "      <td>[v, r, i, w, q, l, z, p, e, a, k, y, o, g, n, ...</td>\n",
       "    </tr>\n",
       "    <tr>\n",
       "      <th>116</th>\n",
       "      <td>25</td>\n",
       "      <td>[v, r, i, w, q, l, z, p, e, a, k, y, o, g, n, ...</td>\n",
       "    </tr>\n",
       "    <tr>\n",
       "      <th>117</th>\n",
       "      <td>22</td>\n",
       "      <td>[v, r, i, w, l, z, p, e, a, k, y, o, n, t, j, ...</td>\n",
       "    </tr>\n",
       "    <tr>\n",
       "      <th>119</th>\n",
       "      <td>8</td>\n",
       "      <td>[e, a, u, s, i, k, m, l]</td>\n",
       "    </tr>\n",
       "    <tr>\n",
       "      <th>125</th>\n",
       "      <td>0</td>\n",
       "      <td>[]</td>\n",
       "    </tr>\n",
       "    <tr>\n",
       "      <th>126</th>\n",
       "      <td>8</td>\n",
       "      <td>[n, e, s, l, i, k, m, y]</td>\n",
       "    </tr>\n",
       "    <tr>\n",
       "      <th>127</th>\n",
       "      <td>12</td>\n",
       "      <td>[y, n, v, h, e, a, s, i, k, f, m, l]</td>\n",
       "    </tr>\n",
       "    <tr>\n",
       "      <th>128</th>\n",
       "      <td>0</td>\n",
       "      <td>[]</td>\n",
       "    </tr>\n",
       "    <tr>\n",
       "      <th>130</th>\n",
       "      <td>0</td>\n",
       "      <td>[]</td>\n",
       "    </tr>\n",
       "    <tr>\n",
       "      <th>131</th>\n",
       "      <td>0</td>\n",
       "      <td>[]</td>\n",
       "    </tr>\n",
       "    <tr>\n",
       "      <th>135</th>\n",
       "      <td>10</td>\n",
       "      <td>[y, e, a, s, i, k, h, m, d, l]</td>\n",
       "    </tr>\n",
       "    <tr>\n",
       "      <th>137</th>\n",
       "      <td>5</td>\n",
       "      <td>[n, e, s, m, l]</td>\n",
       "    </tr>\n",
       "    <tr>\n",
       "      <th>138</th>\n",
       "      <td>8</td>\n",
       "      <td>[n, e, a, s, i, k, m, l]</td>\n",
       "    </tr>\n",
       "    <tr>\n",
       "      <th>139</th>\n",
       "      <td>0</td>\n",
       "      <td>[]</td>\n",
       "    </tr>\n",
       "    <tr>\n",
       "      <th>141</th>\n",
       "      <td>0</td>\n",
       "      <td>[]</td>\n",
       "    </tr>\n",
       "    <tr>\n",
       "      <th>143</th>\n",
       "      <td>0</td>\n",
       "      <td>[]</td>\n",
       "    </tr>\n",
       "    <tr>\n",
       "      <th>146</th>\n",
       "      <td>10</td>\n",
       "      <td>[c, e, s, l, i, k, f, m, y, z]</td>\n",
       "    </tr>\n",
       "    <tr>\n",
       "      <th>148</th>\n",
       "      <td>9</td>\n",
       "      <td>[n, e, s, i, k, h, m, f, l]</td>\n",
       "    </tr>\n",
       "    <tr>\n",
       "      <th>149</th>\n",
       "      <td>0</td>\n",
       "      <td>[]</td>\n",
       "    </tr>\n",
       "    <tr>\n",
       "      <th>155</th>\n",
       "      <td>18</td>\n",
       "      <td>[o, n, c, t, v, e, a, u, s, j, i, k, h, m, d, ...</td>\n",
       "    </tr>\n",
       "    <tr>\n",
       "      <th>156</th>\n",
       "      <td>4</td>\n",
       "      <td>[s, e, n, l]</td>\n",
       "    </tr>\n",
       "    <tr>\n",
       "      <th>157</th>\n",
       "      <td>25</td>\n",
       "      <td>[v, r, i, w, q, l, z, p, e, a, k, y, o, g, n, ...</td>\n",
       "    </tr>\n",
       "    <tr>\n",
       "      <th>158</th>\n",
       "      <td>13</td>\n",
       "      <td>[o, n, c, t, e, j, s, i, k, m, d, l, z]</td>\n",
       "    </tr>\n",
       "    <tr>\n",
       "      <th>159</th>\n",
       "      <td>24</td>\n",
       "      <td>[v, r, i, w, q, l, z, p, e, a, k, y, o, g, n, ...</td>\n",
       "    </tr>\n",
       "    <tr>\n",
       "      <th>160</th>\n",
       "      <td>25</td>\n",
       "      <td>[v, r, i, w, q, l, z, p, e, a, k, y, o, g, n, ...</td>\n",
       "    </tr>\n",
       "    <tr>\n",
       "      <th>161</th>\n",
       "      <td>0</td>\n",
       "      <td>[]</td>\n",
       "    </tr>\n",
       "    <tr>\n",
       "      <th>162</th>\n",
       "      <td>5</td>\n",
       "      <td>[e, s, i, m, l]</td>\n",
       "    </tr>\n",
       "    <tr>\n",
       "      <th>163</th>\n",
       "      <td>8</td>\n",
       "      <td>[n, e, s, i, k, m, d, l]</td>\n",
       "    </tr>\n",
       "    <tr>\n",
       "      <th>164</th>\n",
       "      <td>17</td>\n",
       "      <td>[y, n, c, t, v, e, a, u, s, i, k, h, m, d, f, ...</td>\n",
       "    </tr>\n",
       "    <tr>\n",
       "      <th>165</th>\n",
       "      <td>24</td>\n",
       "      <td>[v, r, i, w, q, l, z, p, e, a, k, y, o, g, n, ...</td>\n",
       "    </tr>\n",
       "    <tr>\n",
       "      <th>166</th>\n",
       "      <td>0</td>\n",
       "      <td>[]</td>\n",
       "    </tr>\n",
       "    <tr>\n",
       "      <th>167</th>\n",
       "      <td>3</td>\n",
       "      <td>[m, s, l]</td>\n",
       "    </tr>\n",
       "    <tr>\n",
       "      <th>168</th>\n",
       "      <td>15</td>\n",
       "      <td>[y, n, c, t, v, e, u, s, i, k, h, m, d, f, l]</td>\n",
       "    </tr>\n",
       "    <tr>\n",
       "      <th>169</th>\n",
       "      <td>9</td>\n",
       "      <td>[n, c, e, u, s, i, f, m, l]</td>\n",
       "    </tr>\n",
       "    <tr>\n",
       "      <th>170</th>\n",
       "      <td>0</td>\n",
       "      <td>[]</td>\n",
       "    </tr>\n",
       "    <tr>\n",
       "      <th>192</th>\n",
       "      <td>0</td>\n",
       "      <td>[]</td>\n",
       "    </tr>\n",
       "    <tr>\n",
       "      <th>193</th>\n",
       "      <td>0</td>\n",
       "      <td>[]</td>\n",
       "    </tr>\n",
       "    <tr>\n",
       "      <th>194</th>\n",
       "      <td>0</td>\n",
       "      <td>[]</td>\n",
       "    </tr>\n",
       "    <tr>\n",
       "      <th>195</th>\n",
       "      <td>0</td>\n",
       "      <td>[]</td>\n",
       "    </tr>\n",
       "    <tr>\n",
       "      <th>197</th>\n",
       "      <td>0</td>\n",
       "      <td>[]</td>\n",
       "    </tr>\n",
       "    <tr>\n",
       "      <th>200</th>\n",
       "      <td>9</td>\n",
       "      <td>[v, e, u, s, i, k, h, m, y]</td>\n",
       "    </tr>\n",
       "    <tr>\n",
       "      <th>203</th>\n",
       "      <td>0</td>\n",
       "      <td>[]</td>\n",
       "    </tr>\n",
       "    <tr>\n",
       "      <th>205</th>\n",
       "      <td>0</td>\n",
       "      <td>[]</td>\n",
       "    </tr>\n",
       "    <tr>\n",
       "      <th>207</th>\n",
       "      <td>4</td>\n",
       "      <td>[s, n, l, k]</td>\n",
       "    </tr>\n",
       "    <tr>\n",
       "      <th>209</th>\n",
       "      <td>0</td>\n",
       "      <td>[]</td>\n",
       "    </tr>\n",
       "    <tr>\n",
       "      <th>210</th>\n",
       "      <td>0</td>\n",
       "      <td>[]</td>\n",
       "    </tr>\n",
       "    <tr>\n",
       "      <th>212</th>\n",
       "      <td>0</td>\n",
       "      <td>[]</td>\n",
       "    </tr>\n",
       "    <tr>\n",
       "      <th>216</th>\n",
       "      <td>15</td>\n",
       "      <td>[o, n, c, t, v, e, j, u, s, i, k, h, m, l, z]</td>\n",
       "    </tr>\n",
       "    <tr>\n",
       "      <th>219</th>\n",
       "      <td>26</td>\n",
       "      <td>[v, r, i, w, q, l, z, p, e, a, k, y, o, g, n, ...</td>\n",
       "    </tr>\n",
       "    <tr>\n",
       "      <th>221</th>\n",
       "      <td>26</td>\n",
       "      <td>[v, r, i, w, q, l, z, p, e, a, k, y, o, g, n, ...</td>\n",
       "    </tr>\n",
       "    <tr>\n",
       "      <th>223</th>\n",
       "      <td>18</td>\n",
       "      <td>[o, n, c, t, v, r, a, u, s, j, i, k, f, m, w, ...</td>\n",
       "    </tr>\n",
       "    <tr>\n",
       "      <th>225</th>\n",
       "      <td>10</td>\n",
       "      <td>[n, c, e, u, s, i, k, f, m, l]</td>\n",
       "    </tr>\n",
       "    <tr>\n",
       "      <th>226</th>\n",
       "      <td>6</td>\n",
       "      <td>[e, u, s, i, f, m]</td>\n",
       "    </tr>\n",
       "    <tr>\n",
       "      <th>227</th>\n",
       "      <td>26</td>\n",
       "      <td>[v, r, i, w, q, l, z, p, e, a, k, y, o, g, n, ...</td>\n",
       "    </tr>\n",
       "    <tr>\n",
       "      <th>228</th>\n",
       "      <td>26</td>\n",
       "      <td>[v, r, i, w, q, l, z, p, e, a, k, y, o, g, n, ...</td>\n",
       "    </tr>\n",
       "    <tr>\n",
       "      <th>229</th>\n",
       "      <td>7</td>\n",
       "      <td>[n, e, s, i, k, m, l]</td>\n",
       "    </tr>\n",
       "    <tr>\n",
       "      <th>230</th>\n",
       "      <td>16</td>\n",
       "      <td>[y, n, c, t, v, h, e, a, u, s, i, k, f, m, l, z]</td>\n",
       "    </tr>\n",
       "    <tr>\n",
       "      <th>231</th>\n",
       "      <td>26</td>\n",
       "      <td>[v, r, i, w, q, l, z, p, e, a, k, y, o, g, n, ...</td>\n",
       "    </tr>\n",
       "    <tr>\n",
       "      <th>232</th>\n",
       "      <td>15</td>\n",
       "      <td>[y, n, c, v, e, u, s, i, k, h, m, d, f, l, z]</td>\n",
       "    </tr>\n",
       "    <tr>\n",
       "      <th>233</th>\n",
       "      <td>0</td>\n",
       "      <td>[]</td>\n",
       "    </tr>\n",
       "    <tr>\n",
       "      <th>247</th>\n",
       "      <td>12</td>\n",
       "      <td>[n, v, h, e, u, s, i, k, f, m, d, l]</td>\n",
       "    </tr>\n",
       "    <tr>\n",
       "      <th>249</th>\n",
       "      <td>8</td>\n",
       "      <td>[v, e, s, i, k, h, m, l]</td>\n",
       "    </tr>\n",
       "    <tr>\n",
       "      <th>251</th>\n",
       "      <td>17</td>\n",
       "      <td>[o, y, n, c, t, v, e, a, u, s, i, k, h, m, f, ...</td>\n",
       "    </tr>\n",
       "    <tr>\n",
       "      <th>252</th>\n",
       "      <td>0</td>\n",
       "      <td>[]</td>\n",
       "    </tr>\n",
       "    <tr>\n",
       "      <th>254</th>\n",
       "      <td>12</td>\n",
       "      <td>[y, n, c, v, e, u, s, i, k, h, m, l]</td>\n",
       "    </tr>\n",
       "    <tr>\n",
       "      <th>256</th>\n",
       "      <td>0</td>\n",
       "      <td>[]</td>\n",
       "    </tr>\n",
       "    <tr>\n",
       "      <th>258</th>\n",
       "      <td>12</td>\n",
       "      <td>[n, c, t, v, e, s, i, k, h, m, f, l]</td>\n",
       "    </tr>\n",
       "    <tr>\n",
       "      <th>260</th>\n",
       "      <td>4</td>\n",
       "      <td>[m, s, i, k]</td>\n",
       "    </tr>\n",
       "    <tr>\n",
       "      <th>262</th>\n",
       "      <td>9</td>\n",
       "      <td>[n, e, u, s, i, k, f, m, l]</td>\n",
       "    </tr>\n",
       "    <tr>\n",
       "      <th>264</th>\n",
       "      <td>11</td>\n",
       "      <td>[y, n, c, v, e, u, s, k, h, m, l]</td>\n",
       "    </tr>\n",
       "    <tr>\n",
       "      <th>266</th>\n",
       "      <td>10</td>\n",
       "      <td>[n, h, e, s, i, k, f, m, d, l]</td>\n",
       "    </tr>\n",
       "    <tr>\n",
       "      <th>267</th>\n",
       "      <td>21</td>\n",
       "      <td>[v, r, i, w, l, z, e, a, k, y, o, n, t, j, h, ...</td>\n",
       "    </tr>\n",
       "    <tr>\n",
       "      <th>268</th>\n",
       "      <td>0</td>\n",
       "      <td>[]</td>\n",
       "    </tr>\n",
       "    <tr>\n",
       "      <th>269</th>\n",
       "      <td>5</td>\n",
       "      <td>[e, s, i, k, m]</td>\n",
       "    </tr>\n",
       "    <tr>\n",
       "      <th>270</th>\n",
       "      <td>0</td>\n",
       "      <td>[]</td>\n",
       "    </tr>\n",
       "    <tr>\n",
       "      <th>271</th>\n",
       "      <td>9</td>\n",
       "      <td>[v, h, e, s, i, f, m, d, l]</td>\n",
       "    </tr>\n",
       "    <tr>\n",
       "      <th>274</th>\n",
       "      <td>25</td>\n",
       "      <td>[v, r, i, w, q, l, z, p, e, a, k, y, o, g, n, ...</td>\n",
       "    </tr>\n",
       "    <tr>\n",
       "      <th>275</th>\n",
       "      <td>7</td>\n",
       "      <td>[n, a, s, i, k, m, l]</td>\n",
       "    </tr>\n",
       "    <tr>\n",
       "      <th>276</th>\n",
       "      <td>26</td>\n",
       "      <td>[v, r, i, w, q, l, z, p, e, a, k, y, o, g, n, ...</td>\n",
       "    </tr>\n",
       "    <tr>\n",
       "      <th>277</th>\n",
       "      <td>9</td>\n",
       "      <td>[v, e, a, u, s, i, f, m, l]</td>\n",
       "    </tr>\n",
       "    <tr>\n",
       "      <th>278</th>\n",
       "      <td>10</td>\n",
       "      <td>[n, e, a, u, s, k, h, m, f, l]</td>\n",
       "    </tr>\n",
       "    <tr>\n",
       "      <th>279</th>\n",
       "      <td>26</td>\n",
       "      <td>[v, r, i, w, q, l, z, p, e, a, k, y, o, g, n, ...</td>\n",
       "    </tr>\n",
       "    <tr>\n",
       "      <th>288</th>\n",
       "      <td>26</td>\n",
       "      <td>[v, r, i, w, q, l, z, p, e, a, k, y, o, g, n, ...</td>\n",
       "    </tr>\n",
       "    <tr>\n",
       "      <th>289</th>\n",
       "      <td>26</td>\n",
       "      <td>[v, r, i, w, q, l, z, p, e, a, k, y, o, g, n, ...</td>\n",
       "    </tr>\n",
       "    <tr>\n",
       "      <th>290</th>\n",
       "      <td>25</td>\n",
       "      <td>[v, r, i, w, q, l, z, p, e, a, k, y, o, g, n, ...</td>\n",
       "    </tr>\n",
       "    <tr>\n",
       "      <th>291</th>\n",
       "      <td>9</td>\n",
       "      <td>[e, a, u, s, i, k, f, m, l]</td>\n",
       "    </tr>\n",
       "    <tr>\n",
       "      <th>292</th>\n",
       "      <td>26</td>\n",
       "      <td>[v, r, i, w, q, l, z, p, e, a, k, y, o, g, n, ...</td>\n",
       "    </tr>\n",
       "    <tr>\n",
       "      <th>293</th>\n",
       "      <td>15</td>\n",
       "      <td>[y, n, c, t, v, h, e, s, i, k, f, m, d, l, z]</td>\n",
       "    </tr>\n",
       "  </tbody>\n",
       "</table>\n",
       "</div>"
      ],
      "text/plain": [
       "     unique_letters_correct                                    letters_cleaned\n",
       "0                        26  [v, r, i, w, q, l, z, p, e, a, k, y, o, g, n, ...\n",
       "2                        24  [v, r, i, w, q, l, z, p, e, a, k, y, o, n, t, ...\n",
       "3                        23  [v, r, i, w, q, l, z, p, e, a, k, y, o, n, t, ...\n",
       "4                        26  [v, r, i, w, q, l, z, p, e, a, k, y, o, g, n, ...\n",
       "6                        11                  [y, n, e, a, s, i, k, h, m, d, l]\n",
       "7                        24  [v, r, i, w, l, z, p, e, a, k, y, o, g, n, t, ...\n",
       "9                        19  [v, r, i, w, l, z, p, e, a, k, o, n, t, h, f, ...\n",
       "10                       26  [v, r, i, w, q, l, z, p, e, a, k, y, o, g, n, ...\n",
       "11                       12               [n, t, v, e, u, s, l, i, k, m, d, y]\n",
       "12                        0                                                 []\n",
       "13                        5                                    [e, a, s, m, l]\n",
       "15                        0                                                 []\n",
       "18                        0                                                 []\n",
       "23                        0                                                 []\n",
       "25                        0                                                 []\n",
       "27                        0                                                 []\n",
       "29                        0                                                 []\n",
       "30                        0                                                 []\n",
       "32                        0                                                 []\n",
       "34                        4                                       [a, d, e, i]\n",
       "36                       22  [r, i, w, q, l, z, p, e, a, k, o, n, t, j, x, ...\n",
       "37                        4                                       [m, s, e, k]\n",
       "38                        9                        [n, h, e, u, s, i, f, m, l]\n",
       "39                       11                  [n, c, v, e, s, l, i, k, m, y, z]\n",
       "40                        0                                                 []\n",
       "41                       16   [o, n, c, t, h, e, a, u, s, i, k, f, m, d, l, z]\n",
       "42                       17  [o, d, c, t, v, e, r, a, u, s, i, k, h, m, f, ...\n",
       "43                        0                                                 []\n",
       "44                        2                                             [m, s]\n",
       "46                       10                     [n, c, e, u, s, i, k, f, m, l]\n",
       "48                       13            [y, n, c, t, e, a, u, s, i, k, f, m, l]\n",
       "49                       15      [d, n, c, t, v, e, u, s, i, k, h, m, f, l, z]\n",
       "53                       19  [v, i, l, z, e, a, k, y, o, n, t, j, h, f, d, ...\n",
       "55                        0                                                 []\n",
       "56                       20  [r, i, l, z, p, e, a, k, y, o, n, t, j, h, f, ...\n",
       "69                        0                                                 []\n",
       "71                        0                                                 []\n",
       "73                        0                                                 []\n",
       "75                        0                                                 []\n",
       "77                        0                                                 []\n",
       "79                        0                                                 []\n",
       "81                        0                                                 []\n",
       "83                        0                                                 []\n",
       "84                        7                              [n, e, a, s, k, f, m]\n",
       "86                       10                     [n, t, v, e, a, s, i, m, l, z]\n",
       "87                        0                                                 []\n",
       "89                        0                                                 []\n",
       "91                        0                                                 []\n",
       "92                        8                           [n, e, a, s, i, k, m, l]\n",
       "94                        0                                                 []\n",
       "99                        5                                    [n, e, s, m, l]\n",
       "101                       6                                 [o, c, s, i, m, z]\n",
       "103                       0                                                 []\n",
       "105                       0                                                 []\n",
       "106                      26  [v, r, i, w, q, l, z, p, e, a, k, y, o, g, n, ...\n",
       "108                       0                                                 []\n",
       "110                       0                                                 []\n",
       "111                       0                                                 []\n",
       "112                      14         [y, n, c, t, e, a, s, i, k, f, m, d, l, z]\n",
       "113                      26  [v, r, i, w, q, l, z, p, e, a, k, y, o, g, n, ...\n",
       "114                      23  [v, r, i, w, q, l, z, p, e, a, k, y, o, n, t, ...\n",
       "115                      26  [v, r, i, w, q, l, z, p, e, a, k, y, o, g, n, ...\n",
       "116                      25  [v, r, i, w, q, l, z, p, e, a, k, y, o, g, n, ...\n",
       "117                      22  [v, r, i, w, l, z, p, e, a, k, y, o, n, t, j, ...\n",
       "119                       8                           [e, a, u, s, i, k, m, l]\n",
       "125                       0                                                 []\n",
       "126                       8                           [n, e, s, l, i, k, m, y]\n",
       "127                      12               [y, n, v, h, e, a, s, i, k, f, m, l]\n",
       "128                       0                                                 []\n",
       "130                       0                                                 []\n",
       "131                       0                                                 []\n",
       "135                      10                     [y, e, a, s, i, k, h, m, d, l]\n",
       "137                       5                                    [n, e, s, m, l]\n",
       "138                       8                           [n, e, a, s, i, k, m, l]\n",
       "139                       0                                                 []\n",
       "141                       0                                                 []\n",
       "143                       0                                                 []\n",
       "146                      10                     [c, e, s, l, i, k, f, m, y, z]\n",
       "148                       9                        [n, e, s, i, k, h, m, f, l]\n",
       "149                       0                                                 []\n",
       "155                      18  [o, n, c, t, v, e, a, u, s, j, i, k, h, m, d, ...\n",
       "156                       4                                       [s, e, n, l]\n",
       "157                      25  [v, r, i, w, q, l, z, p, e, a, k, y, o, g, n, ...\n",
       "158                      13            [o, n, c, t, e, j, s, i, k, m, d, l, z]\n",
       "159                      24  [v, r, i, w, q, l, z, p, e, a, k, y, o, g, n, ...\n",
       "160                      25  [v, r, i, w, q, l, z, p, e, a, k, y, o, g, n, ...\n",
       "161                       0                                                 []\n",
       "162                       5                                    [e, s, i, m, l]\n",
       "163                       8                           [n, e, s, i, k, m, d, l]\n",
       "164                      17  [y, n, c, t, v, e, a, u, s, i, k, h, m, d, f, ...\n",
       "165                      24  [v, r, i, w, q, l, z, p, e, a, k, y, o, g, n, ...\n",
       "166                       0                                                 []\n",
       "167                       3                                          [m, s, l]\n",
       "168                      15      [y, n, c, t, v, e, u, s, i, k, h, m, d, f, l]\n",
       "169                       9                        [n, c, e, u, s, i, f, m, l]\n",
       "170                       0                                                 []\n",
       "192                       0                                                 []\n",
       "193                       0                                                 []\n",
       "194                       0                                                 []\n",
       "195                       0                                                 []\n",
       "197                       0                                                 []\n",
       "200                       9                        [v, e, u, s, i, k, h, m, y]\n",
       "203                       0                                                 []\n",
       "205                       0                                                 []\n",
       "207                       4                                       [s, n, l, k]\n",
       "209                       0                                                 []\n",
       "210                       0                                                 []\n",
       "212                       0                                                 []\n",
       "216                      15      [o, n, c, t, v, e, j, u, s, i, k, h, m, l, z]\n",
       "219                      26  [v, r, i, w, q, l, z, p, e, a, k, y, o, g, n, ...\n",
       "221                      26  [v, r, i, w, q, l, z, p, e, a, k, y, o, g, n, ...\n",
       "223                      18  [o, n, c, t, v, r, a, u, s, j, i, k, f, m, w, ...\n",
       "225                      10                     [n, c, e, u, s, i, k, f, m, l]\n",
       "226                       6                                 [e, u, s, i, f, m]\n",
       "227                      26  [v, r, i, w, q, l, z, p, e, a, k, y, o, g, n, ...\n",
       "228                      26  [v, r, i, w, q, l, z, p, e, a, k, y, o, g, n, ...\n",
       "229                       7                              [n, e, s, i, k, m, l]\n",
       "230                      16   [y, n, c, t, v, h, e, a, u, s, i, k, f, m, l, z]\n",
       "231                      26  [v, r, i, w, q, l, z, p, e, a, k, y, o, g, n, ...\n",
       "232                      15      [y, n, c, v, e, u, s, i, k, h, m, d, f, l, z]\n",
       "233                       0                                                 []\n",
       "247                      12               [n, v, h, e, u, s, i, k, f, m, d, l]\n",
       "249                       8                           [v, e, s, i, k, h, m, l]\n",
       "251                      17  [o, y, n, c, t, v, e, a, u, s, i, k, h, m, f, ...\n",
       "252                       0                                                 []\n",
       "254                      12               [y, n, c, v, e, u, s, i, k, h, m, l]\n",
       "256                       0                                                 []\n",
       "258                      12               [n, c, t, v, e, s, i, k, h, m, f, l]\n",
       "260                       4                                       [m, s, i, k]\n",
       "262                       9                        [n, e, u, s, i, k, f, m, l]\n",
       "264                      11                  [y, n, c, v, e, u, s, k, h, m, l]\n",
       "266                      10                     [n, h, e, s, i, k, f, m, d, l]\n",
       "267                      21  [v, r, i, w, l, z, e, a, k, y, o, n, t, j, h, ...\n",
       "268                       0                                                 []\n",
       "269                       5                                    [e, s, i, k, m]\n",
       "270                       0                                                 []\n",
       "271                       9                        [v, h, e, s, i, f, m, d, l]\n",
       "274                      25  [v, r, i, w, q, l, z, p, e, a, k, y, o, g, n, ...\n",
       "275                       7                              [n, a, s, i, k, m, l]\n",
       "276                      26  [v, r, i, w, q, l, z, p, e, a, k, y, o, g, n, ...\n",
       "277                       9                        [v, e, a, u, s, i, f, m, l]\n",
       "278                      10                     [n, e, a, u, s, k, h, m, f, l]\n",
       "279                      26  [v, r, i, w, q, l, z, p, e, a, k, y, o, g, n, ...\n",
       "288                      26  [v, r, i, w, q, l, z, p, e, a, k, y, o, g, n, ...\n",
       "289                      26  [v, r, i, w, q, l, z, p, e, a, k, y, o, g, n, ...\n",
       "290                      25  [v, r, i, w, q, l, z, p, e, a, k, y, o, g, n, ...\n",
       "291                       9                        [e, a, u, s, i, k, f, m, l]\n",
       "292                      26  [v, r, i, w, q, l, z, p, e, a, k, y, o, g, n, ...\n",
       "293                      15      [y, n, c, t, v, h, e, s, i, k, f, m, d, l, z]"
      ]
     },
     "execution_count": 101,
     "metadata": {},
     "output_type": "execute_result"
    }
   ],
   "source": [
    "#create the egra dictionary\n",
    "egra_letters = [\"l\", \"a\", \"m\", \"E\", \"S\", \"n\", \"L\", \"s\", \"M\", \"e\", \"Y\", \"i\", \"K\", \"N\", \"d\", \"H\", \"f\", \"U\", \"h\", \"v\", \"F\", \"y\", \"C\", \"I\", \"T\", \"k\", \"D\", \"Z\", \"f\", \"d\", \"t\", \"z\", \"O\", \"J\", \"P\", \"r\", \"c\", \"W\", \"p\", \"o\", \"w\", \"A\", \"E\", \"x\", \"Q\", \"I\", \"g\", \"O\", \"U\", \"z\", \"X\", \"r\", \"V\", \"B\", \"j\", \"b\", \"q\", \"u\", \"R\", \"G\"]\n",
    "\n",
    "egra_dict = {}\n",
    "for index,letter in enumerate(egra_letters):\n",
    "    egra_dict[index+1] = letter\n",
    "\n",
    "#convert numbers in column to correpsonding letter from the egra\n",
    "children.loc[:,\"letters_correct_list\"] = children[\"letter_nums_correct_list\"].apply(lambda x: [egra_dict[num] for num in x])\n",
    "\n",
    "#lowercase all and remove duplicates\n",
    "children.loc[:,'letters_cleaned'] = children['letters_correct_list'].apply(lambda x: list(set([letter.lower() for letter in x])))\n",
    "\n",
    "children.loc[:,'unique_letters_correct'] = children['letters_cleaned'].apply(len)\n",
    "children[['unique_letters_correct', 'letters_cleaned']]"
   ]
  },
  {
   "cell_type": "code",
   "execution_count": 37,
   "id": "07c16f12-b92f-45db-ab08-53bdf651fc9d",
   "metadata": {
    "tags": []
   },
   "outputs": [
    {
     "data": {
      "application/vnd.plotly.v1+json": {
       "config": {
        "plotlyServerURL": "https://plot.ly"
       },
       "data": [
        {
         "alignmentgroup": "True",
         "bingroup": "x",
         "hovertemplate": "grade=0.0<br>letter_1_metadata_6=%{x}<br>count=%{y}<extra></extra>",
         "legendgroup": "0.0",
         "marker": {
          "color": "#636efa",
          "pattern": {
           "shape": ""
          }
         },
         "name": "0.0",
         "nbinsx": 30,
         "offsetgroup": "0.0",
         "orientation": "v",
         "showlegend": true,
         "type": "histogram",
         "x": [
          60,
          42,
          16,
          47,
          34,
          59,
          17,
          0,
          7,
          0,
          2,
          0,
          2,
          2,
          0,
          0,
          0,
          4,
          0,
          0,
          3,
          2,
          1,
          0,
          0,
          0,
          10,
          14,
          0,
          0,
          0,
          11,
          0,
          0,
          11,
          17,
          0,
          0,
          0,
          12,
          7,
          12,
          0,
          0,
          0,
          17,
          12,
          0,
          3,
          0,
          3,
          0,
          0,
          12,
          1,
          0,
          5,
          0,
          3,
          22,
          17,
          10,
          30,
          0,
          15,
          3,
          17,
          6,
          11,
          14,
          13,
          34,
          0,
          7,
          0,
          11,
          50
         ],
         "xaxis": "x",
         "yaxis": "y"
        },
        {
         "alignmentgroup": "True",
         "bingroup": "x",
         "hovertemplate": "grade=1.0<br>letter_1_metadata_6=%{x}<br>count=%{y}<extra></extra>",
         "legendgroup": "1.0",
         "marker": {
          "color": "#EF553B",
          "pattern": {
           "shape": ""
          }
         },
         "name": "1.0",
         "nbinsx": 30,
         "offsetgroup": "1.0",
         "orientation": "v",
         "showlegend": true,
         "type": "histogram",
         "x": [
          45,
          50,
          38,
          6,
          12,
          16,
          0,
          28,
          27,
          3,
          4,
          16,
          21,
          25,
          34,
          3,
          37,
          6,
          9,
          0,
          3,
          57,
          3,
          0,
          3,
          22,
          58,
          41,
          54,
          49,
          38,
          10,
          28,
          5,
          52,
          17,
          42,
          46,
          7,
          11,
          29,
          46,
          0,
          5,
          25,
          14,
          3,
          56,
          59,
          27,
          13,
          8,
          55,
          60,
          9,
          24,
          58,
          25,
          3,
          53,
          10,
          11,
          13,
          59,
          58,
          58,
          49,
          12,
          57,
          23
         ],
         "xaxis": "x",
         "yaxis": "y"
        }
       ],
       "layout": {
        "autosize": true,
        "barmode": "relative",
        "legend": {
         "title": {
          "text": "grade"
         },
         "tracegroupgap": 0
        },
        "template": {
         "data": {
          "bar": [
           {
            "error_x": {
             "color": "#2a3f5f"
            },
            "error_y": {
             "color": "#2a3f5f"
            },
            "marker": {
             "line": {
              "color": "#E5ECF6",
              "width": 0.5
             },
             "pattern": {
              "fillmode": "overlay",
              "size": 10,
              "solidity": 0.2
             }
            },
            "type": "bar"
           }
          ],
          "barpolar": [
           {
            "marker": {
             "line": {
              "color": "#E5ECF6",
              "width": 0.5
             },
             "pattern": {
              "fillmode": "overlay",
              "size": 10,
              "solidity": 0.2
             }
            },
            "type": "barpolar"
           }
          ],
          "carpet": [
           {
            "aaxis": {
             "endlinecolor": "#2a3f5f",
             "gridcolor": "white",
             "linecolor": "white",
             "minorgridcolor": "white",
             "startlinecolor": "#2a3f5f"
            },
            "baxis": {
             "endlinecolor": "#2a3f5f",
             "gridcolor": "white",
             "linecolor": "white",
             "minorgridcolor": "white",
             "startlinecolor": "#2a3f5f"
            },
            "type": "carpet"
           }
          ],
          "choropleth": [
           {
            "colorbar": {
             "outlinewidth": 0,
             "ticks": ""
            },
            "type": "choropleth"
           }
          ],
          "contour": [
           {
            "colorbar": {
             "outlinewidth": 0,
             "ticks": ""
            },
            "colorscale": [
             [
              0,
              "#0d0887"
             ],
             [
              0.1111111111111111,
              "#46039f"
             ],
             [
              0.2222222222222222,
              "#7201a8"
             ],
             [
              0.3333333333333333,
              "#9c179e"
             ],
             [
              0.4444444444444444,
              "#bd3786"
             ],
             [
              0.5555555555555556,
              "#d8576b"
             ],
             [
              0.6666666666666666,
              "#ed7953"
             ],
             [
              0.7777777777777778,
              "#fb9f3a"
             ],
             [
              0.8888888888888888,
              "#fdca26"
             ],
             [
              1,
              "#f0f921"
             ]
            ],
            "type": "contour"
           }
          ],
          "contourcarpet": [
           {
            "colorbar": {
             "outlinewidth": 0,
             "ticks": ""
            },
            "type": "contourcarpet"
           }
          ],
          "heatmap": [
           {
            "colorbar": {
             "outlinewidth": 0,
             "ticks": ""
            },
            "colorscale": [
             [
              0,
              "#0d0887"
             ],
             [
              0.1111111111111111,
              "#46039f"
             ],
             [
              0.2222222222222222,
              "#7201a8"
             ],
             [
              0.3333333333333333,
              "#9c179e"
             ],
             [
              0.4444444444444444,
              "#bd3786"
             ],
             [
              0.5555555555555556,
              "#d8576b"
             ],
             [
              0.6666666666666666,
              "#ed7953"
             ],
             [
              0.7777777777777778,
              "#fb9f3a"
             ],
             [
              0.8888888888888888,
              "#fdca26"
             ],
             [
              1,
              "#f0f921"
             ]
            ],
            "type": "heatmap"
           }
          ],
          "heatmapgl": [
           {
            "colorbar": {
             "outlinewidth": 0,
             "ticks": ""
            },
            "colorscale": [
             [
              0,
              "#0d0887"
             ],
             [
              0.1111111111111111,
              "#46039f"
             ],
             [
              0.2222222222222222,
              "#7201a8"
             ],
             [
              0.3333333333333333,
              "#9c179e"
             ],
             [
              0.4444444444444444,
              "#bd3786"
             ],
             [
              0.5555555555555556,
              "#d8576b"
             ],
             [
              0.6666666666666666,
              "#ed7953"
             ],
             [
              0.7777777777777778,
              "#fb9f3a"
             ],
             [
              0.8888888888888888,
              "#fdca26"
             ],
             [
              1,
              "#f0f921"
             ]
            ],
            "type": "heatmapgl"
           }
          ],
          "histogram": [
           {
            "marker": {
             "pattern": {
              "fillmode": "overlay",
              "size": 10,
              "solidity": 0.2
             }
            },
            "type": "histogram"
           }
          ],
          "histogram2d": [
           {
            "colorbar": {
             "outlinewidth": 0,
             "ticks": ""
            },
            "colorscale": [
             [
              0,
              "#0d0887"
             ],
             [
              0.1111111111111111,
              "#46039f"
             ],
             [
              0.2222222222222222,
              "#7201a8"
             ],
             [
              0.3333333333333333,
              "#9c179e"
             ],
             [
              0.4444444444444444,
              "#bd3786"
             ],
             [
              0.5555555555555556,
              "#d8576b"
             ],
             [
              0.6666666666666666,
              "#ed7953"
             ],
             [
              0.7777777777777778,
              "#fb9f3a"
             ],
             [
              0.8888888888888888,
              "#fdca26"
             ],
             [
              1,
              "#f0f921"
             ]
            ],
            "type": "histogram2d"
           }
          ],
          "histogram2dcontour": [
           {
            "colorbar": {
             "outlinewidth": 0,
             "ticks": ""
            },
            "colorscale": [
             [
              0,
              "#0d0887"
             ],
             [
              0.1111111111111111,
              "#46039f"
             ],
             [
              0.2222222222222222,
              "#7201a8"
             ],
             [
              0.3333333333333333,
              "#9c179e"
             ],
             [
              0.4444444444444444,
              "#bd3786"
             ],
             [
              0.5555555555555556,
              "#d8576b"
             ],
             [
              0.6666666666666666,
              "#ed7953"
             ],
             [
              0.7777777777777778,
              "#fb9f3a"
             ],
             [
              0.8888888888888888,
              "#fdca26"
             ],
             [
              1,
              "#f0f921"
             ]
            ],
            "type": "histogram2dcontour"
           }
          ],
          "mesh3d": [
           {
            "colorbar": {
             "outlinewidth": 0,
             "ticks": ""
            },
            "type": "mesh3d"
           }
          ],
          "parcoords": [
           {
            "line": {
             "colorbar": {
              "outlinewidth": 0,
              "ticks": ""
             }
            },
            "type": "parcoords"
           }
          ],
          "pie": [
           {
            "automargin": true,
            "type": "pie"
           }
          ],
          "scatter": [
           {
            "fillpattern": {
             "fillmode": "overlay",
             "size": 10,
             "solidity": 0.2
            },
            "type": "scatter"
           }
          ],
          "scatter3d": [
           {
            "line": {
             "colorbar": {
              "outlinewidth": 0,
              "ticks": ""
             }
            },
            "marker": {
             "colorbar": {
              "outlinewidth": 0,
              "ticks": ""
             }
            },
            "type": "scatter3d"
           }
          ],
          "scattercarpet": [
           {
            "marker": {
             "colorbar": {
              "outlinewidth": 0,
              "ticks": ""
             }
            },
            "type": "scattercarpet"
           }
          ],
          "scattergeo": [
           {
            "marker": {
             "colorbar": {
              "outlinewidth": 0,
              "ticks": ""
             }
            },
            "type": "scattergeo"
           }
          ],
          "scattergl": [
           {
            "marker": {
             "colorbar": {
              "outlinewidth": 0,
              "ticks": ""
             }
            },
            "type": "scattergl"
           }
          ],
          "scattermapbox": [
           {
            "marker": {
             "colorbar": {
              "outlinewidth": 0,
              "ticks": ""
             }
            },
            "type": "scattermapbox"
           }
          ],
          "scatterpolar": [
           {
            "marker": {
             "colorbar": {
              "outlinewidth": 0,
              "ticks": ""
             }
            },
            "type": "scatterpolar"
           }
          ],
          "scatterpolargl": [
           {
            "marker": {
             "colorbar": {
              "outlinewidth": 0,
              "ticks": ""
             }
            },
            "type": "scatterpolargl"
           }
          ],
          "scatterternary": [
           {
            "marker": {
             "colorbar": {
              "outlinewidth": 0,
              "ticks": ""
             }
            },
            "type": "scatterternary"
           }
          ],
          "surface": [
           {
            "colorbar": {
             "outlinewidth": 0,
             "ticks": ""
            },
            "colorscale": [
             [
              0,
              "#0d0887"
             ],
             [
              0.1111111111111111,
              "#46039f"
             ],
             [
              0.2222222222222222,
              "#7201a8"
             ],
             [
              0.3333333333333333,
              "#9c179e"
             ],
             [
              0.4444444444444444,
              "#bd3786"
             ],
             [
              0.5555555555555556,
              "#d8576b"
             ],
             [
              0.6666666666666666,
              "#ed7953"
             ],
             [
              0.7777777777777778,
              "#fb9f3a"
             ],
             [
              0.8888888888888888,
              "#fdca26"
             ],
             [
              1,
              "#f0f921"
             ]
            ],
            "type": "surface"
           }
          ],
          "table": [
           {
            "cells": {
             "fill": {
              "color": "#EBF0F8"
             },
             "line": {
              "color": "white"
             }
            },
            "header": {
             "fill": {
              "color": "#C8D4E3"
             },
             "line": {
              "color": "white"
             }
            },
            "type": "table"
           }
          ]
         },
         "layout": {
          "annotationdefaults": {
           "arrowcolor": "#2a3f5f",
           "arrowhead": 0,
           "arrowwidth": 1
          },
          "autotypenumbers": "strict",
          "coloraxis": {
           "colorbar": {
            "outlinewidth": 0,
            "ticks": ""
           }
          },
          "colorscale": {
           "diverging": [
            [
             0,
             "#8e0152"
            ],
            [
             0.1,
             "#c51b7d"
            ],
            [
             0.2,
             "#de77ae"
            ],
            [
             0.3,
             "#f1b6da"
            ],
            [
             0.4,
             "#fde0ef"
            ],
            [
             0.5,
             "#f7f7f7"
            ],
            [
             0.6,
             "#e6f5d0"
            ],
            [
             0.7,
             "#b8e186"
            ],
            [
             0.8,
             "#7fbc41"
            ],
            [
             0.9,
             "#4d9221"
            ],
            [
             1,
             "#276419"
            ]
           ],
           "sequential": [
            [
             0,
             "#0d0887"
            ],
            [
             0.1111111111111111,
             "#46039f"
            ],
            [
             0.2222222222222222,
             "#7201a8"
            ],
            [
             0.3333333333333333,
             "#9c179e"
            ],
            [
             0.4444444444444444,
             "#bd3786"
            ],
            [
             0.5555555555555556,
             "#d8576b"
            ],
            [
             0.6666666666666666,
             "#ed7953"
            ],
            [
             0.7777777777777778,
             "#fb9f3a"
            ],
            [
             0.8888888888888888,
             "#fdca26"
            ],
            [
             1,
             "#f0f921"
            ]
           ],
           "sequentialminus": [
            [
             0,
             "#0d0887"
            ],
            [
             0.1111111111111111,
             "#46039f"
            ],
            [
             0.2222222222222222,
             "#7201a8"
            ],
            [
             0.3333333333333333,
             "#9c179e"
            ],
            [
             0.4444444444444444,
             "#bd3786"
            ],
            [
             0.5555555555555556,
             "#d8576b"
            ],
            [
             0.6666666666666666,
             "#ed7953"
            ],
            [
             0.7777777777777778,
             "#fb9f3a"
            ],
            [
             0.8888888888888888,
             "#fdca26"
            ],
            [
             1,
             "#f0f921"
            ]
           ]
          },
          "colorway": [
           "#636efa",
           "#EF553B",
           "#00cc96",
           "#ab63fa",
           "#FFA15A",
           "#19d3f3",
           "#FF6692",
           "#B6E880",
           "#FF97FF",
           "#FECB52"
          ],
          "font": {
           "color": "#2a3f5f"
          },
          "geo": {
           "bgcolor": "white",
           "lakecolor": "white",
           "landcolor": "#E5ECF6",
           "showlakes": true,
           "showland": true,
           "subunitcolor": "white"
          },
          "hoverlabel": {
           "align": "left"
          },
          "hovermode": "closest",
          "mapbox": {
           "style": "light"
          },
          "paper_bgcolor": "white",
          "plot_bgcolor": "#E5ECF6",
          "polar": {
           "angularaxis": {
            "gridcolor": "white",
            "linecolor": "white",
            "ticks": ""
           },
           "bgcolor": "#E5ECF6",
           "radialaxis": {
            "gridcolor": "white",
            "linecolor": "white",
            "ticks": ""
           }
          },
          "scene": {
           "xaxis": {
            "backgroundcolor": "#E5ECF6",
            "gridcolor": "white",
            "gridwidth": 2,
            "linecolor": "white",
            "showbackground": true,
            "ticks": "",
            "zerolinecolor": "white"
           },
           "yaxis": {
            "backgroundcolor": "#E5ECF6",
            "gridcolor": "white",
            "gridwidth": 2,
            "linecolor": "white",
            "showbackground": true,
            "ticks": "",
            "zerolinecolor": "white"
           },
           "zaxis": {
            "backgroundcolor": "#E5ECF6",
            "gridcolor": "white",
            "gridwidth": 2,
            "linecolor": "white",
            "showbackground": true,
            "ticks": "",
            "zerolinecolor": "white"
           }
          },
          "shapedefaults": {
           "line": {
            "color": "#2a3f5f"
           }
          },
          "ternary": {
           "aaxis": {
            "gridcolor": "white",
            "linecolor": "white",
            "ticks": ""
           },
           "baxis": {
            "gridcolor": "white",
            "linecolor": "white",
            "ticks": ""
           },
           "bgcolor": "#E5ECF6",
           "caxis": {
            "gridcolor": "white",
            "linecolor": "white",
            "ticks": ""
           }
          },
          "title": {
           "x": 0.05
          },
          "xaxis": {
           "automargin": true,
           "gridcolor": "white",
           "linecolor": "white",
           "ticks": "",
           "title": {
            "standoff": 15
           },
           "zerolinecolor": "white",
           "zerolinewidth": 2
          },
          "yaxis": {
           "automargin": true,
           "gridcolor": "white",
           "linecolor": "white",
           "ticks": "",
           "title": {
            "standoff": 15
           },
           "zerolinecolor": "white",
           "zerolinewidth": 2
          }
         }
        },
        "title": {
         "text": "Letter Score by Grade"
        },
        "xaxis": {
         "anchor": "y",
         "autorange": true,
         "domain": [
          0,
          1
         ],
         "range": [
          -0.5,
          64.5
         ],
         "title": {
          "text": "letter_1_metadata_6"
         },
         "type": "linear"
        },
        "yaxis": {
         "anchor": "x",
         "autorange": true,
         "domain": [
          0,
          1
         ],
         "range": [
          0,
          57.89473684210526
         ],
         "title": {
          "text": "count"
         }
        }
       }
      },
      "image/png": "[encoded data removed]",
      "text/html": [
       "<div>                            <div id=\"09995ea8-c903-4408-8fde-2050053655a2\" class=\"plotly-graph-div\" style=\"height:525px; width:100%;\"></div>            <script type=\"text/javascript\">                require([\"plotly\"], function(Plotly) {                    window.PLOTLYENV=window.PLOTLYENV || {};                                    if (document.getElementById(\"09995ea8-c903-4408-8fde-2050053655a2\")) {                    Plotly.newPlot(                        \"09995ea8-c903-4408-8fde-2050053655a2\",                        [{\"alignmentgroup\":\"True\",\"bingroup\":\"x\",\"hovertemplate\":\"grade=0.0\\u003cbr\\u003eletter_1_metadata_6=%{x}\\u003cbr\\u003ecount=%{y}\\u003cextra\\u003e\\u003c\\u002fextra\\u003e\",\"legendgroup\":\"0.0\",\"marker\":{\"color\":\"#636efa\",\"pattern\":{\"shape\":\"\"}},\"name\":\"0.0\",\"nbinsx\":30,\"offsetgroup\":\"0.0\",\"orientation\":\"v\",\"showlegend\":true,\"x\":[60.0,42.0,16.0,47.0,34.0,59.0,17.0,0.0,7.0,0.0,2.0,0.0,2.0,2.0,0.0,0.0,0.0,4.0,0.0,0.0,3.0,2.0,1.0,0.0,0.0,0.0,10.0,14.0,0.0,0.0,0.0,11.0,0.0,0.0,11.0,17.0,0.0,0.0,0.0,12.0,7.0,12.0,0.0,0.0,0.0,17.0,12.0,0.0,3.0,0.0,3.0,0.0,0.0,12.0,1.0,0.0,5.0,0.0,3.0,22.0,17.0,10.0,30.0,0.0,15.0,3.0,17.0,6.0,11.0,14.0,13.0,34.0,0.0,7.0,0.0,11.0,50.0],\"xaxis\":\"x\",\"yaxis\":\"y\",\"type\":\"histogram\"},{\"alignmentgroup\":\"True\",\"bingroup\":\"x\",\"hovertemplate\":\"grade=1.0\\u003cbr\\u003eletter_1_metadata_6=%{x}\\u003cbr\\u003ecount=%{y}\\u003cextra\\u003e\\u003c\\u002fextra\\u003e\",\"legendgroup\":\"1.0\",\"marker\":{\"color\":\"#EF553B\",\"pattern\":{\"shape\":\"\"}},\"name\":\"1.0\",\"nbinsx\":30,\"offsetgroup\":\"1.0\",\"orientation\":\"v\",\"showlegend\":true,\"x\":[45.0,50.0,38.0,6.0,12.0,16.0,0.0,28.0,27.0,3.0,4.0,16.0,21.0,25.0,34.0,3.0,37.0,6.0,9.0,0.0,3.0,57.0,3.0,0.0,3.0,22.0,58.0,41.0,54.0,49.0,38.0,10.0,28.0,5.0,52.0,17.0,42.0,46.0,7.0,11.0,29.0,46.0,0.0,5.0,25.0,14.0,3.0,56.0,59.0,27.0,13.0,8.0,55.0,60.0,9.0,24.0,58.0,25.0,3.0,53.0,10.0,11.0,13.0,59.0,58.0,58.0,49.0,12.0,57.0,23.0],\"xaxis\":\"x\",\"yaxis\":\"y\",\"type\":\"histogram\"}],                        {\"template\":{\"data\":{\"histogram2dcontour\":[{\"type\":\"histogram2dcontour\",\"colorbar\":{\"outlinewidth\":0,\"ticks\":\"\"},\"colorscale\":[[0.0,\"#0d0887\"],[0.1111111111111111,\"#46039f\"],[0.2222222222222222,\"#7201a8\"],[0.3333333333333333,\"#9c179e\"],[0.4444444444444444,\"#bd3786\"],[0.5555555555555556,\"#d8576b\"],[0.6666666666666666,\"#ed7953\"],[0.7777777777777778,\"#fb9f3a\"],[0.8888888888888888,\"#fdca26\"],[1.0,\"#f0f921\"]]}],\"choropleth\":[{\"type\":\"choropleth\",\"colorbar\":{\"outlinewidth\":0,\"ticks\":\"\"}}],\"histogram2d\":[{\"type\":\"histogram2d\",\"colorbar\":{\"outlinewidth\":0,\"ticks\":\"\"},\"colorscale\":[[0.0,\"#0d0887\"],[0.1111111111111111,\"#46039f\"],[0.2222222222222222,\"#7201a8\"],[0.3333333333333333,\"#9c179e\"],[0.4444444444444444,\"#bd3786\"],[0.5555555555555556,\"#d8576b\"],[0.6666666666666666,\"#ed7953\"],[0.7777777777777778,\"#fb9f3a\"],[0.8888888888888888,\"#fdca26\"],[1.0,\"#f0f921\"]]}],\"heatmap\":[{\"type\":\"heatmap\",\"colorbar\":{\"outlinewidth\":0,\"ticks\":\"\"},\"colorscale\":[[0.0,\"#0d0887\"],[0.1111111111111111,\"#46039f\"],[0.2222222222222222,\"#7201a8\"],[0.3333333333333333,\"#9c179e\"],[0.4444444444444444,\"#bd3786\"],[0.5555555555555556,\"#d8576b\"],[0.6666666666666666,\"#ed7953\"],[0.7777777777777778,\"#fb9f3a\"],[0.8888888888888888,\"#fdca26\"],[1.0,\"#f0f921\"]]}],\"heatmapgl\":[{\"type\":\"heatmapgl\",\"colorbar\":{\"outlinewidth\":0,\"ticks\":\"\"},\"colorscale\":[[0.0,\"#0d0887\"],[0.1111111111111111,\"#46039f\"],[0.2222222222222222,\"#7201a8\"],[0.3333333333333333,\"#9c179e\"],[0.4444444444444444,\"#bd3786\"],[0.5555555555555556,\"#d8576b\"],[0.6666666666666666,\"#ed7953\"],[0.7777777777777778,\"#fb9f3a\"],[0.8888888888888888,\"#fdca26\"],[1.0,\"#f0f921\"]]}],\"contourcarpet\":[{\"type\":\"contourcarpet\",\"colorbar\":{\"outlinewidth\":0,\"ticks\":\"\"}}],\"contour\":[{\"type\":\"contour\",\"colorbar\":{\"outlinewidth\":0,\"ticks\":\"\"},\"colorscale\":[[0.0,\"#0d0887\"],[0.1111111111111111,\"#46039f\"],[0.2222222222222222,\"#7201a8\"],[0.3333333333333333,\"#9c179e\"],[0.4444444444444444,\"#bd3786\"],[0.5555555555555556,\"#d8576b\"],[0.6666666666666666,\"#ed7953\"],[0.7777777777777778,\"#fb9f3a\"],[0.8888888888888888,\"#fdca26\"],[1.0,\"#f0f921\"]]}],\"surface\":[{\"type\":\"surface\",\"colorbar\":{\"outlinewidth\":0,\"ticks\":\"\"},\"colorscale\":[[0.0,\"#0d0887\"],[0.1111111111111111,\"#46039f\"],[0.2222222222222222,\"#7201a8\"],[0.3333333333333333,\"#9c179e\"],[0.4444444444444444,\"#bd3786\"],[0.5555555555555556,\"#d8576b\"],[0.6666666666666666,\"#ed7953\"],[0.7777777777777778,\"#fb9f3a\"],[0.8888888888888888,\"#fdca26\"],[1.0,\"#f0f921\"]]}],\"mesh3d\":[{\"type\":\"mesh3d\",\"colorbar\":{\"outlinewidth\":0,\"ticks\":\"\"}}],\"scatter\":[{\"fillpattern\":{\"fillmode\":\"overlay\",\"size\":10,\"solidity\":0.2},\"type\":\"scatter\"}],\"parcoords\":[{\"type\":\"parcoords\",\"line\":{\"colorbar\":{\"outlinewidth\":0,\"ticks\":\"\"}}}],\"scatterpolargl\":[{\"type\":\"scatterpolargl\",\"marker\":{\"colorbar\":{\"outlinewidth\":0,\"ticks\":\"\"}}}],\"bar\":[{\"error_x\":{\"color\":\"#2a3f5f\"},\"error_y\":{\"color\":\"#2a3f5f\"},\"marker\":{\"line\":{\"color\":\"#E5ECF6\",\"width\":0.5},\"pattern\":{\"fillmode\":\"overlay\",\"size\":10,\"solidity\":0.2}},\"type\":\"bar\"}],\"scattergeo\":[{\"type\":\"scattergeo\",\"marker\":{\"colorbar\":{\"outlinewidth\":0,\"ticks\":\"\"}}}],\"scatterpolar\":[{\"type\":\"scatterpolar\",\"marker\":{\"colorbar\":{\"outlinewidth\":0,\"ticks\":\"\"}}}],\"histogram\":[{\"marker\":{\"pattern\":{\"fillmode\":\"overlay\",\"size\":10,\"solidity\":0.2}},\"type\":\"histogram\"}],\"scattergl\":[{\"type\":\"scattergl\",\"marker\":{\"colorbar\":{\"outlinewidth\":0,\"ticks\":\"\"}}}],\"scatter3d\":[{\"type\":\"scatter3d\",\"line\":{\"colorbar\":{\"outlinewidth\":0,\"ticks\":\"\"}},\"marker\":{\"colorbar\":{\"outlinewidth\":0,\"ticks\":\"\"}}}],\"scattermapbox\":[{\"type\":\"scattermapbox\",\"marker\":{\"colorbar\":{\"outlinewidth\":0,\"ticks\":\"\"}}}],\"scatterternary\":[{\"type\":\"scatterternary\",\"marker\":{\"colorbar\":{\"outlinewidth\":0,\"ticks\":\"\"}}}],\"scattercarpet\":[{\"type\":\"scattercarpet\",\"marker\":{\"colorbar\":{\"outlinewidth\":0,\"ticks\":\"\"}}}],\"carpet\":[{\"aaxis\":{\"endlinecolor\":\"#2a3f5f\",\"gridcolor\":\"white\",\"linecolor\":\"white\",\"minorgridcolor\":\"white\",\"startlinecolor\":\"#2a3f5f\"},\"baxis\":{\"endlinecolor\":\"#2a3f5f\",\"gridcolor\":\"white\",\"linecolor\":\"white\",\"minorgridcolor\":\"white\",\"startlinecolor\":\"#2a3f5f\"},\"type\":\"carpet\"}],\"table\":[{\"cells\":{\"fill\":{\"color\":\"#EBF0F8\"},\"line\":{\"color\":\"white\"}},\"header\":{\"fill\":{\"color\":\"#C8D4E3\"},\"line\":{\"color\":\"white\"}},\"type\":\"table\"}],\"barpolar\":[{\"marker\":{\"line\":{\"color\":\"#E5ECF6\",\"width\":0.5},\"pattern\":{\"fillmode\":\"overlay\",\"size\":10,\"solidity\":0.2}},\"type\":\"barpolar\"}],\"pie\":[{\"automargin\":true,\"type\":\"pie\"}]},\"layout\":{\"autotypenumbers\":\"strict\",\"colorway\":[\"#636efa\",\"#EF553B\",\"#00cc96\",\"#ab63fa\",\"#FFA15A\",\"#19d3f3\",\"#FF6692\",\"#B6E880\",\"#FF97FF\",\"#FECB52\"],\"font\":{\"color\":\"#2a3f5f\"},\"hovermode\":\"closest\",\"hoverlabel\":{\"align\":\"left\"},\"paper_bgcolor\":\"white\",\"plot_bgcolor\":\"#E5ECF6\",\"polar\":{\"bgcolor\":\"#E5ECF6\",\"angularaxis\":{\"gridcolor\":\"white\",\"linecolor\":\"white\",\"ticks\":\"\"},\"radialaxis\":{\"gridcolor\":\"white\",\"linecolor\":\"white\",\"ticks\":\"\"}},\"ternary\":{\"bgcolor\":\"#E5ECF6\",\"aaxis\":{\"gridcolor\":\"white\",\"linecolor\":\"white\",\"ticks\":\"\"},\"baxis\":{\"gridcolor\":\"white\",\"linecolor\":\"white\",\"ticks\":\"\"},\"caxis\":{\"gridcolor\":\"white\",\"linecolor\":\"white\",\"ticks\":\"\"}},\"coloraxis\":{\"colorbar\":{\"outlinewidth\":0,\"ticks\":\"\"}},\"colorscale\":{\"sequential\":[[0.0,\"#0d0887\"],[0.1111111111111111,\"#46039f\"],[0.2222222222222222,\"#7201a8\"],[0.3333333333333333,\"#9c179e\"],[0.4444444444444444,\"#bd3786\"],[0.5555555555555556,\"#d8576b\"],[0.6666666666666666,\"#ed7953\"],[0.7777777777777778,\"#fb9f3a\"],[0.8888888888888888,\"#fdca26\"],[1.0,\"#f0f921\"]],\"sequentialminus\":[[0.0,\"#0d0887\"],[0.1111111111111111,\"#46039f\"],[0.2222222222222222,\"#7201a8\"],[0.3333333333333333,\"#9c179e\"],[0.4444444444444444,\"#bd3786\"],[0.5555555555555556,\"#d8576b\"],[0.6666666666666666,\"#ed7953\"],[0.7777777777777778,\"#fb9f3a\"],[0.8888888888888888,\"#fdca26\"],[1.0,\"#f0f921\"]],\"diverging\":[[0,\"#8e0152\"],[0.1,\"#c51b7d\"],[0.2,\"#de77ae\"],[0.3,\"#f1b6da\"],[0.4,\"#fde0ef\"],[0.5,\"#f7f7f7\"],[0.6,\"#e6f5d0\"],[0.7,\"#b8e186\"],[0.8,\"#7fbc41\"],[0.9,\"#4d9221\"],[1,\"#276419\"]]},\"xaxis\":{\"gridcolor\":\"white\",\"linecolor\":\"white\",\"ticks\":\"\",\"title\":{\"standoff\":15},\"zerolinecolor\":\"white\",\"automargin\":true,\"zerolinewidth\":2},\"yaxis\":{\"gridcolor\":\"white\",\"linecolor\":\"white\",\"ticks\":\"\",\"title\":{\"standoff\":15},\"zerolinecolor\":\"white\",\"automargin\":true,\"zerolinewidth\":2},\"scene\":{\"xaxis\":{\"backgroundcolor\":\"#E5ECF6\",\"gridcolor\":\"white\",\"linecolor\":\"white\",\"showbackground\":true,\"ticks\":\"\",\"zerolinecolor\":\"white\",\"gridwidth\":2},\"yaxis\":{\"backgroundcolor\":\"#E5ECF6\",\"gridcolor\":\"white\",\"linecolor\":\"white\",\"showbackground\":true,\"ticks\":\"\",\"zerolinecolor\":\"white\",\"gridwidth\":2},\"zaxis\":{\"backgroundcolor\":\"#E5ECF6\",\"gridcolor\":\"white\",\"linecolor\":\"white\",\"showbackground\":true,\"ticks\":\"\",\"zerolinecolor\":\"white\",\"gridwidth\":2}},\"shapedefaults\":{\"line\":{\"color\":\"#2a3f5f\"}},\"annotationdefaults\":{\"arrowcolor\":\"#2a3f5f\",\"arrowhead\":0,\"arrowwidth\":1},\"geo\":{\"bgcolor\":\"white\",\"landcolor\":\"#E5ECF6\",\"subunitcolor\":\"white\",\"showland\":true,\"showlakes\":true,\"lakecolor\":\"white\"},\"title\":{\"x\":0.05},\"mapbox\":{\"style\":\"light\"}}},\"xaxis\":{\"anchor\":\"y\",\"domain\":[0.0,1.0],\"title\":{\"text\":\"letter_1_metadata_6\"}},\"yaxis\":{\"anchor\":\"x\",\"domain\":[0.0,1.0],\"title\":{\"text\":\"count\"}},\"legend\":{\"title\":{\"text\":\"grade\"},\"tracegroupgap\":0},\"title\":{\"text\":\"Letter Score by Grade\"},\"barmode\":\"relative\"},                        {\"responsive\": true}                    ).then(function(){\n",
       "                            \n",
       "var gd = document.getElementById('09995ea8-c903-4408-8fde-2050053655a2');\n",
       "var x = new MutationObserver(function (mutations, observer) {{\n",
       "        var display = window.getComputedStyle(gd).display;\n",
       "        if (!display || display === 'none') {{\n",
       "            console.log([gd, 'removed!']);\n",
       "            Plotly.purge(gd);\n",
       "            observer.disconnect();\n",
       "        }}\n",
       "}});\n",
       "\n",
       "// Listen for the removal of the full notebook cells\n",
       "var notebookContainer = gd.closest('#notebook-container');\n",
       "if (notebookContainer) {{\n",
       "    x.observe(notebookContainer, {childList: true});\n",
       "}}\n",
       "\n",
       "// Listen for the clearing of the current output cell\n",
       "var outputEl = gd.closest('.output');\n",
       "if (outputEl) {{\n",
       "    x.observe(outputEl, {childList: true});\n",
       "}}\n",
       "\n",
       "                        })                };                });            </script>        </div>"
      ]
     },
     "metadata": {},
     "output_type": "display_data"
    }
   ],
   "source": [
    "fig = px.histogram(children, x=\"letter_1_metadata_6\n",
    "                   \", color=\"grade\", title=\"Letter Score by Grade\")\n",
    "fig.show()\n"
   ]
  },
  {
   "cell_type": "code",
   "execution_count": 31,
   "id": "10be27c0-14b4-4e97-b320-6852452a06b8",
   "metadata": {
    "tags": []
   },
   "outputs": [],
   "source": [
    "school = children.groupby('school')\n",
    "grade = children.groupby(['grade', 'school'])"
   ]
  },
  {
   "cell_type": "code",
   "execution_count": 41,
   "id": "40f2079d-d775-448c-a83b-09e9957e1557",
   "metadata": {
    "tags": []
   },
   "outputs": [
    {
     "data": {
      "text/html": [
       "<div>\n",
       "<style scoped>\n",
       "    .dataframe tbody tr th:only-of-type {\n",
       "        vertical-align: middle;\n",
       "    }\n",
       "\n",
       "    .dataframe tbody tr th {\n",
       "        vertical-align: top;\n",
       "    }\n",
       "\n",
       "    .dataframe thead th {\n",
       "        text-align: right;\n",
       "    }\n",
       "</style>\n",
       "<table border=\"1\" class=\"dataframe\">\n",
       "  <thead>\n",
       "    <tr style=\"text-align: right;\">\n",
       "      <th></th>\n",
       "      <th></th>\n",
       "      <th>mean</th>\n",
       "      <th>median</th>\n",
       "    </tr>\n",
       "    <tr>\n",
       "      <th>grade</th>\n",
       "      <th>school</th>\n",
       "      <th></th>\n",
       "      <th></th>\n",
       "    </tr>\n",
       "  </thead>\n",
       "  <tbody>\n",
       "    <tr>\n",
       "      <th rowspan=\"5\" valign=\"top\">0.0</th>\n",
       "      <th>Emafini Primary</th>\n",
       "      <td>5.0</td>\n",
       "      <td>0.0</td>\n",
       "    </tr>\n",
       "    <tr>\n",
       "      <th>Gertrude Shope Primary</th>\n",
       "      <td>6.0</td>\n",
       "      <td>0.0</td>\n",
       "    </tr>\n",
       "    <tr>\n",
       "      <th>Mzimhlophe Primary</th>\n",
       "      <td>10.0</td>\n",
       "      <td>2.0</td>\n",
       "    </tr>\n",
       "    <tr>\n",
       "      <th>Ntyatyambo Primary</th>\n",
       "      <td>18.0</td>\n",
       "      <td>13.0</td>\n",
       "    </tr>\n",
       "    <tr>\n",
       "      <th>Spencer Mabija Primary</th>\n",
       "      <td>4.0</td>\n",
       "      <td>2.0</td>\n",
       "    </tr>\n",
       "    <tr>\n",
       "      <th rowspan=\"5\" valign=\"top\">1.0</th>\n",
       "      <th>Emafini Primary</th>\n",
       "      <td>25.0</td>\n",
       "      <td>16.0</td>\n",
       "    </tr>\n",
       "    <tr>\n",
       "      <th>Gertrude Shope Primary</th>\n",
       "      <td>22.0</td>\n",
       "      <td>17.0</td>\n",
       "    </tr>\n",
       "    <tr>\n",
       "      <th>Mzimhlophe Primary</th>\n",
       "      <td>18.0</td>\n",
       "      <td>16.0</td>\n",
       "    </tr>\n",
       "    <tr>\n",
       "      <th>Ntyatyambo Primary</th>\n",
       "      <td>37.0</td>\n",
       "      <td>47.0</td>\n",
       "    </tr>\n",
       "    <tr>\n",
       "      <th>Spencer Mabija Primary</th>\n",
       "      <td>33.0</td>\n",
       "      <td>26.0</td>\n",
       "    </tr>\n",
       "  </tbody>\n",
       "</table>\n",
       "</div>"
      ],
      "text/plain": [
       "                              mean  median\n",
       "grade school                              \n",
       "0.0   Emafini Primary          5.0     0.0\n",
       "      Gertrude Shope Primary   6.0     0.0\n",
       "      Mzimhlophe Primary      10.0     2.0\n",
       "      Ntyatyambo Primary      18.0    13.0\n",
       "      Spencer Mabija Primary   4.0     2.0\n",
       "1.0   Emafini Primary         25.0    16.0\n",
       "      Gertrude Shope Primary  22.0    17.0\n",
       "      Mzimhlophe Primary      18.0    16.0\n",
       "      Ntyatyambo Primary      37.0    47.0\n",
       "      Spencer Mabija Primary  33.0    26.0"
      ]
     },
     "execution_count": 41,
     "metadata": {},
     "output_type": "execute_result"
    }
   ],
   "source": [
    "grade = children.groupby(['grade', 'school'])\n",
    "agg_results = grade['letter_1_metadata_6'].agg(['mean', 'median'])\n",
    "agg_results.round()\n"
   ]
  },
  {
   "cell_type": "code",
   "execution_count": 92,
   "id": "6266ee58-99e1-431e-9d94-13618f352af5",
   "metadata": {
    "tags": []
   },
   "outputs": [
    {
     "data": {
      "text/plain": [
       "0      [l, a, m, E, S, n, L, s, M, e, Y, i, K, N, d, ...\n",
       "2      [l, a, m, E, S, n, L, s, M, e, Y, i, K, N, d, ...\n",
       "3      [l, a, m, E, S, n, L, s, M, e, Y, i, N, d, f, ...\n",
       "4      [l, a, m, E, n, L, s, M, e, i, K, N, d, H, f, ...\n",
       "6       [l, a, m, E, S, n, L, s, M, e, Y, i, K, N, d, H]\n",
       "7      [l, a, m, E, S, n, L, s, M, e, Y, i, K, N, d, ...\n",
       "9      [l, a, m, E, S, n, L, s, M, e, i, K, N, d, H, ...\n",
       "10     [l, a, m, E, S, n, L, s, M, e, Y, i, K, N, d, ...\n",
       "11     [l, m, E, S, L, s, M, e, Y, i, K, N, d, U, v, ...\n",
       "12                                                    []\n",
       "13                                 [a, m, S, L, s, M, e]\n",
       "15                                                    []\n",
       "18                                                    []\n",
       "23                                                    []\n",
       "25                                                    []\n",
       "27                                                    []\n",
       "29                                                    []\n",
       "30                                                    []\n",
       "32                                                    []\n",
       "34                                          [a, e, i, d]\n",
       "36     [l, m, E, S, n, L, s, M, e, i, K, N, d, H, f, ...\n",
       "37                                    [m, S, s, M, e, K]\n",
       "38                  [m, E, S, n, L, s, M, e, i, f, U, h]\n",
       "39      [l, m, E, S, s, M, e, Y, i, K, N, v, C, I, k, Z]\n",
       "40                                                    []\n",
       "41     [l, a, m, E, S, n, L, s, M, e, i, K, N, d, f, ...\n",
       "42     [l, a, m, E, S, L, s, M, e, i, K, H, f, U, h, ...\n",
       "43                                                    []\n",
       "44                                          [m, S, s, M]\n",
       "46      [m, E, S, n, L, s, M, e, i, K, N, f, U, F, C, I]\n",
       "48     [l, a, m, E, S, L, s, M, e, Y, i, K, N, f, U, ...\n",
       "49     [l, m, E, S, n, L, s, M, e, i, K, N, H, f, U, ...\n",
       "53     [l, a, m, E, S, n, L, s, M, e, Y, i, K, N, d, ...\n",
       "55                                                    []\n",
       "56     [l, a, m, E, S, n, L, s, M, e, Y, i, K, N, d, ...\n",
       "69                                                    []\n",
       "71                                                    []\n",
       "73                                                    []\n",
       "75                                                    []\n",
       "77                                                    []\n",
       "79                                                    []\n",
       "81                                                    []\n",
       "83                                                    []\n",
       "84                        [a, m, E, S, n, s, M, e, K, f]\n",
       "86            [l, a, m, E, S, n, L, s, M, e, i, v, T, Z]\n",
       "87                                                    []\n",
       "89                                                    []\n",
       "91                                                    []\n",
       "92                     [a, m, S, n, L, s, M, e, i, K, N]\n",
       "94                                                    []\n",
       "99                                    [l, m, S, n, s, e]\n",
       "101                          [m, S, i, C, I, Z, z, O, c]\n",
       "103                                                   []\n",
       "105                                                   []\n",
       "106    [l, a, m, E, S, n, L, s, M, e, Y, i, K, N, d, ...\n",
       "108                                                   []\n",
       "110                                                   []\n",
       "111                                                   []\n",
       "112    [a, m, E, S, n, L, s, M, e, Y, i, K, N, d, f, ...\n",
       "113    [l, a, m, E, S, n, L, s, M, e, Y, i, K, N, d, ...\n",
       "114    [l, a, m, E, S, n, L, s, M, e, Y, N, d, H, f, ...\n",
       "115    [l, a, m, E, S, n, L, s, M, e, Y, i, K, N, d, ...\n",
       "116    [l, a, m, E, S, n, L, s, M, e, Y, i, K, N, H, ...\n",
       "117    [l, a, m, E, S, n, L, s, M, e, Y, i, K, N, d, ...\n",
       "119                       [l, a, m, S, L, s, e, i, K, U]\n",
       "125                                                   []\n",
       "126                    [l, m, E, S, s, M, e, Y, i, K, N]\n",
       "127    [l, a, m, S, n, L, s, M, e, Y, i, K, N, f, h, ...\n",
       "128                                                   []\n",
       "130                                                   []\n",
       "131                                                   []\n",
       "135                 [a, E, S, L, s, M, e, Y, i, K, d, H]\n",
       "137                                [m, S, n, L, s, M, e]\n",
       "138                 [l, a, m, E, S, n, s, M, e, i, K, N]\n",
       "139                                                   []\n",
       "141                                                   []\n",
       "143                                                   []\n",
       "146    [l, m, E, S, L, s, M, e, Y, i, K, f, C, I, k, ...\n",
       "148                 [l, m, S, n, L, s, M, e, i, K, H, f]\n",
       "149                                                   []\n",
       "155    [l, a, m, E, S, n, L, s, M, e, i, K, N, H, U, ...\n",
       "156                                      [l, S, n, s, e]\n",
       "157    [l, a, m, E, S, n, L, s, M, e, Y, i, K, N, d, ...\n",
       "158    [l, m, S, n, s, M, e, i, K, N, d, C, d, t, z, ...\n",
       "159    [l, m, E, S, n, L, s, M, e, i, K, N, d, H, f, ...\n",
       "160    [l, a, m, E, S, n, L, s, M, e, Y, i, K, N, d, ...\n",
       "161                                                   []\n",
       "162                                [l, m, E, S, s, e, i]\n",
       "163                    [l, m, E, S, n, s, M, e, i, K, d]\n",
       "164    [l, a, m, E, S, n, L, s, M, e, Y, i, K, N, d, ...\n",
       "165    [l, a, m, E, S, n, L, s, M, e, Y, i, K, N, H, ...\n",
       "166                                                   []\n",
       "167                                      [l, m, S, s, M]\n",
       "168    [l, m, E, S, n, L, s, M, e, Y, i, K, N, d, H, ...\n",
       "169           [l, m, E, S, L, s, M, e, i, N, f, U, C, I]\n",
       "170                                                   []\n",
       "192                                                   []\n",
       "193                                                   []\n",
       "194                                                   []\n",
       "195                                                   []\n",
       "197                                                   []\n",
       "200                 [m, E, S, s, M, e, i, K, U, h, v, y]\n",
       "203                                                   []\n",
       "205                                                   []\n",
       "207                                      [S, L, s, K, N]\n",
       "209                                                   []\n",
       "210                                                   []\n",
       "212                                                   []\n",
       "216    [l, m, E, S, n, s, M, e, i, K, N, U, h, v, C, ...\n",
       "219    [l, a, m, E, S, n, L, s, M, e, Y, i, K, N, d, ...\n",
       "221    [l, a, m, E, S, n, L, s, M, e, Y, i, K, N, d, ...\n",
       "223    [l, a, m, S, n, L, s, M, i, K, N, f, U, v, C, ...\n",
       "225              [l, m, E, S, n, s, e, i, K, f, U, F, C]\n",
       "226                             [m, S, s, M, e, i, f, U]\n",
       "227    [l, a, m, E, S, n, L, s, M, e, Y, i, K, N, d, ...\n",
       "228    [l, a, m, E, S, n, L, s, M, e, Y, i, K, N, d, ...\n",
       "229                          [m, S, n, L, s, M, e, i, K]\n",
       "230    [l, a, m, E, S, n, L, s, M, e, i, K, N, f, U, ...\n",
       "231    [l, a, m, E, S, n, L, s, M, e, Y, i, K, N, d, ...\n",
       "232    [l, m, E, S, n, L, s, M, e, Y, i, K, N, d, H, ...\n",
       "233                                                   []\n",
       "247    [l, m, E, S, n, L, s, e, i, K, N, d, f, U, h, ...\n",
       "249                       [l, m, S, s, M, e, i, K, h, v]\n",
       "251    [l, a, m, E, S, n, L, s, M, e, Y, i, K, N, H, ...\n",
       "252                                                   []\n",
       "254        [l, m, E, S, n, s, e, Y, K, U, h, v, C, I, k]\n",
       "256                                                   []\n",
       "258    [l, m, E, S, n, L, s, M, e, K, H, f, h, v, C, ...\n",
       "260                                   [m, S, s, M, i, K]\n",
       "262                    [l, m, S, n, L, s, e, i, K, f, U]\n",
       "264           [l, m, S, n, L, s, M, e, K, U, h, v, y, C]\n",
       "266              [l, m, S, n, L, s, M, e, i, K, d, f, h]\n",
       "267    [l, a, m, E, S, n, L, s, M, e, Y, i, K, N, H, ...\n",
       "268                                                   []\n",
       "269                                [m, S, s, M, e, i, K]\n",
       "270                                                   []\n",
       "271                    [l, m, S, s, e, i, d, f, h, v, F]\n",
       "274    [l, a, m, E, S, n, L, s, M, e, Y, i, K, N, d, ...\n",
       "275                       [l, a, m, S, n, L, s, M, i, K]\n",
       "276    [l, a, m, E, S, n, L, s, M, e, i, K, N, d, H, ...\n",
       "277                    [l, a, m, S, s, M, e, i, f, U, v]\n",
       "278              [l, a, m, E, S, n, L, s, e, K, H, f, U]\n",
       "279    [l, a, m, E, S, n, L, s, M, e, Y, i, K, N, d, ...\n",
       "288    [l, a, m, E, S, n, L, s, M, e, Y, i, K, N, d, ...\n",
       "289    [l, a, m, E, S, n, L, s, M, e, Y, i, K, N, d, ...\n",
       "290    [l, a, m, E, S, n, L, s, M, e, Y, i, K, N, H, ...\n",
       "291                 [l, a, m, S, L, s, M, e, i, K, f, U]\n",
       "292    [l, a, m, E, S, n, L, s, M, e, Y, i, K, N, d, ...\n",
       "293    [l, m, E, S, n, L, s, M, e, Y, i, K, N, f, h, ...\n",
       "Name: letters_correct_list, dtype: object"
      ]
     },
     "execution_count": 92,
     "metadata": {},
     "output_type": "execute_result"
    }
   ],
   "source": [
    "children[\"letters_correct_list\"]"
   ]
  },
  {
   "cell_type": "code",
   "execution_count": null,
   "id": "f1ebb7b7-266b-4458-9162-90802b627f18",
   "metadata": {},
   "outputs": [],
   "source": []
  }
 ],
 "metadata": {
  "kernelspec": {
   "display_name": "Python 3 (ipykernel)",
   "language": "python",
   "name": "python3"
  },
  "language_info": {
   "codemirror_mode": {
    "name": "ipython",
    "version": 3
   },
   "file_extension": ".py",
   "mimetype": "text/x-python",
   "name": "python",
   "nbconvert_exporter": "python",
   "pygments_lexer": "ipython3",
   "version": "3.11.3"
  }
 },
 "nbformat": 4,
 "nbformat_minor": 5
}
